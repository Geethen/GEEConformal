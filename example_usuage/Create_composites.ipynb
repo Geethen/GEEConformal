{
 "cells": [
  {
   "attachments": {},
   "cell_type": "markdown",
   "metadata": {},
   "source": [
    "## This notebook demonstrates the creation of a Sentinel-1 or Sentinel-2 composite only or a composite that combines both Sentinel-1 and Sentinel-2\n",
    "> #### Input: Reference points (GEE FeatureCollection) containing the classes of interest as a property.\n",
    "> #### Arguments: A start and end data, cloud threshold, area of interest, image composite interval\n",
    "> #### Output: Invasive Tree species map\n",
    "\n",
    "**Step 1**: Install and load modules  \n",
    "**Step 2**: Prepare time series composite and additional covariates  \n",
    "**Step 3**: Prepare dataset for model training and evaluation  \n",
    "**Step 4**: Export data (optional)"
   ]
  },
  {
   "cell_type": "markdown",
   "metadata": {},
   "source": [
    "## Step 1: Install and load modules"
   ]
  },
  {
   "cell_type": "code",
   "execution_count": 1,
   "metadata": {},
   "outputs": [
    {
     "name": "stdout",
     "output_type": "stream",
     "text": [
      "Note: you may need to restart the kernel to use updated packages.\n"
     ]
    },
    {
     "name": "stderr",
     "output_type": "stream",
     "text": [
      "WARNING: Ignoring invalid distribution -dal (c:\\windows\\system32\\erty\\lib\\site-packages)\n",
      "WARNING: pip is configured with locations that require TLS/SSL, however the ssl module in Python is not available.\n",
      "WARNING: Ignoring invalid distribution -dal (c:\\windows\\system32\\erty\\lib\\site-packages)\n",
      "WARNING: Ignoring invalid distribution -dal (c:\\windows\\system32\\erty\\lib\\site-packages)\n",
      "WARNING: Ignoring invalid distribution -dal (c:\\windows\\system32\\erty\\lib\\site-packages)\n",
      "WARNING: Ignoring invalid distribution -dal (c:\\windows\\system32\\erty\\lib\\site-packages)\n",
      "WARNING: pip is configured with locations that require TLS/SSL, however the ssl module in Python is not available.\n",
      "Cloning into 'Invasive_Species_Mapping'...\n"
     ]
    }
   ],
   "source": [
    "%pip install watermark geemap geeml -q\n",
    "!git clone https://github.com/Geethen/Invasive_Species_Mapping.git\n",
    "import sys\n",
    "sys.path.insert(0,'/content/Invasive_Species_Mapping/code')"
   ]
  },
  {
   "cell_type": "code",
   "execution_count": 2,
   "metadata": {},
   "outputs": [],
   "source": [
    "%load_ext watermark"
   ]
  },
  {
   "cell_type": "code",
   "execution_count": 3,
   "metadata": {},
   "outputs": [
    {
     "ename": "ImportError",
     "evalue": "DLL load failed while importing _ssl: The specified module could not be found.",
     "output_type": "error",
     "traceback": [
      "\u001b[1;31m---------------------------------------------------------------------------\u001b[0m",
      "\u001b[1;31mImportError\u001b[0m                               Traceback (most recent call last)",
      "Cell \u001b[1;32mIn [3], line 1\u001b[0m\n\u001b[1;32m----> 1\u001b[0m \u001b[39mimport\u001b[39;00m \u001b[39mee\u001b[39;00m\n\u001b[0;32m      2\u001b[0m \u001b[39m# ee.Authenticate()\u001b[39;00m\n\u001b[0;32m      3\u001b[0m ee\u001b[39m.\u001b[39mInitialize()\n",
      "File \u001b[1;32mc:\\WINDOWS\\System32\\erty\\lib\\site-packages\\ee\\__init__.py:17\u001b[0m\n\u001b[0;32m     14\u001b[0m \u001b[39mimport\u001b[39;00m \u001b[39mos\u001b[39;00m\n\u001b[0;32m     15\u001b[0m \u001b[39mimport\u001b[39;00m \u001b[39msix\u001b[39;00m\n\u001b[1;32m---> 17\u001b[0m \u001b[39mfrom\u001b[39;00m \u001b[39m.\u001b[39;00m \u001b[39mimport\u001b[39;00m batch\n\u001b[0;32m     18\u001b[0m \u001b[39mfrom\u001b[39;00m \u001b[39m.\u001b[39;00m \u001b[39mimport\u001b[39;00m data\n\u001b[0;32m     19\u001b[0m \u001b[39mfrom\u001b[39;00m \u001b[39m.\u001b[39;00m \u001b[39mimport\u001b[39;00m deserializer\n",
      "File \u001b[1;32mc:\\WINDOWS\\System32\\erty\\lib\\site-packages\\ee\\batch.py:16\u001b[0m\n\u001b[0;32m     13\u001b[0m \u001b[39mimport\u001b[39;00m \u001b[39mre\u001b[39;00m\n\u001b[0;32m     14\u001b[0m \u001b[39mimport\u001b[39;00m \u001b[39msix\u001b[39;00m\n\u001b[1;32m---> 16\u001b[0m \u001b[39mfrom\u001b[39;00m \u001b[39m.\u001b[39;00m \u001b[39mimport\u001b[39;00m _cloud_api_utils\n\u001b[0;32m     17\u001b[0m \u001b[39mfrom\u001b[39;00m \u001b[39m.\u001b[39;00m \u001b[39mimport\u001b[39;00m data\n\u001b[0;32m     18\u001b[0m \u001b[39mfrom\u001b[39;00m \u001b[39m.\u001b[39;00m \u001b[39mimport\u001b[39;00m ee_exception\n",
      "File \u001b[1;32mc:\\WINDOWS\\System32\\erty\\lib\\site-packages\\ee\\_cloud_api_utils.py:20\u001b[0m\n\u001b[0;32m     17\u001b[0m \u001b[39mimport\u001b[39;00m \u001b[39mwarnings\u001b[39;00m\n\u001b[0;32m     19\u001b[0m \u001b[39mfrom\u001b[39;00m \u001b[39m.\u001b[39;00m \u001b[39mimport\u001b[39;00m ee_exception\n\u001b[1;32m---> 20\u001b[0m \u001b[39mfrom\u001b[39;00m \u001b[39mgoogle_auth_httplib2\u001b[39;00m \u001b[39mimport\u001b[39;00m AuthorizedHttp\n\u001b[0;32m     21\u001b[0m \u001b[39mfrom\u001b[39;00m \u001b[39mgoogle_auth_httplib2\u001b[39;00m \u001b[39mimport\u001b[39;00m Request\n\u001b[0;32m     22\u001b[0m \u001b[39mfrom\u001b[39;00m \u001b[39mgoogleapiclient\u001b[39;00m \u001b[39mimport\u001b[39;00m discovery\n",
      "File \u001b[1;32mc:\\WINDOWS\\System32\\erty\\lib\\site-packages\\google_auth_httplib2.py:23\u001b[0m\n\u001b[0;32m     21\u001b[0m \u001b[39mfrom\u001b[39;00m \u001b[39mgoogle\u001b[39;00m\u001b[39m.\u001b[39;00m\u001b[39mauth\u001b[39;00m \u001b[39mimport\u001b[39;00m exceptions\n\u001b[0;32m     22\u001b[0m \u001b[39mfrom\u001b[39;00m \u001b[39mgoogle\u001b[39;00m\u001b[39m.\u001b[39;00m\u001b[39mauth\u001b[39;00m \u001b[39mimport\u001b[39;00m transport\n\u001b[1;32m---> 23\u001b[0m \u001b[39mimport\u001b[39;00m \u001b[39mhttplib2\u001b[39;00m\n\u001b[0;32m     24\u001b[0m \u001b[39mfrom\u001b[39;00m \u001b[39msix\u001b[39;00m\u001b[39m.\u001b[39;00m\u001b[39mmoves\u001b[39;00m \u001b[39mimport\u001b[39;00m http_client\n\u001b[0;32m     27\u001b[0m _LOGGER \u001b[39m=\u001b[39m logging\u001b[39m.\u001b[39mgetLogger(\u001b[39m__name__\u001b[39m)\n",
      "File \u001b[1;32mc:\\WINDOWS\\System32\\erty\\lib\\site-packages\\httplib2\\__init__.py:40\u001b[0m\n\u001b[0;32m     38\u001b[0m \u001b[39mimport\u001b[39;00m \u001b[39mre\u001b[39;00m\n\u001b[0;32m     39\u001b[0m \u001b[39mimport\u001b[39;00m \u001b[39msocket\u001b[39;00m\n\u001b[1;32m---> 40\u001b[0m \u001b[39mimport\u001b[39;00m \u001b[39mssl\u001b[39;00m\n\u001b[0;32m     41\u001b[0m \u001b[39mimport\u001b[39;00m \u001b[39msys\u001b[39;00m\n\u001b[0;32m     42\u001b[0m \u001b[39mimport\u001b[39;00m \u001b[39mtime\u001b[39;00m\n",
      "File \u001b[1;32mC:\\ProgramData\\Anaconda3\\lib\\ssl.py:98\u001b[0m\n\u001b[0;32m     95\u001b[0m \u001b[39mfrom\u001b[39;00m \u001b[39mcollections\u001b[39;00m \u001b[39mimport\u001b[39;00m namedtuple\n\u001b[0;32m     96\u001b[0m \u001b[39mfrom\u001b[39;00m \u001b[39menum\u001b[39;00m \u001b[39mimport\u001b[39;00m Enum \u001b[39mas\u001b[39;00m _Enum, IntEnum \u001b[39mas\u001b[39;00m _IntEnum, IntFlag \u001b[39mas\u001b[39;00m _IntFlag\n\u001b[1;32m---> 98\u001b[0m \u001b[39mimport\u001b[39;00m \u001b[39m_ssl\u001b[39;00m             \u001b[39m# if we can't import it, let the error propagate\u001b[39;00m\n\u001b[0;32m    100\u001b[0m \u001b[39mfrom\u001b[39;00m \u001b[39m_ssl\u001b[39;00m \u001b[39mimport\u001b[39;00m OPENSSL_VERSION_NUMBER, OPENSSL_VERSION_INFO, OPENSSL_VERSION\n\u001b[0;32m    101\u001b[0m \u001b[39mfrom\u001b[39;00m \u001b[39m_ssl\u001b[39;00m \u001b[39mimport\u001b[39;00m _SSLContext, MemoryBIO, SSLSession\n",
      "\u001b[1;31mImportError\u001b[0m: DLL load failed while importing _ssl: The specified module could not be found."
     ]
    }
   ],
   "source": [
    "import ee\n",
    "# ee.Authenticate()\n",
    "ee.Initialize()\n",
    "import geemap\n",
    "\n",
    "# Add module to environment varibles\n",
    "import sys\n",
    "MODULE_FULL_PATH = r'C:\\Users\\coach\\myfiles\\postdoc\\code\\Invasive_Species_Mapping\\code'\n",
    "sys.path.insert(1, MODULE_FULL_PATH)\n",
    "\n",
    "# Load python modules with preprocessing functions. \n",
    "from timeSeriesFunctions import prepareTS\n",
    "from covariateFunctions import prepareCovariates\n",
    "from trainDataFunctions import prepareTrainingData\n",
    "from modelFitFunctions import prepareModel\n",
    "from metricFunctions import prepareMetrics\n",
    "from geeml.utils import eeprint"
   ]
  },
  {
   "cell_type": "code",
   "execution_count": null,
   "metadata": {},
   "outputs": [
    {
     "name": "stdout",
     "output_type": "stream",
     "text": [
      "Python implementation: CPython\n",
      "Python version       : 3.8.10\n",
      "IPython version      : 7.9.0\n",
      "\n",
      "Compiler    : GCC 9.4.0\n",
      "OS          : Linux\n",
      "Release     : 5.10.147+\n",
      "Machine     : x86_64\n",
      "Processor   : x86_64\n",
      "CPU cores   : 2\n",
      "Architecture: 64bit\n",
      "\n",
      "geemap: 0.20.0\n",
      "ee    : 0.1.341\n",
      "sys   : 3.8.10 (default, Nov 14 2022, 12:59:47) \n",
      "[GCC 9.4.0]\n",
      "\n"
     ]
    }
   ],
   "source": [
    "%watermark -v -m --iversions"
   ]
  },
  {
   "cell_type": "code",
   "execution_count": null,
   "metadata": {},
   "outputs": [
    {
     "data": {
      "application/vnd.jupyter.widget-view+json": {
       "model_id": "5a05a9280c4a438da657c35486c23d7e",
       "version_major": 2,
       "version_minor": 0
      },
      "text/plain": [
       "Map(center=[20, 0], controls=(WidgetControl(options=['position', 'transparent_bg'], widget=HBox(children=(Togg…"
      ]
     },
     "metadata": {},
     "output_type": "display_data"
    }
   ],
   "source": [
    "Map = geemap.Map()\n",
    "Map"
   ]
  },
  {
   "attachments": {},
   "cell_type": "markdown",
   "metadata": {},
   "source": [
    "## Step 2: Prepare time series composite\n",
    "\n",
    "### In this example we specifiy the start and dates to create a composite for 2017 (The Date_end is exclusive and therfore the reason it is for 1 Jan 2018). \n"
   ]
  },
  {
   "cell_type": "code",
   "execution_count": null,
   "metadata": {},
   "outputs": [],
   "source": [
    "# start and end dates for time series\n",
    "Date_Start = ee.Date('2017-01-01')\n",
    "Date_End = ee.Date('2018-01-01')"
   ]
  },
  {
   "cell_type": "markdown",
   "metadata": {},
   "source": [
    "\n",
    "Next, a 30-day interval is specified. This will result a monthly cloud-free Sentinel-2 image."
   ]
  },
  {
   "cell_type": "code",
   "execution_count": null,
   "metadata": {},
   "outputs": [],
   "source": [
    "# how many days to summarise in each image e.g 30 days = 12 images per year\n",
    "day_int = 30 #step size"
   ]
  },
  {
   "attachments": {},
   "cell_type": "markdown",
   "metadata": {},
   "source": [
    "\n",
    "#### Next, a 30% probability is specified i.e., a pixel with a probability of >= 30% of containing cloud cover will be masked based on the s2cloudless cloud probability dataset in Google Earth Engine.\n"
   ]
  },
  {
   "cell_type": "code",
   "execution_count": null,
   "metadata": {},
   "outputs": [],
   "source": [
    "\n",
    "# cloud probabillity threshold\n",
    "CLOUD_THRESH=30"
   ]
  },
  {
   "attachments": {},
   "cell_type": "markdown",
   "metadata": {},
   "source": [
    "### Next, the bands to include in the final composite are selected. Note the ndvi, ndwi, ndre, nbr and evi bands are computed by default."
   ]
  },
  {
   "cell_type": "code",
   "execution_count": null,
   "metadata": {},
   "outputs": [],
   "source": [
    "# which bands to keep\n",
    "BANDSS2 = ['B1', 'B2', 'B3', 'B4', 'B5', 'B6','B7', 'B8', 'B8A', 'B9', 'B11','B12', 'ndvi','ndwi','ndre','nbr','evi']\n",
    "BANDSS1 = ['VV', 'VH', 'VH/VV']"
   ]
  },
  {
   "attachments": {},
   "cell_type": "markdown",
   "metadata": {},
   "source": [
    "#### Lastly, the Area of Interest (AOI) is defined. This determines the extent for which the monthly composite for 2017 is computed.\n"
   ]
  },
  {
   "cell_type": "code",
   "execution_count": null,
   "metadata": {},
   "outputs": [
    {
     "data": {
      "text/html": [
       "<div><style>:root {\n",
       "  --font-color-primary: var(--jp-content-font-color0, rgba(0, 0, 0, 1));\n",
       "  --font-color-secondary: var(--jp-content-font-color2, rgba(0, 0, 0, 0.6));\n",
       "  --font-color-accent: rgba(123, 31, 162, 1);\n",
       "  --border-color: var(--jp-border-color2, #e0e0e0);\n",
       "  --background-color: var(--jp-layout-color0, white);\n",
       "  --background-color-row-even: var(--jp-layout-color1, white);\n",
       "  --background-color-row-odd: var(--jp-layout-color2, #eeeeee);\n",
       "}\n",
       "\n",
       "html[theme=\"dark\"],\n",
       "body[data-theme=\"dark\"],\n",
       "body.vscode-dark {\n",
       "  --font-color-primary: rgba(255, 255, 255, 1);\n",
       "  --font-color-secondary: rgba(255, 255, 255, 0.6);\n",
       "  --font-color-accent: rgb(173, 132, 190);\n",
       "  --border-color: #2e2e2e;\n",
       "  --background-color: #111111;\n",
       "  --background-color-row-even: #111111;\n",
       "  --background-color-row-odd: #313131;\n",
       "}\n",
       "\n",
       ".ee {\n",
       "  padding: 1em;\n",
       "  line-height: 1.5em;\n",
       "  min-width: 300px;\n",
       "  max-width: 1200px;\n",
       "  overflow-y: scroll;\n",
       "  max-height: 600px;\n",
       "  border: 1px solid var(--border-color);\n",
       "  font-family: monospace;\n",
       "}\n",
       "\n",
       ".ee li {\n",
       "  list-style-type: none;\n",
       "}\n",
       "\n",
       ".ee ul {\n",
       "  padding-left: 1.5em !important;\n",
       "  margin: 0;\n",
       "}\n",
       "\n",
       ".ee > ul {\n",
       "  padding-left: 0 !important;\n",
       "}\n",
       "\n",
       ".ee-open,\n",
       ".ee-shut {\n",
       "  color: var(--font-color-secondary);\n",
       "  cursor: pointer;\n",
       "  margin: 0;\n",
       "}\n",
       "\n",
       ".ee-open:hover,\n",
       ".ee-shut:hover {\n",
       "  color: var(--font-color-primary);\n",
       "}\n",
       "\n",
       ".ee-k {\n",
       "  color: var(--font-color-accent);\n",
       "  margin-right: 6px;\n",
       "}\n",
       "\n",
       ".ee-v {\n",
       "  color: var(--font-color-primary);\n",
       "}\n",
       "\n",
       ".ee-toggle {\n",
       "  display: none;\n",
       "}\n",
       "\n",
       ".ee-shut + ul {\n",
       "  display: none;\n",
       "}\n",
       "\n",
       ".ee-open + ul {\n",
       "  display: block;\n",
       "}\n",
       "\n",
       ".ee-shut::before {\n",
       "  display: inline-block;\n",
       "  content: \"▼\";\n",
       "  margin-right: 6px;\n",
       "  transform: rotate(-90deg);\n",
       "  transition: transform 0.2s;\n",
       "}\n",
       "\n",
       ".ee-open::before {\n",
       "  transform: rotate(0deg);\n",
       "  display: inline-block;\n",
       "  content: \"▼\";\n",
       "  margin-right: 6px;\n",
       "  transition: transform 0.2s;\n",
       "}\n",
       "</style><div class='ee'><ul><li><label class='ee-shut'>List (235 elements)<input type='checkbox' class='ee-toggle'></label><ul><li><span class='ee-k'>0:</span><span class='ee-v'>band0_B1</span></li><li><span class='ee-k'>1:</span><span class='ee-v'>band0_B2</span></li><li><span class='ee-k'>2:</span><span class='ee-v'>band0_B3</span></li><li><span class='ee-k'>3:</span><span class='ee-v'>band0_B4</span></li><li><span class='ee-k'>4:</span><span class='ee-v'>band0_B5</span></li><li><span class='ee-k'>5:</span><span class='ee-v'>band0_B6</span></li><li><span class='ee-k'>6:</span><span class='ee-v'>band0_B7</span></li><li><span class='ee-k'>7:</span><span class='ee-v'>band0_B8</span></li><li><span class='ee-k'>8:</span><span class='ee-v'>band0_B8A</span></li><li><span class='ee-k'>9:</span><span class='ee-v'>band0_B9</span></li><li><span class='ee-k'>10:</span><span class='ee-v'>band0_B11</span></li><li><span class='ee-k'>11:</span><span class='ee-v'>band0_B12</span></li><li><span class='ee-k'>12:</span><span class='ee-v'>band0_ndvi</span></li><li><span class='ee-k'>13:</span><span class='ee-v'>band0_ndwi</span></li><li><span class='ee-k'>14:</span><span class='ee-v'>band0_ndre</span></li><li><span class='ee-k'>15:</span><span class='ee-v'>band0_nbr</span></li><li><span class='ee-k'>16:</span><span class='ee-v'>band0_evi</span></li><li><span class='ee-k'>17:</span><span class='ee-v'>band1_B1</span></li><li><span class='ee-k'>18:</span><span class='ee-v'>band1_B2</span></li><li><span class='ee-k'>19:</span><span class='ee-v'>band1_B3</span></li><li><span class='ee-k'>20:</span><span class='ee-v'>band1_B4</span></li><li><span class='ee-k'>21:</span><span class='ee-v'>band1_B5</span></li><li><span class='ee-k'>22:</span><span class='ee-v'>band1_B6</span></li><li><span class='ee-k'>23:</span><span class='ee-v'>band1_B7</span></li><li><span class='ee-k'>24:</span><span class='ee-v'>band1_B8</span></li><li><span class='ee-k'>25:</span><span class='ee-v'>band1_B8A</span></li><li><span class='ee-k'>26:</span><span class='ee-v'>band1_B9</span></li><li><span class='ee-k'>27:</span><span class='ee-v'>band1_B11</span></li><li><span class='ee-k'>28:</span><span class='ee-v'>band1_B12</span></li><li><span class='ee-k'>29:</span><span class='ee-v'>band1_ndvi</span></li><li><span class='ee-k'>30:</span><span class='ee-v'>band1_ndwi</span></li><li><span class='ee-k'>31:</span><span class='ee-v'>band1_ndre</span></li><li><span class='ee-k'>32:</span><span class='ee-v'>band1_nbr</span></li><li><span class='ee-k'>33:</span><span class='ee-v'>band1_evi</span></li><li><span class='ee-k'>34:</span><span class='ee-v'>band2_B1</span></li><li><span class='ee-k'>35:</span><span class='ee-v'>band2_B2</span></li><li><span class='ee-k'>36:</span><span class='ee-v'>band2_B3</span></li><li><span class='ee-k'>37:</span><span class='ee-v'>band2_B4</span></li><li><span class='ee-k'>38:</span><span class='ee-v'>band2_B5</span></li><li><span class='ee-k'>39:</span><span class='ee-v'>band2_B6</span></li><li><span class='ee-k'>40:</span><span class='ee-v'>band2_B7</span></li><li><span class='ee-k'>41:</span><span class='ee-v'>band2_B8</span></li><li><span class='ee-k'>42:</span><span class='ee-v'>band2_B8A</span></li><li><span class='ee-k'>43:</span><span class='ee-v'>band2_B9</span></li><li><span class='ee-k'>44:</span><span class='ee-v'>band2_B11</span></li><li><span class='ee-k'>45:</span><span class='ee-v'>band2_B12</span></li><li><span class='ee-k'>46:</span><span class='ee-v'>band2_ndvi</span></li><li><span class='ee-k'>47:</span><span class='ee-v'>band2_ndwi</span></li><li><span class='ee-k'>48:</span><span class='ee-v'>band2_ndre</span></li><li><span class='ee-k'>49:</span><span class='ee-v'>band2_nbr</span></li><li><span class='ee-k'>50:</span><span class='ee-v'>band2_evi</span></li><li><span class='ee-k'>51:</span><span class='ee-v'>band3_B1</span></li><li><span class='ee-k'>52:</span><span class='ee-v'>band3_B2</span></li><li><span class='ee-k'>53:</span><span class='ee-v'>band3_B3</span></li><li><span class='ee-k'>54:</span><span class='ee-v'>band3_B4</span></li><li><span class='ee-k'>55:</span><span class='ee-v'>band3_B5</span></li><li><span class='ee-k'>56:</span><span class='ee-v'>band3_B6</span></li><li><span class='ee-k'>57:</span><span class='ee-v'>band3_B7</span></li><li><span class='ee-k'>58:</span><span class='ee-v'>band3_B8</span></li><li><span class='ee-k'>59:</span><span class='ee-v'>band3_B8A</span></li><li><span class='ee-k'>60:</span><span class='ee-v'>band3_B9</span></li><li><span class='ee-k'>61:</span><span class='ee-v'>band3_B11</span></li><li><span class='ee-k'>62:</span><span class='ee-v'>band3_B12</span></li><li><span class='ee-k'>63:</span><span class='ee-v'>band3_ndvi</span></li><li><span class='ee-k'>64:</span><span class='ee-v'>band3_ndwi</span></li><li><span class='ee-k'>65:</span><span class='ee-v'>band3_ndre</span></li><li><span class='ee-k'>66:</span><span class='ee-v'>band3_nbr</span></li><li><span class='ee-k'>67:</span><span class='ee-v'>band3_evi</span></li><li><span class='ee-k'>68:</span><span class='ee-v'>band4_B1</span></li><li><span class='ee-k'>69:</span><span class='ee-v'>band4_B2</span></li><li><span class='ee-k'>70:</span><span class='ee-v'>band4_B3</span></li><li><span class='ee-k'>71:</span><span class='ee-v'>band4_B4</span></li><li><span class='ee-k'>72:</span><span class='ee-v'>band4_B5</span></li><li><span class='ee-k'>73:</span><span class='ee-v'>band4_B6</span></li><li><span class='ee-k'>74:</span><span class='ee-v'>band4_B7</span></li><li><span class='ee-k'>75:</span><span class='ee-v'>band4_B8</span></li><li><span class='ee-k'>76:</span><span class='ee-v'>band4_B8A</span></li><li><span class='ee-k'>77:</span><span class='ee-v'>band4_B9</span></li><li><span class='ee-k'>78:</span><span class='ee-v'>band4_B11</span></li><li><span class='ee-k'>79:</span><span class='ee-v'>band4_B12</span></li><li><span class='ee-k'>80:</span><span class='ee-v'>band4_ndvi</span></li><li><span class='ee-k'>81:</span><span class='ee-v'>band4_ndwi</span></li><li><span class='ee-k'>82:</span><span class='ee-v'>band4_ndre</span></li><li><span class='ee-k'>83:</span><span class='ee-v'>band4_nbr</span></li><li><span class='ee-k'>84:</span><span class='ee-v'>band4_evi</span></li><li><span class='ee-k'>85:</span><span class='ee-v'>band5_B1</span></li><li><span class='ee-k'>86:</span><span class='ee-v'>band5_B2</span></li><li><span class='ee-k'>87:</span><span class='ee-v'>band5_B3</span></li><li><span class='ee-k'>88:</span><span class='ee-v'>band5_B4</span></li><li><span class='ee-k'>89:</span><span class='ee-v'>band5_B5</span></li><li><span class='ee-k'>90:</span><span class='ee-v'>band5_B6</span></li><li><span class='ee-k'>91:</span><span class='ee-v'>band5_B7</span></li><li><span class='ee-k'>92:</span><span class='ee-v'>band5_B8</span></li><li><span class='ee-k'>93:</span><span class='ee-v'>band5_B8A</span></li><li><span class='ee-k'>94:</span><span class='ee-v'>band5_B9</span></li><li><span class='ee-k'>95:</span><span class='ee-v'>band5_B11</span></li><li><span class='ee-k'>96:</span><span class='ee-v'>band5_B12</span></li><li><span class='ee-k'>97:</span><span class='ee-v'>band5_ndvi</span></li><li><span class='ee-k'>98:</span><span class='ee-v'>band5_ndwi</span></li><li><span class='ee-k'>99:</span><span class='ee-v'>band5_ndre</span></li><li><span class='ee-k'>100:</span><span class='ee-v'>band5_nbr</span></li><li><span class='ee-k'>101:</span><span class='ee-v'>band5_evi</span></li><li><span class='ee-k'>102:</span><span class='ee-v'>band6_B1</span></li><li><span class='ee-k'>103:</span><span class='ee-v'>band6_B2</span></li><li><span class='ee-k'>104:</span><span class='ee-v'>band6_B3</span></li><li><span class='ee-k'>105:</span><span class='ee-v'>band6_B4</span></li><li><span class='ee-k'>106:</span><span class='ee-v'>band6_B5</span></li><li><span class='ee-k'>107:</span><span class='ee-v'>band6_B6</span></li><li><span class='ee-k'>108:</span><span class='ee-v'>band6_B7</span></li><li><span class='ee-k'>109:</span><span class='ee-v'>band6_B8</span></li><li><span class='ee-k'>110:</span><span class='ee-v'>band6_B8A</span></li><li><span class='ee-k'>111:</span><span class='ee-v'>band6_B9</span></li><li><span class='ee-k'>112:</span><span class='ee-v'>band6_B11</span></li><li><span class='ee-k'>113:</span><span class='ee-v'>band6_B12</span></li><li><span class='ee-k'>114:</span><span class='ee-v'>band6_ndvi</span></li><li><span class='ee-k'>115:</span><span class='ee-v'>band6_ndwi</span></li><li><span class='ee-k'>116:</span><span class='ee-v'>band6_ndre</span></li><li><span class='ee-k'>117:</span><span class='ee-v'>band6_nbr</span></li><li><span class='ee-k'>118:</span><span class='ee-v'>band6_evi</span></li><li><span class='ee-k'>119:</span><span class='ee-v'>band7_B1</span></li><li><span class='ee-k'>120:</span><span class='ee-v'>band7_B2</span></li><li><span class='ee-k'>121:</span><span class='ee-v'>band7_B3</span></li><li><span class='ee-k'>122:</span><span class='ee-v'>band7_B4</span></li><li><span class='ee-k'>123:</span><span class='ee-v'>band7_B5</span></li><li><span class='ee-k'>124:</span><span class='ee-v'>band7_B6</span></li><li><span class='ee-k'>125:</span><span class='ee-v'>band7_B7</span></li><li><span class='ee-k'>126:</span><span class='ee-v'>band7_B8</span></li><li><span class='ee-k'>127:</span><span class='ee-v'>band7_B8A</span></li><li><span class='ee-k'>128:</span><span class='ee-v'>band7_B9</span></li><li><span class='ee-k'>129:</span><span class='ee-v'>band7_B11</span></li><li><span class='ee-k'>130:</span><span class='ee-v'>band7_B12</span></li><li><span class='ee-k'>131:</span><span class='ee-v'>band7_ndvi</span></li><li><span class='ee-k'>132:</span><span class='ee-v'>band7_ndwi</span></li><li><span class='ee-k'>133:</span><span class='ee-v'>band7_ndre</span></li><li><span class='ee-k'>134:</span><span class='ee-v'>band7_nbr</span></li><li><span class='ee-k'>135:</span><span class='ee-v'>band7_evi</span></li><li><span class='ee-k'>136:</span><span class='ee-v'>band8_B1</span></li><li><span class='ee-k'>137:</span><span class='ee-v'>band8_B2</span></li><li><span class='ee-k'>138:</span><span class='ee-v'>band8_B3</span></li><li><span class='ee-k'>139:</span><span class='ee-v'>band8_B4</span></li><li><span class='ee-k'>140:</span><span class='ee-v'>band8_B5</span></li><li><span class='ee-k'>141:</span><span class='ee-v'>band8_B6</span></li><li><span class='ee-k'>142:</span><span class='ee-v'>band8_B7</span></li><li><span class='ee-k'>143:</span><span class='ee-v'>band8_B8</span></li><li><span class='ee-k'>144:</span><span class='ee-v'>band8_B8A</span></li><li><span class='ee-k'>145:</span><span class='ee-v'>band8_B9</span></li><li><span class='ee-k'>146:</span><span class='ee-v'>band8_B11</span></li><li><span class='ee-k'>147:</span><span class='ee-v'>band8_B12</span></li><li><span class='ee-k'>148:</span><span class='ee-v'>band8_ndvi</span></li><li><span class='ee-k'>149:</span><span class='ee-v'>band8_ndwi</span></li><li><span class='ee-k'>150:</span><span class='ee-v'>band8_ndre</span></li><li><span class='ee-k'>151:</span><span class='ee-v'>band8_nbr</span></li><li><span class='ee-k'>152:</span><span class='ee-v'>band8_evi</span></li><li><span class='ee-k'>153:</span><span class='ee-v'>band9_B1</span></li><li><span class='ee-k'>154:</span><span class='ee-v'>band9_B2</span></li><li><span class='ee-k'>155:</span><span class='ee-v'>band9_B3</span></li><li><span class='ee-k'>156:</span><span class='ee-v'>band9_B4</span></li><li><span class='ee-k'>157:</span><span class='ee-v'>band9_B5</span></li><li><span class='ee-k'>158:</span><span class='ee-v'>band9_B6</span></li><li><span class='ee-k'>159:</span><span class='ee-v'>band9_B7</span></li><li><span class='ee-k'>160:</span><span class='ee-v'>band9_B8</span></li><li><span class='ee-k'>161:</span><span class='ee-v'>band9_B8A</span></li><li><span class='ee-k'>162:</span><span class='ee-v'>band9_B9</span></li><li><span class='ee-k'>163:</span><span class='ee-v'>band9_B11</span></li><li><span class='ee-k'>164:</span><span class='ee-v'>band9_B12</span></li><li><span class='ee-k'>165:</span><span class='ee-v'>band9_ndvi</span></li><li><span class='ee-k'>166:</span><span class='ee-v'>band9_ndwi</span></li><li><span class='ee-k'>167:</span><span class='ee-v'>band9_ndre</span></li><li><span class='ee-k'>168:</span><span class='ee-v'>band9_nbr</span></li><li><span class='ee-k'>169:</span><span class='ee-v'>band9_evi</span></li><li><span class='ee-k'>170:</span><span class='ee-v'>band10_B1</span></li><li><span class='ee-k'>171:</span><span class='ee-v'>band10_B2</span></li><li><span class='ee-k'>172:</span><span class='ee-v'>band10_B3</span></li><li><span class='ee-k'>173:</span><span class='ee-v'>band10_B4</span></li><li><span class='ee-k'>174:</span><span class='ee-v'>band10_B5</span></li><li><span class='ee-k'>175:</span><span class='ee-v'>band10_B6</span></li><li><span class='ee-k'>176:</span><span class='ee-v'>band10_B7</span></li><li><span class='ee-k'>177:</span><span class='ee-v'>band10_B8</span></li><li><span class='ee-k'>178:</span><span class='ee-v'>band10_B8A</span></li><li><span class='ee-k'>179:</span><span class='ee-v'>band10_B9</span></li><li><span class='ee-k'>180:</span><span class='ee-v'>band10_B11</span></li><li><span class='ee-k'>181:</span><span class='ee-v'>band10_B12</span></li><li><span class='ee-k'>182:</span><span class='ee-v'>band10_ndvi</span></li><li><span class='ee-k'>183:</span><span class='ee-v'>band10_ndwi</span></li><li><span class='ee-k'>184:</span><span class='ee-v'>band10_ndre</span></li><li><span class='ee-k'>185:</span><span class='ee-v'>band10_nbr</span></li><li><span class='ee-k'>186:</span><span class='ee-v'>band10_evi</span></li><li><span class='ee-k'>187:</span><span class='ee-v'>band11_B1</span></li><li><span class='ee-k'>188:</span><span class='ee-v'>band11_B2</span></li><li><span class='ee-k'>189:</span><span class='ee-v'>band11_B3</span></li><li><span class='ee-k'>190:</span><span class='ee-v'>band11_B4</span></li><li><span class='ee-k'>191:</span><span class='ee-v'>band11_B5</span></li><li><span class='ee-k'>192:</span><span class='ee-v'>band11_B6</span></li><li><span class='ee-k'>193:</span><span class='ee-v'>band11_B7</span></li><li><span class='ee-k'>194:</span><span class='ee-v'>band11_B8</span></li><li><span class='ee-k'>195:</span><span class='ee-v'>band11_B8A</span></li><li><span class='ee-k'>196:</span><span class='ee-v'>band11_B9</span></li><li><span class='ee-k'>197:</span><span class='ee-v'>band11_B11</span></li><li><span class='ee-k'>198:</span><span class='ee-v'>band11_B12</span></li><li><span class='ee-k'>199:</span><span class='ee-v'>band11_ndvi</span></li><li><span class='ee-k'>200:</span><span class='ee-v'>band11_ndwi</span></li><li><span class='ee-k'>201:</span><span class='ee-v'>band11_ndre</span></li><li><span class='ee-k'>202:</span><span class='ee-v'>band11_nbr</span></li><li><span class='ee-k'>203:</span><span class='ee-v'>band11_evi</span></li><li><span class='ee-k'>204:</span><span class='ee-v'>band12_B1</span></li><li><span class='ee-k'>205:</span><span class='ee-v'>band12_B2</span></li><li><span class='ee-k'>206:</span><span class='ee-v'>band12_B3</span></li><li><span class='ee-k'>207:</span><span class='ee-v'>band12_B4</span></li><li><span class='ee-k'>208:</span><span class='ee-v'>band12_B5</span></li><li><span class='ee-k'>209:</span><span class='ee-v'>band12_B6</span></li><li><span class='ee-k'>210:</span><span class='ee-v'>band12_B7</span></li><li><span class='ee-k'>211:</span><span class='ee-v'>band12_B8</span></li><li><span class='ee-k'>212:</span><span class='ee-v'>band12_B8A</span></li><li><span class='ee-k'>213:</span><span class='ee-v'>band12_B9</span></li><li><span class='ee-k'>214:</span><span class='ee-v'>band12_B11</span></li><li><span class='ee-k'>215:</span><span class='ee-v'>band12_B12</span></li><li><span class='ee-k'>216:</span><span class='ee-v'>band12_ndvi</span></li><li><span class='ee-k'>217:</span><span class='ee-v'>band12_ndwi</span></li><li><span class='ee-k'>218:</span><span class='ee-v'>band12_ndre</span></li><li><span class='ee-k'>219:</span><span class='ee-v'>band12_nbr</span></li><li><span class='ee-k'>220:</span><span class='ee-v'>band12_evi</span></li><li><span class='ee-k'>221:</span><span class='ee-v'>band0_y</span></li><li><span class='ee-k'>222:</span><span class='ee-v'>band1_y</span></li><li><span class='ee-k'>223:</span><span class='ee-v'>band2_y</span></li><li><span class='ee-k'>224:</span><span class='ee-v'>band3_y</span></li><li><span class='ee-k'>225:</span><span class='ee-v'>band4_y</span></li><li><span class='ee-k'>226:</span><span class='ee-v'>band5_y</span></li><li><span class='ee-k'>227:</span><span class='ee-v'>band6_y</span></li><li><span class='ee-k'>228:</span><span class='ee-v'>band7_y</span></li><li><span class='ee-k'>229:</span><span class='ee-v'>band8_y</span></li><li><span class='ee-k'>230:</span><span class='ee-v'>bandelevation</span></li><li><span class='ee-k'>231:</span><span class='ee-v'>bandchili</span></li><li><span class='ee-k'>232:</span><span class='ee-v'>bandtpi</span></li><li><span class='ee-k'>233:</span><span class='ee-v'>bandslope</span></li><li><span class='ee-k'>234:</span><span class='ee-v'>bandaspect</span></li></ul></li></ul></div><script>function toggleHeader() {\n",
       "    const parent = this.parentElement;\n",
       "    parent.className = parent.className === \"ee-open\" ? \"ee-shut\" : \"ee-open\";\n",
       "}\n",
       "\n",
       "for (let c of document.getElementsByClassName(\"ee-toggle\")) {\n",
       "    c.onclick = toggleHeader;\n",
       "}</script></div>"
      ],
      "text/plain": [
       "<ee.ee_list.List at 0x7f0e8a24ddc0>"
      ]
     },
     "metadata": {},
     "output_type": "display_data"
    }
   ],
   "source": [
    "# define your study area\n",
    "study_area1 = ee.Geometry.Polygon([[[30.555572509765607, -24.407014032416797],\n",
    "          [31.065750122070295, -24.40888986482876],\n",
    "          [31.065750122070295, -24.40888986482876],\n",
    "          [31.049957275390607, -25.121539326337704],\n",
    "          [30.560379028320295, -25.133972597740186],\n",
    "          [30.555572509765607, -24.407014032416797]]], None, False)"
   ]
  },
  {
   "cell_type": "markdown",
   "metadata": {},
   "source": [
    "With these parameters configured we can go on to create three types of composites\n",
    "\n",
    "1. A Sentinel-2 time series composite\n",
    "2. A Sentinel-1 time series composite\n",
    "3. A combined Sentinel-2 and Sentinel-1 composite"
   ]
  },
  {
   "attachments": {},
   "cell_type": "markdown",
   "metadata": {},
   "source": [
    "### 1. A Sentinel-2 composite\n",
    "\n",
    "Returns a 12-month time-series for each of the bands specified (BANDSS2) using the L1C data (if s2_level =2, a level L2A composite can be created). Cloud masked pixels are gap filled by using pixels from a 6-month median image."
   ]
  },
  {
   "cell_type": "code",
   "execution_count": null,
   "metadata": {},
   "outputs": [],
   "source": [
    "\n",
    "s2TS = prepareTS(Date_Start,Date_End,day_int,study_area1,CLOUD_THRESH,BANDSS2).timeSeries(satellite = 'S2', s2_level = 1)"
   ]
  },
  {
   "attachments": {},
   "cell_type": "markdown",
   "metadata": {},
   "source": [
    "### 2. A Sentinel-1 composite\n",
    "\n",
    "Returns a 12-month time-series for each of the bands specified (BANDSS1)."
   ]
  },
  {
   "cell_type": "code",
   "execution_count": null,
   "metadata": {},
   "outputs": [],
   "source": [
    "s1TS = prepareTS(Date_Start,Date_End,day_int,study_area1,CLOUD_THRESH,BANDSS1).timeSeries(satellite = 'S1')"
   ]
  },
  {
   "attachments": {},
   "cell_type": "markdown",
   "metadata": {},
   "source": [
    "### 3. A combined Sentinel-1 and Sentinel-2 composite\n",
    "\n",
    "No initialisation parameters are specified, since the composites have already been prepared"
   ]
  },
  {
   "cell_type": "code",
   "execution_count": null,
   "metadata": {},
   "outputs": [],
   "source": [
    "s1s2TS = prepareTS().joinS1S2(s1TS, s2TS)"
   ]
  }
 ],
 "metadata": {
  "kernelspec": {
   "display_name": "erty",
   "language": "python",
   "name": "python3"
  },
  "language_info": {
   "codemirror_mode": {
    "name": "ipython",
    "version": 3
   },
   "file_extension": ".py",
   "mimetype": "text/x-python",
   "name": "python",
   "nbconvert_exporter": "python",
   "pygments_lexer": "ipython3",
   "version": "3.9.12"
  },
  "orig_nbformat": 4,
  "vscode": {
   "interpreter": {
    "hash": "837a4cb82b37cb1c9d1317f9701d61d7367551101723cb97ca6c9d02adf2bf4e"
   }
  }
 },
 "nbformat": 4,
 "nbformat_minor": 2
}
