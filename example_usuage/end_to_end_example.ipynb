{
  "cells": [
    {
      "cell_type": "markdown",
      "metadata": {
        "id": "view-in-github",
        "colab_type": "text"
      },
      "source": [
        "<a href=\"https://colab.research.google.com/github/Geethen/Invasive_Species_Mapping/blob/main/example_usuage/end_to_end_example.ipynb\" target=\"_parent\"><img src=\"https://colab.research.google.com/assets/colab-badge.svg\" alt=\"Open In Colab\"/></a>"
      ]
    },
    {
      "cell_type": "markdown",
      "id": "0b4899cf-61c6-4e20-90e9-c56d28055a43",
      "metadata": {
        "id": "0b4899cf-61c6-4e20-90e9-c56d28055a43"
      },
      "source": [
        "## This notebook demonstrates the 8 steps to create and export an invasive tree species image\n",
        "> #### Input: Reference points (GEE FeatureCollection) containing the classes of interest as a property.\n",
        "> #### Arguments: A start and end data, cloud threshold, area of interest, image composite interval\n",
        "> #### Output: Invasive Tree species map\n",
        "\n",
        "**Step 1**: Install and load modules  \n",
        "**Step 2**: Prepare time series composite and additional covariates  \n",
        "**Step 3**: Prepare dataset for model training and evaluation  \n",
        "**Step 4**: Export data (optional)  \n",
        "**Step 5**: Fit model  \n",
        "**Step 6**: Model evaluation  \n",
        "**Step 7**: Visualize classified image  \n",
        "**Step 8**: Export classified image  "
      ]
    },
    {
      "cell_type": "markdown",
      "id": "39321781-e6a0-464e-b44b-bd836b6bf868",
      "metadata": {
        "id": "39321781-e6a0-464e-b44b-bd836b6bf868"
      },
      "source": [
        "## Step 1: Install and load modules"
      ]
    },
    {
      "cell_type": "code",
      "execution_count": null,
      "id": "j5D_3ZoGy4O0",
      "metadata": {
        "colab": {
          "base_uri": "https://localhost:8080/"
        },
        "id": "j5D_3ZoGy4O0",
        "outputId": "9db3a7cf-9c62-46f8-acc9-d4e5311eadcb"
      },
      "outputs": [
        {
          "name": "stdout",
          "output_type": "stream",
          "text": [
            "fatal: destination path 'Invasive_Species_Mapping' already exists and is not an empty directory.\n"
          ]
        }
      ],
      "source": [
        "%pip install watermark geemap geeml -q\n",
        "!git clone https://github.com/Geethen/Invasive_Species_Mapping.git\n",
        "import sys\n",
        "sys.path.insert(0,'/content/Invasive_Species_Mapping/code')"
      ]
    },
    {
      "cell_type": "code",
      "execution_count": null,
      "id": "d53a5572-9404-4250-8eac-bc406bb8b17f",
      "metadata": {
        "colab": {
          "base_uri": "https://localhost:8080/"
        },
        "id": "d53a5572-9404-4250-8eac-bc406bb8b17f",
        "outputId": "1efd4997-e64f-47bd-8489-363c43c8435e"
      },
      "outputs": [
        {
          "name": "stdout",
          "output_type": "stream",
          "text": [
            "The watermark extension is already loaded. To reload it, use:\n",
            "  %reload_ext watermark\n"
          ]
        }
      ],
      "source": [
        "%load_ext watermark"
      ]
    },
    {
      "cell_type": "code",
      "execution_count": null,
      "id": "448dab3e-099a-42b1-a713-746c116939a9",
      "metadata": {
        "id": "448dab3e-099a-42b1-a713-746c116939a9",
        "tags": []
      },
      "outputs": [],
      "source": [
        "import ee\n",
        "# ee.Authenticate()\n",
        "ee.Initialize()\n",
        "import geemap\n",
        "\n",
        "# Add module to environment varibles\n",
        "import sys\n",
        "MODULE_FULL_PATH = r'C:\\Users\\coach\\myfiles\\postdoc\\code\\Invasive_Species_Mapping\\code'\n",
        "sys.path.insert(1, MODULE_FULL_PATH)\n",
        "\n",
        "# Load python modules with preprocessing functions. \n",
        "from timeSeriesFunctions import prepareTS\n",
        "from covariateFunctions import prepareCovariates\n",
        "from trainDataFunctions import prepareTrainingData\n",
        "from modelFitFunctions import prepareModel\n",
        "from metricFunctions import prepareMetrics\n",
        "from geeml.utils import eeprint"
      ]
    },
    {
      "cell_type": "code",
      "execution_count": null,
      "id": "04481f99-f9a7-4975-a193-8a494c3379b0",
      "metadata": {
        "colab": {
          "base_uri": "https://localhost:8080/"
        },
        "id": "04481f99-f9a7-4975-a193-8a494c3379b0",
        "outputId": "bd070667-5d7c-484f-fc8c-d67d190a16b5"
      },
      "outputs": [
        {
          "name": "stdout",
          "output_type": "stream",
          "text": [
            "Python implementation: CPython\n",
            "Python version       : 3.8.10\n",
            "IPython version      : 7.9.0\n",
            "\n",
            "Compiler    : GCC 9.4.0\n",
            "OS          : Linux\n",
            "Release     : 5.10.147+\n",
            "Machine     : x86_64\n",
            "Processor   : x86_64\n",
            "CPU cores   : 2\n",
            "Architecture: 64bit\n",
            "\n",
            "geemap: 0.20.0\n",
            "ee    : 0.1.341\n",
            "sys   : 3.8.10 (default, Nov 14 2022, 12:59:47) \n",
            "[GCC 9.4.0]\n",
            "\n"
          ]
        }
      ],
      "source": [
        "%watermark -v -m --iversions"
      ]
    },
    {
      "cell_type": "code",
      "execution_count": null,
      "id": "c9f17116-f174-41cf-bc8f-4265baff6ebd",
      "metadata": {
        "colab": {
          "base_uri": "https://localhost:8080/",
          "height": 621,
          "referenced_widgets": [
            "5a05a9280c4a438da657c35486c23d7e",
            "5c3840a811f54f32b8c5616a032a8ebe",
            "c7e05e8d7b28460d8e5368e24001c0ea",
            "7911dd383c53456b8a66adac456a0e95",
            "99953ebdf8b443e5a295c8d947298e16",
            "b30257624a31438098763680d13d099a",
            "0a59b46e8ce245b783b65541e5520a61",
            "3deba392c64945e79d845687d08b9b0c",
            "4c765673b23b4098ae7189707efeb2e8",
            "96f4457a3e644ec89126314fdfdd140c",
            "488bd15f5a6a47a994f377757fc09472",
            "14b9d37b50c5458c9355d93b9b43f769",
            "975cfcb600a04d13bc4918e36c407676",
            "5efe48de5ac042d48c82fc966d56ed96",
            "fcf27285929f45c58e1faaa508d9c1c8",
            "6475d0c218a74a56af07a935057c545a",
            "00efed53d75e40a1b4b8e985cde783f8",
            "dbcd98777a724f1f8647b7a25c58a02a",
            "daccdfbf68994e01a4d4fd22b47916f9",
            "be8faec93dc84a5da5d686410bc90fb1",
            "f2caa8e3644340c390a543a537f655b1",
            "b787dafe07f9425b9d92981f3180db06",
            "7cc4f24a72c44ad5a410165daabdf839",
            "dada2a9f8ed74a53ae14860a127d4eb8",
            "9fa284af5e9e491cb159763a13977e8f",
            "3e7d3e4db8b54c58b053e8938d55ba97"
          ]
        },
        "id": "c9f17116-f174-41cf-bc8f-4265baff6ebd",
        "outputId": "abb517b5-5806-4a6d-8444-75517a3ed2bb"
      },
      "outputs": [
        {
          "data": {
            "application/vnd.jupyter.widget-view+json": {
              "model_id": "5a05a9280c4a438da657c35486c23d7e",
              "version_major": 2,
              "version_minor": 0
            },
            "text/plain": [
              "Map(center=[20, 0], controls=(WidgetControl(options=['position', 'transparent_bg'], widget=HBox(children=(Togg…"
            ]
          },
          "metadata": {
            "application/vnd.jupyter.widget-view+json": {
              "colab": {
                "custom_widget_manager": {
                  "url": "https://ssl.gstatic.com/colaboratory-static/widgets/colab-cdn-widget-manager/b3e629b1971e1542/manager.min.js"
                }
              }
            }
          },
          "output_type": "display_data"
        }
      ],
      "source": [
        "Map = geemap.Map()\n",
        "Map"
      ]
    },
    {
      "cell_type": "markdown",
      "id": "4e8dad9c-3373-47a8-a4d7-ae9f8a728d53",
      "metadata": {
        "id": "4e8dad9c-3373-47a8-a4d7-ae9f8a728d53"
      },
      "source": [
        "## Step 2: Prepare time series composite\n",
        "\n",
        "### Prepare Sentinel-2 Data"
      ]
    },
    {
      "cell_type": "code",
      "execution_count": null,
      "id": "f1d4f76d-6be9-47aa-8b1c-8f4f378b4d62",
      "metadata": {
        "colab": {
          "base_uri": "https://localhost:8080/",
          "height": 68
        },
        "id": "f1d4f76d-6be9-47aa-8b1c-8f4f378b4d62",
        "outputId": "967713bf-6bc8-4ddb-a0d1-1120e2b69897",
        "tags": []
      },
      "outputs": [
        {
          "data": {
            "text/html": [
              "<div><style>:root {\n",
              "  --font-color-primary: var(--jp-content-font-color0, rgba(0, 0, 0, 1));\n",
              "  --font-color-secondary: var(--jp-content-font-color2, rgba(0, 0, 0, 0.6));\n",
              "  --font-color-accent: rgba(123, 31, 162, 1);\n",
              "  --border-color: var(--jp-border-color2, #e0e0e0);\n",
              "  --background-color: var(--jp-layout-color0, white);\n",
              "  --background-color-row-even: var(--jp-layout-color1, white);\n",
              "  --background-color-row-odd: var(--jp-layout-color2, #eeeeee);\n",
              "}\n",
              "\n",
              "html[theme=\"dark\"],\n",
              "body[data-theme=\"dark\"],\n",
              "body.vscode-dark {\n",
              "  --font-color-primary: rgba(255, 255, 255, 1);\n",
              "  --font-color-secondary: rgba(255, 255, 255, 0.6);\n",
              "  --font-color-accent: rgb(173, 132, 190);\n",
              "  --border-color: #2e2e2e;\n",
              "  --background-color: #111111;\n",
              "  --background-color-row-even: #111111;\n",
              "  --background-color-row-odd: #313131;\n",
              "}\n",
              "\n",
              ".ee {\n",
              "  padding: 1em;\n",
              "  line-height: 1.5em;\n",
              "  min-width: 300px;\n",
              "  max-width: 1200px;\n",
              "  overflow-y: scroll;\n",
              "  max-height: 600px;\n",
              "  border: 1px solid var(--border-color);\n",
              "  font-family: monospace;\n",
              "}\n",
              "\n",
              ".ee li {\n",
              "  list-style-type: none;\n",
              "}\n",
              "\n",
              ".ee ul {\n",
              "  padding-left: 1.5em !important;\n",
              "  margin: 0;\n",
              "}\n",
              "\n",
              ".ee > ul {\n",
              "  padding-left: 0 !important;\n",
              "}\n",
              "\n",
              ".ee-open,\n",
              ".ee-shut {\n",
              "  color: var(--font-color-secondary);\n",
              "  cursor: pointer;\n",
              "  margin: 0;\n",
              "}\n",
              "\n",
              ".ee-open:hover,\n",
              ".ee-shut:hover {\n",
              "  color: var(--font-color-primary);\n",
              "}\n",
              "\n",
              ".ee-k {\n",
              "  color: var(--font-color-accent);\n",
              "  margin-right: 6px;\n",
              "}\n",
              "\n",
              ".ee-v {\n",
              "  color: var(--font-color-primary);\n",
              "}\n",
              "\n",
              ".ee-toggle {\n",
              "  display: none;\n",
              "}\n",
              "\n",
              ".ee-shut + ul {\n",
              "  display: none;\n",
              "}\n",
              "\n",
              ".ee-open + ul {\n",
              "  display: block;\n",
              "}\n",
              "\n",
              ".ee-shut::before {\n",
              "  display: inline-block;\n",
              "  content: \"▼\";\n",
              "  margin-right: 6px;\n",
              "  transform: rotate(-90deg);\n",
              "  transition: transform 0.2s;\n",
              "}\n",
              "\n",
              ".ee-open::before {\n",
              "  transform: rotate(0deg);\n",
              "  display: inline-block;\n",
              "  content: \"▼\";\n",
              "  margin-right: 6px;\n",
              "  transition: transform 0.2s;\n",
              "}\n",
              "</style><div class='ee'><ul><li><label class='ee-shut'>List (235 elements)<input type='checkbox' class='ee-toggle'></label><ul><li><span class='ee-k'>0:</span><span class='ee-v'>band0_B1</span></li><li><span class='ee-k'>1:</span><span class='ee-v'>band0_B2</span></li><li><span class='ee-k'>2:</span><span class='ee-v'>band0_B3</span></li><li><span class='ee-k'>3:</span><span class='ee-v'>band0_B4</span></li><li><span class='ee-k'>4:</span><span class='ee-v'>band0_B5</span></li><li><span class='ee-k'>5:</span><span class='ee-v'>band0_B6</span></li><li><span class='ee-k'>6:</span><span class='ee-v'>band0_B7</span></li><li><span class='ee-k'>7:</span><span class='ee-v'>band0_B8</span></li><li><span class='ee-k'>8:</span><span class='ee-v'>band0_B8A</span></li><li><span class='ee-k'>9:</span><span class='ee-v'>band0_B9</span></li><li><span class='ee-k'>10:</span><span class='ee-v'>band0_B11</span></li><li><span class='ee-k'>11:</span><span class='ee-v'>band0_B12</span></li><li><span class='ee-k'>12:</span><span class='ee-v'>band0_ndvi</span></li><li><span class='ee-k'>13:</span><span class='ee-v'>band0_ndwi</span></li><li><span class='ee-k'>14:</span><span class='ee-v'>band0_ndre</span></li><li><span class='ee-k'>15:</span><span class='ee-v'>band0_nbr</span></li><li><span class='ee-k'>16:</span><span class='ee-v'>band0_evi</span></li><li><span class='ee-k'>17:</span><span class='ee-v'>band1_B1</span></li><li><span class='ee-k'>18:</span><span class='ee-v'>band1_B2</span></li><li><span class='ee-k'>19:</span><span class='ee-v'>band1_B3</span></li><li><span class='ee-k'>20:</span><span class='ee-v'>band1_B4</span></li><li><span class='ee-k'>21:</span><span class='ee-v'>band1_B5</span></li><li><span class='ee-k'>22:</span><span class='ee-v'>band1_B6</span></li><li><span class='ee-k'>23:</span><span class='ee-v'>band1_B7</span></li><li><span class='ee-k'>24:</span><span class='ee-v'>band1_B8</span></li><li><span class='ee-k'>25:</span><span class='ee-v'>band1_B8A</span></li><li><span class='ee-k'>26:</span><span class='ee-v'>band1_B9</span></li><li><span class='ee-k'>27:</span><span class='ee-v'>band1_B11</span></li><li><span class='ee-k'>28:</span><span class='ee-v'>band1_B12</span></li><li><span class='ee-k'>29:</span><span class='ee-v'>band1_ndvi</span></li><li><span class='ee-k'>30:</span><span class='ee-v'>band1_ndwi</span></li><li><span class='ee-k'>31:</span><span class='ee-v'>band1_ndre</span></li><li><span class='ee-k'>32:</span><span class='ee-v'>band1_nbr</span></li><li><span class='ee-k'>33:</span><span class='ee-v'>band1_evi</span></li><li><span class='ee-k'>34:</span><span class='ee-v'>band2_B1</span></li><li><span class='ee-k'>35:</span><span class='ee-v'>band2_B2</span></li><li><span class='ee-k'>36:</span><span class='ee-v'>band2_B3</span></li><li><span class='ee-k'>37:</span><span class='ee-v'>band2_B4</span></li><li><span class='ee-k'>38:</span><span class='ee-v'>band2_B5</span></li><li><span class='ee-k'>39:</span><span class='ee-v'>band2_B6</span></li><li><span class='ee-k'>40:</span><span class='ee-v'>band2_B7</span></li><li><span class='ee-k'>41:</span><span class='ee-v'>band2_B8</span></li><li><span class='ee-k'>42:</span><span class='ee-v'>band2_B8A</span></li><li><span class='ee-k'>43:</span><span class='ee-v'>band2_B9</span></li><li><span class='ee-k'>44:</span><span class='ee-v'>band2_B11</span></li><li><span class='ee-k'>45:</span><span class='ee-v'>band2_B12</span></li><li><span class='ee-k'>46:</span><span class='ee-v'>band2_ndvi</span></li><li><span class='ee-k'>47:</span><span class='ee-v'>band2_ndwi</span></li><li><span class='ee-k'>48:</span><span class='ee-v'>band2_ndre</span></li><li><span class='ee-k'>49:</span><span class='ee-v'>band2_nbr</span></li><li><span class='ee-k'>50:</span><span class='ee-v'>band2_evi</span></li><li><span class='ee-k'>51:</span><span class='ee-v'>band3_B1</span></li><li><span class='ee-k'>52:</span><span class='ee-v'>band3_B2</span></li><li><span class='ee-k'>53:</span><span class='ee-v'>band3_B3</span></li><li><span class='ee-k'>54:</span><span class='ee-v'>band3_B4</span></li><li><span class='ee-k'>55:</span><span class='ee-v'>band3_B5</span></li><li><span class='ee-k'>56:</span><span class='ee-v'>band3_B6</span></li><li><span class='ee-k'>57:</span><span class='ee-v'>band3_B7</span></li><li><span class='ee-k'>58:</span><span class='ee-v'>band3_B8</span></li><li><span class='ee-k'>59:</span><span class='ee-v'>band3_B8A</span></li><li><span class='ee-k'>60:</span><span class='ee-v'>band3_B9</span></li><li><span class='ee-k'>61:</span><span class='ee-v'>band3_B11</span></li><li><span class='ee-k'>62:</span><span class='ee-v'>band3_B12</span></li><li><span class='ee-k'>63:</span><span class='ee-v'>band3_ndvi</span></li><li><span class='ee-k'>64:</span><span class='ee-v'>band3_ndwi</span></li><li><span class='ee-k'>65:</span><span class='ee-v'>band3_ndre</span></li><li><span class='ee-k'>66:</span><span class='ee-v'>band3_nbr</span></li><li><span class='ee-k'>67:</span><span class='ee-v'>band3_evi</span></li><li><span class='ee-k'>68:</span><span class='ee-v'>band4_B1</span></li><li><span class='ee-k'>69:</span><span class='ee-v'>band4_B2</span></li><li><span class='ee-k'>70:</span><span class='ee-v'>band4_B3</span></li><li><span class='ee-k'>71:</span><span class='ee-v'>band4_B4</span></li><li><span class='ee-k'>72:</span><span class='ee-v'>band4_B5</span></li><li><span class='ee-k'>73:</span><span class='ee-v'>band4_B6</span></li><li><span class='ee-k'>74:</span><span class='ee-v'>band4_B7</span></li><li><span class='ee-k'>75:</span><span class='ee-v'>band4_B8</span></li><li><span class='ee-k'>76:</span><span class='ee-v'>band4_B8A</span></li><li><span class='ee-k'>77:</span><span class='ee-v'>band4_B9</span></li><li><span class='ee-k'>78:</span><span class='ee-v'>band4_B11</span></li><li><span class='ee-k'>79:</span><span class='ee-v'>band4_B12</span></li><li><span class='ee-k'>80:</span><span class='ee-v'>band4_ndvi</span></li><li><span class='ee-k'>81:</span><span class='ee-v'>band4_ndwi</span></li><li><span class='ee-k'>82:</span><span class='ee-v'>band4_ndre</span></li><li><span class='ee-k'>83:</span><span class='ee-v'>band4_nbr</span></li><li><span class='ee-k'>84:</span><span class='ee-v'>band4_evi</span></li><li><span class='ee-k'>85:</span><span class='ee-v'>band5_B1</span></li><li><span class='ee-k'>86:</span><span class='ee-v'>band5_B2</span></li><li><span class='ee-k'>87:</span><span class='ee-v'>band5_B3</span></li><li><span class='ee-k'>88:</span><span class='ee-v'>band5_B4</span></li><li><span class='ee-k'>89:</span><span class='ee-v'>band5_B5</span></li><li><span class='ee-k'>90:</span><span class='ee-v'>band5_B6</span></li><li><span class='ee-k'>91:</span><span class='ee-v'>band5_B7</span></li><li><span class='ee-k'>92:</span><span class='ee-v'>band5_B8</span></li><li><span class='ee-k'>93:</span><span class='ee-v'>band5_B8A</span></li><li><span class='ee-k'>94:</span><span class='ee-v'>band5_B9</span></li><li><span class='ee-k'>95:</span><span class='ee-v'>band5_B11</span></li><li><span class='ee-k'>96:</span><span class='ee-v'>band5_B12</span></li><li><span class='ee-k'>97:</span><span class='ee-v'>band5_ndvi</span></li><li><span class='ee-k'>98:</span><span class='ee-v'>band5_ndwi</span></li><li><span class='ee-k'>99:</span><span class='ee-v'>band5_ndre</span></li><li><span class='ee-k'>100:</span><span class='ee-v'>band5_nbr</span></li><li><span class='ee-k'>101:</span><span class='ee-v'>band5_evi</span></li><li><span class='ee-k'>102:</span><span class='ee-v'>band6_B1</span></li><li><span class='ee-k'>103:</span><span class='ee-v'>band6_B2</span></li><li><span class='ee-k'>104:</span><span class='ee-v'>band6_B3</span></li><li><span class='ee-k'>105:</span><span class='ee-v'>band6_B4</span></li><li><span class='ee-k'>106:</span><span class='ee-v'>band6_B5</span></li><li><span class='ee-k'>107:</span><span class='ee-v'>band6_B6</span></li><li><span class='ee-k'>108:</span><span class='ee-v'>band6_B7</span></li><li><span class='ee-k'>109:</span><span class='ee-v'>band6_B8</span></li><li><span class='ee-k'>110:</span><span class='ee-v'>band6_B8A</span></li><li><span class='ee-k'>111:</span><span class='ee-v'>band6_B9</span></li><li><span class='ee-k'>112:</span><span class='ee-v'>band6_B11</span></li><li><span class='ee-k'>113:</span><span class='ee-v'>band6_B12</span></li><li><span class='ee-k'>114:</span><span class='ee-v'>band6_ndvi</span></li><li><span class='ee-k'>115:</span><span class='ee-v'>band6_ndwi</span></li><li><span class='ee-k'>116:</span><span class='ee-v'>band6_ndre</span></li><li><span class='ee-k'>117:</span><span class='ee-v'>band6_nbr</span></li><li><span class='ee-k'>118:</span><span class='ee-v'>band6_evi</span></li><li><span class='ee-k'>119:</span><span class='ee-v'>band7_B1</span></li><li><span class='ee-k'>120:</span><span class='ee-v'>band7_B2</span></li><li><span class='ee-k'>121:</span><span class='ee-v'>band7_B3</span></li><li><span class='ee-k'>122:</span><span class='ee-v'>band7_B4</span></li><li><span class='ee-k'>123:</span><span class='ee-v'>band7_B5</span></li><li><span class='ee-k'>124:</span><span class='ee-v'>band7_B6</span></li><li><span class='ee-k'>125:</span><span class='ee-v'>band7_B7</span></li><li><span class='ee-k'>126:</span><span class='ee-v'>band7_B8</span></li><li><span class='ee-k'>127:</span><span class='ee-v'>band7_B8A</span></li><li><span class='ee-k'>128:</span><span class='ee-v'>band7_B9</span></li><li><span class='ee-k'>129:</span><span class='ee-v'>band7_B11</span></li><li><span class='ee-k'>130:</span><span class='ee-v'>band7_B12</span></li><li><span class='ee-k'>131:</span><span class='ee-v'>band7_ndvi</span></li><li><span class='ee-k'>132:</span><span class='ee-v'>band7_ndwi</span></li><li><span class='ee-k'>133:</span><span class='ee-v'>band7_ndre</span></li><li><span class='ee-k'>134:</span><span class='ee-v'>band7_nbr</span></li><li><span class='ee-k'>135:</span><span class='ee-v'>band7_evi</span></li><li><span class='ee-k'>136:</span><span class='ee-v'>band8_B1</span></li><li><span class='ee-k'>137:</span><span class='ee-v'>band8_B2</span></li><li><span class='ee-k'>138:</span><span class='ee-v'>band8_B3</span></li><li><span class='ee-k'>139:</span><span class='ee-v'>band8_B4</span></li><li><span class='ee-k'>140:</span><span class='ee-v'>band8_B5</span></li><li><span class='ee-k'>141:</span><span class='ee-v'>band8_B6</span></li><li><span class='ee-k'>142:</span><span class='ee-v'>band8_B7</span></li><li><span class='ee-k'>143:</span><span class='ee-v'>band8_B8</span></li><li><span class='ee-k'>144:</span><span class='ee-v'>band8_B8A</span></li><li><span class='ee-k'>145:</span><span class='ee-v'>band8_B9</span></li><li><span class='ee-k'>146:</span><span class='ee-v'>band8_B11</span></li><li><span class='ee-k'>147:</span><span class='ee-v'>band8_B12</span></li><li><span class='ee-k'>148:</span><span class='ee-v'>band8_ndvi</span></li><li><span class='ee-k'>149:</span><span class='ee-v'>band8_ndwi</span></li><li><span class='ee-k'>150:</span><span class='ee-v'>band8_ndre</span></li><li><span class='ee-k'>151:</span><span class='ee-v'>band8_nbr</span></li><li><span class='ee-k'>152:</span><span class='ee-v'>band8_evi</span></li><li><span class='ee-k'>153:</span><span class='ee-v'>band9_B1</span></li><li><span class='ee-k'>154:</span><span class='ee-v'>band9_B2</span></li><li><span class='ee-k'>155:</span><span class='ee-v'>band9_B3</span></li><li><span class='ee-k'>156:</span><span class='ee-v'>band9_B4</span></li><li><span class='ee-k'>157:</span><span class='ee-v'>band9_B5</span></li><li><span class='ee-k'>158:</span><span class='ee-v'>band9_B6</span></li><li><span class='ee-k'>159:</span><span class='ee-v'>band9_B7</span></li><li><span class='ee-k'>160:</span><span class='ee-v'>band9_B8</span></li><li><span class='ee-k'>161:</span><span class='ee-v'>band9_B8A</span></li><li><span class='ee-k'>162:</span><span class='ee-v'>band9_B9</span></li><li><span class='ee-k'>163:</span><span class='ee-v'>band9_B11</span></li><li><span class='ee-k'>164:</span><span class='ee-v'>band9_B12</span></li><li><span class='ee-k'>165:</span><span class='ee-v'>band9_ndvi</span></li><li><span class='ee-k'>166:</span><span class='ee-v'>band9_ndwi</span></li><li><span class='ee-k'>167:</span><span class='ee-v'>band9_ndre</span></li><li><span class='ee-k'>168:</span><span class='ee-v'>band9_nbr</span></li><li><span class='ee-k'>169:</span><span class='ee-v'>band9_evi</span></li><li><span class='ee-k'>170:</span><span class='ee-v'>band10_B1</span></li><li><span class='ee-k'>171:</span><span class='ee-v'>band10_B2</span></li><li><span class='ee-k'>172:</span><span class='ee-v'>band10_B3</span></li><li><span class='ee-k'>173:</span><span class='ee-v'>band10_B4</span></li><li><span class='ee-k'>174:</span><span class='ee-v'>band10_B5</span></li><li><span class='ee-k'>175:</span><span class='ee-v'>band10_B6</span></li><li><span class='ee-k'>176:</span><span class='ee-v'>band10_B7</span></li><li><span class='ee-k'>177:</span><span class='ee-v'>band10_B8</span></li><li><span class='ee-k'>178:</span><span class='ee-v'>band10_B8A</span></li><li><span class='ee-k'>179:</span><span class='ee-v'>band10_B9</span></li><li><span class='ee-k'>180:</span><span class='ee-v'>band10_B11</span></li><li><span class='ee-k'>181:</span><span class='ee-v'>band10_B12</span></li><li><span class='ee-k'>182:</span><span class='ee-v'>band10_ndvi</span></li><li><span class='ee-k'>183:</span><span class='ee-v'>band10_ndwi</span></li><li><span class='ee-k'>184:</span><span class='ee-v'>band10_ndre</span></li><li><span class='ee-k'>185:</span><span class='ee-v'>band10_nbr</span></li><li><span class='ee-k'>186:</span><span class='ee-v'>band10_evi</span></li><li><span class='ee-k'>187:</span><span class='ee-v'>band11_B1</span></li><li><span class='ee-k'>188:</span><span class='ee-v'>band11_B2</span></li><li><span class='ee-k'>189:</span><span class='ee-v'>band11_B3</span></li><li><span class='ee-k'>190:</span><span class='ee-v'>band11_B4</span></li><li><span class='ee-k'>191:</span><span class='ee-v'>band11_B5</span></li><li><span class='ee-k'>192:</span><span class='ee-v'>band11_B6</span></li><li><span class='ee-k'>193:</span><span class='ee-v'>band11_B7</span></li><li><span class='ee-k'>194:</span><span class='ee-v'>band11_B8</span></li><li><span class='ee-k'>195:</span><span class='ee-v'>band11_B8A</span></li><li><span class='ee-k'>196:</span><span class='ee-v'>band11_B9</span></li><li><span class='ee-k'>197:</span><span class='ee-v'>band11_B11</span></li><li><span class='ee-k'>198:</span><span class='ee-v'>band11_B12</span></li><li><span class='ee-k'>199:</span><span class='ee-v'>band11_ndvi</span></li><li><span class='ee-k'>200:</span><span class='ee-v'>band11_ndwi</span></li><li><span class='ee-k'>201:</span><span class='ee-v'>band11_ndre</span></li><li><span class='ee-k'>202:</span><span class='ee-v'>band11_nbr</span></li><li><span class='ee-k'>203:</span><span class='ee-v'>band11_evi</span></li><li><span class='ee-k'>204:</span><span class='ee-v'>band12_B1</span></li><li><span class='ee-k'>205:</span><span class='ee-v'>band12_B2</span></li><li><span class='ee-k'>206:</span><span class='ee-v'>band12_B3</span></li><li><span class='ee-k'>207:</span><span class='ee-v'>band12_B4</span></li><li><span class='ee-k'>208:</span><span class='ee-v'>band12_B5</span></li><li><span class='ee-k'>209:</span><span class='ee-v'>band12_B6</span></li><li><span class='ee-k'>210:</span><span class='ee-v'>band12_B7</span></li><li><span class='ee-k'>211:</span><span class='ee-v'>band12_B8</span></li><li><span class='ee-k'>212:</span><span class='ee-v'>band12_B8A</span></li><li><span class='ee-k'>213:</span><span class='ee-v'>band12_B9</span></li><li><span class='ee-k'>214:</span><span class='ee-v'>band12_B11</span></li><li><span class='ee-k'>215:</span><span class='ee-v'>band12_B12</span></li><li><span class='ee-k'>216:</span><span class='ee-v'>band12_ndvi</span></li><li><span class='ee-k'>217:</span><span class='ee-v'>band12_ndwi</span></li><li><span class='ee-k'>218:</span><span class='ee-v'>band12_ndre</span></li><li><span class='ee-k'>219:</span><span class='ee-v'>band12_nbr</span></li><li><span class='ee-k'>220:</span><span class='ee-v'>band12_evi</span></li><li><span class='ee-k'>221:</span><span class='ee-v'>band0_y</span></li><li><span class='ee-k'>222:</span><span class='ee-v'>band1_y</span></li><li><span class='ee-k'>223:</span><span class='ee-v'>band2_y</span></li><li><span class='ee-k'>224:</span><span class='ee-v'>band3_y</span></li><li><span class='ee-k'>225:</span><span class='ee-v'>band4_y</span></li><li><span class='ee-k'>226:</span><span class='ee-v'>band5_y</span></li><li><span class='ee-k'>227:</span><span class='ee-v'>band6_y</span></li><li><span class='ee-k'>228:</span><span class='ee-v'>band7_y</span></li><li><span class='ee-k'>229:</span><span class='ee-v'>band8_y</span></li><li><span class='ee-k'>230:</span><span class='ee-v'>bandelevation</span></li><li><span class='ee-k'>231:</span><span class='ee-v'>bandchili</span></li><li><span class='ee-k'>232:</span><span class='ee-v'>bandtpi</span></li><li><span class='ee-k'>233:</span><span class='ee-v'>bandslope</span></li><li><span class='ee-k'>234:</span><span class='ee-v'>bandaspect</span></li></ul></li></ul></div><script>function toggleHeader() {\n",
              "    const parent = this.parentElement;\n",
              "    parent.className = parent.className === \"ee-open\" ? \"ee-shut\" : \"ee-open\";\n",
              "}\n",
              "\n",
              "for (let c of document.getElementsByClassName(\"ee-toggle\")) {\n",
              "    c.onclick = toggleHeader;\n",
              "}</script></div>"
            ],
            "text/plain": [
              "<ee.ee_list.List at 0x7f0e8a24ddc0>"
            ]
          },
          "execution_count": 12,
          "metadata": {},
          "output_type": "execute_result"
        }
      ],
      "source": [
        "# start and end dates for time series\n",
        "Date_Start = ee.Date('2017-01-01');\n",
        "Date_End = ee.Date('2017-12-31');\n",
        "\n",
        "# how many days to summarise in each image e.g 30 days = 12 images per year\n",
        "day_int = 30 #step size\n",
        "\n",
        "# cloud probabillity threshold\n",
        "CLOUD_THRESH=30\n",
        "\n",
        "# which bands to keep\n",
        "BANDS = ['B1', 'B2', 'B3', 'B4', 'B5', 'B6','B7', 'B8', 'B8A', 'B9', 'B11','B12', 'ndvi','ndwi','ndre','nbr','evi']\n",
        "\n",
        "aoi = ee.Geometry.Point([25.181, -28.490])\n",
        "# define your study area\n",
        "study_area1 = ee.Geometry.Polygon([[[30.555572509765607, -24.407014032416797],\n",
        "          [31.065750122070295, -24.40888986482876],\n",
        "          [31.065750122070295, -24.40888986482876],\n",
        "          [31.049957275390607, -25.121539326337704],\n",
        "          [30.560379028320295, -25.133972597740186],\n",
        "          [30.555572509765607, -24.407014032416797]]], None, False)\n",
        "\n",
        "# flatten imagecollection to image - each image becomes a band\n",
        "s2TS = prepareTS(Date_Start,Date_End,day_int,study_area1,CLOUD_THRESH,BANDS)\\\n",
        ".timeSeries(satellite = 'S2', s2_level = 1)\n",
        "\n",
        "# Add additional terrain related covariates\n",
        "X = prepareCovariates(proj = 'EPSG:32726', covariates = s2TS, nAngles = 10).addCovariates(rotatedCoords = True, topoBands =True)\n",
        "X.bandNames()"
      ]
    },
    {
      "cell_type": "code",
      "execution_count": null,
      "id": "7dee6b61-c21d-4523-b1ef-ce098df509af",
      "metadata": {
        "id": "7dee6b61-c21d-4523-b1ef-ce098df509af"
      },
      "outputs": [],
      "source": [
        "Map.addLayer(study_area1)\n",
        "Map.centerObject(study_area1, 8)"
      ]
    },
    {
      "cell_type": "markdown",
      "id": "481ca6d4-cc8f-4c58-b6ea-7e65aa2bb995",
      "metadata": {
        "id": "481ca6d4-cc8f-4c58-b6ea-7e65aa2bb995"
      },
      "source": [
        "## Step 3: Prepare dataset for model training and evaluation\n",
        "\n",
        "### Add additional covariates and extract covariates to points.\n",
        "\n",
        "In this notebook, the reference points (shapefile) is already uploaded to Google Earth Engine (GEE). However, if you need to upload your shapefile to GEE you could either [manually upload it](https://developers.google.com/earth-engine/guides/table_upload) or you could upload it by using the geeup package. An example can be found [here](https://github.com/Geethen/Invasive_Species_Mapping/blob/main/example_usuage/geeup_Simple_CLI_for_Earth_Engine_Uploads.ipynb)."
      ]
    },
    {
      "cell_type": "markdown",
      "id": "cb24455d-54ff-4daf-a0aa-037fe1d7f604",
      "metadata": {
        "id": "cb24455d-54ff-4daf-a0aa-037fe1d7f604"
      },
      "source": [
        "#### Load training data"
      ]
    },
    {
      "cell_type": "code",
      "execution_count": null,
      "id": "a089be1d-c533-4c0a-8673-ed1f462b0e22",
      "metadata": {
        "colab": {
          "base_uri": "https://localhost:8080/",
          "height": 68
        },
        "id": "a089be1d-c533-4c0a-8673-ed1f462b0e22",
        "outputId": "9675779a-f1ab-4912-e541-edd59f0ba714"
      },
      "outputs": [
        {
          "data": {
            "text/html": [
              "<div><style>:root {\n",
              "  --font-color-primary: var(--jp-content-font-color0, rgba(0, 0, 0, 1));\n",
              "  --font-color-secondary: var(--jp-content-font-color2, rgba(0, 0, 0, 0.6));\n",
              "  --font-color-accent: rgba(123, 31, 162, 1);\n",
              "  --border-color: var(--jp-border-color2, #e0e0e0);\n",
              "  --background-color: var(--jp-layout-color0, white);\n",
              "  --background-color-row-even: var(--jp-layout-color1, white);\n",
              "  --background-color-row-odd: var(--jp-layout-color2, #eeeeee);\n",
              "}\n",
              "\n",
              "html[theme=\"dark\"],\n",
              "body[data-theme=\"dark\"],\n",
              "body.vscode-dark {\n",
              "  --font-color-primary: rgba(255, 255, 255, 1);\n",
              "  --font-color-secondary: rgba(255, 255, 255, 0.6);\n",
              "  --font-color-accent: rgb(173, 132, 190);\n",
              "  --border-color: #2e2e2e;\n",
              "  --background-color: #111111;\n",
              "  --background-color-row-even: #111111;\n",
              "  --background-color-row-odd: #313131;\n",
              "}\n",
              "\n",
              ".ee {\n",
              "  padding: 1em;\n",
              "  line-height: 1.5em;\n",
              "  min-width: 300px;\n",
              "  max-width: 1200px;\n",
              "  overflow-y: scroll;\n",
              "  max-height: 600px;\n",
              "  border: 1px solid var(--border-color);\n",
              "  font-family: monospace;\n",
              "}\n",
              "\n",
              ".ee li {\n",
              "  list-style-type: none;\n",
              "}\n",
              "\n",
              ".ee ul {\n",
              "  padding-left: 1.5em !important;\n",
              "  margin: 0;\n",
              "}\n",
              "\n",
              ".ee > ul {\n",
              "  padding-left: 0 !important;\n",
              "}\n",
              "\n",
              ".ee-open,\n",
              ".ee-shut {\n",
              "  color: var(--font-color-secondary);\n",
              "  cursor: pointer;\n",
              "  margin: 0;\n",
              "}\n",
              "\n",
              ".ee-open:hover,\n",
              ".ee-shut:hover {\n",
              "  color: var(--font-color-primary);\n",
              "}\n",
              "\n",
              ".ee-k {\n",
              "  color: var(--font-color-accent);\n",
              "  margin-right: 6px;\n",
              "}\n",
              "\n",
              ".ee-v {\n",
              "  color: var(--font-color-primary);\n",
              "}\n",
              "\n",
              ".ee-toggle {\n",
              "  display: none;\n",
              "}\n",
              "\n",
              ".ee-shut + ul {\n",
              "  display: none;\n",
              "}\n",
              "\n",
              ".ee-open + ul {\n",
              "  display: block;\n",
              "}\n",
              "\n",
              ".ee-shut::before {\n",
              "  display: inline-block;\n",
              "  content: \"▼\";\n",
              "  margin-right: 6px;\n",
              "  transform: rotate(-90deg);\n",
              "  transition: transform 0.2s;\n",
              "}\n",
              "\n",
              ".ee-open::before {\n",
              "  transform: rotate(0deg);\n",
              "  display: inline-block;\n",
              "  content: \"▼\";\n",
              "  margin-right: 6px;\n",
              "  transition: transform 0.2s;\n",
              "}\n",
              "</style><div class='ee'><ul><li><label class='ee-shut'>FeatureCollection (2 elements, 243 columns)<input type='checkbox' class='ee-toggle'></label><ul><li><span class='ee-k'>type:</span><span class='ee-v'>FeatureCollection</span></li><li><label class='ee-shut'>columns: Object (243 properties)<input type='checkbox' class='ee-toggle'></label><ul><li><span class='ee-k'>id:</span><span class='ee-v'>Long</span></li><li><span class='ee-k'>band0_B1:</span><span class='ee-v'>Float<0.0, 6.553500175476074></span></li><li><span class='ee-k'>band0_B11:</span><span class='ee-v'>Float<0.0, 6.553500175476074></span></li><li><span class='ee-k'>band0_B12:</span><span class='ee-v'>Float<0.0, 6.553500175476074></span></li><li><span class='ee-k'>band0_B2:</span><span class='ee-v'>Float<0.0, 6.553500175476074></span></li><li><span class='ee-k'>band0_B3:</span><span class='ee-v'>Float<0.0, 6.553500175476074></span></li><li><span class='ee-k'>band0_B4:</span><span class='ee-v'>Float<0.0, 6.553500175476074></span></li><li><span class='ee-k'>band0_B5:</span><span class='ee-v'>Float<0.0, 6.553500175476074></span></li><li><span class='ee-k'>band0_B6:</span><span class='ee-v'>Float<0.0, 6.553500175476074></span></li><li><span class='ee-k'>band0_B7:</span><span class='ee-v'>Float<0.0, 6.553500175476074></span></li><li><span class='ee-k'>band0_B8:</span><span class='ee-v'>Float<0.0, 6.553500175476074></span></li><li><span class='ee-k'>band0_B8A:</span><span class='ee-v'>Float<0.0, 6.553500175476074></span></li><li><span class='ee-k'>band0_B9:</span><span class='ee-v'>Float<0.0, 6.553500175476074></span></li><li><span class='ee-k'>band0_evi:</span><span class='ee-v'>Float</span></li><li><span class='ee-k'>band0_nbr:</span><span class='ee-v'>Float<-1.0, 1.0></span></li><li><span class='ee-k'>band0_ndre:</span><span class='ee-v'>Float<-1.0, 1.0></span></li><li><span class='ee-k'>band0_ndvi:</span><span class='ee-v'>Float<-1.0, 1.0></span></li><li><span class='ee-k'>band0_ndwi:</span><span class='ee-v'>Float<-1.0, 1.0></span></li><li><span class='ee-k'>band0_y:</span><span class='ee-v'>Float</span></li><li><span class='ee-k'>band10_B1:</span><span class='ee-v'>Float<0.0, 6.553500175476074></span></li><li><span class='ee-k'>band10_B11:</span><span class='ee-v'>Float<0.0, 6.553500175476074></span></li><li><span class='ee-k'>band10_B12:</span><span class='ee-v'>Float<0.0, 6.553500175476074></span></li><li><span class='ee-k'>band10_B2:</span><span class='ee-v'>Float<0.0, 6.553500175476074></span></li><li><span class='ee-k'>band10_B3:</span><span class='ee-v'>Float<0.0, 6.553500175476074></span></li><li><span class='ee-k'>band10_B4:</span><span class='ee-v'>Float<0.0, 6.553500175476074></span></li><li><span class='ee-k'>band10_B5:</span><span class='ee-v'>Float<0.0, 6.553500175476074></span></li><li><span class='ee-k'>band10_B6:</span><span class='ee-v'>Float<0.0, 6.553500175476074></span></li><li><span class='ee-k'>band10_B7:</span><span class='ee-v'>Float<0.0, 6.553500175476074></span></li><li><span class='ee-k'>band10_B8:</span><span class='ee-v'>Float<0.0, 6.553500175476074></span></li><li><span class='ee-k'>band10_B8A:</span><span class='ee-v'>Float<0.0, 6.553500175476074></span></li><li><span class='ee-k'>band10_B9:</span><span class='ee-v'>Float<0.0, 6.553500175476074></span></li><li><span class='ee-k'>band10_evi:</span><span class='ee-v'>Float</span></li><li><span class='ee-k'>band10_nbr:</span><span class='ee-v'>Float<-1.0, 1.0></span></li><li><span class='ee-k'>band10_ndre:</span><span class='ee-v'>Float<-1.0, 1.0></span></li><li><span class='ee-k'>band10_ndvi:</span><span class='ee-v'>Float<-1.0, 1.0></span></li><li><span class='ee-k'>band10_ndwi:</span><span class='ee-v'>Float<-1.0, 1.0></span></li><li><span class='ee-k'>band11_B1:</span><span class='ee-v'>Float<0.0, 6.553500175476074></span></li><li><span class='ee-k'>band11_B11:</span><span class='ee-v'>Float<0.0, 6.553500175476074></span></li><li><span class='ee-k'>band11_B12:</span><span class='ee-v'>Float<0.0, 6.553500175476074></span></li><li><span class='ee-k'>band11_B2:</span><span class='ee-v'>Float<0.0, 6.553500175476074></span></li><li><span class='ee-k'>band11_B3:</span><span class='ee-v'>Float<0.0, 6.553500175476074></span></li><li><span class='ee-k'>band11_B4:</span><span class='ee-v'>Float<0.0, 6.553500175476074></span></li><li><span class='ee-k'>band11_B5:</span><span class='ee-v'>Float<0.0, 6.553500175476074></span></li><li><span class='ee-k'>band11_B6:</span><span class='ee-v'>Float<0.0, 6.553500175476074></span></li><li><span class='ee-k'>band11_B7:</span><span class='ee-v'>Float<0.0, 6.553500175476074></span></li><li><span class='ee-k'>band11_B8:</span><span class='ee-v'>Float<0.0, 6.553500175476074></span></li><li><span class='ee-k'>band11_B8A:</span><span class='ee-v'>Float<0.0, 6.553500175476074></span></li><li><span class='ee-k'>band11_B9:</span><span class='ee-v'>Float<0.0, 6.553500175476074></span></li><li><span class='ee-k'>band11_evi:</span><span class='ee-v'>Float</span></li><li><span class='ee-k'>band11_nbr:</span><span class='ee-v'>Float<-1.0, 1.0></span></li><li><span class='ee-k'>band11_ndre:</span><span class='ee-v'>Float<-1.0, 1.0></span></li><li><span class='ee-k'>band11_ndvi:</span><span class='ee-v'>Float<-1.0, 1.0></span></li><li><span class='ee-k'>band11_ndwi:</span><span class='ee-v'>Float<-1.0, 1.0></span></li><li><span class='ee-k'>band12_B1:</span><span class='ee-v'>Float<0.0, 6.553500175476074></span></li><li><span class='ee-k'>band12_B11:</span><span class='ee-v'>Float<0.0, 6.553500175476074></span></li><li><span class='ee-k'>band12_B12:</span><span class='ee-v'>Float<0.0, 6.553500175476074></span></li><li><span class='ee-k'>band12_B2:</span><span class='ee-v'>Float<0.0, 6.553500175476074></span></li><li><span class='ee-k'>band12_B3:</span><span class='ee-v'>Float<0.0, 6.553500175476074></span></li><li><span class='ee-k'>band12_B4:</span><span class='ee-v'>Float<0.0, 6.553500175476074></span></li><li><span class='ee-k'>band12_B5:</span><span class='ee-v'>Float<0.0, 6.553500175476074></span></li><li><span class='ee-k'>band12_B6:</span><span class='ee-v'>Float<0.0, 6.553500175476074></span></li><li><span class='ee-k'>band12_B7:</span><span class='ee-v'>Float<0.0, 6.553500175476074></span></li><li><span class='ee-k'>band12_B8:</span><span class='ee-v'>Float<0.0, 6.553500175476074></span></li><li><span class='ee-k'>band12_B8A:</span><span class='ee-v'>Float<0.0, 6.553500175476074></span></li><li><span class='ee-k'>band12_B9:</span><span class='ee-v'>Float<0.0, 6.553500175476074></span></li><li><span class='ee-k'>band12_evi:</span><span class='ee-v'>Float</span></li><li><span class='ee-k'>band12_nbr:</span><span class='ee-v'>Float<-1.0, 1.0></span></li><li><span class='ee-k'>band12_ndre:</span><span class='ee-v'>Float<-1.0, 1.0></span></li><li><span class='ee-k'>band12_ndvi:</span><span class='ee-v'>Float<-1.0, 1.0></span></li><li><span class='ee-k'>band12_ndwi:</span><span class='ee-v'>Float<-1.0, 1.0></span></li><li><span class='ee-k'>band1_B1:</span><span class='ee-v'>Float<0.0, 6.553500175476074></span></li><li><span class='ee-k'>band1_B11:</span><span class='ee-v'>Float<0.0, 6.553500175476074></span></li><li><span class='ee-k'>band1_B12:</span><span class='ee-v'>Float<0.0, 6.553500175476074></span></li><li><span class='ee-k'>band1_B2:</span><span class='ee-v'>Float<0.0, 6.553500175476074></span></li><li><span class='ee-k'>band1_B3:</span><span class='ee-v'>Float<0.0, 6.553500175476074></span></li><li><span class='ee-k'>band1_B4:</span><span class='ee-v'>Float<0.0, 6.553500175476074></span></li><li><span class='ee-k'>band1_B5:</span><span class='ee-v'>Float<0.0, 6.553500175476074></span></li><li><span class='ee-k'>band1_B6:</span><span class='ee-v'>Float<0.0, 6.553500175476074></span></li><li><span class='ee-k'>band1_B7:</span><span class='ee-v'>Float<0.0, 6.553500175476074></span></li><li><span class='ee-k'>band1_B8:</span><span class='ee-v'>Float<0.0, 6.553500175476074></span></li><li><span class='ee-k'>band1_B8A:</span><span class='ee-v'>Float<0.0, 6.553500175476074></span></li><li><span class='ee-k'>band1_B9:</span><span class='ee-v'>Float<0.0, 6.553500175476074></span></li><li><span class='ee-k'>band1_evi:</span><span class='ee-v'>Float</span></li><li><span class='ee-k'>band1_nbr:</span><span class='ee-v'>Float<-1.0, 1.0></span></li><li><span class='ee-k'>band1_ndre:</span><span class='ee-v'>Float<-1.0, 1.0></span></li><li><span class='ee-k'>band1_ndvi:</span><span class='ee-v'>Float<-1.0, 1.0></span></li><li><span class='ee-k'>band1_ndwi:</span><span class='ee-v'>Float<-1.0, 1.0></span></li><li><span class='ee-k'>band1_y:</span><span class='ee-v'>Float</span></li><li><span class='ee-k'>band2_B1:</span><span class='ee-v'>Float<0.0, 6.553500175476074></span></li><li><span class='ee-k'>band2_B11:</span><span class='ee-v'>Float<0.0, 6.553500175476074></span></li><li><span class='ee-k'>band2_B12:</span><span class='ee-v'>Float<0.0, 6.553500175476074></span></li><li><span class='ee-k'>band2_B2:</span><span class='ee-v'>Float<0.0, 6.553500175476074></span></li><li><span class='ee-k'>band2_B3:</span><span class='ee-v'>Float<0.0, 6.553500175476074></span></li><li><span class='ee-k'>band2_B4:</span><span class='ee-v'>Float<0.0, 6.553500175476074></span></li><li><span class='ee-k'>band2_B5:</span><span class='ee-v'>Float<0.0, 6.553500175476074></span></li><li><span class='ee-k'>band2_B6:</span><span class='ee-v'>Float<0.0, 6.553500175476074></span></li><li><span class='ee-k'>band2_B7:</span><span class='ee-v'>Float<0.0, 6.553500175476074></span></li><li><span class='ee-k'>band2_B8:</span><span class='ee-v'>Float<0.0, 6.553500175476074></span></li><li><span class='ee-k'>band2_B8A:</span><span class='ee-v'>Float<0.0, 6.553500175476074></span></li><li><span class='ee-k'>band2_B9:</span><span class='ee-v'>Float<0.0, 6.553500175476074></span></li><li><span class='ee-k'>band2_evi:</span><span class='ee-v'>Float</span></li><li><span class='ee-k'>band2_nbr:</span><span class='ee-v'>Float<-1.0, 1.0></span></li><li><span class='ee-k'>band2_ndre:</span><span class='ee-v'>Float<-1.0, 1.0></span></li><li><span class='ee-k'>band2_ndvi:</span><span class='ee-v'>Float<-1.0, 1.0></span></li><li><span class='ee-k'>band2_ndwi:</span><span class='ee-v'>Float<-1.0, 1.0></span></li><li><span class='ee-k'>band2_y:</span><span class='ee-v'>Float</span></li><li><span class='ee-k'>band3_B1:</span><span class='ee-v'>Float<0.0, 6.553500175476074></span></li><li><span class='ee-k'>band3_B11:</span><span class='ee-v'>Float<0.0, 6.553500175476074></span></li><li><span class='ee-k'>band3_B12:</span><span class='ee-v'>Float<0.0, 6.553500175476074></span></li><li><span class='ee-k'>band3_B2:</span><span class='ee-v'>Float<0.0, 6.553500175476074></span></li><li><span class='ee-k'>band3_B3:</span><span class='ee-v'>Float<0.0, 6.553500175476074></span></li><li><span class='ee-k'>band3_B4:</span><span class='ee-v'>Float<0.0, 6.553500175476074></span></li><li><span class='ee-k'>band3_B5:</span><span class='ee-v'>Float<0.0, 6.553500175476074></span></li><li><span class='ee-k'>band3_B6:</span><span class='ee-v'>Float<0.0, 6.553500175476074></span></li><li><span class='ee-k'>band3_B7:</span><span class='ee-v'>Float<0.0, 6.553500175476074></span></li><li><span class='ee-k'>band3_B8:</span><span class='ee-v'>Float<0.0, 6.553500175476074></span></li><li><span class='ee-k'>band3_B8A:</span><span class='ee-v'>Float<0.0, 6.553500175476074></span></li><li><span class='ee-k'>band3_B9:</span><span class='ee-v'>Float<0.0, 6.553500175476074></span></li><li><span class='ee-k'>band3_evi:</span><span class='ee-v'>Float</span></li><li><span class='ee-k'>band3_nbr:</span><span class='ee-v'>Float<-1.0, 1.0></span></li><li><span class='ee-k'>band3_ndre:</span><span class='ee-v'>Float<-1.0, 1.0></span></li><li><span class='ee-k'>band3_ndvi:</span><span class='ee-v'>Float<-1.0, 1.0></span></li><li><span class='ee-k'>band3_ndwi:</span><span class='ee-v'>Float<-1.0, 1.0></span></li><li><span class='ee-k'>band3_y:</span><span class='ee-v'>Float</span></li><li><span class='ee-k'>band4_B1:</span><span class='ee-v'>Float<0.0, 6.553500175476074></span></li><li><span class='ee-k'>band4_B11:</span><span class='ee-v'>Float<0.0, 6.553500175476074></span></li><li><span class='ee-k'>band4_B12:</span><span class='ee-v'>Float<0.0, 6.553500175476074></span></li><li><span class='ee-k'>band4_B2:</span><span class='ee-v'>Float<0.0, 6.553500175476074></span></li><li><span class='ee-k'>band4_B3:</span><span class='ee-v'>Float<0.0, 6.553500175476074></span></li><li><span class='ee-k'>band4_B4:</span><span class='ee-v'>Float<0.0, 6.553500175476074></span></li><li><span class='ee-k'>band4_B5:</span><span class='ee-v'>Float<0.0, 6.553500175476074></span></li><li><span class='ee-k'>band4_B6:</span><span class='ee-v'>Float<0.0, 6.553500175476074></span></li><li><span class='ee-k'>band4_B7:</span><span class='ee-v'>Float<0.0, 6.553500175476074></span></li><li><span class='ee-k'>band4_B8:</span><span class='ee-v'>Float<0.0, 6.553500175476074></span></li><li><span class='ee-k'>band4_B8A:</span><span class='ee-v'>Float<0.0, 6.553500175476074></span></li><li><span class='ee-k'>band4_B9:</span><span class='ee-v'>Float<0.0, 6.553500175476074></span></li><li><span class='ee-k'>band4_evi:</span><span class='ee-v'>Float</span></li><li><span class='ee-k'>band4_nbr:</span><span class='ee-v'>Float<-1.0, 1.0></span></li><li><span class='ee-k'>band4_ndre:</span><span class='ee-v'>Float<-1.0, 1.0></span></li><li><span class='ee-k'>band4_ndvi:</span><span class='ee-v'>Float<-1.0, 1.0></span></li><li><span class='ee-k'>band4_ndwi:</span><span class='ee-v'>Float<-1.0, 1.0></span></li><li><span class='ee-k'>band4_y:</span><span class='ee-v'>Float</span></li><li><span class='ee-k'>band5_B1:</span><span class='ee-v'>Float<0.0, 6.553500175476074></span></li><li><span class='ee-k'>band5_B11:</span><span class='ee-v'>Float<0.0, 6.553500175476074></span></li><li><span class='ee-k'>band5_B12:</span><span class='ee-v'>Float<0.0, 6.553500175476074></span></li><li><span class='ee-k'>band5_B2:</span><span class='ee-v'>Float<0.0, 6.553500175476074></span></li><li><span class='ee-k'>band5_B3:</span><span class='ee-v'>Float<0.0, 6.553500175476074></span></li><li><span class='ee-k'>band5_B4:</span><span class='ee-v'>Float<0.0, 6.553500175476074></span></li><li><span class='ee-k'>band5_B5:</span><span class='ee-v'>Float<0.0, 6.553500175476074></span></li><li><span class='ee-k'>band5_B6:</span><span class='ee-v'>Float<0.0, 6.553500175476074></span></li><li><span class='ee-k'>band5_B7:</span><span class='ee-v'>Float<0.0, 6.553500175476074></span></li><li><span class='ee-k'>band5_B8:</span><span class='ee-v'>Float<0.0, 6.553500175476074></span></li><li><span class='ee-k'>band5_B8A:</span><span class='ee-v'>Float<0.0, 6.553500175476074></span></li><li><span class='ee-k'>band5_B9:</span><span class='ee-v'>Float<0.0, 6.553500175476074></span></li><li><span class='ee-k'>band5_evi:</span><span class='ee-v'>Float</span></li><li><span class='ee-k'>band5_nbr:</span><span class='ee-v'>Float<-1.0, 1.0></span></li><li><span class='ee-k'>band5_ndre:</span><span class='ee-v'>Float<-1.0, 1.0></span></li><li><span class='ee-k'>band5_ndvi:</span><span class='ee-v'>Float<-1.0, 1.0></span></li><li><span class='ee-k'>band5_ndwi:</span><span class='ee-v'>Float<-1.0, 1.0></span></li><li><span class='ee-k'>band5_y:</span><span class='ee-v'>Float</span></li><li><span class='ee-k'>band6_B1:</span><span class='ee-v'>Float<0.0, 6.553500175476074></span></li><li><span class='ee-k'>band6_B11:</span><span class='ee-v'>Float<0.0, 6.553500175476074></span></li><li><span class='ee-k'>band6_B12:</span><span class='ee-v'>Float<0.0, 6.553500175476074></span></li><li><span class='ee-k'>band6_B2:</span><span class='ee-v'>Float<0.0, 6.553500175476074></span></li><li><span class='ee-k'>band6_B3:</span><span class='ee-v'>Float<0.0, 6.553500175476074></span></li><li><span class='ee-k'>band6_B4:</span><span class='ee-v'>Float<0.0, 6.553500175476074></span></li><li><span class='ee-k'>band6_B5:</span><span class='ee-v'>Float<0.0, 6.553500175476074></span></li><li><span class='ee-k'>band6_B6:</span><span class='ee-v'>Float<0.0, 6.553500175476074></span></li><li><span class='ee-k'>band6_B7:</span><span class='ee-v'>Float<0.0, 6.553500175476074></span></li><li><span class='ee-k'>band6_B8:</span><span class='ee-v'>Float<0.0, 6.553500175476074></span></li><li><span class='ee-k'>band6_B8A:</span><span class='ee-v'>Float<0.0, 6.553500175476074></span></li><li><span class='ee-k'>band6_B9:</span><span class='ee-v'>Float<0.0, 6.553500175476074></span></li><li><span class='ee-k'>band6_evi:</span><span class='ee-v'>Float</span></li><li><span class='ee-k'>band6_nbr:</span><span class='ee-v'>Float<-1.0, 1.0></span></li><li><span class='ee-k'>band6_ndre:</span><span class='ee-v'>Float<-1.0, 1.0></span></li><li><span class='ee-k'>band6_ndvi:</span><span class='ee-v'>Float<-1.0, 1.0></span></li><li><span class='ee-k'>band6_ndwi:</span><span class='ee-v'>Float<-1.0, 1.0></span></li><li><span class='ee-k'>band6_y:</span><span class='ee-v'>Float</span></li><li><span class='ee-k'>band7_B1:</span><span class='ee-v'>Float<0.0, 6.553500175476074></span></li><li><span class='ee-k'>band7_B11:</span><span class='ee-v'>Float<0.0, 6.553500175476074></span></li><li><span class='ee-k'>band7_B12:</span><span class='ee-v'>Float<0.0, 6.553500175476074></span></li><li><span class='ee-k'>band7_B2:</span><span class='ee-v'>Float<0.0, 6.553500175476074></span></li><li><span class='ee-k'>band7_B3:</span><span class='ee-v'>Float<0.0, 6.553500175476074></span></li><li><span class='ee-k'>band7_B4:</span><span class='ee-v'>Float<0.0, 6.553500175476074></span></li><li><span class='ee-k'>band7_B5:</span><span class='ee-v'>Float<0.0, 6.553500175476074></span></li><li><span class='ee-k'>band7_B6:</span><span class='ee-v'>Float<0.0, 6.553500175476074></span></li><li><span class='ee-k'>band7_B7:</span><span class='ee-v'>Float<0.0, 6.553500175476074></span></li><li><span class='ee-k'>band7_B8:</span><span class='ee-v'>Float<0.0, 6.553500175476074></span></li><li><span class='ee-k'>band7_B8A:</span><span class='ee-v'>Float<0.0, 6.553500175476074></span></li><li><span class='ee-k'>band7_B9:</span><span class='ee-v'>Float<0.0, 6.553500175476074></span></li><li><span class='ee-k'>band7_evi:</span><span class='ee-v'>Float</span></li><li><span class='ee-k'>band7_nbr:</span><span class='ee-v'>Float<-1.0, 1.0></span></li><li><span class='ee-k'>band7_ndre:</span><span class='ee-v'>Float<-1.0, 1.0></span></li><li><span class='ee-k'>band7_ndvi:</span><span class='ee-v'>Float<-1.0, 1.0></span></li><li><span class='ee-k'>band7_ndwi:</span><span class='ee-v'>Float<-1.0, 1.0></span></li><li><span class='ee-k'>band7_y:</span><span class='ee-v'>Float</span></li><li><span class='ee-k'>band8_B1:</span><span class='ee-v'>Float<0.0, 6.553500175476074></span></li><li><span class='ee-k'>band8_B11:</span><span class='ee-v'>Float<0.0, 6.553500175476074></span></li><li><span class='ee-k'>band8_B12:</span><span class='ee-v'>Float<0.0, 6.553500175476074></span></li><li><span class='ee-k'>band8_B2:</span><span class='ee-v'>Float<0.0, 6.553500175476074></span></li><li><span class='ee-k'>band8_B3:</span><span class='ee-v'>Float<0.0, 6.553500175476074></span></li><li><span class='ee-k'>band8_B4:</span><span class='ee-v'>Float<0.0, 6.553500175476074></span></li><li><span class='ee-k'>band8_B5:</span><span class='ee-v'>Float<0.0, 6.553500175476074></span></li><li><span class='ee-k'>band8_B6:</span><span class='ee-v'>Float<0.0, 6.553500175476074></span></li><li><span class='ee-k'>band8_B7:</span><span class='ee-v'>Float<0.0, 6.553500175476074></span></li><li><span class='ee-k'>band8_B8:</span><span class='ee-v'>Float<0.0, 6.553500175476074></span></li><li><span class='ee-k'>band8_B8A:</span><span class='ee-v'>Float<0.0, 6.553500175476074></span></li><li><span class='ee-k'>band8_B9:</span><span class='ee-v'>Float<0.0, 6.553500175476074></span></li><li><span class='ee-k'>band8_evi:</span><span class='ee-v'>Float</span></li><li><span class='ee-k'>band8_nbr:</span><span class='ee-v'>Float<-1.0, 1.0></span></li><li><span class='ee-k'>band8_ndre:</span><span class='ee-v'>Float<-1.0, 1.0></span></li><li><span class='ee-k'>band8_ndvi:</span><span class='ee-v'>Float<-1.0, 1.0></span></li><li><span class='ee-k'>band8_ndwi:</span><span class='ee-v'>Float<-1.0, 1.0></span></li><li><span class='ee-k'>band8_y:</span><span class='ee-v'>Float</span></li><li><span class='ee-k'>band9_B1:</span><span class='ee-v'>Float<0.0, 6.553500175476074></span></li><li><span class='ee-k'>band9_B11:</span><span class='ee-v'>Float<0.0, 6.553500175476074></span></li><li><span class='ee-k'>band9_B12:</span><span class='ee-v'>Float<0.0, 6.553500175476074></span></li><li><span class='ee-k'>band9_B2:</span><span class='ee-v'>Float<0.0, 6.553500175476074></span></li><li><span class='ee-k'>band9_B3:</span><span class='ee-v'>Float<0.0, 6.553500175476074></span></li><li><span class='ee-k'>band9_B4:</span><span class='ee-v'>Float<0.0, 6.553500175476074></span></li><li><span class='ee-k'>band9_B5:</span><span class='ee-v'>Float<0.0, 6.553500175476074></span></li><li><span class='ee-k'>band9_B6:</span><span class='ee-v'>Float<0.0, 6.553500175476074></span></li><li><span class='ee-k'>band9_B7:</span><span class='ee-v'>Float<0.0, 6.553500175476074></span></li><li><span class='ee-k'>band9_B8:</span><span class='ee-v'>Float<0.0, 6.553500175476074></span></li><li><span class='ee-k'>band9_B8A:</span><span class='ee-v'>Float<0.0, 6.553500175476074></span></li><li><span class='ee-k'>band9_B9:</span><span class='ee-v'>Float<0.0, 6.553500175476074></span></li><li><span class='ee-k'>band9_evi:</span><span class='ee-v'>Float</span></li><li><span class='ee-k'>band9_nbr:</span><span class='ee-v'>Float<-1.0, 1.0></span></li><li><span class='ee-k'>band9_ndre:</span><span class='ee-v'>Float<-1.0, 1.0></span></li><li><span class='ee-k'>band9_ndvi:</span><span class='ee-v'>Float<-1.0, 1.0></span></li><li><span class='ee-k'>band9_ndwi:</span><span class='ee-v'>Float<-1.0, 1.0></span></li><li><span class='ee-k'>bandaspect:</span><span class='ee-v'>Float<0.0, 360.0></span></li><li><span class='ee-k'>bandchili:</span><span class='ee-v'>Short<0, 255></span></li><li><span class='ee-k'>bandelevation:</span><span class='ee-v'>Short</span></li><li><span class='ee-k'>bandslope:</span><span class='ee-v'>Float<0.0, 90.0></span></li><li><span class='ee-k'>bandtpi:</span><span class='ee-v'>Integer</span></li><li><span class='ee-k'>cluster:</span><span class='ee-v'><any></span></li><li><span class='ee-k'>code:</span><span class='ee-v'>Long</span></li><li><span class='ee-k'>layer:</span><span class='ee-v'>String</span></li><li><span class='ee-k'>path:</span><span class='ee-v'>String</span></li><li><span class='ee-k'>system:index:</span><span class='ee-v'>String</span></li><li><span class='ee-k'>x:</span><span class='ee-v'>Number</span></li><li><span class='ee-k'>y:</span><span class='ee-v'>Number</span></li></ul></li><li><label class='ee-shut'>features: List (2 elements)<input type='checkbox' class='ee-toggle'></label><ul><li><label class='ee-shut'>0: Feature (Point, 242 properties)<input type='checkbox' class='ee-toggle'></label><ul><li><span class='ee-k'>type:</span><span class='ee-v'>Feature</span></li><li><span class='ee-k'>id:</span><span class='ee-v'>0000000000000000073c</span></li><li><label class='ee-shut'>geometry: Point (30.81, -24.92)<input type='checkbox' class='ee-toggle'></label><ul><li><span class='ee-k'>type:</span><span class='ee-v'>Point</span></li><li><label class='ee-shut'>coordinates: [30.814385216547688, -24.922053013351707]<input type='checkbox' class='ee-toggle'></label><ul><li><span class='ee-k'>0:</span><span class='ee-v'>30.814385216547688</span></li><li><span class='ee-k'>1:</span><span class='ee-v'>-24.922053013351707</span></li></ul></li></ul></li><li><label class='ee-shut'>properties: Object (242 properties)<input type='checkbox' class='ee-toggle'></label><ul><li><span class='ee-k'>id:</span><span class='ee-v'>1</span></li><li><span class='ee-k'>band0_B1:</span><span class='ee-v'>0.10400000214576721</span></li><li><span class='ee-k'>band0_B11:</span><span class='ee-v'>0.2037000060081482</span></li><li><span class='ee-k'>band0_B12:</span><span class='ee-v'>0.11500000208616257</span></li><li><span class='ee-k'>band0_B2:</span><span class='ee-v'>0.08349999785423279</span></li><li><span class='ee-k'>band0_B3:</span><span class='ee-v'>0.08950000256299973</span></li><li><span class='ee-k'>band0_B4:</span><span class='ee-v'>0.0771000012755394</span></li><li><span class='ee-k'>band0_B5:</span><span class='ee-v'>0.1242000013589859</span></li><li><span class='ee-k'>band0_B6:</span><span class='ee-v'>0.267300009727478</span></li><li><span class='ee-k'>band0_B7:</span><span class='ee-v'>0.3027999997138977</span></li><li><span class='ee-k'>band0_B8:</span><span class='ee-v'>0.26739999651908875</span></li><li><span class='ee-k'>band0_B8A:</span><span class='ee-v'>0.32190001010894775</span></li><li><span class='ee-k'>band0_B9:</span><span class='ee-v'>0.17489999532699585</span></li><li><span class='ee-k'>band0_evi:</span><span class='ee-v'>0.4310305651737022</span></li><li><span class='ee-k'>band0_nbr:</span><span class='ee-v'>0.3985355496406555</span></li><li><span class='ee-k'>band0_ndre:</span><span class='ee-v'>0.3656792640686035</span></li><li><span class='ee-k'>band0_ndvi:</span><span class='ee-v'>0.5523947477340698</span></li><li><span class='ee-k'>band0_ndwi:</span><span class='ee-v'>0.13521544635295868</span></li><li><span class='ee-k'>band0_y:</span><span class='ee-v'>6997742.102042722</span></li><li><span class='ee-k'>band10_B1:</span><span class='ee-v'>0.11659999936819077</span></li><li><span class='ee-k'>band10_B11:</span><span class='ee-v'>0.2337000072002411</span></li><li><span class='ee-k'>band10_B12:</span><span class='ee-v'>0.16040000319480896</span></li><li><span class='ee-k'>band10_B2:</span><span class='ee-v'>0.09939999878406525</span></li><li><span class='ee-k'>band10_B3:</span><span class='ee-v'>0.09830000251531601</span></li><li><span class='ee-k'>band10_B4:</span><span class='ee-v'>0.10379999876022339</span></li><li><span class='ee-k'>band10_B5:</span><span class='ee-v'>0.131400004029274</span></li><li><span class='ee-k'>band10_B6:</span><span class='ee-v'>0.21330000460147858</span></li><li><span class='ee-k'>band10_B7:</span><span class='ee-v'>0.2409999966621399</span></li><li><span class='ee-k'>band10_B8:</span><span class='ee-v'>0.21739999949932098</span></li><li><span class='ee-k'>band10_B8A:</span><span class='ee-v'>0.2676999866962433</span></li><li><span class='ee-k'>band10_B9:</span><span class='ee-v'>0.1014999970793724</span></li><li><span class='ee-k'>band10_evi:</span><span class='ee-v'>0.25943181137065957</span></li><li><span class='ee-k'>band10_nbr:</span><span class='ee-v'>0.15087348222732544</span></li><li><span class='ee-k'>band10_ndre:</span><span class='ee-v'>0.24655963480472565</span></li><li><span class='ee-k'>band10_ndvi:</span><span class='ee-v'>0.3536737263202667</span></li><li><span class='ee-k'>band10_ndwi:</span><span class='ee-v'>-0.03613389655947685</span></li><li><span class='ee-k'>band11_B1:</span><span class='ee-v'>0.11680000275373459</span></li><li><span class='ee-k'>band11_B11:</span><span class='ee-v'>0.218299999833107</span></li><li><span class='ee-k'>band11_B12:</span><span class='ee-v'>0.12449999898672104</span></li><li><span class='ee-k'>band11_B2:</span><span class='ee-v'>0.09539999812841415</span></li><li><span class='ee-k'>band11_B3:</span><span class='ee-v'>0.0982000008225441</span></li><li><span class='ee-k'>band11_B4:</span><span class='ee-v'>0.08950000256299973</span></li><li><span class='ee-k'>band11_B5:</span><span class='ee-v'>0.12489999830722809</span></li><li><span class='ee-k'>band11_B6:</span><span class='ee-v'>0.23090000450611115</span></li><li><span class='ee-k'>band11_B7:</span><span class='ee-v'>0.26910001039505005</span></li><li><span class='ee-k'>band11_B8:</span><span class='ee-v'>0.24889999628067017</span></li><li><span class='ee-k'>band11_B8A:</span><span class='ee-v'>0.29280000925064087</span></li><li><span class='ee-k'>band11_B9:</span><span class='ee-v'>0.07349999994039536</span></li><li><span class='ee-k'>band11_evi:</span><span class='ee-v'>0.3722907137086716</span></li><li><span class='ee-k'>band11_nbr:</span><span class='ee-v'>0.3331547975540161</span></li><li><span class='ee-k'>band11_ndre:</span><span class='ee-v'>0.3317281901836395</span></li><li><span class='ee-k'>band11_ndvi:</span><span class='ee-v'>0.47104015946388245</span></li><li><span class='ee-k'>band11_ndwi:</span><span class='ee-v'>0.06549657136201859</span></li><li><span class='ee-k'>band12_B1:</span><span class='ee-v'>0.11680000275373459</span></li><li><span class='ee-k'>band12_B11:</span><span class='ee-v'>0.218299999833107</span></li><li><span class='ee-k'>band12_B12:</span><span class='ee-v'>0.12449999898672104</span></li><li><span class='ee-k'>band12_B2:</span><span class='ee-v'>0.09539999812841415</span></li><li><span class='ee-k'>band12_B3:</span><span class='ee-v'>0.0982000008225441</span></li><li><span class='ee-k'>band12_B4:</span><span class='ee-v'>0.08950000256299973</span></li><li><span class='ee-k'>band12_B5:</span><span class='ee-v'>0.12489999830722809</span></li><li><span class='ee-k'>band12_B6:</span><span class='ee-v'>0.23090000450611115</span></li><li><span class='ee-k'>band12_B7:</span><span class='ee-v'>0.26910001039505005</span></li><li><span class='ee-k'>band12_B8:</span><span class='ee-v'>0.24889999628067017</span></li><li><span class='ee-k'>band12_B8A:</span><span class='ee-v'>0.29280000925064087</span></li><li><span class='ee-k'>band12_B9:</span><span class='ee-v'>0.07349999994039536</span></li><li><span class='ee-k'>band12_evi:</span><span class='ee-v'>0.3722907137086716</span></li><li><span class='ee-k'>band12_nbr:</span><span class='ee-v'>0.3331547975540161</span></li><li><span class='ee-k'>band12_ndre:</span><span class='ee-v'>0.3317281901836395</span></li><li><span class='ee-k'>band12_ndvi:</span><span class='ee-v'>0.47104015946388245</span></li><li><span class='ee-k'>band12_ndwi:</span><span class='ee-v'>0.06549657136201859</span></li><li><span class='ee-k'>band1_B1:</span><span class='ee-v'>0.10400000214576721</span></li><li><span class='ee-k'>band1_B11:</span><span class='ee-v'>0.2037000060081482</span></li><li><span class='ee-k'>band1_B12:</span><span class='ee-v'>0.11500000208616257</span></li><li><span class='ee-k'>band1_B2:</span><span class='ee-v'>0.08349999785423279</span></li><li><span class='ee-k'>band1_B3:</span><span class='ee-v'>0.08950000256299973</span></li><li><span class='ee-k'>band1_B4:</span><span class='ee-v'>0.0771000012755394</span></li><li><span class='ee-k'>band1_B5:</span><span class='ee-v'>0.1242000013589859</span></li><li><span class='ee-k'>band1_B6:</span><span class='ee-v'>0.267300009727478</span></li><li><span class='ee-k'>band1_B7:</span><span class='ee-v'>0.3027999997138977</span></li><li><span class='ee-k'>band1_B8:</span><span class='ee-v'>0.26739999651908875</span></li><li><span class='ee-k'>band1_B8A:</span><span class='ee-v'>0.32190001010894775</span></li><li><span class='ee-k'>band1_B9:</span><span class='ee-v'>0.17489999532699585</span></li><li><span class='ee-k'>band1_evi:</span><span class='ee-v'>0.4310305651737022</span></li><li><span class='ee-k'>band1_nbr:</span><span class='ee-v'>0.3985355496406555</span></li><li><span class='ee-k'>band1_ndre:</span><span class='ee-v'>0.3656792640686035</span></li><li><span class='ee-k'>band1_ndvi:</span><span class='ee-v'>0.5523947477340698</span></li><li><span class='ee-k'>band1_ndwi:</span><span class='ee-v'>0.13521544635295868</span></li><li><span class='ee-k'>band1_y:</span><span class='ee-v'>8435374.026804168</span></li><li><span class='ee-k'>band2_B1:</span><span class='ee-v'>0.11259999871253967</span></li><li><span class='ee-k'>band2_B11:</span><span class='ee-v'>0.2037000060081482</span></li><li><span class='ee-k'>band2_B12:</span><span class='ee-v'>0.11500000208616257</span></li><li><span class='ee-k'>band2_B2:</span><span class='ee-v'>0.08839999884366989</span></li><li><span class='ee-k'>band2_B3:</span><span class='ee-v'>0.08399999886751175</span></li><li><span class='ee-k'>band2_B4:</span><span class='ee-v'>0.07930000126361847</span></li><li><span class='ee-k'>band2_B5:</span><span class='ee-v'>0.12189999967813492</span></li><li><span class='ee-k'>band2_B6:</span><span class='ee-v'>0.1850000023841858</span></li><li><span class='ee-k'>band2_B7:</span><span class='ee-v'>0.22139999270439148</span></li><li><span class='ee-k'>band2_B8:</span><span class='ee-v'>0.20469999313354492</span></li><li><span class='ee-k'>band2_B8A:</span><span class='ee-v'>0.24529999494552612</span></li><li><span class='ee-k'>band2_B9:</span><span class='ee-v'>0.12049999833106995</span></li><li><span class='ee-k'>band2_evi:</span><span class='ee-v'>0.32588355451322876</span></li><li><span class='ee-k'>band2_nbr:</span><span class='ee-v'>0.32577717304229736</span></li><li><span class='ee-k'>band2_ndre:</span><span class='ee-v'>0.28580400347709656</span></li><li><span class='ee-k'>band2_ndvi:</span><span class='ee-v'>0.44154927134513855</span></li><li><span class='ee-k'>band2_ndwi:</span><span class='ee-v'>0.03305574879050255</span></li><li><span class='ee-k'>band2_y:</span><span class='ee-v'>8855575.351071259</span></li><li><span class='ee-k'>band3_B1:</span><span class='ee-v'>0.11409999430179596</span></li><li><span class='ee-k'>band3_B11:</span><span class='ee-v'>0.1989000141620636</span></li><li><span class='ee-k'>band3_B12:</span><span class='ee-v'>0.12729999423027039</span></li><li><span class='ee-k'>band3_B2:</span><span class='ee-v'>0.09084999561309814</span></li><li><span class='ee-k'>band3_B3:</span><span class='ee-v'>0.08374999463558197</span></li><li><span class='ee-k'>band3_B4:</span><span class='ee-v'>0.08489999920129776</span></li><li><span class='ee-k'>band3_B5:</span><span class='ee-v'>0.11779999732971191</span></li><li><span class='ee-k'>band3_B6:</span><span class='ee-v'>0.17840000987052917</span></li><li><span class='ee-k'>band3_B7:</span><span class='ee-v'>0.20579999685287476</span></li><li><span class='ee-k'>band3_B8:</span><span class='ee-v'>0.19760000705718994</span></li><li><span class='ee-k'>band3_B8A:</span><span class='ee-v'>0.2312999963760376</span></li><li><span class='ee-k'>band3_B9:</span><span class='ee-v'>0.10920000076293945</span></li><li><span class='ee-k'>band3_evi:</span><span class='ee-v'>0.2797096543891821</span></li><li><span class='ee-k'>band3_nbr:</span><span class='ee-v'>0.23998644948005676</span></li><li><span class='ee-k'>band3_ndre:</span><span class='ee-v'>0.2526971399784088</span></li><li><span class='ee-k'>band3_ndvi:</span><span class='ee-v'>0.39871060848236084</span></li><li><span class='ee-k'>band3_ndwi:</span><span class='ee-v'>-0.026747113093733788</span></li><li><span class='ee-k'>band3_y:</span><span class='ee-v'>8207663.593626317</span></li><li><span class='ee-k'>band4_B1:</span><span class='ee-v'>0.1242000013589859</span></li><li><span class='ee-k'>band4_B11:</span><span class='ee-v'>0.1915999948978424</span></li><li><span class='ee-k'>band4_B12:</span><span class='ee-v'>0.10409999638795853</span></li><li><span class='ee-k'>band4_B2:</span><span class='ee-v'>0.0957999974489212</span></li><li><span class='ee-k'>band4_B3:</span><span class='ee-v'>0.08399999886751175</span></li><li><span class='ee-k'>band4_B4:</span><span class='ee-v'>0.07930000126361847</span></li><li><span class='ee-k'>band4_B5:</span><span class='ee-v'>0.1137000024318695</span></li><li><span class='ee-k'>band4_B6:</span><span class='ee-v'>0.1850000023841858</span></li><li><span class='ee-k'>band4_B7:</span><span class='ee-v'>0.22139999270439148</span></li><li><span class='ee-k'>band4_B8:</span><span class='ee-v'>0.20469999313354492</span></li><li><span class='ee-k'>band4_B8A:</span><span class='ee-v'>0.24529999494552612</span></li><li><span class='ee-k'>band4_B9:</span><span class='ee-v'>0.09790000319480896</span></li><li><span class='ee-k'>band4_evi:</span><span class='ee-v'>0.32588355451322876</span></li><li><span class='ee-k'>band4_nbr:</span><span class='ee-v'>0.32577717304229736</span></li><li><span class='ee-k'>band4_ndre:</span><span class='ee-v'>0.28580400347709656</span></li><li><span class='ee-k'>band4_ndvi:</span><span class='ee-v'>0.44154927134513855</span></li><li><span class='ee-k'>band4_ndwi:</span><span class='ee-v'>0.03305574879050255</span></li><li><span class='ee-k'>band4_y:</span><span class='ee-v'>6569786.474576341</span></li><li><span class='ee-k'>band5_B1:</span><span class='ee-v'>0.11259999871253967</span></li><li><span class='ee-k'>band5_B11:</span><span class='ee-v'>0.22660000622272491</span></li><li><span class='ee-k'>band5_B12:</span><span class='ee-v'>0.1395999938249588</span></li><li><span class='ee-k'>band5_B2:</span><span class='ee-v'>0.08839999884366989</span></li><li><span class='ee-k'>band5_B3:</span><span class='ee-v'>0.0803999975323677</span></li><li><span class='ee-k'>band5_B4:</span><span class='ee-v'>0.09049999713897705</span></li><li><span class='ee-k'>band5_B5:</span><span class='ee-v'>0.12189999967813492</span></li><li><span class='ee-k'>band5_B6:</span><span class='ee-v'>0.17180000245571136</span></li><li><span class='ee-k'>band5_B7:</span><span class='ee-v'>0.19020000100135803</span></li><li><span class='ee-k'>band5_B8:</span><span class='ee-v'>0.19050000607967377</span></li><li><span class='ee-k'>band5_B8A:</span><span class='ee-v'>0.21729999780654907</span></li><li><span class='ee-k'>band5_B9:</span><span class='ee-v'>0.12049999833106995</span></li><li><span class='ee-k'>band5_evi:</span><span class='ee-v'>0.23353575426513548</span></li><li><span class='ee-k'>band5_nbr:</span><span class='ee-v'>0.15419571101665497</span></li><li><span class='ee-k'>band5_ndre:</span><span class='ee-v'>0.21959029138088226</span></li><li><span class='ee-k'>band5_ndvi:</span><span class='ee-v'>0.35587191581726074</span></li><li><span class='ee-k'>band5_ndwi:</span><span class='ee-v'>-0.08654997497797012</span></li><li><span class='ee-k'>band5_y:</span><span class='ee-v'>4139496.146970593</span></li><li><span class='ee-k'>band6_B1:</span><span class='ee-v'>0.11559999734163284</span></li><li><span class='ee-k'>band6_B11:</span><span class='ee-v'>0.1941000074148178</span></li><li><span class='ee-k'>band6_B12:</span><span class='ee-v'>0.14309999346733093</span></li><li><span class='ee-k'>band6_B2:</span><span class='ee-v'>0.093299999833107</span></li><li><span class='ee-k'>band6_B3:</span><span class='ee-v'>0.08349999785423279</span></li><li><span class='ee-k'>band6_B4:</span><span class='ee-v'>0.09459999948740005</span></li><li><span class='ee-k'>band6_B5:</span><span class='ee-v'>0.1023000031709671</span></li><li><span class='ee-k'>band6_B6:</span><span class='ee-v'>0.1282999962568283</span></li><li><span class='ee-k'>band6_B7:</span><span class='ee-v'>0.14319999516010284</span></li><li><span class='ee-k'>band6_B8:</span><span class='ee-v'>0.15360000729560852</span></li><li><span class='ee-k'>band6_B8A:</span><span class='ee-v'>0.16680000722408295</span></li><li><span class='ee-k'>band6_B9:</span><span class='ee-v'>0.0731000006198883</span></li><li><span class='ee-k'>band6_evi:</span><span class='ee-v'>0.14440258349516957</span></li><li><span class='ee-k'>band6_nbr:</span><span class='ee-v'>0.03538930416107178</span></li><li><span class='ee-k'>band6_ndre:</span><span class='ee-v'>0.20046895742416382</span></li><li><span class='ee-k'>band6_ndvi:</span><span class='ee-v'>0.23771154880523682</span></li><li><span class='ee-k'>band6_ndwi:</span><span class='ee-v'>-0.11647970229387283</span></li><li><span class='ee-k'>band6_y:</span><span class='ee-v'>1209921.491583597</span></li><li><span class='ee-k'>band7_B1:</span><span class='ee-v'>0.1145000010728836</span></li><li><span class='ee-k'>band7_B11:</span><span class='ee-v'>0.21119999885559082</span></li><li><span class='ee-k'>band7_B12:</span><span class='ee-v'>0.16200000047683716</span></li><li><span class='ee-k'>band7_B2:</span><span class='ee-v'>0.09220000356435776</span></li><li><span class='ee-k'>band7_B3:</span><span class='ee-v'>0.08150000125169754</span></li><li><span class='ee-k'>band7_B4:</span><span class='ee-v'>0.09880000352859497</span></li><li><span class='ee-k'>band7_B5:</span><span class='ee-v'>0.11640000343322754</span></li><li><span class='ee-k'>band7_B6:</span><span class='ee-v'>0.14380000531673431</span></li><li><span class='ee-k'>band7_B7:</span><span class='ee-v'>0.15530000627040863</span></li><li><span class='ee-k'>band7_B8:</span><span class='ee-v'>0.15080000460147858</span></li><li><span class='ee-k'>band7_B8A:</span><span class='ee-v'>0.17159999907016754</span></li><li><span class='ee-k'>band7_B9:</span><span class='ee-v'>0.09939999878406525</span></li><li><span class='ee-k'>band7_evi:</span><span class='ee-v'>0.12356239853400755</span></li><li><span class='ee-k'>band7_nbr:</span><span class='ee-v'>-0.03580561280250549</span></li><li><span class='ee-k'>band7_ndre:</span><span class='ee-v'>0.1287425309419632</span></li><li><span class='ee-k'>band7_ndvi:</span><span class='ee-v'>0.2083333283662796</span></li><li><span class='ee-k'>band7_ndwi:</span><span class='ee-v'>-0.16685082018375397</span></li><li><span class='ee-k'>band7_y:</span><span class='ee-v'>-1865587.5522278254</span></li><li><span class='ee-k'>band8_B1:</span><span class='ee-v'>0.11779999732971191</span></li><li><span class='ee-k'>band8_B11:</span><span class='ee-v'>0.2264000028371811</span></li><li><span class='ee-k'>band8_B12:</span><span class='ee-v'>0.1665000021457672</span></li><li><span class='ee-k'>band8_B2:</span><span class='ee-v'>0.09910000115633011</span></li><li><span class='ee-k'>band8_B3:</span><span class='ee-v'>0.0934000015258789</span></li><li><span class='ee-k'>band8_B4:</span><span class='ee-v'>0.11159999668598175</span></li><li><span class='ee-k'>band8_B5:</span><span class='ee-v'>0.11949999630451202</span></li><li><span class='ee-k'>band8_B6:</span><span class='ee-v'>0.15449999272823334</span></li><li><span class='ee-k'>band8_B7:</span><span class='ee-v'>0.17110000550746918</span></li><li><span class='ee-k'>band8_B8:</span><span class='ee-v'>0.17239999771118164</span></li><li><span class='ee-k'>band8_B8A:</span><span class='ee-v'>0.18880000710487366</span></li><li><span class='ee-k'>band8_B9:</span><span class='ee-v'>0.09399999678134918</span></li><li><span class='ee-k'>band8_evi:</span><span class='ee-v'>0.13833902673982343</span></li><li><span class='ee-k'>band8_nbr:</span><span class='ee-v'>0.01740925945341587</span></li><li><span class='ee-k'>band8_ndre:</span><span class='ee-v'>0.181226447224617</span></li><li><span class='ee-k'>band8_ndvi:</span><span class='ee-v'>0.21408452093601227</span></li><li><span class='ee-k'>band8_ndwi:</span><span class='ee-v'>-0.1354062259197235</span></li><li><span class='ee-k'>band8_y:</span><span class='ee-v'>-4716079.204100663</span></li><li><span class='ee-k'>band9_B1:</span><span class='ee-v'>0.10649999976158142</span></li><li><span class='ee-k'>band9_B11:</span><span class='ee-v'>0.22040000557899475</span></li><li><span class='ee-k'>band9_B12:</span><span class='ee-v'>0.1550000011920929</span></li><li><span class='ee-k'>band9_B2:</span><span class='ee-v'>0.09070000052452087</span></li><li><span class='ee-k'>band9_B3:</span><span class='ee-v'>0.09099999815225601</span></li><li><span class='ee-k'>band9_B4:</span><span class='ee-v'>0.10750000178813934</span></li><li><span class='ee-k'>band9_B5:</span><span class='ee-v'>0.12120000272989273</span></li><li><span class='ee-k'>band9_B6:</span><span class='ee-v'>0.17030000686645508</span></li><li><span class='ee-k'>band9_B7:</span><span class='ee-v'>0.18880000710487366</span></li><li><span class='ee-k'>band9_B8:</span><span class='ee-v'>0.18060000240802765</span></li><li><span class='ee-k'>band9_B8A:</span><span class='ee-v'>0.2029999941587448</span></li><li><span class='ee-k'>band9_B9:</span><span class='ee-v'>0.09650000184774399</span></li><li><span class='ee-k'>band9_evi:</span><span class='ee-v'>0.15955821316944713</span></li><li><span class='ee-k'>band9_nbr:</span><span class='ee-v'>0.07628129422664642</span></li><li><span class='ee-k'>band9_ndre:</span><span class='ee-v'>0.19681909680366516</span></li><li><span class='ee-k'>band9_ndvi:</span><span class='ee-v'>0.2537313401699066</span></li><li><span class='ee-k'>band9_ndwi:</span><span class='ee-v'>-0.09925186634063721</span></li><li><span class='ee-k'>bandaspect:</span><span class='ee-v'>96.46744537353516</span></li><li><span class='ee-k'>bandchili:</span><span class='ee-v'>210</span></li><li><span class='ee-k'>bandelevation:</span><span class='ee-v'>1468</span></li><li><span class='ee-k'>bandslope:</span><span class='ee-v'>8.178217887878418</span></li><li><span class='ee-k'>bandtpi:</span><span class='ee-v'>-4</span></li><li><span class='ee-k'>cluster:</span><span class='ee-v'>5</span></li><li><span class='ee-k'>code:</span><span class='ee-v'>1</span></li><li><span class='ee-k'>layer:</span><span class='ee-v'>Bracken</span></li><li><span class='ee-k'>path:</span><span class='ee-v'>C:/Users/moilw/OneDrive/Documents/Vegetation Density Classes/Bracken/Bracken.shp</span></li><li><span class='ee-k'>x:</span><span class='ee-v'>6997742.1854682425</span></li><li><span class='ee-k'>y:</span><span class='ee-v'>5437254.116510861</span></li></ul></li></ul></li><li><label class='ee-shut'>1: Feature (Point, 242 properties)<input type='checkbox' class='ee-toggle'></label><ul><li><span class='ee-k'>type:</span><span class='ee-v'>Feature</span></li><li><span class='ee-k'>id:</span><span class='ee-v'>0000000000000000073d</span></li><li><label class='ee-shut'>geometry: Point (30.81, -24.92)<input type='checkbox' class='ee-toggle'></label><ul><li><span class='ee-k'>type:</span><span class='ee-v'>Point</span></li><li><label class='ee-shut'>coordinates: [30.81436618465633, -24.92173907635443]<input type='checkbox' class='ee-toggle'></label><ul><li><span class='ee-k'>0:</span><span class='ee-v'>30.81436618465633</span></li><li><span class='ee-k'>1:</span><span class='ee-v'>-24.92173907635443</span></li></ul></li></ul></li><li><label class='ee-shut'>properties: Object (242 properties)<input type='checkbox' class='ee-toggle'></label><ul><li><span class='ee-k'>id:</span><span class='ee-v'>2</span></li><li><span class='ee-k'>band0_B1:</span><span class='ee-v'>0.10159999877214432</span></li><li><span class='ee-k'>band0_B11:</span><span class='ee-v'>0.17890000343322754</span></li><li><span class='ee-k'>band0_B12:</span><span class='ee-v'>0.09610000252723694</span></li><li><span class='ee-k'>band0_B2:</span><span class='ee-v'>0.07819999754428864</span></li><li><span class='ee-k'>band0_B3:</span><span class='ee-v'>0.08489999920129776</span></li><li><span class='ee-k'>band0_B4:</span><span class='ee-v'>0.05900000035762787</span></li><li><span class='ee-k'>band0_B5:</span><span class='ee-v'>0.10379999876022339</span></li><li><span class='ee-k'>band0_B6:</span><span class='ee-v'>0.2547000050544739</span></li><li><span class='ee-k'>band0_B7:</span><span class='ee-v'>0.2946000099182129</span></li><li><span class='ee-k'>band0_B8:</span><span class='ee-v'>0.31779998540878296</span></li><li><span class='ee-k'>band0_B8A:</span><span class='ee-v'>0.3172999918460846</span></li><li><span class='ee-k'>band0_B9:</span><span class='ee-v'>0.15209999680519104</span></li><li><span class='ee-k'>band0_evi:</span><span class='ee-v'>0.5961485027616549</span></li><li><span class='ee-k'>band0_nbr:</span><span class='ee-v'>0.5356366038322449</span></li><li><span class='ee-k'>band0_ndre:</span><span class='ee-v'>0.507590115070343</span></li><li><span class='ee-k'>band0_ndvi:</span><span class='ee-v'>0.6868364810943604</span></li><li><span class='ee-k'>band0_ndwi:</span><span class='ee-v'>0.2796456515789032</span></li><li><span class='ee-k'>band0_y:</span><span class='ee-v'>6997764.676765021</span></li><li><span class='ee-k'>band10_B1:</span><span class='ee-v'>0.10379999876022339</span></li><li><span class='ee-k'>band10_B11:</span><span class='ee-v'>0.20250000059604645</span></li><li><span class='ee-k'>band10_B12:</span><span class='ee-v'>0.13169999420642853</span></li><li><span class='ee-k'>band10_B2:</span><span class='ee-v'>0.08540000021457672</span></li><li><span class='ee-k'>band10_B3:</span><span class='ee-v'>0.08460000157356262</span></li><li><span class='ee-k'>band10_B4:</span><span class='ee-v'>0.07519999891519547</span></li><li><span class='ee-k'>band10_B5:</span><span class='ee-v'>0.09679999947547913</span></li><li><span class='ee-k'>band10_B6:</span><span class='ee-v'>0.17890000343322754</span></li><li><span class='ee-k'>band10_B7:</span><span class='ee-v'>0.19850000739097595</span></li><li><span class='ee-k'>band10_B8:</span><span class='ee-v'>0.22519999742507935</span></li><li><span class='ee-k'>band10_B8A:</span><span class='ee-v'>0.218299999833107</span></li><li><span class='ee-k'>band10_B9:</span><span class='ee-v'>0.10639999806880951</span></li><li><span class='ee-k'>band10_evi:</span><span class='ee-v'>0.36200405402361546</span></li><li><span class='ee-k'>band10_nbr:</span><span class='ee-v'>0.2619781494140625</span></li><li><span class='ee-k'>band10_ndre:</span><span class='ee-v'>0.3987577557563782</span></li><li><span class='ee-k'>band10_ndvi:</span><span class='ee-v'>0.4993342161178589</span></li><li><span class='ee-k'>band10_ndwi:</span><span class='ee-v'>0.05307457968592644</span></li><li><span class='ee-k'>band11_B1:</span><span class='ee-v'>0.1136000007390976</span></li><li><span class='ee-k'>band11_B11:</span><span class='ee-v'>0.18559999763965607</span></li><li><span class='ee-k'>band11_B12:</span><span class='ee-v'>0.0934000015258789</span></li><li><span class='ee-k'>band11_B2:</span><span class='ee-v'>0.08959999680519104</span></li><li><span class='ee-k'>band11_B3:</span><span class='ee-v'>0.08829999715089798</span></li><li><span class='ee-k'>band11_B4:</span><span class='ee-v'>0.06340000033378601</span></li><li><span class='ee-k'>band11_B5:</span><span class='ee-v'>0.09600000083446503</span></li><li><span class='ee-k'>band11_B6:</span><span class='ee-v'>0.2281000018119812</span></li><li><span class='ee-k'>band11_B7:</span><span class='ee-v'>0.26019999384880066</span></li><li><span class='ee-k'>band11_B8:</span><span class='ee-v'>0.2939999997615814</span></li><li><span class='ee-k'>band11_B8A:</span><span class='ee-v'>0.29499998688697815</span></li><li><span class='ee-k'>band11_B9:</span><span class='ee-v'>0.062300000339746475</span></li><li><span class='ee-k'>band11_evi:</span><span class='ee-v'>0.5751197102502058</span></li><li><span class='ee-k'>band11_nbr:</span><span class='ee-v'>0.5178110599517822</span></li><li><span class='ee-k'>band11_ndre:</span><span class='ee-v'>0.5076923370361328</span></li><li><span class='ee-k'>band11_ndvi:</span><span class='ee-v'>0.6452154517173767</span></li><li><span class='ee-k'>band11_ndwi:</span><span class='ee-v'>0.2260216772556305</span></li><li><span class='ee-k'>band12_B1:</span><span class='ee-v'>0.1136000007390976</span></li><li><span class='ee-k'>band12_B11:</span><span class='ee-v'>0.18559999763965607</span></li><li><span class='ee-k'>band12_B12:</span><span class='ee-v'>0.0934000015258789</span></li><li><span class='ee-k'>band12_B2:</span><span class='ee-v'>0.08959999680519104</span></li><li><span class='ee-k'>band12_B3:</span><span class='ee-v'>0.08829999715089798</span></li><li><span class='ee-k'>band12_B4:</span><span class='ee-v'>0.06340000033378601</span></li><li><span class='ee-k'>band12_B5:</span><span class='ee-v'>0.09600000083446503</span></li><li><span class='ee-k'>band12_B6:</span><span class='ee-v'>0.2281000018119812</span></li><li><span class='ee-k'>band12_B7:</span><span class='ee-v'>0.26019999384880066</span></li><li><span class='ee-k'>band12_B8:</span><span class='ee-v'>0.2939999997615814</span></li><li><span class='ee-k'>band12_B8A:</span><span class='ee-v'>0.29499998688697815</span></li><li><span class='ee-k'>band12_B9:</span><span class='ee-v'>0.062300000339746475</span></li><li><span class='ee-k'>band12_evi:</span><span class='ee-v'>0.5751197102502058</span></li><li><span class='ee-k'>band12_nbr:</span><span class='ee-v'>0.5178110599517822</span></li><li><span class='ee-k'>band12_ndre:</span><span class='ee-v'>0.5076923370361328</span></li><li><span class='ee-k'>band12_ndvi:</span><span class='ee-v'>0.6452154517173767</span></li><li><span class='ee-k'>band12_ndwi:</span><span class='ee-v'>0.2260216772556305</span></li><li><span class='ee-k'>band1_B1:</span><span class='ee-v'>0.10159999877214432</span></li><li><span class='ee-k'>band1_B11:</span><span class='ee-v'>0.17890000343322754</span></li><li><span class='ee-k'>band1_B12:</span><span class='ee-v'>0.09610000252723694</span></li><li><span class='ee-k'>band1_B2:</span><span class='ee-v'>0.07819999754428864</span></li><li><span class='ee-k'>band1_B3:</span><span class='ee-v'>0.08489999920129776</span></li><li><span class='ee-k'>band1_B4:</span><span class='ee-v'>0.05900000035762787</span></li><li><span class='ee-k'>band1_B5:</span><span class='ee-v'>0.10379999876022339</span></li><li><span class='ee-k'>band1_B6:</span><span class='ee-v'>0.2547000050544739</span></li><li><span class='ee-k'>band1_B7:</span><span class='ee-v'>0.2946000099182129</span></li><li><span class='ee-k'>band1_B8:</span><span class='ee-v'>0.31779998540878296</span></li><li><span class='ee-k'>band1_B8A:</span><span class='ee-v'>0.3172999918460846</span></li><li><span class='ee-k'>band1_B9:</span><span class='ee-v'>0.15209999680519104</span></li><li><span class='ee-k'>band1_evi:</span><span class='ee-v'>0.5961485027616549</span></li><li><span class='ee-k'>band1_nbr:</span><span class='ee-v'>0.5356366038322449</span></li><li><span class='ee-k'>band1_ndre:</span><span class='ee-v'>0.507590115070343</span></li><li><span class='ee-k'>band1_ndvi:</span><span class='ee-v'>0.6868364810943604</span></li><li><span class='ee-k'>band1_ndwi:</span><span class='ee-v'>0.2796456515789032</span></li><li><span class='ee-k'>band1_y:</span><span class='ee-v'>8435415.805381013</span></li><li><span class='ee-k'>band2_B1:</span><span class='ee-v'>0.10890000313520432</span></li><li><span class='ee-k'>band2_B11:</span><span class='ee-v'>0.147599995136261</span></li><li><span class='ee-k'>band2_B12:</span><span class='ee-v'>0.0843999981880188</span></li><li><span class='ee-k'>band2_B2:</span><span class='ee-v'>0.08959999680519104</span></li><li><span class='ee-k'>band2_B3:</span><span class='ee-v'>0.07999999821186066</span></li><li><span class='ee-k'>band2_B4:</span><span class='ee-v'>0.07280000299215317</span></li><li><span class='ee-k'>band2_B5:</span><span class='ee-v'>0.09459999948740005</span></li><li><span class='ee-k'>band2_B6:</span><span class='ee-v'>0.14650000631809235</span></li><li><span class='ee-k'>band2_B7:</span><span class='ee-v'>0.17800000309944153</span></li><li><span class='ee-k'>band2_B8:</span><span class='ee-v'>0.2167000025510788</span></li><li><span class='ee-k'>band2_B8A:</span><span class='ee-v'>0.20069999992847443</span></li><li><span class='ee-k'>band2_B9:</span><span class='ee-v'>0.10980000346899033</span></li><li><span class='ee-k'>band2_evi:</span><span class='ee-v'>0.3754239407248865</span></li><li><span class='ee-k'>band2_nbr:</span><span class='ee-v'>0.5012123584747314</span></li><li><span class='ee-k'>band2_ndre:</span><span class='ee-v'>0.40440699458122253</span></li><li><span class='ee-k'>band2_ndvi:</span><span class='ee-v'>0.49706390500068665</span></li><li><span class='ee-k'>band2_ndwi:</span><span class='ee-v'>0.2305508255958557</span></li><li><span class='ee-k'>band2_y:</span><span class='ee-v'>8855631.294389695</span></li><li><span class='ee-k'>band3_B1:</span><span class='ee-v'>0.11079999804496765</span></li><li><span class='ee-k'>band3_B11:</span><span class='ee-v'>0.1415500044822693</span></li><li><span class='ee-k'>band3_B12:</span><span class='ee-v'>0.0848499983549118</span></li><li><span class='ee-k'>band3_B2:</span><span class='ee-v'>0.08949999511241913</span></li><li><span class='ee-k'>band3_B3:</span><span class='ee-v'>0.07844999432563782</span></li><li><span class='ee-k'>band3_B4:</span><span class='ee-v'>0.07205000519752502</span></li><li><span class='ee-k'>band3_B5:</span><span class='ee-v'>0.09324999898672104</span></li><li><span class='ee-k'>band3_B6:</span><span class='ee-v'>0.1416500061750412</span></li><li><span class='ee-k'>band3_B7:</span><span class='ee-v'>0.16899999976158142</span></li><li><span class='ee-k'>band3_B8:</span><span class='ee-v'>0.21105000376701355</span></li><li><span class='ee-k'>band3_B8A:</span><span class='ee-v'>0.19110000133514404</span></li><li><span class='ee-k'>band3_B9:</span><span class='ee-v'>0.10700000077486038</span></li><li><span class='ee-k'>band3_evi:</span><span class='ee-v'>0.3458610074176671</span></li><li><span class='ee-k'>band3_nbr:</span><span class='ee-v'>0.45937085151672363</span></li><li><span class='ee-k'>band3_ndre:</span><span class='ee-v'>0.3868701756000519</span></li><li><span class='ee-k'>band3_ndvi:</span><span class='ee-v'>0.4722810685634613</span></li><li><span class='ee-k'>band3_ndwi:</span><span class='ee-v'>0.19714510440826416</span></li><li><span class='ee-k'>band3_y:</span><span class='ee-v'>8207726.954096505</span></li><li><span class='ee-k'>band4_B1:</span><span class='ee-v'>0.11330000311136246</span></li><li><span class='ee-k'>band4_B11:</span><span class='ee-v'>0.1354999989271164</span></li><li><span class='ee-k'>band4_B12:</span><span class='ee-v'>0.07199999690055847</span></li><li><span class='ee-k'>band4_B2:</span><span class='ee-v'>0.09269999712705612</span></li><li><span class='ee-k'>band4_B3:</span><span class='ee-v'>0.07999999821186066</span></li><li><span class='ee-k'>band4_B4:</span><span class='ee-v'>0.07280000299215317</span></li><li><span class='ee-k'>band4_B5:</span><span class='ee-v'>0.09189999848604202</span></li><li><span class='ee-k'>band4_B6:</span><span class='ee-v'>0.14650000631809235</span></li><li><span class='ee-k'>band4_B7:</span><span class='ee-v'>0.17800000309944153</span></li><li><span class='ee-k'>band4_B8:</span><span class='ee-v'>0.2167000025510788</span></li><li><span class='ee-k'>band4_B8A:</span><span class='ee-v'>0.20069999992847443</span></li><li><span class='ee-k'>band4_B9:</span><span class='ee-v'>0.10419999808073044</span></li><li><span class='ee-k'>band4_evi:</span><span class='ee-v'>0.3754239407248865</span></li><li><span class='ee-k'>band4_nbr:</span><span class='ee-v'>0.5012123584747314</span></li><li><span class='ee-k'>band4_ndre:</span><span class='ee-v'>0.40440699458122253</span></li><li><span class='ee-k'>band4_ndvi:</span><span class='ee-v'>0.49706390500068665</span></li><li><span class='ee-k'>band4_ndwi:</span><span class='ee-v'>0.2305508255958557</span></li><li><span class='ee-k'>band4_y:</span><span class='ee-v'>6569849.609990476</span></li><li><span class='ee-k'>band5_B1:</span><span class='ee-v'>0.10890000313520432</span></li><li><span class='ee-k'>band5_B11:</span><span class='ee-v'>0.147599995136261</span></li><li><span class='ee-k'>band5_B12:</span><span class='ee-v'>0.0843999981880188</span></li><li><span class='ee-k'>band5_B2:</span><span class='ee-v'>0.08959999680519104</span></li><li><span class='ee-k'>band5_B3:</span><span class='ee-v'>0.07689999788999557</span></li><li><span class='ee-k'>band5_B4:</span><span class='ee-v'>0.07840000092983246</span></li><li><span class='ee-k'>band5_B5:</span><span class='ee-v'>0.09459999948740005</span></li><li><span class='ee-k'>band5_B6:</span><span class='ee-v'>0.13680000603199005</span></li><li><span class='ee-k'>band5_B7:</span><span class='ee-v'>0.1599999964237213</span></li><li><span class='ee-k'>band5_B8:</span><span class='ee-v'>0.2054000049829483</span></li><li><span class='ee-k'>band5_B8A:</span><span class='ee-v'>0.18150000274181366</span></li><li><span class='ee-k'>band5_B9:</span><span class='ee-v'>0.10980000346899033</span></li><li><span class='ee-k'>band5_evi:</span><span class='ee-v'>0.3162980741104477</span></li><li><span class='ee-k'>band5_nbr:</span><span class='ee-v'>0.4175293445587158</span></li><li><span class='ee-k'>band5_ndre:</span><span class='ee-v'>0.3693333566188812</span></li><li><span class='ee-k'>band5_ndvi:</span><span class='ee-v'>0.44749823212623596</span></li><li><span class='ee-k'>band5_ndwi:</span><span class='ee-v'>0.1637393832206726</span></li><li><span class='ee-k'>band5_y:</span><span class='ee-v'>4139551.442265953</span></li><li><span class='ee-k'>band6_B1:</span><span class='ee-v'>0.11270000040531158</span></li><li><span class='ee-k'>band6_B11:</span><span class='ee-v'>0.12300000339746475</span></li><li><span class='ee-k'>band6_B12:</span><span class='ee-v'>0.08529999852180481</span></li><li><span class='ee-k'>band6_B2:</span><span class='ee-v'>0.08940000087022781</span></li><li><span class='ee-k'>band6_B3:</span><span class='ee-v'>0.07199999690055847</span></li><li><span class='ee-k'>band6_B4:</span><span class='ee-v'>0.07129999995231628</span></li><li><span class='ee-k'>band6_B5:</span><span class='ee-v'>0.07609999924898148</span></li><li><span class='ee-k'>band6_B6:</span><span class='ee-v'>0.10360000282526016</span></li><li><span class='ee-k'>band6_B7:</span><span class='ee-v'>0.11580000072717667</span></li><li><span class='ee-k'>band6_B8:</span><span class='ee-v'>0.14740000665187836</span></li><li><span class='ee-k'>band6_B8A:</span><span class='ee-v'>0.12530000507831573</span></li><li><span class='ee-k'>band6_B9:</span><span class='ee-v'>0.07000000029802322</span></li><li><span class='ee-k'>band6_evi:</span><span class='ee-v'>0.2102907211343446</span></li><li><span class='ee-k'>band6_nbr:</span><span class='ee-v'>0.2668672204017639</span></li><li><span class='ee-k'>band6_ndre:</span><span class='ee-v'>0.3190156817436218</span></li><li><span class='ee-k'>band6_ndvi:</span><span class='ee-v'>0.347965270280838</span></li><li><span class='ee-k'>band6_ndwi:</span><span class='ee-v'>0.09023670852184296</span></li><li><span class='ee-k'>band6_y:</span><span class='ee-v'>1209962.2773314856</span></li><li><span class='ee-k'>band7_B1:</span><span class='ee-v'>0.10180000215768814</span></li><li><span class='ee-k'>band7_B11:</span><span class='ee-v'>0.13850000500679016</span></li><li><span class='ee-k'>band7_B12:</span><span class='ee-v'>0.09120000153779984</span></li><li><span class='ee-k'>band7_B2:</span><span class='ee-v'>0.08129999786615372</span></li><li><span class='ee-k'>band7_B3:</span><span class='ee-v'>0.06970000267028809</span></li><li><span class='ee-k'>band7_B4:</span><span class='ee-v'>0.07090000063180923</span></li><li><span class='ee-k'>band7_B5:</span><span class='ee-v'>0.0714000016450882</span></li><li><span class='ee-k'>band7_B6:</span><span class='ee-v'>0.10350000113248825</span></li><li><span class='ee-k'>band7_B7:</span><span class='ee-v'>0.11259999871253967</span></li><li><span class='ee-k'>band7_B8:</span><span class='ee-v'>0.1363999992609024</span></li><li><span class='ee-k'>band7_B8A:</span><span class='ee-v'>0.13510000705718994</span></li><li><span class='ee-k'>band7_B9:</span><span class='ee-v'>0.08720000088214874</span></li><li><span class='ee-k'>band7_evi:</span><span class='ee-v'>0.17199726489978356</span></li><li><span class='ee-k'>band7_nbr:</span><span class='ee-v'>0.19859401881694794</span></li><li><span class='ee-k'>band7_ndre:</span><span class='ee-v'>0.3128007650375366</span></li><li><span class='ee-k'>band7_ndvi:</span><span class='ee-v'>0.3159672021865845</span></li><li><span class='ee-k'>band7_ndwi:</span><span class='ee-v'>-0.007639144081622362</span></li><li><span class='ee-k'>band7_y:</span><span class='ee-v'>-1865566.195390535</span></li><li><span class='ee-k'>band8_B1:</span><span class='ee-v'>0.11990000307559967</span></li><li><span class='ee-k'>band8_B11:</span><span class='ee-v'>0.1639000028371811</span></li><li><span class='ee-k'>band8_B12:</span><span class='ee-v'>0.11569999903440475</span></li><li><span class='ee-k'>band8_B2:</span><span class='ee-v'>0.09730000048875809</span></li><li><span class='ee-k'>band8_B3:</span><span class='ee-v'>0.08550000190734863</span></li><li><span class='ee-k'>band8_B4:</span><span class='ee-v'>0.08250000327825546</span></li><li><span class='ee-k'>band8_B5:</span><span class='ee-v'>0.08980000019073486</span></li><li><span class='ee-k'>band8_B6:</span><span class='ee-v'>0.125</span></li><li><span class='ee-k'>band8_B7:</span><span class='ee-v'>0.14169999957084656</span></li><li><span class='ee-k'>band8_B8:</span><span class='ee-v'>0.16179999709129333</span></li><li><span class='ee-k'>band8_B8A:</span><span class='ee-v'>0.156700000166893</span></li><li><span class='ee-k'>band8_B9:</span><span class='ee-v'>0.07370000332593918</span></li><li><span class='ee-k'>band8_evi:</span><span class='ee-v'>0.21385036508094052</span></li><li><span class='ee-k'>band8_nbr:</span><span class='ee-v'>0.16612611711025238</span></li><li><span class='ee-k'>band8_ndre:</span><span class='ee-v'>0.28616851568222046</span></li><li><span class='ee-k'>band8_ndvi:</span><span class='ee-v'>0.32460087537765503</span></li><li><span class='ee-k'>band8_ndwi:</span><span class='ee-v'>-0.006447660271078348</span></li><li><span class='ee-k'>band8_y:</span><span class='ee-v'>-4716079.852123741</span></li><li><span class='ee-k'>band9_B1:</span><span class='ee-v'>0.10740000009536743</span></li><li><span class='ee-k'>band9_B11:</span><span class='ee-v'>0.19930000603199005</span></li><li><span class='ee-k'>band9_B12:</span><span class='ee-v'>0.13750000298023224</span></li><li><span class='ee-k'>band9_B2:</span><span class='ee-v'>0.08919999748468399</span></li><li><span class='ee-k'>band9_B3:</span><span class='ee-v'>0.08340000361204147</span></li><li><span class='ee-k'>band9_B4:</span><span class='ee-v'>0.07750000059604645</span></li><li><span class='ee-k'>band9_B5:</span><span class='ee-v'>0.0982000008225441</span></li><li><span class='ee-k'>band9_B6:</span><span class='ee-v'>0.16429999470710754</span></li><li><span class='ee-k'>band9_B7:</span><span class='ee-v'>0.18649999797344208</span></li><li><span class='ee-k'>band9_B8:</span><span class='ee-v'>0.2143000066280365</span></li><li><span class='ee-k'>band9_B8A:</span><span class='ee-v'>0.2037000060081482</span></li><li><span class='ee-k'>band9_B9:</span><span class='ee-v'>0.09239999949932098</span></li><li><span class='ee-k'>band9_evi:</span><span class='ee-v'>0.3385133243845179</span></li><li><span class='ee-k'>band9_nbr:</span><span class='ee-v'>0.21830587089061737</span></li><li><span class='ee-k'>band9_ndre:</span><span class='ee-v'>0.3715200126171112</span></li><li><span class='ee-k'>band9_ndvi:</span><span class='ee-v'>0.46881425380706787</span></li><li><span class='ee-k'>band9_ndwi:</span><span class='ee-v'>0.03626694157719612</span></li><li><span class='ee-k'>bandaspect:</span><span class='ee-v'>129.73712158203125</span></li><li><span class='ee-k'>bandchili:</span><span class='ee-v'>210</span></li><li><span class='ee-k'>bandelevation:</span><span class='ee-v'>1476</span></li><li><span class='ee-k'>bandslope:</span><span class='ee-v'>15.565003395080566</span></li><li><span class='ee-k'>bandtpi:</span><span class='ee-v'>-4</span></li><li><span class='ee-k'>cluster:</span><span class='ee-v'>5</span></li><li><span class='ee-k'>code:</span><span class='ee-v'>1</span></li><li><span class='ee-k'>layer:</span><span class='ee-v'>Bracken</span></li><li><span class='ee-k'>path:</span><span class='ee-v'>C:/Users/moilw/OneDrive/Documents/Vegetation Density Classes/Bracken/Bracken.shp</span></li><li><span class='ee-k'>x:</span><span class='ee-v'>6997769.934573654</span></li><li><span class='ee-k'>y:</span><span class='ee-v'>5437301.4155916935</span></li></ul></li></ul></li></ul></li></ul></li></ul></div><script>function toggleHeader() {\n",
              "    const parent = this.parentElement;\n",
              "    parent.className = parent.className === \"ee-open\" ? \"ee-shut\" : \"ee-open\";\n",
              "}\n",
              "\n",
              "for (let c of document.getElementsByClassName(\"ee-toggle\")) {\n",
              "    c.onclick = toggleHeader;\n",
              "}</script></div>"
            ],
            "text/plain": [
              "<ee.featurecollection.FeatureCollection at 0x7f0e8a2d3820>"
            ]
          },
          "execution_count": 14,
          "metadata": {},
          "output_type": "execute_result"
        }
      ],
      "source": [
        "# Import reference points\n",
        "points = ee.FeatureCollection(\"users/moilwekk/merged_classes\")\n",
        "\n",
        "# name of the label property\n",
        "label = 'code'\n",
        "\n",
        "# number of folds for kfold\n",
        "FOLDS = 10       \n",
        "\n",
        "# Extract covariate image values to points\n",
        "pTrainData = prepareTrainingData(covariates = X, points = points, targetProperty = label, nFolds = FOLDS, proj =  'EPSG:32726')\n",
        "train = pTrainData.covariatesToPoints()\n",
        "train.limit(2)"
      ]
    },
    {
      "cell_type": "markdown",
      "id": "71e32661-a828-491e-8891-288ad8ecc4b1",
      "metadata": {
        "id": "71e32661-a828-491e-8891-288ad8ecc4b1"
      },
      "source": [
        "## Step 4: Export data (Optional)\n",
        "\n",
        "### Export training data and image to run inference on"
      ]
    },
    {
      "cell_type": "code",
      "execution_count": null,
      "id": "501d3059-2a27-4553-87da-bfb766950339",
      "metadata": {
        "id": "501d3059-2a27-4553-87da-bfb766950339"
      },
      "outputs": [],
      "source": [
        "# export training data and image to classify\n",
        "# Define the export parameters\n",
        "export_params1 = {\n",
        "    'collection': train,\n",
        "    'description': 'export_trainData',\n",
        "    'assetId': 'users/geethensingh/trainData'\n",
        "}\n",
        "\n",
        "export_params2 = {\n",
        "    'image': X,\n",
        "    'description': 'export_inferenceImage',\n",
        "    'assetId': 'users/geethensingh/inferenceImage',\n",
        "    'scale': 10,\n",
        "    'region': study_area1\n",
        "}\n",
        "\n",
        "# Export the data to the Earth Engine asset\n",
        "ee.batch.Export.table.toAsset(**export_params1).start()\n",
        "ee.batch.Export.image.toAsset(**export_params2).start()"
      ]
    },
    {
      "cell_type": "markdown",
      "id": "88939264-a138-43f7-b197-7e5aafab9be7",
      "metadata": {
        "id": "88939264-a138-43f7-b197-7e5aafab9be7"
      },
      "source": [
        "## Step 5: Fit model\n",
        "\n",
        "### Fit a random forest model using Kfold cross validation. Each fold is one spatial cluster (clustering on x and y coordinates)"
      ]
    },
    {
      "cell_type": "code",
      "execution_count": null,
      "id": "f5b854c2-30dc-4caf-80b1-4bb54e60e734",
      "metadata": {
        "id": "f5b854c2-30dc-4caf-80b1-4bb54e60e734"
      },
      "outputs": [],
      "source": [
        "# load DATA (if exported earlier)\n",
        "# train = ee.FeatureCollection('users/geethensingh/trainData')\n",
        "# X = ee.Image('users/geethensingh/inferenceImage')\n",
        "\n",
        "bandnames = X.bandNames()\n",
        "# number of classes\n",
        "NCLASS = train.aggregate_histogram(label).size()"
      ]
    },
    {
      "cell_type": "code",
      "execution_count": null,
      "id": "35e01f19-7b18-44e8-a91f-21a5c142e3f9",
      "metadata": {
        "colab": {
          "base_uri": "https://localhost:8080/",
          "height": 68
        },
        "id": "35e01f19-7b18-44e8-a91f-21a5c142e3f9",
        "outputId": "5593f8be-9a8c-46f5-caaa-a767ac60c937"
      },
      "outputs": [
        {
          "data": {
            "text/html": [
              "<div><style>:root {\n",
              "  --font-color-primary: var(--jp-content-font-color0, rgba(0, 0, 0, 1));\n",
              "  --font-color-secondary: var(--jp-content-font-color2, rgba(0, 0, 0, 0.6));\n",
              "  --font-color-accent: rgba(123, 31, 162, 1);\n",
              "  --border-color: var(--jp-border-color2, #e0e0e0);\n",
              "  --background-color: var(--jp-layout-color0, white);\n",
              "  --background-color-row-even: var(--jp-layout-color1, white);\n",
              "  --background-color-row-odd: var(--jp-layout-color2, #eeeeee);\n",
              "}\n",
              "\n",
              "html[theme=\"dark\"],\n",
              "body[data-theme=\"dark\"],\n",
              "body.vscode-dark {\n",
              "  --font-color-primary: rgba(255, 255, 255, 1);\n",
              "  --font-color-secondary: rgba(255, 255, 255, 0.6);\n",
              "  --font-color-accent: rgb(173, 132, 190);\n",
              "  --border-color: #2e2e2e;\n",
              "  --background-color: #111111;\n",
              "  --background-color-row-even: #111111;\n",
              "  --background-color-row-odd: #313131;\n",
              "}\n",
              "\n",
              ".ee {\n",
              "  padding: 1em;\n",
              "  line-height: 1.5em;\n",
              "  min-width: 300px;\n",
              "  max-width: 1200px;\n",
              "  overflow-y: scroll;\n",
              "  max-height: 600px;\n",
              "  border: 1px solid var(--border-color);\n",
              "  font-family: monospace;\n",
              "}\n",
              "\n",
              ".ee li {\n",
              "  list-style-type: none;\n",
              "}\n",
              "\n",
              ".ee ul {\n",
              "  padding-left: 1.5em !important;\n",
              "  margin: 0;\n",
              "}\n",
              "\n",
              ".ee > ul {\n",
              "  padding-left: 0 !important;\n",
              "}\n",
              "\n",
              ".ee-open,\n",
              ".ee-shut {\n",
              "  color: var(--font-color-secondary);\n",
              "  cursor: pointer;\n",
              "  margin: 0;\n",
              "}\n",
              "\n",
              ".ee-open:hover,\n",
              ".ee-shut:hover {\n",
              "  color: var(--font-color-primary);\n",
              "}\n",
              "\n",
              ".ee-k {\n",
              "  color: var(--font-color-accent);\n",
              "  margin-right: 6px;\n",
              "}\n",
              "\n",
              ".ee-v {\n",
              "  color: var(--font-color-primary);\n",
              "}\n",
              "\n",
              ".ee-toggle {\n",
              "  display: none;\n",
              "}\n",
              "\n",
              ".ee-shut + ul {\n",
              "  display: none;\n",
              "}\n",
              "\n",
              ".ee-open + ul {\n",
              "  display: block;\n",
              "}\n",
              "\n",
              ".ee-shut::before {\n",
              "  display: inline-block;\n",
              "  content: \"▼\";\n",
              "  margin-right: 6px;\n",
              "  transform: rotate(-90deg);\n",
              "  transition: transform 0.2s;\n",
              "}\n",
              "\n",
              ".ee-open::before {\n",
              "  transform: rotate(0deg);\n",
              "  display: inline-block;\n",
              "  content: \"▼\";\n",
              "  margin-right: 6px;\n",
              "  transition: transform 0.2s;\n",
              "}\n",
              "</style><div class='ee'><ul><li><label class='ee-shut'>ImageCollection (10 elements)<input type='checkbox' class='ee-toggle'></label><ul><li><span class='ee-k'>type:</span><span class='ee-v'>ImageCollection</span></li><li><label class='ee-shut'>bands: []<input type='checkbox' class='ee-toggle'></label><ul></ul></li><li><label class='ee-shut'>features: List (10 elements)<input type='checkbox' class='ee-toggle'></label><ul><li><label class='ee-shut'>0: Image (1 band)<input type='checkbox' class='ee-toggle'></label><ul><li><span class='ee-k'>type:</span><span class='ee-v'>Image</span></li><li><label class='ee-shut'>bands: List (1 element)<input type='checkbox' class='ee-toggle'></label><ul><li><label class='ee-shut'>0: \"classification\", signed int32, EPSG:4326, 362x118 px<input type='checkbox' class='ee-toggle'></label><ul><li><span class='ee-k'>id:</span><span class='ee-v'>classification</span></li><li><span class='ee-k'>crs:</span><span class='ee-v'>EPSG:4326</span></li><li><label class='ee-shut'>crs_transform: [1, 0, 0, 0, 1, 0]<input type='checkbox' class='ee-toggle'></label><ul><li><span class='ee-k'>0:</span><span class='ee-v'>1</span></li><li><span class='ee-k'>1:</span><span class='ee-v'>0</span></li><li><span class='ee-k'>2:</span><span class='ee-v'>0</span></li><li><span class='ee-k'>3:</span><span class='ee-v'>0</span></li><li><span class='ee-k'>4:</span><span class='ee-v'>1</span></li><li><span class='ee-k'>5:</span><span class='ee-v'>0</span></li></ul></li><li><label class='ee-shut'>data_type: signed int32<input type='checkbox' class='ee-toggle'></label><ul><li><span class='ee-k'>type:</span><span class='ee-v'>PixelType</span></li><li><span class='ee-k'>max:</span><span class='ee-v'>2147483647</span></li><li><span class='ee-k'>min:</span><span class='ee-v'>-2147483648</span></li><li><span class='ee-k'>precision:</span><span class='ee-v'>int</span></li></ul></li><li><label class='ee-shut'>dimensions: [362, 118]<input type='checkbox' class='ee-toggle'></label><ul><li><span class='ee-k'>0:</span><span class='ee-v'>362</span></li><li><span class='ee-k'>1:</span><span class='ee-v'>118</span></li></ul></li><li><label class='ee-shut'>origin: [-181, -57]<input type='checkbox' class='ee-toggle'></label><ul><li><span class='ee-k'>0:</span><span class='ee-v'>-181</span></li><li><span class='ee-k'>1:</span><span class='ee-v'>-57</span></li></ul></li></ul></li></ul></li><li><label class='ee-shut'>properties: Object (4 properties)<input type='checkbox' class='ee-toggle'></label><ul><li><span class='ee-k'>acc:</span><span class='ee-v'>1</span></li><li><span class='ee-k'>num:</span><span class='ee-v'>363</span></li><li><label class='ee-shut'>raw: List (9 elements)<input type='checkbox' class='ee-toggle'></label><ul><li><label class='ee-shut'>0: [24, 0, 0, 0, 0, 0, 0, 0, 0]<input type='checkbox' class='ee-toggle'></label><ul><li><span class='ee-k'>0:</span><span class='ee-v'>24</span></li><li><span class='ee-k'>1:</span><span class='ee-v'>0</span></li><li><span class='ee-k'>2:</span><span class='ee-v'>0</span></li><li><span class='ee-k'>3:</span><span class='ee-v'>0</span></li><li><span class='ee-k'>4:</span><span class='ee-v'>0</span></li><li><span class='ee-k'>5:</span><span class='ee-v'>0</span></li><li><span class='ee-k'>6:</span><span class='ee-v'>0</span></li><li><span class='ee-k'>7:</span><span class='ee-v'>0</span></li><li><span class='ee-k'>8:</span><span class='ee-v'>0</span></li></ul></li><li><label class='ee-shut'>1: [0, 201, 0, 0, 0, 0, 0, 0, 0]<input type='checkbox' class='ee-toggle'></label><ul><li><span class='ee-k'>0:</span><span class='ee-v'>0</span></li><li><span class='ee-k'>1:</span><span class='ee-v'>201</span></li><li><span class='ee-k'>2:</span><span class='ee-v'>0</span></li><li><span class='ee-k'>3:</span><span class='ee-v'>0</span></li><li><span class='ee-k'>4:</span><span class='ee-v'>0</span></li><li><span class='ee-k'>5:</span><span class='ee-v'>0</span></li><li><span class='ee-k'>6:</span><span class='ee-v'>0</span></li><li><span class='ee-k'>7:</span><span class='ee-v'>0</span></li><li><span class='ee-k'>8:</span><span class='ee-v'>0</span></li></ul></li><li><label class='ee-shut'>2: [0, 0, 0, 0, 0, 0, 0, 0, 0]<input type='checkbox' class='ee-toggle'></label><ul><li><span class='ee-k'>0:</span><span class='ee-v'>0</span></li><li><span class='ee-k'>1:</span><span class='ee-v'>0</span></li><li><span class='ee-k'>2:</span><span class='ee-v'>0</span></li><li><span class='ee-k'>3:</span><span class='ee-v'>0</span></li><li><span class='ee-k'>4:</span><span class='ee-v'>0</span></li><li><span class='ee-k'>5:</span><span class='ee-v'>0</span></li><li><span class='ee-k'>6:</span><span class='ee-v'>0</span></li><li><span class='ee-k'>7:</span><span class='ee-v'>0</span></li><li><span class='ee-k'>8:</span><span class='ee-v'>0</span></li></ul></li><li><label class='ee-shut'>3: [0, 0, 0, 40, 0, 0, 0, 0, 0]<input type='checkbox' class='ee-toggle'></label><ul><li><span class='ee-k'>0:</span><span class='ee-v'>0</span></li><li><span class='ee-k'>1:</span><span class='ee-v'>0</span></li><li><span class='ee-k'>2:</span><span class='ee-v'>0</span></li><li><span class='ee-k'>3:</span><span class='ee-v'>40</span></li><li><span class='ee-k'>4:</span><span class='ee-v'>0</span></li><li><span class='ee-k'>5:</span><span class='ee-v'>0</span></li><li><span class='ee-k'>6:</span><span class='ee-v'>0</span></li><li><span class='ee-k'>7:</span><span class='ee-v'>0</span></li><li><span class='ee-k'>8:</span><span class='ee-v'>0</span></li></ul></li><li><label class='ee-shut'>4: [0, 0, 0, 0, 3, 0, 0, 0, 0]<input type='checkbox' class='ee-toggle'></label><ul><li><span class='ee-k'>0:</span><span class='ee-v'>0</span></li><li><span class='ee-k'>1:</span><span class='ee-v'>0</span></li><li><span class='ee-k'>2:</span><span class='ee-v'>0</span></li><li><span class='ee-k'>3:</span><span class='ee-v'>0</span></li><li><span class='ee-k'>4:</span><span class='ee-v'>3</span></li><li><span class='ee-k'>5:</span><span class='ee-v'>0</span></li><li><span class='ee-k'>6:</span><span class='ee-v'>0</span></li><li><span class='ee-k'>7:</span><span class='ee-v'>0</span></li><li><span class='ee-k'>8:</span><span class='ee-v'>0</span></li></ul></li><li><label class='ee-shut'>5: [0, 0, 0, 0, 0, 30, 0, 0, 0]<input type='checkbox' class='ee-toggle'></label><ul><li><span class='ee-k'>0:</span><span class='ee-v'>0</span></li><li><span class='ee-k'>1:</span><span class='ee-v'>0</span></li><li><span class='ee-k'>2:</span><span class='ee-v'>0</span></li><li><span class='ee-k'>3:</span><span class='ee-v'>0</span></li><li><span class='ee-k'>4:</span><span class='ee-v'>0</span></li><li><span class='ee-k'>5:</span><span class='ee-v'>30</span></li><li><span class='ee-k'>6:</span><span class='ee-v'>0</span></li><li><span class='ee-k'>7:</span><span class='ee-v'>0</span></li><li><span class='ee-k'>8:</span><span class='ee-v'>0</span></li></ul></li><li><label class='ee-shut'>6: [0, 0, 0, 0, 0, 0, 3, 0, 0]<input type='checkbox' class='ee-toggle'></label><ul><li><span class='ee-k'>0:</span><span class='ee-v'>0</span></li><li><span class='ee-k'>1:</span><span class='ee-v'>0</span></li><li><span class='ee-k'>2:</span><span class='ee-v'>0</span></li><li><span class='ee-k'>3:</span><span class='ee-v'>0</span></li><li><span class='ee-k'>4:</span><span class='ee-v'>0</span></li><li><span class='ee-k'>5:</span><span class='ee-v'>0</span></li><li><span class='ee-k'>6:</span><span class='ee-v'>3</span></li><li><span class='ee-k'>7:</span><span class='ee-v'>0</span></li><li><span class='ee-k'>8:</span><span class='ee-v'>0</span></li></ul></li><li><label class='ee-shut'>7: [0, 0, 0, 0, 0, 0, 0, 0, 0]<input type='checkbox' class='ee-toggle'></label><ul><li><span class='ee-k'>0:</span><span class='ee-v'>0</span></li><li><span class='ee-k'>1:</span><span class='ee-v'>0</span></li><li><span class='ee-k'>2:</span><span class='ee-v'>0</span></li><li><span class='ee-k'>3:</span><span class='ee-v'>0</span></li><li><span class='ee-k'>4:</span><span class='ee-v'>0</span></li><li><span class='ee-k'>5:</span><span class='ee-v'>0</span></li><li><span class='ee-k'>6:</span><span class='ee-v'>0</span></li><li><span class='ee-k'>7:</span><span class='ee-v'>0</span></li><li><span class='ee-k'>8:</span><span class='ee-v'>0</span></li></ul></li><li><label class='ee-shut'>8: [0, 0, 0, 0, 0, 0, 0, 0, 62]<input type='checkbox' class='ee-toggle'></label><ul><li><span class='ee-k'>0:</span><span class='ee-v'>0</span></li><li><span class='ee-k'>1:</span><span class='ee-v'>0</span></li><li><span class='ee-k'>2:</span><span class='ee-v'>0</span></li><li><span class='ee-k'>3:</span><span class='ee-v'>0</span></li><li><span class='ee-k'>4:</span><span class='ee-v'>0</span></li><li><span class='ee-k'>5:</span><span class='ee-v'>0</span></li><li><span class='ee-k'>6:</span><span class='ee-v'>0</span></li><li><span class='ee-k'>7:</span><span class='ee-v'>0</span></li><li><span class='ee-k'>8:</span><span class='ee-v'>62</span></li></ul></li></ul></li><li><span class='ee-k'>system:index:</span><span class='ee-v'>0</span></li></ul></li></ul></li><li><label class='ee-shut'>1: Image (1 band)<input type='checkbox' class='ee-toggle'></label><ul><li><span class='ee-k'>type:</span><span class='ee-v'>Image</span></li><li><label class='ee-shut'>bands: List (1 element)<input type='checkbox' class='ee-toggle'></label><ul><li><label class='ee-shut'>0: \"classification\", signed int32, EPSG:4326, 362x118 px<input type='checkbox' class='ee-toggle'></label><ul><li><span class='ee-k'>id:</span><span class='ee-v'>classification</span></li><li><span class='ee-k'>crs:</span><span class='ee-v'>EPSG:4326</span></li><li><label class='ee-shut'>crs_transform: [1, 0, 0, 0, 1, 0]<input type='checkbox' class='ee-toggle'></label><ul><li><span class='ee-k'>0:</span><span class='ee-v'>1</span></li><li><span class='ee-k'>1:</span><span class='ee-v'>0</span></li><li><span class='ee-k'>2:</span><span class='ee-v'>0</span></li><li><span class='ee-k'>3:</span><span class='ee-v'>0</span></li><li><span class='ee-k'>4:</span><span class='ee-v'>1</span></li><li><span class='ee-k'>5:</span><span class='ee-v'>0</span></li></ul></li><li><label class='ee-shut'>data_type: signed int32<input type='checkbox' class='ee-toggle'></label><ul><li><span class='ee-k'>type:</span><span class='ee-v'>PixelType</span></li><li><span class='ee-k'>max:</span><span class='ee-v'>2147483647</span></li><li><span class='ee-k'>min:</span><span class='ee-v'>-2147483648</span></li><li><span class='ee-k'>precision:</span><span class='ee-v'>int</span></li></ul></li><li><label class='ee-shut'>dimensions: [362, 118]<input type='checkbox' class='ee-toggle'></label><ul><li><span class='ee-k'>0:</span><span class='ee-v'>362</span></li><li><span class='ee-k'>1:</span><span class='ee-v'>118</span></li></ul></li><li><label class='ee-shut'>origin: [-181, -57]<input type='checkbox' class='ee-toggle'></label><ul><li><span class='ee-k'>0:</span><span class='ee-v'>-181</span></li><li><span class='ee-k'>1:</span><span class='ee-v'>-57</span></li></ul></li></ul></li></ul></li><li><label class='ee-shut'>properties: Object (4 properties)<input type='checkbox' class='ee-toggle'></label><ul><li><span class='ee-k'>acc:</span><span class='ee-v'>1</span></li><li><span class='ee-k'>num:</span><span class='ee-v'>130</span></li><li><label class='ee-shut'>raw: List (9 elements)<input type='checkbox' class='ee-toggle'></label><ul><li><label class='ee-shut'>0: [0, 0, 0, 0, 0, 0, 0, 0, 0]<input type='checkbox' class='ee-toggle'></label><ul><li><span class='ee-k'>0:</span><span class='ee-v'>0</span></li><li><span class='ee-k'>1:</span><span class='ee-v'>0</span></li><li><span class='ee-k'>2:</span><span class='ee-v'>0</span></li><li><span class='ee-k'>3:</span><span class='ee-v'>0</span></li><li><span class='ee-k'>4:</span><span class='ee-v'>0</span></li><li><span class='ee-k'>5:</span><span class='ee-v'>0</span></li><li><span class='ee-k'>6:</span><span class='ee-v'>0</span></li><li><span class='ee-k'>7:</span><span class='ee-v'>0</span></li><li><span class='ee-k'>8:</span><span class='ee-v'>0</span></li></ul></li><li><label class='ee-shut'>1: [0, 32, 0, 0, 0, 0, 0, 0, 0]<input type='checkbox' class='ee-toggle'></label><ul><li><span class='ee-k'>0:</span><span class='ee-v'>0</span></li><li><span class='ee-k'>1:</span><span class='ee-v'>32</span></li><li><span class='ee-k'>2:</span><span class='ee-v'>0</span></li><li><span class='ee-k'>3:</span><span class='ee-v'>0</span></li><li><span class='ee-k'>4:</span><span class='ee-v'>0</span></li><li><span class='ee-k'>5:</span><span class='ee-v'>0</span></li><li><span class='ee-k'>6:</span><span class='ee-v'>0</span></li><li><span class='ee-k'>7:</span><span class='ee-v'>0</span></li><li><span class='ee-k'>8:</span><span class='ee-v'>0</span></li></ul></li><li><label class='ee-shut'>2: [0, 0, 0, 0, 0, 0, 0, 0, 0]<input type='checkbox' class='ee-toggle'></label><ul><li><span class='ee-k'>0:</span><span class='ee-v'>0</span></li><li><span class='ee-k'>1:</span><span class='ee-v'>0</span></li><li><span class='ee-k'>2:</span><span class='ee-v'>0</span></li><li><span class='ee-k'>3:</span><span class='ee-v'>0</span></li><li><span class='ee-k'>4:</span><span class='ee-v'>0</span></li><li><span class='ee-k'>5:</span><span class='ee-v'>0</span></li><li><span class='ee-k'>6:</span><span class='ee-v'>0</span></li><li><span class='ee-k'>7:</span><span class='ee-v'>0</span></li><li><span class='ee-k'>8:</span><span class='ee-v'>0</span></li></ul></li><li><label class='ee-shut'>3: [0, 0, 0, 6, 0, 0, 0, 0, 0]<input type='checkbox' class='ee-toggle'></label><ul><li><span class='ee-k'>0:</span><span class='ee-v'>0</span></li><li><span class='ee-k'>1:</span><span class='ee-v'>0</span></li><li><span class='ee-k'>2:</span><span class='ee-v'>0</span></li><li><span class='ee-k'>3:</span><span class='ee-v'>6</span></li><li><span class='ee-k'>4:</span><span class='ee-v'>0</span></li><li><span class='ee-k'>5:</span><span class='ee-v'>0</span></li><li><span class='ee-k'>6:</span><span class='ee-v'>0</span></li><li><span class='ee-k'>7:</span><span class='ee-v'>0</span></li><li><span class='ee-k'>8:</span><span class='ee-v'>0</span></li></ul></li><li><label class='ee-shut'>4: [0, 0, 0, 0, 45, 0, 0, 0, 0]<input type='checkbox' class='ee-toggle'></label><ul><li><span class='ee-k'>0:</span><span class='ee-v'>0</span></li><li><span class='ee-k'>1:</span><span class='ee-v'>0</span></li><li><span class='ee-k'>2:</span><span class='ee-v'>0</span></li><li><span class='ee-k'>3:</span><span class='ee-v'>0</span></li><li><span class='ee-k'>4:</span><span class='ee-v'>45</span></li><li><span class='ee-k'>5:</span><span class='ee-v'>0</span></li><li><span class='ee-k'>6:</span><span class='ee-v'>0</span></li><li><span class='ee-k'>7:</span><span class='ee-v'>0</span></li><li><span class='ee-k'>8:</span><span class='ee-v'>0</span></li></ul></li><li><label class='ee-shut'>5: [0, 0, 0, 0, 0, 47, 0, 0, 0]<input type='checkbox' class='ee-toggle'></label><ul><li><span class='ee-k'>0:</span><span class='ee-v'>0</span></li><li><span class='ee-k'>1:</span><span class='ee-v'>0</span></li><li><span class='ee-k'>2:</span><span class='ee-v'>0</span></li><li><span class='ee-k'>3:</span><span class='ee-v'>0</span></li><li><span class='ee-k'>4:</span><span class='ee-v'>0</span></li><li><span class='ee-k'>5:</span><span class='ee-v'>47</span></li><li><span class='ee-k'>6:</span><span class='ee-v'>0</span></li><li><span class='ee-k'>7:</span><span class='ee-v'>0</span></li><li><span class='ee-k'>8:</span><span class='ee-v'>0</span></li></ul></li><li><label class='ee-shut'>6: [0, 0, 0, 0, 0, 0, 0, 0, 0]<input type='checkbox' class='ee-toggle'></label><ul><li><span class='ee-k'>0:</span><span class='ee-v'>0</span></li><li><span class='ee-k'>1:</span><span class='ee-v'>0</span></li><li><span class='ee-k'>2:</span><span class='ee-v'>0</span></li><li><span class='ee-k'>3:</span><span class='ee-v'>0</span></li><li><span class='ee-k'>4:</span><span class='ee-v'>0</span></li><li><span class='ee-k'>5:</span><span class='ee-v'>0</span></li><li><span class='ee-k'>6:</span><span class='ee-v'>0</span></li><li><span class='ee-k'>7:</span><span class='ee-v'>0</span></li><li><span class='ee-k'>8:</span><span class='ee-v'>0</span></li></ul></li><li><label class='ee-shut'>7: [0, 0, 0, 0, 0, 0, 0, 0, 0]<input type='checkbox' class='ee-toggle'></label><ul><li><span class='ee-k'>0:</span><span class='ee-v'>0</span></li><li><span class='ee-k'>1:</span><span class='ee-v'>0</span></li><li><span class='ee-k'>2:</span><span class='ee-v'>0</span></li><li><span class='ee-k'>3:</span><span class='ee-v'>0</span></li><li><span class='ee-k'>4:</span><span class='ee-v'>0</span></li><li><span class='ee-k'>5:</span><span class='ee-v'>0</span></li><li><span class='ee-k'>6:</span><span class='ee-v'>0</span></li><li><span class='ee-k'>7:</span><span class='ee-v'>0</span></li><li><span class='ee-k'>8:</span><span class='ee-v'>0</span></li></ul></li><li><label class='ee-shut'>8: [0, 0, 0, 0, 0, 0, 0, 0, 0]<input type='checkbox' class='ee-toggle'></label><ul><li><span class='ee-k'>0:</span><span class='ee-v'>0</span></li><li><span class='ee-k'>1:</span><span class='ee-v'>0</span></li><li><span class='ee-k'>2:</span><span class='ee-v'>0</span></li><li><span class='ee-k'>3:</span><span class='ee-v'>0</span></li><li><span class='ee-k'>4:</span><span class='ee-v'>0</span></li><li><span class='ee-k'>5:</span><span class='ee-v'>0</span></li><li><span class='ee-k'>6:</span><span class='ee-v'>0</span></li><li><span class='ee-k'>7:</span><span class='ee-v'>0</span></li><li><span class='ee-k'>8:</span><span class='ee-v'>0</span></li></ul></li></ul></li><li><span class='ee-k'>system:index:</span><span class='ee-v'>1</span></li></ul></li></ul></li><li><label class='ee-shut'>2: Image (1 band)<input type='checkbox' class='ee-toggle'></label><ul><li><span class='ee-k'>type:</span><span class='ee-v'>Image</span></li><li><label class='ee-shut'>bands: List (1 element)<input type='checkbox' class='ee-toggle'></label><ul><li><label class='ee-shut'>0: \"classification\", signed int32, EPSG:4326, 362x118 px<input type='checkbox' class='ee-toggle'></label><ul><li><span class='ee-k'>id:</span><span class='ee-v'>classification</span></li><li><span class='ee-k'>crs:</span><span class='ee-v'>EPSG:4326</span></li><li><label class='ee-shut'>crs_transform: [1, 0, 0, 0, 1, 0]<input type='checkbox' class='ee-toggle'></label><ul><li><span class='ee-k'>0:</span><span class='ee-v'>1</span></li><li><span class='ee-k'>1:</span><span class='ee-v'>0</span></li><li><span class='ee-k'>2:</span><span class='ee-v'>0</span></li><li><span class='ee-k'>3:</span><span class='ee-v'>0</span></li><li><span class='ee-k'>4:</span><span class='ee-v'>1</span></li><li><span class='ee-k'>5:</span><span class='ee-v'>0</span></li></ul></li><li><label class='ee-shut'>data_type: signed int32<input type='checkbox' class='ee-toggle'></label><ul><li><span class='ee-k'>type:</span><span class='ee-v'>PixelType</span></li><li><span class='ee-k'>max:</span><span class='ee-v'>2147483647</span></li><li><span class='ee-k'>min:</span><span class='ee-v'>-2147483648</span></li><li><span class='ee-k'>precision:</span><span class='ee-v'>int</span></li></ul></li><li><label class='ee-shut'>dimensions: [362, 118]<input type='checkbox' class='ee-toggle'></label><ul><li><span class='ee-k'>0:</span><span class='ee-v'>362</span></li><li><span class='ee-k'>1:</span><span class='ee-v'>118</span></li></ul></li><li><label class='ee-shut'>origin: [-181, -57]<input type='checkbox' class='ee-toggle'></label><ul><li><span class='ee-k'>0:</span><span class='ee-v'>-181</span></li><li><span class='ee-k'>1:</span><span class='ee-v'>-57</span></li></ul></li></ul></li></ul></li><li><label class='ee-shut'>properties: Object (4 properties)<input type='checkbox' class='ee-toggle'></label><ul><li><span class='ee-k'>acc:</span><span class='ee-v'>1</span></li><li><span class='ee-k'>num:</span><span class='ee-v'>328</span></li><li><label class='ee-shut'>raw: List (9 elements)<input type='checkbox' class='ee-toggle'></label><ul><li><label class='ee-shut'>0: [14, 0, 0, 0, 0, 0, 0, 0, 0]<input type='checkbox' class='ee-toggle'></label><ul><li><span class='ee-k'>0:</span><span class='ee-v'>14</span></li><li><span class='ee-k'>1:</span><span class='ee-v'>0</span></li><li><span class='ee-k'>2:</span><span class='ee-v'>0</span></li><li><span class='ee-k'>3:</span><span class='ee-v'>0</span></li><li><span class='ee-k'>4:</span><span class='ee-v'>0</span></li><li><span class='ee-k'>5:</span><span class='ee-v'>0</span></li><li><span class='ee-k'>6:</span><span class='ee-v'>0</span></li><li><span class='ee-k'>7:</span><span class='ee-v'>0</span></li><li><span class='ee-k'>8:</span><span class='ee-v'>0</span></li></ul></li><li><label class='ee-shut'>1: [0, 0, 0, 0, 0, 0, 0, 0, 0]<input type='checkbox' class='ee-toggle'></label><ul><li><span class='ee-k'>0:</span><span class='ee-v'>0</span></li><li><span class='ee-k'>1:</span><span class='ee-v'>0</span></li><li><span class='ee-k'>2:</span><span class='ee-v'>0</span></li><li><span class='ee-k'>3:</span><span class='ee-v'>0</span></li><li><span class='ee-k'>4:</span><span class='ee-v'>0</span></li><li><span class='ee-k'>5:</span><span class='ee-v'>0</span></li><li><span class='ee-k'>6:</span><span class='ee-v'>0</span></li><li><span class='ee-k'>7:</span><span class='ee-v'>0</span></li><li><span class='ee-k'>8:</span><span class='ee-v'>0</span></li></ul></li><li><label class='ee-shut'>2: [0, 0, 0, 0, 0, 0, 0, 0, 0]<input type='checkbox' class='ee-toggle'></label><ul><li><span class='ee-k'>0:</span><span class='ee-v'>0</span></li><li><span class='ee-k'>1:</span><span class='ee-v'>0</span></li><li><span class='ee-k'>2:</span><span class='ee-v'>0</span></li><li><span class='ee-k'>3:</span><span class='ee-v'>0</span></li><li><span class='ee-k'>4:</span><span class='ee-v'>0</span></li><li><span class='ee-k'>5:</span><span class='ee-v'>0</span></li><li><span class='ee-k'>6:</span><span class='ee-v'>0</span></li><li><span class='ee-k'>7:</span><span class='ee-v'>0</span></li><li><span class='ee-k'>8:</span><span class='ee-v'>0</span></li></ul></li><li><label class='ee-shut'>3: [0, 0, 0, 59, 0, 0, 0, 0, 0]<input type='checkbox' class='ee-toggle'></label><ul><li><span class='ee-k'>0:</span><span class='ee-v'>0</span></li><li><span class='ee-k'>1:</span><span class='ee-v'>0</span></li><li><span class='ee-k'>2:</span><span class='ee-v'>0</span></li><li><span class='ee-k'>3:</span><span class='ee-v'>59</span></li><li><span class='ee-k'>4:</span><span class='ee-v'>0</span></li><li><span class='ee-k'>5:</span><span class='ee-v'>0</span></li><li><span class='ee-k'>6:</span><span class='ee-v'>0</span></li><li><span class='ee-k'>7:</span><span class='ee-v'>0</span></li><li><span class='ee-k'>8:</span><span class='ee-v'>0</span></li></ul></li><li><label class='ee-shut'>4: [0, 0, 0, 0, 10, 0, 0, 0, 0]<input type='checkbox' class='ee-toggle'></label><ul><li><span class='ee-k'>0:</span><span class='ee-v'>0</span></li><li><span class='ee-k'>1:</span><span class='ee-v'>0</span></li><li><span class='ee-k'>2:</span><span class='ee-v'>0</span></li><li><span class='ee-k'>3:</span><span class='ee-v'>0</span></li><li><span class='ee-k'>4:</span><span class='ee-v'>10</span></li><li><span class='ee-k'>5:</span><span class='ee-v'>0</span></li><li><span class='ee-k'>6:</span><span class='ee-v'>0</span></li><li><span class='ee-k'>7:</span><span class='ee-v'>0</span></li><li><span class='ee-k'>8:</span><span class='ee-v'>0</span></li></ul></li><li><label class='ee-shut'>5: [0, 0, 0, 0, 0, 27, 0, 0, 0]<input type='checkbox' class='ee-toggle'></label><ul><li><span class='ee-k'>0:</span><span class='ee-v'>0</span></li><li><span class='ee-k'>1:</span><span class='ee-v'>0</span></li><li><span class='ee-k'>2:</span><span class='ee-v'>0</span></li><li><span class='ee-k'>3:</span><span class='ee-v'>0</span></li><li><span class='ee-k'>4:</span><span class='ee-v'>0</span></li><li><span class='ee-k'>5:</span><span class='ee-v'>27</span></li><li><span class='ee-k'>6:</span><span class='ee-v'>0</span></li><li><span class='ee-k'>7:</span><span class='ee-v'>0</span></li><li><span class='ee-k'>8:</span><span class='ee-v'>0</span></li></ul></li><li><label class='ee-shut'>6: [0, 0, 0, 0, 0, 0, 163, 0, 0]<input type='checkbox' class='ee-toggle'></label><ul><li><span class='ee-k'>0:</span><span class='ee-v'>0</span></li><li><span class='ee-k'>1:</span><span class='ee-v'>0</span></li><li><span class='ee-k'>2:</span><span class='ee-v'>0</span></li><li><span class='ee-k'>3:</span><span class='ee-v'>0</span></li><li><span class='ee-k'>4:</span><span class='ee-v'>0</span></li><li><span class='ee-k'>5:</span><span class='ee-v'>0</span></li><li><span class='ee-k'>6:</span><span class='ee-v'>163</span></li><li><span class='ee-k'>7:</span><span class='ee-v'>0</span></li><li><span class='ee-k'>8:</span><span class='ee-v'>0</span></li></ul></li><li><label class='ee-shut'>7: [0, 0, 0, 0, 0, 0, 0, 55, 0]<input type='checkbox' class='ee-toggle'></label><ul><li><span class='ee-k'>0:</span><span class='ee-v'>0</span></li><li><span class='ee-k'>1:</span><span class='ee-v'>0</span></li><li><span class='ee-k'>2:</span><span class='ee-v'>0</span></li><li><span class='ee-k'>3:</span><span class='ee-v'>0</span></li><li><span class='ee-k'>4:</span><span class='ee-v'>0</span></li><li><span class='ee-k'>5:</span><span class='ee-v'>0</span></li><li><span class='ee-k'>6:</span><span class='ee-v'>0</span></li><li><span class='ee-k'>7:</span><span class='ee-v'>55</span></li><li><span class='ee-k'>8:</span><span class='ee-v'>0</span></li></ul></li><li><label class='ee-shut'>8: [0, 0, 0, 0, 0, 0, 0, 0, 0]<input type='checkbox' class='ee-toggle'></label><ul><li><span class='ee-k'>0:</span><span class='ee-v'>0</span></li><li><span class='ee-k'>1:</span><span class='ee-v'>0</span></li><li><span class='ee-k'>2:</span><span class='ee-v'>0</span></li><li><span class='ee-k'>3:</span><span class='ee-v'>0</span></li><li><span class='ee-k'>4:</span><span class='ee-v'>0</span></li><li><span class='ee-k'>5:</span><span class='ee-v'>0</span></li><li><span class='ee-k'>6:</span><span class='ee-v'>0</span></li><li><span class='ee-k'>7:</span><span class='ee-v'>0</span></li><li><span class='ee-k'>8:</span><span class='ee-v'>0</span></li></ul></li></ul></li><li><span class='ee-k'>system:index:</span><span class='ee-v'>2</span></li></ul></li></ul></li><li><label class='ee-shut'>3: Image (1 band)<input type='checkbox' class='ee-toggle'></label><ul><li><span class='ee-k'>type:</span><span class='ee-v'>Image</span></li><li><label class='ee-shut'>bands: List (1 element)<input type='checkbox' class='ee-toggle'></label><ul><li><label class='ee-shut'>0: \"classification\", signed int32, EPSG:4326, 362x118 px<input type='checkbox' class='ee-toggle'></label><ul><li><span class='ee-k'>id:</span><span class='ee-v'>classification</span></li><li><span class='ee-k'>crs:</span><span class='ee-v'>EPSG:4326</span></li><li><label class='ee-shut'>crs_transform: [1, 0, 0, 0, 1, 0]<input type='checkbox' class='ee-toggle'></label><ul><li><span class='ee-k'>0:</span><span class='ee-v'>1</span></li><li><span class='ee-k'>1:</span><span class='ee-v'>0</span></li><li><span class='ee-k'>2:</span><span class='ee-v'>0</span></li><li><span class='ee-k'>3:</span><span class='ee-v'>0</span></li><li><span class='ee-k'>4:</span><span class='ee-v'>1</span></li><li><span class='ee-k'>5:</span><span class='ee-v'>0</span></li></ul></li><li><label class='ee-shut'>data_type: signed int32<input type='checkbox' class='ee-toggle'></label><ul><li><span class='ee-k'>type:</span><span class='ee-v'>PixelType</span></li><li><span class='ee-k'>max:</span><span class='ee-v'>2147483647</span></li><li><span class='ee-k'>min:</span><span class='ee-v'>-2147483648</span></li><li><span class='ee-k'>precision:</span><span class='ee-v'>int</span></li></ul></li><li><label class='ee-shut'>dimensions: [362, 118]<input type='checkbox' class='ee-toggle'></label><ul><li><span class='ee-k'>0:</span><span class='ee-v'>362</span></li><li><span class='ee-k'>1:</span><span class='ee-v'>118</span></li></ul></li><li><label class='ee-shut'>origin: [-181, -57]<input type='checkbox' class='ee-toggle'></label><ul><li><span class='ee-k'>0:</span><span class='ee-v'>-181</span></li><li><span class='ee-k'>1:</span><span class='ee-v'>-57</span></li></ul></li></ul></li></ul></li><li><label class='ee-shut'>properties: Object (4 properties)<input type='checkbox' class='ee-toggle'></label><ul><li><span class='ee-k'>acc:</span><span class='ee-v'>1</span></li><li><span class='ee-k'>num:</span><span class='ee-v'>256</span></li><li><label class='ee-shut'>raw: List (9 elements)<input type='checkbox' class='ee-toggle'></label><ul><li><label class='ee-shut'>0: [0, 0, 0, 0, 0, 0, 0, 0, 0]<input type='checkbox' class='ee-toggle'></label><ul><li><span class='ee-k'>0:</span><span class='ee-v'>0</span></li><li><span class='ee-k'>1:</span><span class='ee-v'>0</span></li><li><span class='ee-k'>2:</span><span class='ee-v'>0</span></li><li><span class='ee-k'>3:</span><span class='ee-v'>0</span></li><li><span class='ee-k'>4:</span><span class='ee-v'>0</span></li><li><span class='ee-k'>5:</span><span class='ee-v'>0</span></li><li><span class='ee-k'>6:</span><span class='ee-v'>0</span></li><li><span class='ee-k'>7:</span><span class='ee-v'>0</span></li><li><span class='ee-k'>8:</span><span class='ee-v'>0</span></li></ul></li><li><label class='ee-shut'>1: [0, 7, 0, 0, 0, 0, 0, 0, 0]<input type='checkbox' class='ee-toggle'></label><ul><li><span class='ee-k'>0:</span><span class='ee-v'>0</span></li><li><span class='ee-k'>1:</span><span class='ee-v'>7</span></li><li><span class='ee-k'>2:</span><span class='ee-v'>0</span></li><li><span class='ee-k'>3:</span><span class='ee-v'>0</span></li><li><span class='ee-k'>4:</span><span class='ee-v'>0</span></li><li><span class='ee-k'>5:</span><span class='ee-v'>0</span></li><li><span class='ee-k'>6:</span><span class='ee-v'>0</span></li><li><span class='ee-k'>7:</span><span class='ee-v'>0</span></li><li><span class='ee-k'>8:</span><span class='ee-v'>0</span></li></ul></li><li><label class='ee-shut'>2: [0, 0, 0, 0, 0, 0, 0, 0, 0]<input type='checkbox' class='ee-toggle'></label><ul><li><span class='ee-k'>0:</span><span class='ee-v'>0</span></li><li><span class='ee-k'>1:</span><span class='ee-v'>0</span></li><li><span class='ee-k'>2:</span><span class='ee-v'>0</span></li><li><span class='ee-k'>3:</span><span class='ee-v'>0</span></li><li><span class='ee-k'>4:</span><span class='ee-v'>0</span></li><li><span class='ee-k'>5:</span><span class='ee-v'>0</span></li><li><span class='ee-k'>6:</span><span class='ee-v'>0</span></li><li><span class='ee-k'>7:</span><span class='ee-v'>0</span></li><li><span class='ee-k'>8:</span><span class='ee-v'>0</span></li></ul></li><li><label class='ee-shut'>3: [0, 0, 0, 1, 0, 0, 0, 0, 0]<input type='checkbox' class='ee-toggle'></label><ul><li><span class='ee-k'>0:</span><span class='ee-v'>0</span></li><li><span class='ee-k'>1:</span><span class='ee-v'>0</span></li><li><span class='ee-k'>2:</span><span class='ee-v'>0</span></li><li><span class='ee-k'>3:</span><span class='ee-v'>1</span></li><li><span class='ee-k'>4:</span><span class='ee-v'>0</span></li><li><span class='ee-k'>5:</span><span class='ee-v'>0</span></li><li><span class='ee-k'>6:</span><span class='ee-v'>0</span></li><li><span class='ee-k'>7:</span><span class='ee-v'>0</span></li><li><span class='ee-k'>8:</span><span class='ee-v'>0</span></li></ul></li><li><label class='ee-shut'>4: [0, 0, 0, 0, 120, 0, 0, 0, 0]<input type='checkbox' class='ee-toggle'></label><ul><li><span class='ee-k'>0:</span><span class='ee-v'>0</span></li><li><span class='ee-k'>1:</span><span class='ee-v'>0</span></li><li><span class='ee-k'>2:</span><span class='ee-v'>0</span></li><li><span class='ee-k'>3:</span><span class='ee-v'>0</span></li><li><span class='ee-k'>4:</span><span class='ee-v'>120</span></li><li><span class='ee-k'>5:</span><span class='ee-v'>0</span></li><li><span class='ee-k'>6:</span><span class='ee-v'>0</span></li><li><span class='ee-k'>7:</span><span class='ee-v'>0</span></li><li><span class='ee-k'>8:</span><span class='ee-v'>0</span></li></ul></li><li><label class='ee-shut'>5: [0, 0, 0, 0, 0, 128, 0, 0, 0]<input type='checkbox' class='ee-toggle'></label><ul><li><span class='ee-k'>0:</span><span class='ee-v'>0</span></li><li><span class='ee-k'>1:</span><span class='ee-v'>0</span></li><li><span class='ee-k'>2:</span><span class='ee-v'>0</span></li><li><span class='ee-k'>3:</span><span class='ee-v'>0</span></li><li><span class='ee-k'>4:</span><span class='ee-v'>0</span></li><li><span class='ee-k'>5:</span><span class='ee-v'>128</span></li><li><span class='ee-k'>6:</span><span class='ee-v'>0</span></li><li><span class='ee-k'>7:</span><span class='ee-v'>0</span></li><li><span class='ee-k'>8:</span><span class='ee-v'>0</span></li></ul></li><li><label class='ee-shut'>6: [0, 0, 0, 0, 0, 0, 0, 0, 0]<input type='checkbox' class='ee-toggle'></label><ul><li><span class='ee-k'>0:</span><span class='ee-v'>0</span></li><li><span class='ee-k'>1:</span><span class='ee-v'>0</span></li><li><span class='ee-k'>2:</span><span class='ee-v'>0</span></li><li><span class='ee-k'>3:</span><span class='ee-v'>0</span></li><li><span class='ee-k'>4:</span><span class='ee-v'>0</span></li><li><span class='ee-k'>5:</span><span class='ee-v'>0</span></li><li><span class='ee-k'>6:</span><span class='ee-v'>0</span></li><li><span class='ee-k'>7:</span><span class='ee-v'>0</span></li><li><span class='ee-k'>8:</span><span class='ee-v'>0</span></li></ul></li><li><label class='ee-shut'>7: [0, 0, 0, 0, 0, 0, 0, 0, 0]<input type='checkbox' class='ee-toggle'></label><ul><li><span class='ee-k'>0:</span><span class='ee-v'>0</span></li><li><span class='ee-k'>1:</span><span class='ee-v'>0</span></li><li><span class='ee-k'>2:</span><span class='ee-v'>0</span></li><li><span class='ee-k'>3:</span><span class='ee-v'>0</span></li><li><span class='ee-k'>4:</span><span class='ee-v'>0</span></li><li><span class='ee-k'>5:</span><span class='ee-v'>0</span></li><li><span class='ee-k'>6:</span><span class='ee-v'>0</span></li><li><span class='ee-k'>7:</span><span class='ee-v'>0</span></li><li><span class='ee-k'>8:</span><span class='ee-v'>0</span></li></ul></li><li><label class='ee-shut'>8: [0, 0, 0, 0, 0, 0, 0, 0, 0]<input type='checkbox' class='ee-toggle'></label><ul><li><span class='ee-k'>0:</span><span class='ee-v'>0</span></li><li><span class='ee-k'>1:</span><span class='ee-v'>0</span></li><li><span class='ee-k'>2:</span><span class='ee-v'>0</span></li><li><span class='ee-k'>3:</span><span class='ee-v'>0</span></li><li><span class='ee-k'>4:</span><span class='ee-v'>0</span></li><li><span class='ee-k'>5:</span><span class='ee-v'>0</span></li><li><span class='ee-k'>6:</span><span class='ee-v'>0</span></li><li><span class='ee-k'>7:</span><span class='ee-v'>0</span></li><li><span class='ee-k'>8:</span><span class='ee-v'>0</span></li></ul></li></ul></li><li><span class='ee-k'>system:index:</span><span class='ee-v'>3</span></li></ul></li></ul></li><li><label class='ee-shut'>4: Image (1 band)<input type='checkbox' class='ee-toggle'></label><ul><li><span class='ee-k'>type:</span><span class='ee-v'>Image</span></li><li><label class='ee-shut'>bands: List (1 element)<input type='checkbox' class='ee-toggle'></label><ul><li><label class='ee-shut'>0: \"classification\", signed int32, EPSG:4326, 362x118 px<input type='checkbox' class='ee-toggle'></label><ul><li><span class='ee-k'>id:</span><span class='ee-v'>classification</span></li><li><span class='ee-k'>crs:</span><span class='ee-v'>EPSG:4326</span></li><li><label class='ee-shut'>crs_transform: [1, 0, 0, 0, 1, 0]<input type='checkbox' class='ee-toggle'></label><ul><li><span class='ee-k'>0:</span><span class='ee-v'>1</span></li><li><span class='ee-k'>1:</span><span class='ee-v'>0</span></li><li><span class='ee-k'>2:</span><span class='ee-v'>0</span></li><li><span class='ee-k'>3:</span><span class='ee-v'>0</span></li><li><span class='ee-k'>4:</span><span class='ee-v'>1</span></li><li><span class='ee-k'>5:</span><span class='ee-v'>0</span></li></ul></li><li><label class='ee-shut'>data_type: signed int32<input type='checkbox' class='ee-toggle'></label><ul><li><span class='ee-k'>type:</span><span class='ee-v'>PixelType</span></li><li><span class='ee-k'>max:</span><span class='ee-v'>2147483647</span></li><li><span class='ee-k'>min:</span><span class='ee-v'>-2147483648</span></li><li><span class='ee-k'>precision:</span><span class='ee-v'>int</span></li></ul></li><li><label class='ee-shut'>dimensions: [362, 118]<input type='checkbox' class='ee-toggle'></label><ul><li><span class='ee-k'>0:</span><span class='ee-v'>362</span></li><li><span class='ee-k'>1:</span><span class='ee-v'>118</span></li></ul></li><li><label class='ee-shut'>origin: [-181, -57]<input type='checkbox' class='ee-toggle'></label><ul><li><span class='ee-k'>0:</span><span class='ee-v'>-181</span></li><li><span class='ee-k'>1:</span><span class='ee-v'>-57</span></li></ul></li></ul></li></ul></li><li><label class='ee-shut'>properties: Object (4 properties)<input type='checkbox' class='ee-toggle'></label><ul><li><span class='ee-k'>acc:</span><span class='ee-v'>1</span></li><li><span class='ee-k'>num:</span><span class='ee-v'>197</span></li><li><label class='ee-shut'>raw: List (9 elements)<input type='checkbox' class='ee-toggle'></label><ul><li><label class='ee-shut'>0: [0, 0, 0, 0, 0, 0, 0, 0, 0]<input type='checkbox' class='ee-toggle'></label><ul><li><span class='ee-k'>0:</span><span class='ee-v'>0</span></li><li><span class='ee-k'>1:</span><span class='ee-v'>0</span></li><li><span class='ee-k'>2:</span><span class='ee-v'>0</span></li><li><span class='ee-k'>3:</span><span class='ee-v'>0</span></li><li><span class='ee-k'>4:</span><span class='ee-v'>0</span></li><li><span class='ee-k'>5:</span><span class='ee-v'>0</span></li><li><span class='ee-k'>6:</span><span class='ee-v'>0</span></li><li><span class='ee-k'>7:</span><span class='ee-v'>0</span></li><li><span class='ee-k'>8:</span><span class='ee-v'>0</span></li></ul></li><li><label class='ee-shut'>1: [0, 111, 0, 0, 0, 0, 0, 0, 0]<input type='checkbox' class='ee-toggle'></label><ul><li><span class='ee-k'>0:</span><span class='ee-v'>0</span></li><li><span class='ee-k'>1:</span><span class='ee-v'>111</span></li><li><span class='ee-k'>2:</span><span class='ee-v'>0</span></li><li><span class='ee-k'>3:</span><span class='ee-v'>0</span></li><li><span class='ee-k'>4:</span><span class='ee-v'>0</span></li><li><span class='ee-k'>5:</span><span class='ee-v'>0</span></li><li><span class='ee-k'>6:</span><span class='ee-v'>0</span></li><li><span class='ee-k'>7:</span><span class='ee-v'>0</span></li><li><span class='ee-k'>8:</span><span class='ee-v'>0</span></li></ul></li><li><label class='ee-shut'>2: [0, 0, 0, 0, 0, 0, 0, 0, 0]<input type='checkbox' class='ee-toggle'></label><ul><li><span class='ee-k'>0:</span><span class='ee-v'>0</span></li><li><span class='ee-k'>1:</span><span class='ee-v'>0</span></li><li><span class='ee-k'>2:</span><span class='ee-v'>0</span></li><li><span class='ee-k'>3:</span><span class='ee-v'>0</span></li><li><span class='ee-k'>4:</span><span class='ee-v'>0</span></li><li><span class='ee-k'>5:</span><span class='ee-v'>0</span></li><li><span class='ee-k'>6:</span><span class='ee-v'>0</span></li><li><span class='ee-k'>7:</span><span class='ee-v'>0</span></li><li><span class='ee-k'>8:</span><span class='ee-v'>0</span></li></ul></li><li><label class='ee-shut'>3: [0, 0, 0, 39, 0, 0, 0, 0, 0]<input type='checkbox' class='ee-toggle'></label><ul><li><span class='ee-k'>0:</span><span class='ee-v'>0</span></li><li><span class='ee-k'>1:</span><span class='ee-v'>0</span></li><li><span class='ee-k'>2:</span><span class='ee-v'>0</span></li><li><span class='ee-k'>3:</span><span class='ee-v'>39</span></li><li><span class='ee-k'>4:</span><span class='ee-v'>0</span></li><li><span class='ee-k'>5:</span><span class='ee-v'>0</span></li><li><span class='ee-k'>6:</span><span class='ee-v'>0</span></li><li><span class='ee-k'>7:</span><span class='ee-v'>0</span></li><li><span class='ee-k'>8:</span><span class='ee-v'>0</span></li></ul></li><li><label class='ee-shut'>4: [0, 0, 0, 0, 22, 0, 0, 0, 0]<input type='checkbox' class='ee-toggle'></label><ul><li><span class='ee-k'>0:</span><span class='ee-v'>0</span></li><li><span class='ee-k'>1:</span><span class='ee-v'>0</span></li><li><span class='ee-k'>2:</span><span class='ee-v'>0</span></li><li><span class='ee-k'>3:</span><span class='ee-v'>0</span></li><li><span class='ee-k'>4:</span><span class='ee-v'>22</span></li><li><span class='ee-k'>5:</span><span class='ee-v'>0</span></li><li><span class='ee-k'>6:</span><span class='ee-v'>0</span></li><li><span class='ee-k'>7:</span><span class='ee-v'>0</span></li><li><span class='ee-k'>8:</span><span class='ee-v'>0</span></li></ul></li><li><label class='ee-shut'>5: [0, 0, 0, 0, 0, 11, 0, 0, 0]<input type='checkbox' class='ee-toggle'></label><ul><li><span class='ee-k'>0:</span><span class='ee-v'>0</span></li><li><span class='ee-k'>1:</span><span class='ee-v'>0</span></li><li><span class='ee-k'>2:</span><span class='ee-v'>0</span></li><li><span class='ee-k'>3:</span><span class='ee-v'>0</span></li><li><span class='ee-k'>4:</span><span class='ee-v'>0</span></li><li><span class='ee-k'>5:</span><span class='ee-v'>11</span></li><li><span class='ee-k'>6:</span><span class='ee-v'>0</span></li><li><span class='ee-k'>7:</span><span class='ee-v'>0</span></li><li><span class='ee-k'>8:</span><span class='ee-v'>0</span></li></ul></li><li><label class='ee-shut'>6: [0, 0, 0, 0, 0, 0, 0, 0, 0]<input type='checkbox' class='ee-toggle'></label><ul><li><span class='ee-k'>0:</span><span class='ee-v'>0</span></li><li><span class='ee-k'>1:</span><span class='ee-v'>0</span></li><li><span class='ee-k'>2:</span><span class='ee-v'>0</span></li><li><span class='ee-k'>3:</span><span class='ee-v'>0</span></li><li><span class='ee-k'>4:</span><span class='ee-v'>0</span></li><li><span class='ee-k'>5:</span><span class='ee-v'>0</span></li><li><span class='ee-k'>6:</span><span class='ee-v'>0</span></li><li><span class='ee-k'>7:</span><span class='ee-v'>0</span></li><li><span class='ee-k'>8:</span><span class='ee-v'>0</span></li></ul></li><li><label class='ee-shut'>7: [0, 0, 0, 0, 0, 0, 0, 14, 0]<input type='checkbox' class='ee-toggle'></label><ul><li><span class='ee-k'>0:</span><span class='ee-v'>0</span></li><li><span class='ee-k'>1:</span><span class='ee-v'>0</span></li><li><span class='ee-k'>2:</span><span class='ee-v'>0</span></li><li><span class='ee-k'>3:</span><span class='ee-v'>0</span></li><li><span class='ee-k'>4:</span><span class='ee-v'>0</span></li><li><span class='ee-k'>5:</span><span class='ee-v'>0</span></li><li><span class='ee-k'>6:</span><span class='ee-v'>0</span></li><li><span class='ee-k'>7:</span><span class='ee-v'>14</span></li><li><span class='ee-k'>8:</span><span class='ee-v'>0</span></li></ul></li><li><label class='ee-shut'>8: [0, 0, 0, 0, 0, 0, 0, 0, 0]<input type='checkbox' class='ee-toggle'></label><ul><li><span class='ee-k'>0:</span><span class='ee-v'>0</span></li><li><span class='ee-k'>1:</span><span class='ee-v'>0</span></li><li><span class='ee-k'>2:</span><span class='ee-v'>0</span></li><li><span class='ee-k'>3:</span><span class='ee-v'>0</span></li><li><span class='ee-k'>4:</span><span class='ee-v'>0</span></li><li><span class='ee-k'>5:</span><span class='ee-v'>0</span></li><li><span class='ee-k'>6:</span><span class='ee-v'>0</span></li><li><span class='ee-k'>7:</span><span class='ee-v'>0</span></li><li><span class='ee-k'>8:</span><span class='ee-v'>0</span></li></ul></li></ul></li><li><span class='ee-k'>system:index:</span><span class='ee-v'>4</span></li></ul></li></ul></li><li><label class='ee-shut'>5: Image (1 band)<input type='checkbox' class='ee-toggle'></label><ul><li><span class='ee-k'>type:</span><span class='ee-v'>Image</span></li><li><label class='ee-shut'>bands: List (1 element)<input type='checkbox' class='ee-toggle'></label><ul><li><label class='ee-shut'>0: \"classification\", signed int32, EPSG:4326, 362x118 px<input type='checkbox' class='ee-toggle'></label><ul><li><span class='ee-k'>id:</span><span class='ee-v'>classification</span></li><li><span class='ee-k'>crs:</span><span class='ee-v'>EPSG:4326</span></li><li><label class='ee-shut'>crs_transform: [1, 0, 0, 0, 1, 0]<input type='checkbox' class='ee-toggle'></label><ul><li><span class='ee-k'>0:</span><span class='ee-v'>1</span></li><li><span class='ee-k'>1:</span><span class='ee-v'>0</span></li><li><span class='ee-k'>2:</span><span class='ee-v'>0</span></li><li><span class='ee-k'>3:</span><span class='ee-v'>0</span></li><li><span class='ee-k'>4:</span><span class='ee-v'>1</span></li><li><span class='ee-k'>5:</span><span class='ee-v'>0</span></li></ul></li><li><label class='ee-shut'>data_type: signed int32<input type='checkbox' class='ee-toggle'></label><ul><li><span class='ee-k'>type:</span><span class='ee-v'>PixelType</span></li><li><span class='ee-k'>max:</span><span class='ee-v'>2147483647</span></li><li><span class='ee-k'>min:</span><span class='ee-v'>-2147483648</span></li><li><span class='ee-k'>precision:</span><span class='ee-v'>int</span></li></ul></li><li><label class='ee-shut'>dimensions: [362, 118]<input type='checkbox' class='ee-toggle'></label><ul><li><span class='ee-k'>0:</span><span class='ee-v'>362</span></li><li><span class='ee-k'>1:</span><span class='ee-v'>118</span></li></ul></li><li><label class='ee-shut'>origin: [-181, -57]<input type='checkbox' class='ee-toggle'></label><ul><li><span class='ee-k'>0:</span><span class='ee-v'>-181</span></li><li><span class='ee-k'>1:</span><span class='ee-v'>-57</span></li></ul></li></ul></li></ul></li><li><label class='ee-shut'>properties: Object (4 properties)<input type='checkbox' class='ee-toggle'></label><ul><li><span class='ee-k'>acc:</span><span class='ee-v'>1</span></li><li><span class='ee-k'>num:</span><span class='ee-v'>369</span></li><li><label class='ee-shut'>raw: List (9 elements)<input type='checkbox' class='ee-toggle'></label><ul><li><label class='ee-shut'>0: [49, 0, 0, 0, 0, 0, 0, 0, 0]<input type='checkbox' class='ee-toggle'></label><ul><li><span class='ee-k'>0:</span><span class='ee-v'>49</span></li><li><span class='ee-k'>1:</span><span class='ee-v'>0</span></li><li><span class='ee-k'>2:</span><span class='ee-v'>0</span></li><li><span class='ee-k'>3:</span><span class='ee-v'>0</span></li><li><span class='ee-k'>4:</span><span class='ee-v'>0</span></li><li><span class='ee-k'>5:</span><span class='ee-v'>0</span></li><li><span class='ee-k'>6:</span><span class='ee-v'>0</span></li><li><span class='ee-k'>7:</span><span class='ee-v'>0</span></li><li><span class='ee-k'>8:</span><span class='ee-v'>0</span></li></ul></li><li><label class='ee-shut'>1: [0, 0, 0, 0, 0, 0, 0, 0, 0]<input type='checkbox' class='ee-toggle'></label><ul><li><span class='ee-k'>0:</span><span class='ee-v'>0</span></li><li><span class='ee-k'>1:</span><span class='ee-v'>0</span></li><li><span class='ee-k'>2:</span><span class='ee-v'>0</span></li><li><span class='ee-k'>3:</span><span class='ee-v'>0</span></li><li><span class='ee-k'>4:</span><span class='ee-v'>0</span></li><li><span class='ee-k'>5:</span><span class='ee-v'>0</span></li><li><span class='ee-k'>6:</span><span class='ee-v'>0</span></li><li><span class='ee-k'>7:</span><span class='ee-v'>0</span></li><li><span class='ee-k'>8:</span><span class='ee-v'>0</span></li></ul></li><li><label class='ee-shut'>2: [0, 0, 0, 0, 0, 0, 0, 0, 0]<input type='checkbox' class='ee-toggle'></label><ul><li><span class='ee-k'>0:</span><span class='ee-v'>0</span></li><li><span class='ee-k'>1:</span><span class='ee-v'>0</span></li><li><span class='ee-k'>2:</span><span class='ee-v'>0</span></li><li><span class='ee-k'>3:</span><span class='ee-v'>0</span></li><li><span class='ee-k'>4:</span><span class='ee-v'>0</span></li><li><span class='ee-k'>5:</span><span class='ee-v'>0</span></li><li><span class='ee-k'>6:</span><span class='ee-v'>0</span></li><li><span class='ee-k'>7:</span><span class='ee-v'>0</span></li><li><span class='ee-k'>8:</span><span class='ee-v'>0</span></li></ul></li><li><label class='ee-shut'>3: [0, 0, 0, 49, 0, 0, 0, 0, 0]<input type='checkbox' class='ee-toggle'></label><ul><li><span class='ee-k'>0:</span><span class='ee-v'>0</span></li><li><span class='ee-k'>1:</span><span class='ee-v'>0</span></li><li><span class='ee-k'>2:</span><span class='ee-v'>0</span></li><li><span class='ee-k'>3:</span><span class='ee-v'>49</span></li><li><span class='ee-k'>4:</span><span class='ee-v'>0</span></li><li><span class='ee-k'>5:</span><span class='ee-v'>0</span></li><li><span class='ee-k'>6:</span><span class='ee-v'>0</span></li><li><span class='ee-k'>7:</span><span class='ee-v'>0</span></li><li><span class='ee-k'>8:</span><span class='ee-v'>0</span></li></ul></li><li><label class='ee-shut'>4: [0, 0, 0, 0, 0, 0, 0, 0, 0]<input type='checkbox' class='ee-toggle'></label><ul><li><span class='ee-k'>0:</span><span class='ee-v'>0</span></li><li><span class='ee-k'>1:</span><span class='ee-v'>0</span></li><li><span class='ee-k'>2:</span><span class='ee-v'>0</span></li><li><span class='ee-k'>3:</span><span class='ee-v'>0</span></li><li><span class='ee-k'>4:</span><span class='ee-v'>0</span></li><li><span class='ee-k'>5:</span><span class='ee-v'>0</span></li><li><span class='ee-k'>6:</span><span class='ee-v'>0</span></li><li><span class='ee-k'>7:</span><span class='ee-v'>0</span></li><li><span class='ee-k'>8:</span><span class='ee-v'>0</span></li></ul></li><li><label class='ee-shut'>5: [0, 0, 0, 0, 0, 32, 0, 0, 0]<input type='checkbox' class='ee-toggle'></label><ul><li><span class='ee-k'>0:</span><span class='ee-v'>0</span></li><li><span class='ee-k'>1:</span><span class='ee-v'>0</span></li><li><span class='ee-k'>2:</span><span class='ee-v'>0</span></li><li><span class='ee-k'>3:</span><span class='ee-v'>0</span></li><li><span class='ee-k'>4:</span><span class='ee-v'>0</span></li><li><span class='ee-k'>5:</span><span class='ee-v'>32</span></li><li><span class='ee-k'>6:</span><span class='ee-v'>0</span></li><li><span class='ee-k'>7:</span><span class='ee-v'>0</span></li><li><span class='ee-k'>8:</span><span class='ee-v'>0</span></li></ul></li><li><label class='ee-shut'>6: [0, 0, 0, 0, 0, 0, 215, 0, 0]<input type='checkbox' class='ee-toggle'></label><ul><li><span class='ee-k'>0:</span><span class='ee-v'>0</span></li><li><span class='ee-k'>1:</span><span class='ee-v'>0</span></li><li><span class='ee-k'>2:</span><span class='ee-v'>0</span></li><li><span class='ee-k'>3:</span><span class='ee-v'>0</span></li><li><span class='ee-k'>4:</span><span class='ee-v'>0</span></li><li><span class='ee-k'>5:</span><span class='ee-v'>0</span></li><li><span class='ee-k'>6:</span><span class='ee-v'>215</span></li><li><span class='ee-k'>7:</span><span class='ee-v'>0</span></li><li><span class='ee-k'>8:</span><span class='ee-v'>0</span></li></ul></li><li><label class='ee-shut'>7: [0, 0, 0, 0, 0, 0, 0, 24, 0]<input type='checkbox' class='ee-toggle'></label><ul><li><span class='ee-k'>0:</span><span class='ee-v'>0</span></li><li><span class='ee-k'>1:</span><span class='ee-v'>0</span></li><li><span class='ee-k'>2:</span><span class='ee-v'>0</span></li><li><span class='ee-k'>3:</span><span class='ee-v'>0</span></li><li><span class='ee-k'>4:</span><span class='ee-v'>0</span></li><li><span class='ee-k'>5:</span><span class='ee-v'>0</span></li><li><span class='ee-k'>6:</span><span class='ee-v'>0</span></li><li><span class='ee-k'>7:</span><span class='ee-v'>24</span></li><li><span class='ee-k'>8:</span><span class='ee-v'>0</span></li></ul></li><li><label class='ee-shut'>8: [0, 0, 0, 0, 0, 0, 0, 0, 0]<input type='checkbox' class='ee-toggle'></label><ul><li><span class='ee-k'>0:</span><span class='ee-v'>0</span></li><li><span class='ee-k'>1:</span><span class='ee-v'>0</span></li><li><span class='ee-k'>2:</span><span class='ee-v'>0</span></li><li><span class='ee-k'>3:</span><span class='ee-v'>0</span></li><li><span class='ee-k'>4:</span><span class='ee-v'>0</span></li><li><span class='ee-k'>5:</span><span class='ee-v'>0</span></li><li><span class='ee-k'>6:</span><span class='ee-v'>0</span></li><li><span class='ee-k'>7:</span><span class='ee-v'>0</span></li><li><span class='ee-k'>8:</span><span class='ee-v'>0</span></li></ul></li></ul></li><li><span class='ee-k'>system:index:</span><span class='ee-v'>5</span></li></ul></li></ul></li><li><label class='ee-shut'>6: Image (1 band)<input type='checkbox' class='ee-toggle'></label><ul><li><span class='ee-k'>type:</span><span class='ee-v'>Image</span></li><li><label class='ee-shut'>bands: List (1 element)<input type='checkbox' class='ee-toggle'></label><ul><li><label class='ee-shut'>0: \"classification\", signed int32, EPSG:4326, 362x118 px<input type='checkbox' class='ee-toggle'></label><ul><li><span class='ee-k'>id:</span><span class='ee-v'>classification</span></li><li><span class='ee-k'>crs:</span><span class='ee-v'>EPSG:4326</span></li><li><label class='ee-shut'>crs_transform: [1, 0, 0, 0, 1, 0]<input type='checkbox' class='ee-toggle'></label><ul><li><span class='ee-k'>0:</span><span class='ee-v'>1</span></li><li><span class='ee-k'>1:</span><span class='ee-v'>0</span></li><li><span class='ee-k'>2:</span><span class='ee-v'>0</span></li><li><span class='ee-k'>3:</span><span class='ee-v'>0</span></li><li><span class='ee-k'>4:</span><span class='ee-v'>1</span></li><li><span class='ee-k'>5:</span><span class='ee-v'>0</span></li></ul></li><li><label class='ee-shut'>data_type: signed int32<input type='checkbox' class='ee-toggle'></label><ul><li><span class='ee-k'>type:</span><span class='ee-v'>PixelType</span></li><li><span class='ee-k'>max:</span><span class='ee-v'>2147483647</span></li><li><span class='ee-k'>min:</span><span class='ee-v'>-2147483648</span></li><li><span class='ee-k'>precision:</span><span class='ee-v'>int</span></li></ul></li><li><label class='ee-shut'>dimensions: [362, 118]<input type='checkbox' class='ee-toggle'></label><ul><li><span class='ee-k'>0:</span><span class='ee-v'>362</span></li><li><span class='ee-k'>1:</span><span class='ee-v'>118</span></li></ul></li><li><label class='ee-shut'>origin: [-181, -57]<input type='checkbox' class='ee-toggle'></label><ul><li><span class='ee-k'>0:</span><span class='ee-v'>-181</span></li><li><span class='ee-k'>1:</span><span class='ee-v'>-57</span></li></ul></li></ul></li></ul></li><li><label class='ee-shut'>properties: Object (4 properties)<input type='checkbox' class='ee-toggle'></label><ul><li><span class='ee-k'>acc:</span><span class='ee-v'>1</span></li><li><span class='ee-k'>num:</span><span class='ee-v'>262</span></li><li><label class='ee-shut'>raw: List (9 elements)<input type='checkbox' class='ee-toggle'></label><ul><li><label class='ee-shut'>0: [24, 0, 0, 0, 0, 0, 0, 0, 0]<input type='checkbox' class='ee-toggle'></label><ul><li><span class='ee-k'>0:</span><span class='ee-v'>24</span></li><li><span class='ee-k'>1:</span><span class='ee-v'>0</span></li><li><span class='ee-k'>2:</span><span class='ee-v'>0</span></li><li><span class='ee-k'>3:</span><span class='ee-v'>0</span></li><li><span class='ee-k'>4:</span><span class='ee-v'>0</span></li><li><span class='ee-k'>5:</span><span class='ee-v'>0</span></li><li><span class='ee-k'>6:</span><span class='ee-v'>0</span></li><li><span class='ee-k'>7:</span><span class='ee-v'>0</span></li><li><span class='ee-k'>8:</span><span class='ee-v'>0</span></li></ul></li><li><label class='ee-shut'>1: [0, 59, 0, 0, 0, 0, 0, 0, 0]<input type='checkbox' class='ee-toggle'></label><ul><li><span class='ee-k'>0:</span><span class='ee-v'>0</span></li><li><span class='ee-k'>1:</span><span class='ee-v'>59</span></li><li><span class='ee-k'>2:</span><span class='ee-v'>0</span></li><li><span class='ee-k'>3:</span><span class='ee-v'>0</span></li><li><span class='ee-k'>4:</span><span class='ee-v'>0</span></li><li><span class='ee-k'>5:</span><span class='ee-v'>0</span></li><li><span class='ee-k'>6:</span><span class='ee-v'>0</span></li><li><span class='ee-k'>7:</span><span class='ee-v'>0</span></li><li><span class='ee-k'>8:</span><span class='ee-v'>0</span></li></ul></li><li><label class='ee-shut'>2: [0, 0, 0, 0, 0, 0, 0, 0, 0]<input type='checkbox' class='ee-toggle'></label><ul><li><span class='ee-k'>0:</span><span class='ee-v'>0</span></li><li><span class='ee-k'>1:</span><span class='ee-v'>0</span></li><li><span class='ee-k'>2:</span><span class='ee-v'>0</span></li><li><span class='ee-k'>3:</span><span class='ee-v'>0</span></li><li><span class='ee-k'>4:</span><span class='ee-v'>0</span></li><li><span class='ee-k'>5:</span><span class='ee-v'>0</span></li><li><span class='ee-k'>6:</span><span class='ee-v'>0</span></li><li><span class='ee-k'>7:</span><span class='ee-v'>0</span></li><li><span class='ee-k'>8:</span><span class='ee-v'>0</span></li></ul></li><li><label class='ee-shut'>3: [0, 0, 0, 76, 0, 0, 0, 0, 0]<input type='checkbox' class='ee-toggle'></label><ul><li><span class='ee-k'>0:</span><span class='ee-v'>0</span></li><li><span class='ee-k'>1:</span><span class='ee-v'>0</span></li><li><span class='ee-k'>2:</span><span class='ee-v'>0</span></li><li><span class='ee-k'>3:</span><span class='ee-v'>76</span></li><li><span class='ee-k'>4:</span><span class='ee-v'>0</span></li><li><span class='ee-k'>5:</span><span class='ee-v'>0</span></li><li><span class='ee-k'>6:</span><span class='ee-v'>0</span></li><li><span class='ee-k'>7:</span><span class='ee-v'>0</span></li><li><span class='ee-k'>8:</span><span class='ee-v'>0</span></li></ul></li><li><label class='ee-shut'>4: [0, 0, 0, 0, 2, 0, 0, 0, 0]<input type='checkbox' class='ee-toggle'></label><ul><li><span class='ee-k'>0:</span><span class='ee-v'>0</span></li><li><span class='ee-k'>1:</span><span class='ee-v'>0</span></li><li><span class='ee-k'>2:</span><span class='ee-v'>0</span></li><li><span class='ee-k'>3:</span><span class='ee-v'>0</span></li><li><span class='ee-k'>4:</span><span class='ee-v'>2</span></li><li><span class='ee-k'>5:</span><span class='ee-v'>0</span></li><li><span class='ee-k'>6:</span><span class='ee-v'>0</span></li><li><span class='ee-k'>7:</span><span class='ee-v'>0</span></li><li><span class='ee-k'>8:</span><span class='ee-v'>0</span></li></ul></li><li><label class='ee-shut'>5: [0, 0, 0, 0, 0, 2, 0, 0, 0]<input type='checkbox' class='ee-toggle'></label><ul><li><span class='ee-k'>0:</span><span class='ee-v'>0</span></li><li><span class='ee-k'>1:</span><span class='ee-v'>0</span></li><li><span class='ee-k'>2:</span><span class='ee-v'>0</span></li><li><span class='ee-k'>3:</span><span class='ee-v'>0</span></li><li><span class='ee-k'>4:</span><span class='ee-v'>0</span></li><li><span class='ee-k'>5:</span><span class='ee-v'>2</span></li><li><span class='ee-k'>6:</span><span class='ee-v'>0</span></li><li><span class='ee-k'>7:</span><span class='ee-v'>0</span></li><li><span class='ee-k'>8:</span><span class='ee-v'>0</span></li></ul></li><li><label class='ee-shut'>6: [0, 0, 0, 0, 0, 0, 7, 0, 0]<input type='checkbox' class='ee-toggle'></label><ul><li><span class='ee-k'>0:</span><span class='ee-v'>0</span></li><li><span class='ee-k'>1:</span><span class='ee-v'>0</span></li><li><span class='ee-k'>2:</span><span class='ee-v'>0</span></li><li><span class='ee-k'>3:</span><span class='ee-v'>0</span></li><li><span class='ee-k'>4:</span><span class='ee-v'>0</span></li><li><span class='ee-k'>5:</span><span class='ee-v'>0</span></li><li><span class='ee-k'>6:</span><span class='ee-v'>7</span></li><li><span class='ee-k'>7:</span><span class='ee-v'>0</span></li><li><span class='ee-k'>8:</span><span class='ee-v'>0</span></li></ul></li><li><label class='ee-shut'>7: [0, 0, 0, 0, 0, 0, 0, 92, 0]<input type='checkbox' class='ee-toggle'></label><ul><li><span class='ee-k'>0:</span><span class='ee-v'>0</span></li><li><span class='ee-k'>1:</span><span class='ee-v'>0</span></li><li><span class='ee-k'>2:</span><span class='ee-v'>0</span></li><li><span class='ee-k'>3:</span><span class='ee-v'>0</span></li><li><span class='ee-k'>4:</span><span class='ee-v'>0</span></li><li><span class='ee-k'>5:</span><span class='ee-v'>0</span></li><li><span class='ee-k'>6:</span><span class='ee-v'>0</span></li><li><span class='ee-k'>7:</span><span class='ee-v'>92</span></li><li><span class='ee-k'>8:</span><span class='ee-v'>0</span></li></ul></li><li><label class='ee-shut'>8: [0, 0, 0, 0, 0, 0, 0, 0, 0]<input type='checkbox' class='ee-toggle'></label><ul><li><span class='ee-k'>0:</span><span class='ee-v'>0</span></li><li><span class='ee-k'>1:</span><span class='ee-v'>0</span></li><li><span class='ee-k'>2:</span><span class='ee-v'>0</span></li><li><span class='ee-k'>3:</span><span class='ee-v'>0</span></li><li><span class='ee-k'>4:</span><span class='ee-v'>0</span></li><li><span class='ee-k'>5:</span><span class='ee-v'>0</span></li><li><span class='ee-k'>6:</span><span class='ee-v'>0</span></li><li><span class='ee-k'>7:</span><span class='ee-v'>0</span></li><li><span class='ee-k'>8:</span><span class='ee-v'>0</span></li></ul></li></ul></li><li><span class='ee-k'>system:index:</span><span class='ee-v'>6</span></li></ul></li></ul></li><li><label class='ee-shut'>7: Image (1 band)<input type='checkbox' class='ee-toggle'></label><ul><li><span class='ee-k'>type:</span><span class='ee-v'>Image</span></li><li><label class='ee-shut'>bands: List (1 element)<input type='checkbox' class='ee-toggle'></label><ul><li><label class='ee-shut'>0: \"classification\", signed int32, EPSG:4326, 362x118 px<input type='checkbox' class='ee-toggle'></label><ul><li><span class='ee-k'>id:</span><span class='ee-v'>classification</span></li><li><span class='ee-k'>crs:</span><span class='ee-v'>EPSG:4326</span></li><li><label class='ee-shut'>crs_transform: [1, 0, 0, 0, 1, 0]<input type='checkbox' class='ee-toggle'></label><ul><li><span class='ee-k'>0:</span><span class='ee-v'>1</span></li><li><span class='ee-k'>1:</span><span class='ee-v'>0</span></li><li><span class='ee-k'>2:</span><span class='ee-v'>0</span></li><li><span class='ee-k'>3:</span><span class='ee-v'>0</span></li><li><span class='ee-k'>4:</span><span class='ee-v'>1</span></li><li><span class='ee-k'>5:</span><span class='ee-v'>0</span></li></ul></li><li><label class='ee-shut'>data_type: signed int32<input type='checkbox' class='ee-toggle'></label><ul><li><span class='ee-k'>type:</span><span class='ee-v'>PixelType</span></li><li><span class='ee-k'>max:</span><span class='ee-v'>2147483647</span></li><li><span class='ee-k'>min:</span><span class='ee-v'>-2147483648</span></li><li><span class='ee-k'>precision:</span><span class='ee-v'>int</span></li></ul></li><li><label class='ee-shut'>dimensions: [362, 118]<input type='checkbox' class='ee-toggle'></label><ul><li><span class='ee-k'>0:</span><span class='ee-v'>362</span></li><li><span class='ee-k'>1:</span><span class='ee-v'>118</span></li></ul></li><li><label class='ee-shut'>origin: [-181, -57]<input type='checkbox' class='ee-toggle'></label><ul><li><span class='ee-k'>0:</span><span class='ee-v'>-181</span></li><li><span class='ee-k'>1:</span><span class='ee-v'>-57</span></li></ul></li></ul></li></ul></li><li><label class='ee-shut'>properties: Object (4 properties)<input type='checkbox' class='ee-toggle'></label><ul><li><span class='ee-k'>acc:</span><span class='ee-v'>1</span></li><li><span class='ee-k'>num:</span><span class='ee-v'>608</span></li><li><label class='ee-shut'>raw: List (9 elements)<input type='checkbox' class='ee-toggle'></label><ul><li><label class='ee-shut'>0: [4, 0, 0, 0, 0, 0, 0, 0, 0]<input type='checkbox' class='ee-toggle'></label><ul><li><span class='ee-k'>0:</span><span class='ee-v'>4</span></li><li><span class='ee-k'>1:</span><span class='ee-v'>0</span></li><li><span class='ee-k'>2:</span><span class='ee-v'>0</span></li><li><span class='ee-k'>3:</span><span class='ee-v'>0</span></li><li><span class='ee-k'>4:</span><span class='ee-v'>0</span></li><li><span class='ee-k'>5:</span><span class='ee-v'>0</span></li><li><span class='ee-k'>6:</span><span class='ee-v'>0</span></li><li><span class='ee-k'>7:</span><span class='ee-v'>0</span></li><li><span class='ee-k'>8:</span><span class='ee-v'>0</span></li></ul></li><li><label class='ee-shut'>1: [0, 1, 0, 0, 0, 0, 0, 0, 0]<input type='checkbox' class='ee-toggle'></label><ul><li><span class='ee-k'>0:</span><span class='ee-v'>0</span></li><li><span class='ee-k'>1:</span><span class='ee-v'>1</span></li><li><span class='ee-k'>2:</span><span class='ee-v'>0</span></li><li><span class='ee-k'>3:</span><span class='ee-v'>0</span></li><li><span class='ee-k'>4:</span><span class='ee-v'>0</span></li><li><span class='ee-k'>5:</span><span class='ee-v'>0</span></li><li><span class='ee-k'>6:</span><span class='ee-v'>0</span></li><li><span class='ee-k'>7:</span><span class='ee-v'>0</span></li><li><span class='ee-k'>8:</span><span class='ee-v'>0</span></li></ul></li><li><label class='ee-shut'>2: [0, 0, 400, 0, 0, 0, 0, 0, 0]<input type='checkbox' class='ee-toggle'></label><ul><li><span class='ee-k'>0:</span><span class='ee-v'>0</span></li><li><span class='ee-k'>1:</span><span class='ee-v'>0</span></li><li><span class='ee-k'>2:</span><span class='ee-v'>400</span></li><li><span class='ee-k'>3:</span><span class='ee-v'>0</span></li><li><span class='ee-k'>4:</span><span class='ee-v'>0</span></li><li><span class='ee-k'>5:</span><span class='ee-v'>0</span></li><li><span class='ee-k'>6:</span><span class='ee-v'>0</span></li><li><span class='ee-k'>7:</span><span class='ee-v'>0</span></li><li><span class='ee-k'>8:</span><span class='ee-v'>0</span></li></ul></li><li><label class='ee-shut'>3: [0, 0, 0, 44, 0, 0, 0, 0, 0]<input type='checkbox' class='ee-toggle'></label><ul><li><span class='ee-k'>0:</span><span class='ee-v'>0</span></li><li><span class='ee-k'>1:</span><span class='ee-v'>0</span></li><li><span class='ee-k'>2:</span><span class='ee-v'>0</span></li><li><span class='ee-k'>3:</span><span class='ee-v'>44</span></li><li><span class='ee-k'>4:</span><span class='ee-v'>0</span></li><li><span class='ee-k'>5:</span><span class='ee-v'>0</span></li><li><span class='ee-k'>6:</span><span class='ee-v'>0</span></li><li><span class='ee-k'>7:</span><span class='ee-v'>0</span></li><li><span class='ee-k'>8:</span><span class='ee-v'>0</span></li></ul></li><li><label class='ee-shut'>4: [0, 0, 0, 0, 75, 0, 0, 0, 0]<input type='checkbox' class='ee-toggle'></label><ul><li><span class='ee-k'>0:</span><span class='ee-v'>0</span></li><li><span class='ee-k'>1:</span><span class='ee-v'>0</span></li><li><span class='ee-k'>2:</span><span class='ee-v'>0</span></li><li><span class='ee-k'>3:</span><span class='ee-v'>0</span></li><li><span class='ee-k'>4:</span><span class='ee-v'>75</span></li><li><span class='ee-k'>5:</span><span class='ee-v'>0</span></li><li><span class='ee-k'>6:</span><span class='ee-v'>0</span></li><li><span class='ee-k'>7:</span><span class='ee-v'>0</span></li><li><span class='ee-k'>8:</span><span class='ee-v'>0</span></li></ul></li><li><label class='ee-shut'>5: [0, 0, 0, 0, 0, 74, 0, 0, 0]<input type='checkbox' class='ee-toggle'></label><ul><li><span class='ee-k'>0:</span><span class='ee-v'>0</span></li><li><span class='ee-k'>1:</span><span class='ee-v'>0</span></li><li><span class='ee-k'>2:</span><span class='ee-v'>0</span></li><li><span class='ee-k'>3:</span><span class='ee-v'>0</span></li><li><span class='ee-k'>4:</span><span class='ee-v'>0</span></li><li><span class='ee-k'>5:</span><span class='ee-v'>74</span></li><li><span class='ee-k'>6:</span><span class='ee-v'>0</span></li><li><span class='ee-k'>7:</span><span class='ee-v'>0</span></li><li><span class='ee-k'>8:</span><span class='ee-v'>0</span></li></ul></li><li><label class='ee-shut'>6: [0, 0, 0, 0, 0, 0, 1, 0, 0]<input type='checkbox' class='ee-toggle'></label><ul><li><span class='ee-k'>0:</span><span class='ee-v'>0</span></li><li><span class='ee-k'>1:</span><span class='ee-v'>0</span></li><li><span class='ee-k'>2:</span><span class='ee-v'>0</span></li><li><span class='ee-k'>3:</span><span class='ee-v'>0</span></li><li><span class='ee-k'>4:</span><span class='ee-v'>0</span></li><li><span class='ee-k'>5:</span><span class='ee-v'>0</span></li><li><span class='ee-k'>6:</span><span class='ee-v'>1</span></li><li><span class='ee-k'>7:</span><span class='ee-v'>0</span></li><li><span class='ee-k'>8:</span><span class='ee-v'>0</span></li></ul></li><li><label class='ee-shut'>7: [0, 0, 0, 0, 0, 0, 0, 0, 0]<input type='checkbox' class='ee-toggle'></label><ul><li><span class='ee-k'>0:</span><span class='ee-v'>0</span></li><li><span class='ee-k'>1:</span><span class='ee-v'>0</span></li><li><span class='ee-k'>2:</span><span class='ee-v'>0</span></li><li><span class='ee-k'>3:</span><span class='ee-v'>0</span></li><li><span class='ee-k'>4:</span><span class='ee-v'>0</span></li><li><span class='ee-k'>5:</span><span class='ee-v'>0</span></li><li><span class='ee-k'>6:</span><span class='ee-v'>0</span></li><li><span class='ee-k'>7:</span><span class='ee-v'>0</span></li><li><span class='ee-k'>8:</span><span class='ee-v'>0</span></li></ul></li><li><label class='ee-shut'>8: [0, 0, 0, 0, 0, 0, 0, 0, 9]<input type='checkbox' class='ee-toggle'></label><ul><li><span class='ee-k'>0:</span><span class='ee-v'>0</span></li><li><span class='ee-k'>1:</span><span class='ee-v'>0</span></li><li><span class='ee-k'>2:</span><span class='ee-v'>0</span></li><li><span class='ee-k'>3:</span><span class='ee-v'>0</span></li><li><span class='ee-k'>4:</span><span class='ee-v'>0</span></li><li><span class='ee-k'>5:</span><span class='ee-v'>0</span></li><li><span class='ee-k'>6:</span><span class='ee-v'>0</span></li><li><span class='ee-k'>7:</span><span class='ee-v'>0</span></li><li><span class='ee-k'>8:</span><span class='ee-v'>9</span></li></ul></li></ul></li><li><span class='ee-k'>system:index:</span><span class='ee-v'>7</span></li></ul></li></ul></li><li><label class='ee-shut'>8: Image (1 band)<input type='checkbox' class='ee-toggle'></label><ul><li><span class='ee-k'>type:</span><span class='ee-v'>Image</span></li><li><label class='ee-shut'>bands: List (1 element)<input type='checkbox' class='ee-toggle'></label><ul><li><label class='ee-shut'>0: \"classification\", signed int32, EPSG:4326, 362x118 px<input type='checkbox' class='ee-toggle'></label><ul><li><span class='ee-k'>id:</span><span class='ee-v'>classification</span></li><li><span class='ee-k'>crs:</span><span class='ee-v'>EPSG:4326</span></li><li><label class='ee-shut'>crs_transform: [1, 0, 0, 0, 1, 0]<input type='checkbox' class='ee-toggle'></label><ul><li><span class='ee-k'>0:</span><span class='ee-v'>1</span></li><li><span class='ee-k'>1:</span><span class='ee-v'>0</span></li><li><span class='ee-k'>2:</span><span class='ee-v'>0</span></li><li><span class='ee-k'>3:</span><span class='ee-v'>0</span></li><li><span class='ee-k'>4:</span><span class='ee-v'>1</span></li><li><span class='ee-k'>5:</span><span class='ee-v'>0</span></li></ul></li><li><label class='ee-shut'>data_type: signed int32<input type='checkbox' class='ee-toggle'></label><ul><li><span class='ee-k'>type:</span><span class='ee-v'>PixelType</span></li><li><span class='ee-k'>max:</span><span class='ee-v'>2147483647</span></li><li><span class='ee-k'>min:</span><span class='ee-v'>-2147483648</span></li><li><span class='ee-k'>precision:</span><span class='ee-v'>int</span></li></ul></li><li><label class='ee-shut'>dimensions: [362, 118]<input type='checkbox' class='ee-toggle'></label><ul><li><span class='ee-k'>0:</span><span class='ee-v'>362</span></li><li><span class='ee-k'>1:</span><span class='ee-v'>118</span></li></ul></li><li><label class='ee-shut'>origin: [-181, -57]<input type='checkbox' class='ee-toggle'></label><ul><li><span class='ee-k'>0:</span><span class='ee-v'>-181</span></li><li><span class='ee-k'>1:</span><span class='ee-v'>-57</span></li></ul></li></ul></li></ul></li><li><label class='ee-shut'>properties: Object (4 properties)<input type='checkbox' class='ee-toggle'></label><ul><li><span class='ee-k'>acc:</span><span class='ee-v'>1</span></li><li><span class='ee-k'>num:</span><span class='ee-v'>147</span></li><li><label class='ee-shut'>raw: List (9 elements)<input type='checkbox' class='ee-toggle'></label><ul><li><label class='ee-shut'>0: [0, 0, 0, 0, 0, 0, 0, 0, 0]<input type='checkbox' class='ee-toggle'></label><ul><li><span class='ee-k'>0:</span><span class='ee-v'>0</span></li><li><span class='ee-k'>1:</span><span class='ee-v'>0</span></li><li><span class='ee-k'>2:</span><span class='ee-v'>0</span></li><li><span class='ee-k'>3:</span><span class='ee-v'>0</span></li><li><span class='ee-k'>4:</span><span class='ee-v'>0</span></li><li><span class='ee-k'>5:</span><span class='ee-v'>0</span></li><li><span class='ee-k'>6:</span><span class='ee-v'>0</span></li><li><span class='ee-k'>7:</span><span class='ee-v'>0</span></li><li><span class='ee-k'>8:</span><span class='ee-v'>0</span></li></ul></li><li><label class='ee-shut'>1: [0, 3, 0, 0, 0, 0, 0, 0, 0]<input type='checkbox' class='ee-toggle'></label><ul><li><span class='ee-k'>0:</span><span class='ee-v'>0</span></li><li><span class='ee-k'>1:</span><span class='ee-v'>3</span></li><li><span class='ee-k'>2:</span><span class='ee-v'>0</span></li><li><span class='ee-k'>3:</span><span class='ee-v'>0</span></li><li><span class='ee-k'>4:</span><span class='ee-v'>0</span></li><li><span class='ee-k'>5:</span><span class='ee-v'>0</span></li><li><span class='ee-k'>6:</span><span class='ee-v'>0</span></li><li><span class='ee-k'>7:</span><span class='ee-v'>0</span></li><li><span class='ee-k'>8:</span><span class='ee-v'>0</span></li></ul></li><li><label class='ee-shut'>2: [0, 0, 4, 0, 0, 0, 0, 0, 0]<input type='checkbox' class='ee-toggle'></label><ul><li><span class='ee-k'>0:</span><span class='ee-v'>0</span></li><li><span class='ee-k'>1:</span><span class='ee-v'>0</span></li><li><span class='ee-k'>2:</span><span class='ee-v'>4</span></li><li><span class='ee-k'>3:</span><span class='ee-v'>0</span></li><li><span class='ee-k'>4:</span><span class='ee-v'>0</span></li><li><span class='ee-k'>5:</span><span class='ee-v'>0</span></li><li><span class='ee-k'>6:</span><span class='ee-v'>0</span></li><li><span class='ee-k'>7:</span><span class='ee-v'>0</span></li><li><span class='ee-k'>8:</span><span class='ee-v'>0</span></li></ul></li><li><label class='ee-shut'>3: [0, 0, 0, 60, 0, 0, 0, 0, 0]<input type='checkbox' class='ee-toggle'></label><ul><li><span class='ee-k'>0:</span><span class='ee-v'>0</span></li><li><span class='ee-k'>1:</span><span class='ee-v'>0</span></li><li><span class='ee-k'>2:</span><span class='ee-v'>0</span></li><li><span class='ee-k'>3:</span><span class='ee-v'>60</span></li><li><span class='ee-k'>4:</span><span class='ee-v'>0</span></li><li><span class='ee-k'>5:</span><span class='ee-v'>0</span></li><li><span class='ee-k'>6:</span><span class='ee-v'>0</span></li><li><span class='ee-k'>7:</span><span class='ee-v'>0</span></li><li><span class='ee-k'>8:</span><span class='ee-v'>0</span></li></ul></li><li><label class='ee-shut'>4: [0, 0, 0, 0, 18, 0, 0, 0, 0]<input type='checkbox' class='ee-toggle'></label><ul><li><span class='ee-k'>0:</span><span class='ee-v'>0</span></li><li><span class='ee-k'>1:</span><span class='ee-v'>0</span></li><li><span class='ee-k'>2:</span><span class='ee-v'>0</span></li><li><span class='ee-k'>3:</span><span class='ee-v'>0</span></li><li><span class='ee-k'>4:</span><span class='ee-v'>18</span></li><li><span class='ee-k'>5:</span><span class='ee-v'>0</span></li><li><span class='ee-k'>6:</span><span class='ee-v'>0</span></li><li><span class='ee-k'>7:</span><span class='ee-v'>0</span></li><li><span class='ee-k'>8:</span><span class='ee-v'>0</span></li></ul></li><li><label class='ee-shut'>5: [0, 0, 0, 0, 0, 36, 0, 0, 0]<input type='checkbox' class='ee-toggle'></label><ul><li><span class='ee-k'>0:</span><span class='ee-v'>0</span></li><li><span class='ee-k'>1:</span><span class='ee-v'>0</span></li><li><span class='ee-k'>2:</span><span class='ee-v'>0</span></li><li><span class='ee-k'>3:</span><span class='ee-v'>0</span></li><li><span class='ee-k'>4:</span><span class='ee-v'>0</span></li><li><span class='ee-k'>5:</span><span class='ee-v'>36</span></li><li><span class='ee-k'>6:</span><span class='ee-v'>0</span></li><li><span class='ee-k'>7:</span><span class='ee-v'>0</span></li><li><span class='ee-k'>8:</span><span class='ee-v'>0</span></li></ul></li><li><label class='ee-shut'>6: [0, 0, 0, 0, 0, 0, 11, 0, 0]<input type='checkbox' class='ee-toggle'></label><ul><li><span class='ee-k'>0:</span><span class='ee-v'>0</span></li><li><span class='ee-k'>1:</span><span class='ee-v'>0</span></li><li><span class='ee-k'>2:</span><span class='ee-v'>0</span></li><li><span class='ee-k'>3:</span><span class='ee-v'>0</span></li><li><span class='ee-k'>4:</span><span class='ee-v'>0</span></li><li><span class='ee-k'>5:</span><span class='ee-v'>0</span></li><li><span class='ee-k'>6:</span><span class='ee-v'>11</span></li><li><span class='ee-k'>7:</span><span class='ee-v'>0</span></li><li><span class='ee-k'>8:</span><span class='ee-v'>0</span></li></ul></li><li><label class='ee-shut'>7: [0, 0, 0, 0, 0, 0, 0, 15, 0]<input type='checkbox' class='ee-toggle'></label><ul><li><span class='ee-k'>0:</span><span class='ee-v'>0</span></li><li><span class='ee-k'>1:</span><span class='ee-v'>0</span></li><li><span class='ee-k'>2:</span><span class='ee-v'>0</span></li><li><span class='ee-k'>3:</span><span class='ee-v'>0</span></li><li><span class='ee-k'>4:</span><span class='ee-v'>0</span></li><li><span class='ee-k'>5:</span><span class='ee-v'>0</span></li><li><span class='ee-k'>6:</span><span class='ee-v'>0</span></li><li><span class='ee-k'>7:</span><span class='ee-v'>15</span></li><li><span class='ee-k'>8:</span><span class='ee-v'>0</span></li></ul></li><li><label class='ee-shut'>8: [0, 0, 0, 0, 0, 0, 0, 0, 0]<input type='checkbox' class='ee-toggle'></label><ul><li><span class='ee-k'>0:</span><span class='ee-v'>0</span></li><li><span class='ee-k'>1:</span><span class='ee-v'>0</span></li><li><span class='ee-k'>2:</span><span class='ee-v'>0</span></li><li><span class='ee-k'>3:</span><span class='ee-v'>0</span></li><li><span class='ee-k'>4:</span><span class='ee-v'>0</span></li><li><span class='ee-k'>5:</span><span class='ee-v'>0</span></li><li><span class='ee-k'>6:</span><span class='ee-v'>0</span></li><li><span class='ee-k'>7:</span><span class='ee-v'>0</span></li><li><span class='ee-k'>8:</span><span class='ee-v'>0</span></li></ul></li></ul></li><li><span class='ee-k'>system:index:</span><span class='ee-v'>8</span></li></ul></li></ul></li><li><label class='ee-shut'>9: Image (1 band)<input type='checkbox' class='ee-toggle'></label><ul><li><span class='ee-k'>type:</span><span class='ee-v'>Image</span></li><li><label class='ee-shut'>bands: List (1 element)<input type='checkbox' class='ee-toggle'></label><ul><li><label class='ee-shut'>0: \"classification\", signed int32, EPSG:4326, 362x118 px<input type='checkbox' class='ee-toggle'></label><ul><li><span class='ee-k'>id:</span><span class='ee-v'>classification</span></li><li><span class='ee-k'>crs:</span><span class='ee-v'>EPSG:4326</span></li><li><label class='ee-shut'>crs_transform: [1, 0, 0, 0, 1, 0]<input type='checkbox' class='ee-toggle'></label><ul><li><span class='ee-k'>0:</span><span class='ee-v'>1</span></li><li><span class='ee-k'>1:</span><span class='ee-v'>0</span></li><li><span class='ee-k'>2:</span><span class='ee-v'>0</span></li><li><span class='ee-k'>3:</span><span class='ee-v'>0</span></li><li><span class='ee-k'>4:</span><span class='ee-v'>1</span></li><li><span class='ee-k'>5:</span><span class='ee-v'>0</span></li></ul></li><li><label class='ee-shut'>data_type: signed int32<input type='checkbox' class='ee-toggle'></label><ul><li><span class='ee-k'>type:</span><span class='ee-v'>PixelType</span></li><li><span class='ee-k'>max:</span><span class='ee-v'>2147483647</span></li><li><span class='ee-k'>min:</span><span class='ee-v'>-2147483648</span></li><li><span class='ee-k'>precision:</span><span class='ee-v'>int</span></li></ul></li><li><label class='ee-shut'>dimensions: [362, 118]<input type='checkbox' class='ee-toggle'></label><ul><li><span class='ee-k'>0:</span><span class='ee-v'>362</span></li><li><span class='ee-k'>1:</span><span class='ee-v'>118</span></li></ul></li><li><label class='ee-shut'>origin: [-181, -57]<input type='checkbox' class='ee-toggle'></label><ul><li><span class='ee-k'>0:</span><span class='ee-v'>-181</span></li><li><span class='ee-k'>1:</span><span class='ee-v'>-57</span></li></ul></li></ul></li></ul></li><li><label class='ee-shut'>properties: Object (4 properties)<input type='checkbox' class='ee-toggle'></label><ul><li><span class='ee-k'>acc:</span><span class='ee-v'>1</span></li><li><span class='ee-k'>num:</span><span class='ee-v'>144</span></li><li><label class='ee-shut'>raw: List (9 elements)<input type='checkbox' class='ee-toggle'></label><ul><li><label class='ee-shut'>0: [0, 0, 0, 0, 0, 0, 0, 0, 0]<input type='checkbox' class='ee-toggle'></label><ul><li><span class='ee-k'>0:</span><span class='ee-v'>0</span></li><li><span class='ee-k'>1:</span><span class='ee-v'>0</span></li><li><span class='ee-k'>2:</span><span class='ee-v'>0</span></li><li><span class='ee-k'>3:</span><span class='ee-v'>0</span></li><li><span class='ee-k'>4:</span><span class='ee-v'>0</span></li><li><span class='ee-k'>5:</span><span class='ee-v'>0</span></li><li><span class='ee-k'>6:</span><span class='ee-v'>0</span></li><li><span class='ee-k'>7:</span><span class='ee-v'>0</span></li><li><span class='ee-k'>8:</span><span class='ee-v'>0</span></li></ul></li><li><label class='ee-shut'>1: [0, 0, 0, 0, 0, 0, 0, 0, 0]<input type='checkbox' class='ee-toggle'></label><ul><li><span class='ee-k'>0:</span><span class='ee-v'>0</span></li><li><span class='ee-k'>1:</span><span class='ee-v'>0</span></li><li><span class='ee-k'>2:</span><span class='ee-v'>0</span></li><li><span class='ee-k'>3:</span><span class='ee-v'>0</span></li><li><span class='ee-k'>4:</span><span class='ee-v'>0</span></li><li><span class='ee-k'>5:</span><span class='ee-v'>0</span></li><li><span class='ee-k'>6:</span><span class='ee-v'>0</span></li><li><span class='ee-k'>7:</span><span class='ee-v'>0</span></li><li><span class='ee-k'>8:</span><span class='ee-v'>0</span></li></ul></li><li><label class='ee-shut'>2: [0, 0, 0, 0, 0, 0, 0, 0, 0]<input type='checkbox' class='ee-toggle'></label><ul><li><span class='ee-k'>0:</span><span class='ee-v'>0</span></li><li><span class='ee-k'>1:</span><span class='ee-v'>0</span></li><li><span class='ee-k'>2:</span><span class='ee-v'>0</span></li><li><span class='ee-k'>3:</span><span class='ee-v'>0</span></li><li><span class='ee-k'>4:</span><span class='ee-v'>0</span></li><li><span class='ee-k'>5:</span><span class='ee-v'>0</span></li><li><span class='ee-k'>6:</span><span class='ee-v'>0</span></li><li><span class='ee-k'>7:</span><span class='ee-v'>0</span></li><li><span class='ee-k'>8:</span><span class='ee-v'>0</span></li></ul></li><li><label class='ee-shut'>3: [0, 0, 0, 26, 0, 0, 0, 0, 0]<input type='checkbox' class='ee-toggle'></label><ul><li><span class='ee-k'>0:</span><span class='ee-v'>0</span></li><li><span class='ee-k'>1:</span><span class='ee-v'>0</span></li><li><span class='ee-k'>2:</span><span class='ee-v'>0</span></li><li><span class='ee-k'>3:</span><span class='ee-v'>26</span></li><li><span class='ee-k'>4:</span><span class='ee-v'>0</span></li><li><span class='ee-k'>5:</span><span class='ee-v'>0</span></li><li><span class='ee-k'>6:</span><span class='ee-v'>0</span></li><li><span class='ee-k'>7:</span><span class='ee-v'>0</span></li><li><span class='ee-k'>8:</span><span class='ee-v'>0</span></li></ul></li><li><label class='ee-shut'>4: [0, 0, 0, 0, 105, 0, 0, 0, 0]<input type='checkbox' class='ee-toggle'></label><ul><li><span class='ee-k'>0:</span><span class='ee-v'>0</span></li><li><span class='ee-k'>1:</span><span class='ee-v'>0</span></li><li><span class='ee-k'>2:</span><span class='ee-v'>0</span></li><li><span class='ee-k'>3:</span><span class='ee-v'>0</span></li><li><span class='ee-k'>4:</span><span class='ee-v'>105</span></li><li><span class='ee-k'>5:</span><span class='ee-v'>0</span></li><li><span class='ee-k'>6:</span><span class='ee-v'>0</span></li><li><span class='ee-k'>7:</span><span class='ee-v'>0</span></li><li><span class='ee-k'>8:</span><span class='ee-v'>0</span></li></ul></li><li><label class='ee-shut'>5: [0, 0, 0, 0, 0, 13, 0, 0, 0]<input type='checkbox' class='ee-toggle'></label><ul><li><span class='ee-k'>0:</span><span class='ee-v'>0</span></li><li><span class='ee-k'>1:</span><span class='ee-v'>0</span></li><li><span class='ee-k'>2:</span><span class='ee-v'>0</span></li><li><span class='ee-k'>3:</span><span class='ee-v'>0</span></li><li><span class='ee-k'>4:</span><span class='ee-v'>0</span></li><li><span class='ee-k'>5:</span><span class='ee-v'>13</span></li><li><span class='ee-k'>6:</span><span class='ee-v'>0</span></li><li><span class='ee-k'>7:</span><span class='ee-v'>0</span></li><li><span class='ee-k'>8:</span><span class='ee-v'>0</span></li></ul></li><li><label class='ee-shut'>6: [0, 0, 0, 0, 0, 0, 0, 0, 0]<input type='checkbox' class='ee-toggle'></label><ul><li><span class='ee-k'>0:</span><span class='ee-v'>0</span></li><li><span class='ee-k'>1:</span><span class='ee-v'>0</span></li><li><span class='ee-k'>2:</span><span class='ee-v'>0</span></li><li><span class='ee-k'>3:</span><span class='ee-v'>0</span></li><li><span class='ee-k'>4:</span><span class='ee-v'>0</span></li><li><span class='ee-k'>5:</span><span class='ee-v'>0</span></li><li><span class='ee-k'>6:</span><span class='ee-v'>0</span></li><li><span class='ee-k'>7:</span><span class='ee-v'>0</span></li><li><span class='ee-k'>8:</span><span class='ee-v'>0</span></li></ul></li><li><label class='ee-shut'>7: [0, 0, 0, 0, 0, 0, 0, 0, 0]<input type='checkbox' class='ee-toggle'></label><ul><li><span class='ee-k'>0:</span><span class='ee-v'>0</span></li><li><span class='ee-k'>1:</span><span class='ee-v'>0</span></li><li><span class='ee-k'>2:</span><span class='ee-v'>0</span></li><li><span class='ee-k'>3:</span><span class='ee-v'>0</span></li><li><span class='ee-k'>4:</span><span class='ee-v'>0</span></li><li><span class='ee-k'>5:</span><span class='ee-v'>0</span></li><li><span class='ee-k'>6:</span><span class='ee-v'>0</span></li><li><span class='ee-k'>7:</span><span class='ee-v'>0</span></li><li><span class='ee-k'>8:</span><span class='ee-v'>0</span></li></ul></li><li><label class='ee-shut'>8: [0, 0, 0, 0, 0, 0, 0, 0, 0]<input type='checkbox' class='ee-toggle'></label><ul><li><span class='ee-k'>0:</span><span class='ee-v'>0</span></li><li><span class='ee-k'>1:</span><span class='ee-v'>0</span></li><li><span class='ee-k'>2:</span><span class='ee-v'>0</span></li><li><span class='ee-k'>3:</span><span class='ee-v'>0</span></li><li><span class='ee-k'>4:</span><span class='ee-v'>0</span></li><li><span class='ee-k'>5:</span><span class='ee-v'>0</span></li><li><span class='ee-k'>6:</span><span class='ee-v'>0</span></li><li><span class='ee-k'>7:</span><span class='ee-v'>0</span></li><li><span class='ee-k'>8:</span><span class='ee-v'>0</span></li></ul></li></ul></li><li><span class='ee-k'>system:index:</span><span class='ee-v'>9</span></li></ul></li></ul></li></ul></li></ul></li></ul></div><script>function toggleHeader() {\n",
              "    const parent = this.parentElement;\n",
              "    parent.className = parent.className === \"ee-open\" ? \"ee-shut\" : \"ee-open\";\n",
              "}\n",
              "\n",
              "for (let c of document.getElementsByClassName(\"ee-toggle\")) {\n",
              "    c.onclick = toggleHeader;\n",
              "}</script></div>"
            ],
            "text/plain": [
              "<ee.imagecollection.ImageCollection at 0x7f0e8a1f6a00>"
            ]
          },
          "execution_count": 16,
          "metadata": {},
          "output_type": "execute_result"
        }
      ],
      "source": [
        "# fit k-fold classifiers\n",
        "# apply function and train kfold classifieres\n",
        "result = prepareModel(dataset = train, responseCol = label, inferenceImage = X, bandNames = bandnames).kFoldCV(10)\n",
        "result"
      ]
    },
    {
      "cell_type": "markdown",
      "id": "fb3804b8-88c1-4e4d-987d-4c612e75e8a8",
      "metadata": {
        "id": "fb3804b8-88c1-4e4d-987d-4c612e75e8a8"
      },
      "source": [
        "## Step 6: Model evaluation\n",
        "\n",
        "### Compute average accuracy and summed confusion matrix for all folds"
      ]
    },
    {
      "cell_type": "code",
      "execution_count": null,
      "id": "d13a5cfc-8a8a-4744-ae6d-40fccc4574e3",
      "metadata": {
        "colab": {
          "base_uri": "https://localhost:8080/",
          "height": 85
        },
        "id": "d13a5cfc-8a8a-4744-ae6d-40fccc4574e3",
        "outputId": "73fea94e-d2f9-4330-fe1a-6eebd74a77d3"
      },
      "outputs": [
        {
          "name": "stdout",
          "output_type": "stream",
          "text": [
            "The average accuracy is [1] across 10 folds\n"
          ]
        },
        {
          "data": {
            "text/html": [
              "<div><style>:root {\n",
              "  --font-color-primary: var(--jp-content-font-color0, rgba(0, 0, 0, 1));\n",
              "  --font-color-secondary: var(--jp-content-font-color2, rgba(0, 0, 0, 0.6));\n",
              "  --font-color-accent: rgba(123, 31, 162, 1);\n",
              "  --border-color: var(--jp-border-color2, #e0e0e0);\n",
              "  --background-color: var(--jp-layout-color0, white);\n",
              "  --background-color-row-even: var(--jp-layout-color1, white);\n",
              "  --background-color-row-odd: var(--jp-layout-color2, #eeeeee);\n",
              "}\n",
              "\n",
              "html[theme=\"dark\"],\n",
              "body[data-theme=\"dark\"],\n",
              "body.vscode-dark {\n",
              "  --font-color-primary: rgba(255, 255, 255, 1);\n",
              "  --font-color-secondary: rgba(255, 255, 255, 0.6);\n",
              "  --font-color-accent: rgb(173, 132, 190);\n",
              "  --border-color: #2e2e2e;\n",
              "  --background-color: #111111;\n",
              "  --background-color-row-even: #111111;\n",
              "  --background-color-row-odd: #313131;\n",
              "}\n",
              "\n",
              ".ee {\n",
              "  padding: 1em;\n",
              "  line-height: 1.5em;\n",
              "  min-width: 300px;\n",
              "  max-width: 1200px;\n",
              "  overflow-y: scroll;\n",
              "  max-height: 600px;\n",
              "  border: 1px solid var(--border-color);\n",
              "  font-family: monospace;\n",
              "}\n",
              "\n",
              ".ee li {\n",
              "  list-style-type: none;\n",
              "}\n",
              "\n",
              ".ee ul {\n",
              "  padding-left: 1.5em !important;\n",
              "  margin: 0;\n",
              "}\n",
              "\n",
              ".ee > ul {\n",
              "  padding-left: 0 !important;\n",
              "}\n",
              "\n",
              ".ee-open,\n",
              ".ee-shut {\n",
              "  color: var(--font-color-secondary);\n",
              "  cursor: pointer;\n",
              "  margin: 0;\n",
              "}\n",
              "\n",
              ".ee-open:hover,\n",
              ".ee-shut:hover {\n",
              "  color: var(--font-color-primary);\n",
              "}\n",
              "\n",
              ".ee-k {\n",
              "  color: var(--font-color-accent);\n",
              "  margin-right: 6px;\n",
              "}\n",
              "\n",
              ".ee-v {\n",
              "  color: var(--font-color-primary);\n",
              "}\n",
              "\n",
              ".ee-toggle {\n",
              "  display: none;\n",
              "}\n",
              "\n",
              ".ee-shut + ul {\n",
              "  display: none;\n",
              "}\n",
              "\n",
              ".ee-open + ul {\n",
              "  display: block;\n",
              "}\n",
              "\n",
              ".ee-shut::before {\n",
              "  display: inline-block;\n",
              "  content: \"▼\";\n",
              "  margin-right: 6px;\n",
              "  transform: rotate(-90deg);\n",
              "  transition: transform 0.2s;\n",
              "}\n",
              "\n",
              ".ee-open::before {\n",
              "  transform: rotate(0deg);\n",
              "  display: inline-block;\n",
              "  content: \"▼\";\n",
              "  margin-right: 6px;\n",
              "  transition: transform 0.2s;\n",
              "}\n",
              "</style><div class='ee'><ul><li><label class='ee-shut'>Image (1 band)<input type='checkbox' class='ee-toggle'></label><ul><li><span class='ee-k'>type:</span><span class='ee-v'>Image</span></li><li><label class='ee-shut'>bands: List (1 element)<input type='checkbox' class='ee-toggle'></label><ul><li><label class='ee-shut'>0: \"classification\", signed int32, EPSG:4326<input type='checkbox' class='ee-toggle'></label><ul><li><span class='ee-k'>id:</span><span class='ee-v'>classification</span></li><li><span class='ee-k'>crs:</span><span class='ee-v'>EPSG:4326</span></li><li><label class='ee-shut'>crs_transform: [1, 0, 0, 0, 1, 0]<input type='checkbox' class='ee-toggle'></label><ul><li><span class='ee-k'>0:</span><span class='ee-v'>1</span></li><li><span class='ee-k'>1:</span><span class='ee-v'>0</span></li><li><span class='ee-k'>2:</span><span class='ee-v'>0</span></li><li><span class='ee-k'>3:</span><span class='ee-v'>0</span></li><li><span class='ee-k'>4:</span><span class='ee-v'>1</span></li><li><span class='ee-k'>5:</span><span class='ee-v'>0</span></li></ul></li><li><label class='ee-shut'>data_type: signed int32<input type='checkbox' class='ee-toggle'></label><ul><li><span class='ee-k'>type:</span><span class='ee-v'>PixelType</span></li><li><span class='ee-k'>max:</span><span class='ee-v'>2147483647</span></li><li><span class='ee-k'>min:</span><span class='ee-v'>-2147483648</span></li><li><span class='ee-k'>precision:</span><span class='ee-v'>int</span></li></ul></li></ul></li></ul></li><li><label class='ee-shut'>properties: Object (4 properties)<input type='checkbox' class='ee-toggle'></label><ul><li><label class='ee-shut'>acc: [1]<input type='checkbox' class='ee-toggle'></label><ul><li><span class='ee-k'>0:</span><span class='ee-v'>1</span></li></ul></li><li><label class='ee-shut'>ca: [[1, 1, 1, 1, 1, 1, 1, 1, 1]]<input type='checkbox' class='ee-toggle'></label><ul><li><label class='ee-shut'>0: [1, 1, 1, 1, 1, 1, 1, 1, 1]<input type='checkbox' class='ee-toggle'></label><ul><li><span class='ee-k'>0:</span><span class='ee-v'>1</span></li><li><span class='ee-k'>1:</span><span class='ee-v'>1</span></li><li><span class='ee-k'>2:</span><span class='ee-v'>1</span></li><li><span class='ee-k'>3:</span><span class='ee-v'>1</span></li><li><span class='ee-k'>4:</span><span class='ee-v'>1</span></li><li><span class='ee-k'>5:</span><span class='ee-v'>1</span></li><li><span class='ee-k'>6:</span><span class='ee-v'>1</span></li><li><span class='ee-k'>7:</span><span class='ee-v'>1</span></li><li><span class='ee-k'>8:</span><span class='ee-v'>1</span></li></ul></li></ul></li><li><label class='ee-shut'>confusion: List (9 elements)<input type='checkbox' class='ee-toggle'></label><ul><li><label class='ee-shut'>0: [115, 0, 0, 0, 0, 0, 0, 0, 0]<input type='checkbox' class='ee-toggle'></label><ul><li><span class='ee-k'>0:</span><span class='ee-v'>115</span></li><li><span class='ee-k'>1:</span><span class='ee-v'>0</span></li><li><span class='ee-k'>2:</span><span class='ee-v'>0</span></li><li><span class='ee-k'>3:</span><span class='ee-v'>0</span></li><li><span class='ee-k'>4:</span><span class='ee-v'>0</span></li><li><span class='ee-k'>5:</span><span class='ee-v'>0</span></li><li><span class='ee-k'>6:</span><span class='ee-v'>0</span></li><li><span class='ee-k'>7:</span><span class='ee-v'>0</span></li><li><span class='ee-k'>8:</span><span class='ee-v'>0</span></li></ul></li><li><label class='ee-shut'>1: [0, 414, 0, 0, 0, 0, 0, 0, 0]<input type='checkbox' class='ee-toggle'></label><ul><li><span class='ee-k'>0:</span><span class='ee-v'>0</span></li><li><span class='ee-k'>1:</span><span class='ee-v'>414</span></li><li><span class='ee-k'>2:</span><span class='ee-v'>0</span></li><li><span class='ee-k'>3:</span><span class='ee-v'>0</span></li><li><span class='ee-k'>4:</span><span class='ee-v'>0</span></li><li><span class='ee-k'>5:</span><span class='ee-v'>0</span></li><li><span class='ee-k'>6:</span><span class='ee-v'>0</span></li><li><span class='ee-k'>7:</span><span class='ee-v'>0</span></li><li><span class='ee-k'>8:</span><span class='ee-v'>0</span></li></ul></li><li><label class='ee-shut'>2: [0, 0, 404, 0, 0, 0, 0, 0, 0]<input type='checkbox' class='ee-toggle'></label><ul><li><span class='ee-k'>0:</span><span class='ee-v'>0</span></li><li><span class='ee-k'>1:</span><span class='ee-v'>0</span></li><li><span class='ee-k'>2:</span><span class='ee-v'>404</span></li><li><span class='ee-k'>3:</span><span class='ee-v'>0</span></li><li><span class='ee-k'>4:</span><span class='ee-v'>0</span></li><li><span class='ee-k'>5:</span><span class='ee-v'>0</span></li><li><span class='ee-k'>6:</span><span class='ee-v'>0</span></li><li><span class='ee-k'>7:</span><span class='ee-v'>0</span></li><li><span class='ee-k'>8:</span><span class='ee-v'>0</span></li></ul></li><li><label class='ee-shut'>3: [0, 0, 0, 400, 0, 0, 0, 0, 0]<input type='checkbox' class='ee-toggle'></label><ul><li><span class='ee-k'>0:</span><span class='ee-v'>0</span></li><li><span class='ee-k'>1:</span><span class='ee-v'>0</span></li><li><span class='ee-k'>2:</span><span class='ee-v'>0</span></li><li><span class='ee-k'>3:</span><span class='ee-v'>400</span></li><li><span class='ee-k'>4:</span><span class='ee-v'>0</span></li><li><span class='ee-k'>5:</span><span class='ee-v'>0</span></li><li><span class='ee-k'>6:</span><span class='ee-v'>0</span></li><li><span class='ee-k'>7:</span><span class='ee-v'>0</span></li><li><span class='ee-k'>8:</span><span class='ee-v'>0</span></li></ul></li><li><label class='ee-shut'>4: [0, 0, 0, 0, 400, 0, 0, 0, 0]<input type='checkbox' class='ee-toggle'></label><ul><li><span class='ee-k'>0:</span><span class='ee-v'>0</span></li><li><span class='ee-k'>1:</span><span class='ee-v'>0</span></li><li><span class='ee-k'>2:</span><span class='ee-v'>0</span></li><li><span class='ee-k'>3:</span><span class='ee-v'>0</span></li><li><span class='ee-k'>4:</span><span class='ee-v'>400</span></li><li><span class='ee-k'>5:</span><span class='ee-v'>0</span></li><li><span class='ee-k'>6:</span><span class='ee-v'>0</span></li><li><span class='ee-k'>7:</span><span class='ee-v'>0</span></li><li><span class='ee-k'>8:</span><span class='ee-v'>0</span></li></ul></li><li><label class='ee-shut'>5: [0, 0, 0, 0, 0, 400, 0, 0, 0]<input type='checkbox' class='ee-toggle'></label><ul><li><span class='ee-k'>0:</span><span class='ee-v'>0</span></li><li><span class='ee-k'>1:</span><span class='ee-v'>0</span></li><li><span class='ee-k'>2:</span><span class='ee-v'>0</span></li><li><span class='ee-k'>3:</span><span class='ee-v'>0</span></li><li><span class='ee-k'>4:</span><span class='ee-v'>0</span></li><li><span class='ee-k'>5:</span><span class='ee-v'>400</span></li><li><span class='ee-k'>6:</span><span class='ee-v'>0</span></li><li><span class='ee-k'>7:</span><span class='ee-v'>0</span></li><li><span class='ee-k'>8:</span><span class='ee-v'>0</span></li></ul></li><li><label class='ee-shut'>6: [0, 0, 0, 0, 0, 0, 400, 0, 0]<input type='checkbox' class='ee-toggle'></label><ul><li><span class='ee-k'>0:</span><span class='ee-v'>0</span></li><li><span class='ee-k'>1:</span><span class='ee-v'>0</span></li><li><span class='ee-k'>2:</span><span class='ee-v'>0</span></li><li><span class='ee-k'>3:</span><span class='ee-v'>0</span></li><li><span class='ee-k'>4:</span><span class='ee-v'>0</span></li><li><span class='ee-k'>5:</span><span class='ee-v'>0</span></li><li><span class='ee-k'>6:</span><span class='ee-v'>400</span></li><li><span class='ee-k'>7:</span><span class='ee-v'>0</span></li><li><span class='ee-k'>8:</span><span class='ee-v'>0</span></li></ul></li><li><label class='ee-shut'>7: [0, 0, 0, 0, 0, 0, 0, 200, 0]<input type='checkbox' class='ee-toggle'></label><ul><li><span class='ee-k'>0:</span><span class='ee-v'>0</span></li><li><span class='ee-k'>1:</span><span class='ee-v'>0</span></li><li><span class='ee-k'>2:</span><span class='ee-v'>0</span></li><li><span class='ee-k'>3:</span><span class='ee-v'>0</span></li><li><span class='ee-k'>4:</span><span class='ee-v'>0</span></li><li><span class='ee-k'>5:</span><span class='ee-v'>0</span></li><li><span class='ee-k'>6:</span><span class='ee-v'>0</span></li><li><span class='ee-k'>7:</span><span class='ee-v'>200</span></li><li><span class='ee-k'>8:</span><span class='ee-v'>0</span></li></ul></li><li><label class='ee-shut'>8: [0, 0, 0, 0, 0, 0, 0, 0, 71]<input type='checkbox' class='ee-toggle'></label><ul><li><span class='ee-k'>0:</span><span class='ee-v'>0</span></li><li><span class='ee-k'>1:</span><span class='ee-v'>0</span></li><li><span class='ee-k'>2:</span><span class='ee-v'>0</span></li><li><span class='ee-k'>3:</span><span class='ee-v'>0</span></li><li><span class='ee-k'>4:</span><span class='ee-v'>0</span></li><li><span class='ee-k'>5:</span><span class='ee-v'>0</span></li><li><span class='ee-k'>6:</span><span class='ee-v'>0</span></li><li><span class='ee-k'>7:</span><span class='ee-v'>0</span></li><li><span class='ee-k'>8:</span><span class='ee-v'>71</span></li></ul></li></ul></li><li><label class='ee-shut'>pa: [[1], [1], [1], [1], [1], [1], [1], [1], [1]]<input type='checkbox' class='ee-toggle'></label><ul><li><label class='ee-shut'>0: [1]<input type='checkbox' class='ee-toggle'></label><ul><li><span class='ee-k'>0:</span><span class='ee-v'>1</span></li></ul></li><li><label class='ee-shut'>1: [1]<input type='checkbox' class='ee-toggle'></label><ul><li><span class='ee-k'>0:</span><span class='ee-v'>1</span></li></ul></li><li><label class='ee-shut'>2: [1]<input type='checkbox' class='ee-toggle'></label><ul><li><span class='ee-k'>0:</span><span class='ee-v'>1</span></li></ul></li><li><label class='ee-shut'>3: [1]<input type='checkbox' class='ee-toggle'></label><ul><li><span class='ee-k'>0:</span><span class='ee-v'>1</span></li></ul></li><li><label class='ee-shut'>4: [1]<input type='checkbox' class='ee-toggle'></label><ul><li><span class='ee-k'>0:</span><span class='ee-v'>1</span></li></ul></li><li><label class='ee-shut'>5: [1]<input type='checkbox' class='ee-toggle'></label><ul><li><span class='ee-k'>0:</span><span class='ee-v'>1</span></li></ul></li><li><label class='ee-shut'>6: [1]<input type='checkbox' class='ee-toggle'></label><ul><li><span class='ee-k'>0:</span><span class='ee-v'>1</span></li></ul></li><li><label class='ee-shut'>7: [1]<input type='checkbox' class='ee-toggle'></label><ul><li><span class='ee-k'>0:</span><span class='ee-v'>1</span></li></ul></li><li><label class='ee-shut'>8: [1]<input type='checkbox' class='ee-toggle'></label><ul><li><span class='ee-k'>0:</span><span class='ee-v'>1</span></li></ul></li></ul></li></ul></li></ul></li></ul></div><script>function toggleHeader() {\n",
              "    const parent = this.parentElement;\n",
              "    parent.className = parent.className === \"ee-open\" ? \"ee-shut\" : \"ee-open\";\n",
              "}\n",
              "\n",
              "for (let c of document.getElementsByClassName(\"ee-toggle\")) {\n",
              "    c.onclick = toggleHeader;\n",
              "}</script></div>"
            ],
            "text/plain": [
              "<ee.image.Image at 0x7f0e8889a760>"
            ]
          },
          "execution_count": 19,
          "metadata": {},
          "output_type": "execute_result"
        }
      ],
      "source": [
        "modeClassImage = prepareMetrics(classImage = result, nClasses = NCLASS, nFolds = FOLDS).confusionMatrix()\n",
        "modeClassImage"
      ]
    },
    {
      "cell_type": "markdown",
      "id": "5c8341d6-6c1d-452c-9e4e-be3d9c6c6a1b",
      "metadata": {
        "id": "5c8341d6-6c1d-452c-9e4e-be3d9c6c6a1b"
      },
      "source": [
        "## Step 7: Visualise clasiified Image"
      ]
    },
    {
      "cell_type": "code",
      "execution_count": null,
      "id": "13c399be-eef9-42cd-a87e-c363288608ac",
      "metadata": {
        "colab": {
          "base_uri": "https://localhost:8080/",
          "height": 621,
          "referenced_widgets": [
            "00982d48d31843c49e54206536d073cb",
            "2ff4832e33d64edbbe712c68420200dc",
            "d8391c2eb2654493a6d29d07a271d166",
            "2edfaf80b1ab4fd1a104bc0670b79819",
            "edf029ddf50c42a599e2c8157928ce72",
            "7ddf3cf1535745328c0f3623a39ee0f4",
            "f4082bf7ecaa43c69f84d8b4d1d93cac",
            "d2bd53f444bc444c86a2cb68254875f4",
            "bdbe889d664645b2b09098ccdb0a0ce7",
            "3d3fe7a1d600443b97856a54c3e339ae",
            "f69b321e2efd469ebcc26542ee1f2e77",
            "2153e7e2576e482aa08f45087655d23a",
            "bd4008a3f7124a399b80b65f3b0c32d3",
            "975cfcb600a04d13bc4918e36c407676",
            "c430b39e52f743e1b955373be6eeda75",
            "5907c34f7ea84cd4a5ee246ddeca4ed0",
            "c23819aee15845aeb0948a7cbccaa4d8",
            "fdfd3153c9f245d8a102564a41b180cb",
            "613d5c83a68341b48851a94259fda990",
            "aa648d8eac1646f2a09686c874d27396",
            "90ce18296acf44d5a678f470cee1b304",
            "ee0e6f93402c415e815f919d6eb96ed7",
            "ec92b974ae1c47e39e824a627510cd6d",
            "d007b01c45834fcfaf9528466d2f0d86",
            "8dd75bf794594dbf9e32be4395ec875a",
            "a6b6a9061eeb41a89385167cf4b4bb71",
            "d804bd24316947b3ab53a157943f9cf4",
            "ad992289bb2849d7a4d0535d27ecc8ca",
            "735ee638523a496da4611f8fce797295",
            "74f8fd6f22af45bdbe464adeefba1cab",
            "01ab0e7e94a14d469b783e0089b0d3cc",
            "e397425e223046d7b7ca4e51db7ab933"
          ]
        },
        "id": "13c399be-eef9-42cd-a87e-c363288608ac",
        "outputId": "aea67fec-f8e3-47d1-e936-e07dce404a54"
      },
      "outputs": [
        {
          "data": {
            "application/vnd.jupyter.widget-view+json": {
              "model_id": "00982d48d31843c49e54206536d073cb",
              "version_major": 2,
              "version_minor": 0
            },
            "text/plain": [
              "Map(center=[-24.76509915990505, 30.807101743053455], controls=(WidgetControl(options=['position', 'transparent…"
            ]
          },
          "metadata": {
            "application/vnd.jupyter.widget-view+json": {
              "colab": {
                "custom_widget_manager": {
                  "url": "https://ssl.gstatic.com/colaboratory-static/widgets/colab-cdn-widget-manager/b3e629b1971e1542/manager.min.js"
                }
              }
            }
          },
          "output_type": "display_data"
        }
      ],
      "source": [
        "legend_dict = {\n",
        "    \"Wattle\": \"00FF00\",\n",
        "    \"Bracken\": \"008000\",\n",
        "    \"Eucalyptus\": \"808080\",\n",
        "    \"Forest\": \"800080\",\n",
        "    \"Grassland\": \"FF00FF\",\n",
        "    \"Mixed Woody Grassland\": \"00FFFF\",\n",
        "    \"None Vegetated Features\": \"FFFF00\",\n",
        "    \"Pines\": \"000080\",\n",
        "    \"Recently Cleared Plantations/Young Pines\": \"800000\"\n",
        "}\n",
        "\n",
        "palette = ['00FF00',# Wattle-Lime\n",
        "          '008000', #Bracken-Green\n",
        "          '808080', #Eucalyptus-Grey\n",
        "          '800080', #Forest-Purple\n",
        "          'FF00FF', #Grassland-Pink\n",
        "          '00FFFF', #Mixed Woody Grassland-Aqua\n",
        "          'FFFF00', #None Vegetated Features-Yellow\n",
        "          '000080', #Pines-Navy\n",
        "          '800000'] #(Recently Cleared Plantations/Young Pines)-Maroon (DarkBrown)\n",
        "\n",
        "vis_params = {\n",
        "    'min': 0,\n",
        "    'max': 8,\n",
        "    'palette': palette,\n",
        "}\n",
        "\n",
        "Map = geemap.Map()\n",
        "Map.centerObject(study_area1, 8)\n",
        "Map.addLayer(modeClassImage, vis_params, 'Classified Image')\n",
        "Map.add_legend(legend_dict = legend_dict)\n",
        "Map"
      ]
    },
    {
      "cell_type": "markdown",
      "id": "eff18e57-0859-4795-90c1-e8f5c0b2e1c7",
      "metadata": {
        "id": "eff18e57-0859-4795-90c1-e8f5c0b2e1c7"
      },
      "source": [
        "## Step 8: Export classified image (optional)"
      ]
    },
    {
      "cell_type": "code",
      "execution_count": null,
      "id": "5e7d8af4-ab7f-45fc-bd15-ebd0fd5fb749",
      "metadata": {
        "id": "5e7d8af4-ab7f-45fc-bd15-ebd0fd5fb749"
      },
      "outputs": [],
      "source": [
        "# export results\n",
        "export_params3 = {\n",
        "    'image': modeClassImage,\n",
        "    'description': 'export_classImage',\n",
        "    'assetId': 'users/geethensingh/classImage',\n",
        "    'scale': 10,\n",
        "    'region': study_area1\n",
        "}\n",
        "\n",
        "# Export the data to the Earth Engine asset\n",
        "ee.batch.Export.image.toAsset(**export_params3).start()"
      ]
    }
  ],
  "metadata": {
    "colab": {
      "provenance": [],
      "include_colab_link": true
    },
    "kernelspec": {
      "display_name": "erty",
      "language": "python",
      "name": "erty"
    },
    "language_info": {
      "codemirror_mode": {
        "name": "ipython",
        "version": 3
      },
      "file_extension": ".py",
      "mimetype": "text/x-python",
      "name": "python",
      "nbconvert_exporter": "python",
      "pygments_lexer": "ipython3",
      "version": "3.9.12"
    },
    "toc-autonumbering": false,
    "toc-showcode": true,
    "toc-showmarkdowntxt": false,
    "widgets": {
      "application/vnd.jupyter.widget-state+json": {
        "00982d48d31843c49e54206536d073cb": {
          "model_module": "jupyter-leaflet",
          "model_module_version": "^0.17",
          "model_name": "LeafletMapModel",
          "state": {
            "_dom_classes": [],
            "_model_module": "jupyter-leaflet",
            "_model_module_version": "^0.17",
            "_model_name": "LeafletMapModel",
            "_view_count": null,
            "_view_module": "jupyter-leaflet",
            "_view_module_version": "^0.17",
            "_view_name": "LeafletMapView",
            "bottom": 37724,
            "bounce_at_zoom_limits": true,
            "box_zoom": true,
            "center": [
              -24.76509915990505,
              30.807101743053455
            ],
            "close_popup_on_click": true,
            "controls": [
              "IPY_MODEL_2ff4832e33d64edbbe712c68420200dc",
              "IPY_MODEL_d8391c2eb2654493a6d29d07a271d166",
              "IPY_MODEL_2edfaf80b1ab4fd1a104bc0670b79819",
              "IPY_MODEL_edf029ddf50c42a599e2c8157928ce72",
              "IPY_MODEL_7ddf3cf1535745328c0f3623a39ee0f4",
              "IPY_MODEL_f4082bf7ecaa43c69f84d8b4d1d93cac",
              "IPY_MODEL_d2bd53f444bc444c86a2cb68254875f4",
              "IPY_MODEL_bdbe889d664645b2b09098ccdb0a0ce7",
              "IPY_MODEL_3d3fe7a1d600443b97856a54c3e339ae"
            ],
            "crs": {
              "custom": false,
              "name": "EPSG3857"
            },
            "default_style": "IPY_MODEL_f69b321e2efd469ebcc26542ee1f2e77",
            "double_click_zoom": true,
            "dragging": true,
            "dragging_style": "IPY_MODEL_2153e7e2576e482aa08f45087655d23a",
            "east": 33.85437011718751,
            "fullscreen": false,
            "inertia": true,
            "inertia_deceleration": 3000,
            "inertia_max_speed": 1500,
            "interpolation": "bilinear",
            "keyboard": true,
            "keyboard_pan_offset": 80,
            "keyboard_zoom_offset": 1,
            "layers": [
              "IPY_MODEL_bd4008a3f7124a399b80b65f3b0c32d3",
              "IPY_MODEL_975cfcb600a04d13bc4918e36c407676",
              "IPY_MODEL_c430b39e52f743e1b955373be6eeda75"
            ],
            "layout": "IPY_MODEL_5907c34f7ea84cd4a5ee246ddeca4ed0",
            "left": 37822,
            "max_zoom": 24,
            "min_zoom": null,
            "modisdate": "2023-02-22",
            "north": -23.261534167651835,
            "options": [
              "bounce_at_zoom_limits",
              "box_zoom",
              "center",
              "close_popup_on_click",
              "double_click_zoom",
              "dragging",
              "fullscreen",
              "inertia",
              "inertia_deceleration",
              "inertia_max_speed",
              "interpolation",
              "keyboard",
              "keyboard_pan_offset",
              "keyboard_zoom_offset",
              "max_zoom",
              "min_zoom",
              "prefer_canvas",
              "scroll_wheel_zoom",
              "tap",
              "tap_tolerance",
              "touch_zoom",
              "world_copy_jump",
              "zoom",
              "zoom_animation_threshold",
              "zoom_delta",
              "zoom_snap"
            ],
            "panes": {},
            "prefer_canvas": false,
            "right": 38931,
            "scroll_wheel_zoom": true,
            "south": -26.254009699865737,
            "style": "IPY_MODEL_c23819aee15845aeb0948a7cbccaa4d8",
            "tap": true,
            "tap_tolerance": 15,
            "top": 37124,
            "touch_zoom": true,
            "west": 27.762451171875004,
            "window_url": "https://apmbel3ijt-496ff2e9c6d22116-0-colab.googleusercontent.com/outputframe.html?vrz=colab-20230221-060110-RC00_511164842",
            "world_copy_jump": false,
            "zoom": 8,
            "zoom_animation_threshold": 4,
            "zoom_delta": 1,
            "zoom_snap": 1
          }
        },
        "00efed53d75e40a1b4b8e985cde783f8": {
          "model_module": "@jupyter-widgets/controls",
          "model_module_version": "1.5.0",
          "model_name": "VBoxModel",
          "state": {
            "_dom_classes": [],
            "_model_module": "@jupyter-widgets/controls",
            "_model_module_version": "1.5.0",
            "_model_name": "VBoxModel",
            "_view_count": null,
            "_view_module": "@jupyter-widgets/controls",
            "_view_module_version": "1.5.0",
            "_view_name": "VBoxView",
            "box_style": "",
            "children": [
              "IPY_MODEL_be8faec93dc84a5da5d686410bc90fb1"
            ],
            "layout": "IPY_MODEL_f2caa8e3644340c390a543a537f655b1"
          }
        },
        "01ab0e7e94a14d469b783e0089b0d3cc": {
          "model_module": "@jupyter-widgets/base",
          "model_module_version": "1.2.0",
          "model_name": "LayoutModel",
          "state": {
            "_model_module": "@jupyter-widgets/base",
            "_model_module_version": "1.2.0",
            "_model_name": "LayoutModel",
            "_view_count": null,
            "_view_module": "@jupyter-widgets/base",
            "_view_module_version": "1.2.0",
            "_view_name": "LayoutView",
            "align_content": null,
            "align_items": null,
            "align_self": null,
            "border": null,
            "bottom": null,
            "display": null,
            "flex": null,
            "flex_flow": null,
            "grid_area": null,
            "grid_auto_columns": null,
            "grid_auto_flow": null,
            "grid_auto_rows": null,
            "grid_column": null,
            "grid_gap": null,
            "grid_row": null,
            "grid_template_areas": null,
            "grid_template_columns": null,
            "grid_template_rows": null,
            "height": null,
            "justify_content": null,
            "justify_items": null,
            "left": null,
            "margin": null,
            "max_height": null,
            "max_width": null,
            "min_height": null,
            "min_width": null,
            "object_fit": null,
            "object_position": null,
            "order": null,
            "overflow": null,
            "overflow_x": null,
            "overflow_y": null,
            "padding": null,
            "right": null,
            "top": null,
            "visibility": null,
            "width": null
          }
        },
        "0a59b46e8ce245b783b65541e5520a61": {
          "model_module": "jupyter-leaflet",
          "model_module_version": "^0.17",
          "model_name": "LeafletAttributionControlModel",
          "state": {
            "_model_module": "jupyter-leaflet",
            "_model_module_version": "^0.17",
            "_model_name": "LeafletAttributionControlModel",
            "_view_count": null,
            "_view_module": "jupyter-leaflet",
            "_view_module_version": "^0.17",
            "_view_name": "LeafletAttributionControlView",
            "options": [
              "position",
              "prefix"
            ],
            "position": "bottomright",
            "prefix": "ipyleaflet"
          }
        },
        "14b9d37b50c5458c9355d93b9b43f769": {
          "model_module": "jupyter-leaflet",
          "model_module_version": "^0.17",
          "model_name": "LeafletTileLayerModel",
          "state": {
            "_model_module": "jupyter-leaflet",
            "_model_module_version": "^0.17",
            "_model_name": "LeafletTileLayerModel",
            "_view_count": null,
            "_view_module": "jupyter-leaflet",
            "_view_module_version": "^0.17",
            "_view_name": "LeafletTileLayerView",
            "attribution": "&copy; <a href=\"https://www.openstreetmap.org/copyright\">OpenStreetMap</a> contributors",
            "base": true,
            "bottom": true,
            "bounds": null,
            "detect_retina": false,
            "loading": false,
            "max_native_zoom": null,
            "max_zoom": 19,
            "min_native_zoom": null,
            "min_zoom": 1,
            "name": "OpenStreetMap.Mapnik",
            "no_wrap": false,
            "opacity": 1,
            "options": [
              "attribution",
              "bounds",
              "detect_retina",
              "max_native_zoom",
              "max_zoom",
              "min_native_zoom",
              "min_zoom",
              "no_wrap",
              "tile_size",
              "tms",
              "zoom_offset"
            ],
            "pane": "",
            "popup": null,
            "popup_max_height": null,
            "popup_max_width": 300,
            "popup_min_width": 50,
            "show_loading": false,
            "subitems": [],
            "tile_size": 256,
            "tms": false,
            "url": "https://tile.openstreetmap.org/{z}/{x}/{y}.png",
            "visible": true,
            "zoom_offset": 0
          }
        },
        "2153e7e2576e482aa08f45087655d23a": {
          "model_module": "jupyter-leaflet",
          "model_module_version": "^0.17",
          "model_name": "LeafletMapStyleModel",
          "state": {
            "_model_module": "jupyter-leaflet",
            "_model_module_version": "^0.17",
            "_model_name": "LeafletMapStyleModel",
            "_view_count": null,
            "_view_module": "@jupyter-widgets/base",
            "_view_module_version": "1.2.0",
            "_view_name": "StyleView",
            "cursor": "move"
          }
        },
        "2edfaf80b1ab4fd1a104bc0670b79819": {
          "model_module": "jupyter-leaflet",
          "model_module_version": "^0.17",
          "model_name": "LeafletScaleControlModel",
          "state": {
            "_model_module": "jupyter-leaflet",
            "_model_module_version": "^0.17",
            "_model_name": "LeafletScaleControlModel",
            "_view_count": null,
            "_view_module": "jupyter-leaflet",
            "_view_module_version": "^0.17",
            "_view_name": "LeafletScaleControlView",
            "imperial": true,
            "max_width": 100,
            "metric": true,
            "options": [
              "imperial",
              "max_width",
              "metric",
              "position",
              "update_when_idle"
            ],
            "position": "bottomleft",
            "update_when_idle": false
          }
        },
        "2ff4832e33d64edbbe712c68420200dc": {
          "model_module": "jupyter-leaflet",
          "model_module_version": "^0.17",
          "model_name": "LeafletWidgetControlModel",
          "state": {
            "_model_module": "jupyter-leaflet",
            "_model_module_version": "^0.17",
            "_model_name": "LeafletWidgetControlModel",
            "_view_count": null,
            "_view_module": "jupyter-leaflet",
            "_view_module_version": "^0.17",
            "_view_name": "LeafletWidgetControlView",
            "max_height": null,
            "max_width": null,
            "min_height": null,
            "min_width": null,
            "options": [
              "position",
              "transparent_bg"
            ],
            "position": "topleft",
            "transparent_bg": false,
            "widget": "IPY_MODEL_fdfd3153c9f245d8a102564a41b180cb"
          }
        },
        "3d3fe7a1d600443b97856a54c3e339ae": {
          "model_module": "jupyter-leaflet",
          "model_module_version": "^0.17",
          "model_name": "LeafletWidgetControlModel",
          "state": {
            "_model_module": "jupyter-leaflet",
            "_model_module_version": "^0.17",
            "_model_name": "LeafletWidgetControlModel",
            "_view_count": null,
            "_view_module": "jupyter-leaflet",
            "_view_module_version": "^0.17",
            "_view_name": "LeafletWidgetControlView",
            "max_height": null,
            "max_width": null,
            "min_height": null,
            "min_width": null,
            "options": [
              "position",
              "transparent_bg"
            ],
            "position": "bottomright",
            "transparent_bg": false,
            "widget": "IPY_MODEL_aa648d8eac1646f2a09686c874d27396"
          }
        },
        "3deba392c64945e79d845687d08b9b0c": {
          "model_module": "jupyter-leaflet",
          "model_module_version": "^0.17",
          "model_name": "LeafletDrawControlModel",
          "state": {
            "_model_module": "jupyter-leaflet",
            "_model_module_version": "^0.17",
            "_model_name": "LeafletDrawControlModel",
            "_view_count": null,
            "_view_module": "jupyter-leaflet",
            "_view_module_version": "^0.17",
            "_view_name": "LeafletDrawControlView",
            "circle": {
              "shapeOptions": {
                "color": "#3388ff"
              }
            },
            "circlemarker": {},
            "data": [],
            "edit": true,
            "marker": {
              "shapeOptions": {
                "color": "#3388ff"
              }
            },
            "options": [
              "position"
            ],
            "polygon": {
              "shapeOptions": {}
            },
            "polyline": {
              "shapeOptions": {}
            },
            "position": "topleft",
            "rectangle": {
              "shapeOptions": {
                "color": "#3388ff"
              }
            },
            "remove": true
          }
        },
        "3e7d3e4db8b54c58b053e8938d55ba97": {
          "model_module": "jupyter-leaflet",
          "model_module_version": "^0.17",
          "model_name": "LeafletTileLayerModel",
          "state": {
            "_model_module": "jupyter-leaflet",
            "_model_module_version": "^0.17",
            "_model_name": "LeafletTileLayerModel",
            "_view_count": null,
            "_view_module": "jupyter-leaflet",
            "_view_module_version": "^0.17",
            "_view_name": "LeafletTileLayerView",
            "attribution": "Google Earth Engine",
            "base": false,
            "bottom": true,
            "bounds": null,
            "detect_retina": false,
            "loading": false,
            "max_native_zoom": null,
            "max_zoom": 24,
            "min_native_zoom": null,
            "min_zoom": 0,
            "name": "Layer 3",
            "no_wrap": false,
            "opacity": 1,
            "options": [
              "attribution",
              "bounds",
              "detect_retina",
              "max_native_zoom",
              "max_zoom",
              "min_native_zoom",
              "min_zoom",
              "no_wrap",
              "tile_size",
              "tms",
              "zoom_offset"
            ],
            "pane": "",
            "popup": null,
            "popup_max_height": null,
            "popup_max_width": 300,
            "popup_min_width": 50,
            "show_loading": false,
            "subitems": [],
            "tile_size": 256,
            "tms": false,
            "url": "https://earthengine.googleapis.com/v1alpha/projects/earthengine-legacy/maps/95b947f97edfcc4c6f028ce27802ee87-db69b9493a3bbd05edf1a227428cb69c/tiles/{z}/{x}/{y}",
            "visible": true,
            "zoom_offset": 0
          }
        },
        "488bd15f5a6a47a994f377757fc09472": {
          "model_module": "jupyter-leaflet",
          "model_module_version": "^0.17",
          "model_name": "LeafletMapStyleModel",
          "state": {
            "_model_module": "jupyter-leaflet",
            "_model_module_version": "^0.17",
            "_model_name": "LeafletMapStyleModel",
            "_view_count": null,
            "_view_module": "@jupyter-widgets/base",
            "_view_module_version": "1.2.0",
            "_view_name": "StyleView",
            "cursor": "move"
          }
        },
        "4c765673b23b4098ae7189707efeb2e8": {
          "model_module": "jupyter-leaflet",
          "model_module_version": "^0.17",
          "model_name": "LeafletWidgetControlModel",
          "state": {
            "_model_module": "jupyter-leaflet",
            "_model_module_version": "^0.17",
            "_model_name": "LeafletWidgetControlModel",
            "_view_count": null,
            "_view_module": "jupyter-leaflet",
            "_view_module_version": "^0.17",
            "_view_name": "LeafletWidgetControlView",
            "max_height": null,
            "max_width": null,
            "min_height": null,
            "min_width": null,
            "options": [
              "position",
              "transparent_bg"
            ],
            "position": "topright",
            "transparent_bg": false,
            "widget": "IPY_MODEL_00efed53d75e40a1b4b8e985cde783f8"
          }
        },
        "5907c34f7ea84cd4a5ee246ddeca4ed0": {
          "model_module": "@jupyter-widgets/base",
          "model_module_version": "1.2.0",
          "model_name": "LayoutModel",
          "state": {
            "_model_module": "@jupyter-widgets/base",
            "_model_module_version": "1.2.0",
            "_model_name": "LayoutModel",
            "_view_count": null,
            "_view_module": "@jupyter-widgets/base",
            "_view_module_version": "1.2.0",
            "_view_name": "LayoutView",
            "align_content": null,
            "align_items": null,
            "align_self": null,
            "border": null,
            "bottom": null,
            "display": null,
            "flex": null,
            "flex_flow": null,
            "grid_area": null,
            "grid_auto_columns": null,
            "grid_auto_flow": null,
            "grid_auto_rows": null,
            "grid_column": null,
            "grid_gap": null,
            "grid_row": null,
            "grid_template_areas": null,
            "grid_template_columns": null,
            "grid_template_rows": null,
            "height": "600px",
            "justify_content": null,
            "justify_items": null,
            "left": null,
            "margin": null,
            "max_height": null,
            "max_width": null,
            "min_height": null,
            "min_width": null,
            "object_fit": null,
            "object_position": null,
            "order": null,
            "overflow": null,
            "overflow_x": null,
            "overflow_y": null,
            "padding": null,
            "right": null,
            "top": null,
            "visibility": null,
            "width": null
          }
        },
        "5a05a9280c4a438da657c35486c23d7e": {
          "model_module": "jupyter-leaflet",
          "model_module_version": "^0.17",
          "model_name": "LeafletMapModel",
          "state": {
            "_dom_classes": [],
            "_model_module": "jupyter-leaflet",
            "_model_module_version": "^0.17",
            "_model_name": "LeafletMapModel",
            "_view_count": null,
            "_view_module": "jupyter-leaflet",
            "_view_module_version": "^0.17",
            "_view_name": "LeafletMapView",
            "bottom": 37724,
            "bounce_at_zoom_limits": true,
            "box_zoom": true,
            "center": [
              -24.76509915990505,
              30.807101743053455
            ],
            "close_popup_on_click": true,
            "controls": [
              "IPY_MODEL_5c3840a811f54f32b8c5616a032a8ebe",
              "IPY_MODEL_c7e05e8d7b28460d8e5368e24001c0ea",
              "IPY_MODEL_7911dd383c53456b8a66adac456a0e95",
              "IPY_MODEL_99953ebdf8b443e5a295c8d947298e16",
              "IPY_MODEL_b30257624a31438098763680d13d099a",
              "IPY_MODEL_0a59b46e8ce245b783b65541e5520a61",
              "IPY_MODEL_3deba392c64945e79d845687d08b9b0c",
              "IPY_MODEL_4c765673b23b4098ae7189707efeb2e8"
            ],
            "crs": {
              "custom": false,
              "name": "EPSG3857"
            },
            "default_style": "IPY_MODEL_96f4457a3e644ec89126314fdfdd140c",
            "double_click_zoom": true,
            "dragging": true,
            "dragging_style": "IPY_MODEL_488bd15f5a6a47a994f377757fc09472",
            "east": 33.85437011718751,
            "fullscreen": false,
            "inertia": true,
            "inertia_deceleration": 3000,
            "inertia_max_speed": 1500,
            "interpolation": "bilinear",
            "keyboard": true,
            "keyboard_pan_offset": 80,
            "keyboard_zoom_offset": 1,
            "layers": [
              "IPY_MODEL_14b9d37b50c5458c9355d93b9b43f769",
              "IPY_MODEL_975cfcb600a04d13bc4918e36c407676",
              "IPY_MODEL_3e7d3e4db8b54c58b053e8938d55ba97"
            ],
            "layout": "IPY_MODEL_5efe48de5ac042d48c82fc966d56ed96",
            "left": 37822,
            "max_zoom": 24,
            "min_zoom": null,
            "modisdate": "2023-02-22",
            "north": -23.261534167651835,
            "options": [
              "bounce_at_zoom_limits",
              "box_zoom",
              "center",
              "close_popup_on_click",
              "double_click_zoom",
              "dragging",
              "fullscreen",
              "inertia",
              "inertia_deceleration",
              "inertia_max_speed",
              "interpolation",
              "keyboard",
              "keyboard_pan_offset",
              "keyboard_zoom_offset",
              "max_zoom",
              "min_zoom",
              "prefer_canvas",
              "scroll_wheel_zoom",
              "tap",
              "tap_tolerance",
              "touch_zoom",
              "world_copy_jump",
              "zoom",
              "zoom_animation_threshold",
              "zoom_delta",
              "zoom_snap"
            ],
            "panes": {},
            "prefer_canvas": false,
            "right": 38931,
            "scroll_wheel_zoom": true,
            "south": -26.254009699865737,
            "style": "IPY_MODEL_96f4457a3e644ec89126314fdfdd140c",
            "tap": true,
            "tap_tolerance": 15,
            "top": 37124,
            "touch_zoom": true,
            "west": 27.762451171875004,
            "window_url": "https://apmbel3ijt-496ff2e9c6d22116-0-colab.googleusercontent.com/outputframe.html?vrz=colab-20230221-060110-RC00_511164842",
            "world_copy_jump": false,
            "zoom": 8,
            "zoom_animation_threshold": 4,
            "zoom_delta": 1,
            "zoom_snap": 1
          }
        },
        "5c3840a811f54f32b8c5616a032a8ebe": {
          "model_module": "jupyter-leaflet",
          "model_module_version": "^0.17",
          "model_name": "LeafletWidgetControlModel",
          "state": {
            "_model_module": "jupyter-leaflet",
            "_model_module_version": "^0.17",
            "_model_name": "LeafletWidgetControlModel",
            "_view_count": null,
            "_view_module": "jupyter-leaflet",
            "_view_module_version": "^0.17",
            "_view_name": "LeafletWidgetControlView",
            "max_height": null,
            "max_width": null,
            "min_height": null,
            "min_width": null,
            "options": [
              "position",
              "transparent_bg"
            ],
            "position": "topleft",
            "transparent_bg": false,
            "widget": "IPY_MODEL_6475d0c218a74a56af07a935057c545a"
          }
        },
        "5efe48de5ac042d48c82fc966d56ed96": {
          "model_module": "@jupyter-widgets/base",
          "model_module_version": "1.2.0",
          "model_name": "LayoutModel",
          "state": {
            "_model_module": "@jupyter-widgets/base",
            "_model_module_version": "1.2.0",
            "_model_name": "LayoutModel",
            "_view_count": null,
            "_view_module": "@jupyter-widgets/base",
            "_view_module_version": "1.2.0",
            "_view_name": "LayoutView",
            "align_content": null,
            "align_items": null,
            "align_self": null,
            "border": null,
            "bottom": null,
            "display": null,
            "flex": null,
            "flex_flow": null,
            "grid_area": null,
            "grid_auto_columns": null,
            "grid_auto_flow": null,
            "grid_auto_rows": null,
            "grid_column": null,
            "grid_gap": null,
            "grid_row": null,
            "grid_template_areas": null,
            "grid_template_columns": null,
            "grid_template_rows": null,
            "height": "600px",
            "justify_content": null,
            "justify_items": null,
            "left": null,
            "margin": null,
            "max_height": null,
            "max_width": null,
            "min_height": null,
            "min_width": null,
            "object_fit": null,
            "object_position": null,
            "order": null,
            "overflow": null,
            "overflow_x": null,
            "overflow_y": null,
            "padding": null,
            "right": null,
            "top": null,
            "visibility": null,
            "width": null
          }
        },
        "613d5c83a68341b48851a94259fda990": {
          "model_module": "@jupyter-widgets/controls",
          "model_module_version": "1.5.0",
          "model_name": "VBoxModel",
          "state": {
            "_dom_classes": [],
            "_model_module": "@jupyter-widgets/controls",
            "_model_module_version": "1.5.0",
            "_model_name": "VBoxModel",
            "_view_count": null,
            "_view_module": "@jupyter-widgets/controls",
            "_view_module_version": "1.5.0",
            "_view_name": "VBoxView",
            "box_style": "",
            "children": [
              "IPY_MODEL_ec92b974ae1c47e39e824a627510cd6d"
            ],
            "layout": "IPY_MODEL_d007b01c45834fcfaf9528466d2f0d86"
          }
        },
        "6475d0c218a74a56af07a935057c545a": {
          "model_module": "@jupyter-widgets/controls",
          "model_module_version": "1.5.0",
          "model_name": "HBoxModel",
          "state": {
            "_dom_classes": [],
            "_model_module": "@jupyter-widgets/controls",
            "_model_module_version": "1.5.0",
            "_model_name": "HBoxModel",
            "_view_count": null,
            "_view_module": "@jupyter-widgets/controls",
            "_view_module_version": "1.5.0",
            "_view_name": "HBoxView",
            "box_style": "",
            "children": [
              "IPY_MODEL_dbcd98777a724f1f8647b7a25c58a02a"
            ],
            "layout": "IPY_MODEL_daccdfbf68994e01a4d4fd22b47916f9"
          }
        },
        "735ee638523a496da4611f8fce797295": {
          "model_module": "@jupyter-widgets/controls",
          "model_module_version": "1.5.0",
          "model_name": "DescriptionStyleModel",
          "state": {
            "_model_module": "@jupyter-widgets/controls",
            "_model_module_version": "1.5.0",
            "_model_name": "DescriptionStyleModel",
            "_view_count": null,
            "_view_module": "@jupyter-widgets/base",
            "_view_module_version": "1.2.0",
            "_view_name": "StyleView",
            "description_width": ""
          }
        },
        "74f8fd6f22af45bdbe464adeefba1cab": {
          "model_module": "@jupyter-widgets/controls",
          "model_module_version": "1.5.0",
          "model_name": "HTMLModel",
          "state": {
            "_dom_classes": [],
            "_model_module": "@jupyter-widgets/controls",
            "_model_module_version": "1.5.0",
            "_model_name": "HTMLModel",
            "_view_count": null,
            "_view_module": "@jupyter-widgets/controls",
            "_view_module_version": "1.5.0",
            "_view_name": "HTMLView",
            "description": "",
            "description_tooltip": null,
            "layout": "IPY_MODEL_01ab0e7e94a14d469b783e0089b0d3cc",
            "placeholder": "​",
            "style": "IPY_MODEL_e397425e223046d7b7ca4e51db7ab933",
            "value": "<html>\n<body>\n  <div class='my-legend'>\n  <div class='legend-title'>Legend</div>\n  <div class='legend-scale'>\n    <ul class='legend-labels'>\n      <li><span style='background:#00FF00;'></span>Wattle</li>\n      <li><span style='background:#008000;'></span>Bracken</li>\n      <li><span style='background:#808080;'></span>Eucalyptus</li>\n      <li><span style='background:#800080;'></span>Forest</li>\n      <li><span style='background:#FF00FF;'></span>Grassland</li>\n      <li><span style='background:#00FFFF;'></span>Mixed Woody Grassland</li>\n      <li><span style='background:#FFFF00;'></span>None Vegetated Features</li>\n      <li><span style='background:#000080;'></span>Pines</li>\n      <li><span style='background:#800000;'></span>Recently Cleared Plantations/Young Pines</li>\n    </ul>\n  </div>\n  </div>\n\n  <style type='text/css'>\n    .my-legend .legend-title {\n      text-align: left;\n      margin-bottom: 2px;\n      margin-left: 2px;\n      font-weight: bold;\n      font-size: 90%;\n      }\n    .my-legend .legend-scale ul {\n      margin: 0;\n      margin-bottom: 5px;\n      padding: 0;\n      float: left;\n      list-style: none;\n      }\n    .my-legend .legend-scale ul li {\n      font-size: 80%;\n      list-style: none;\n      margin-left: 1px;\n      line-height: 18px;\n      margin-bottom: 2px;\n      }\n    .my-legend ul.legend-labels li span {\n      display: block;\n      float: left;\n      height: 16px;\n      width: 30px;\n      margin-right: 5px;\n      margin-left: 2px;\n      border: 1px solid #999;\n      }\n    .my-legend .legend-source {\n      font-size: 70%;\n      color: #999;\n      clear: both;\n      }\n    .my-legend a {\n      color: #777;\n      }\n  </style>\n</body>\n</html>\n"
          }
        },
        "7911dd383c53456b8a66adac456a0e95": {
          "model_module": "jupyter-leaflet",
          "model_module_version": "^0.17",
          "model_name": "LeafletScaleControlModel",
          "state": {
            "_model_module": "jupyter-leaflet",
            "_model_module_version": "^0.17",
            "_model_name": "LeafletScaleControlModel",
            "_view_count": null,
            "_view_module": "jupyter-leaflet",
            "_view_module_version": "^0.17",
            "_view_name": "LeafletScaleControlView",
            "imperial": true,
            "max_width": 100,
            "metric": true,
            "options": [
              "imperial",
              "max_width",
              "metric",
              "position",
              "update_when_idle"
            ],
            "position": "bottomleft",
            "update_when_idle": false
          }
        },
        "7cc4f24a72c44ad5a410165daabdf839": {
          "model_module": "@jupyter-widgets/controls",
          "model_module_version": "1.5.0",
          "model_name": "DescriptionStyleModel",
          "state": {
            "_model_module": "@jupyter-widgets/controls",
            "_model_module_version": "1.5.0",
            "_model_name": "DescriptionStyleModel",
            "_view_count": null,
            "_view_module": "@jupyter-widgets/base",
            "_view_module_version": "1.2.0",
            "_view_name": "StyleView",
            "description_width": ""
          }
        },
        "7ddf3cf1535745328c0f3623a39ee0f4": {
          "model_module": "jupyter-leaflet",
          "model_module_version": "^0.17",
          "model_name": "LeafletMeasureControlModel",
          "state": {
            "_custom_units": {},
            "_model_module": "jupyter-leaflet",
            "_model_module_version": "^0.17",
            "_model_name": "LeafletMeasureControlModel",
            "_view_count": null,
            "_view_module": "jupyter-leaflet",
            "_view_module_version": "^0.17",
            "_view_name": "LeafletMeasureControlView",
            "active_color": "orange",
            "capture_z_index": 10000,
            "completed_color": "#C8F2BE",
            "options": [
              "active_color",
              "capture_z_index",
              "completed_color",
              "popup_options",
              "position",
              "primary_area_unit",
              "primary_length_unit",
              "secondary_area_unit",
              "secondary_length_unit"
            ],
            "popup_options": {
              "autoPanPadding": [
                10,
                10
              ],
              "className": "leaflet-measure-resultpopup"
            },
            "position": "bottomleft",
            "primary_area_unit": "acres",
            "primary_length_unit": "kilometers",
            "secondary_area_unit": null,
            "secondary_length_unit": null
          }
        },
        "8dd75bf794594dbf9e32be4395ec875a": {
          "model_module": "@jupyter-widgets/base",
          "model_module_version": "1.2.0",
          "model_name": "LayoutModel",
          "state": {
            "_model_module": "@jupyter-widgets/base",
            "_model_module_version": "1.2.0",
            "_model_name": "LayoutModel",
            "_view_count": null,
            "_view_module": "@jupyter-widgets/base",
            "_view_module_version": "1.2.0",
            "_view_name": "LayoutView",
            "align_content": null,
            "align_items": null,
            "align_self": null,
            "border": null,
            "bottom": null,
            "display": null,
            "flex": null,
            "flex_flow": null,
            "grid_area": null,
            "grid_auto_columns": null,
            "grid_auto_flow": null,
            "grid_auto_rows": null,
            "grid_column": null,
            "grid_gap": null,
            "grid_row": null,
            "grid_template_areas": null,
            "grid_template_columns": null,
            "grid_template_rows": null,
            "height": null,
            "justify_content": null,
            "justify_items": null,
            "left": null,
            "margin": null,
            "max_height": "400px",
            "max_width": "300px",
            "min_height": null,
            "min_width": null,
            "object_fit": null,
            "object_position": null,
            "order": null,
            "overflow": "scroll",
            "overflow_x": null,
            "overflow_y": null,
            "padding": null,
            "right": null,
            "top": null,
            "visibility": null,
            "width": null
          }
        },
        "90ce18296acf44d5a678f470cee1b304": {
          "model_module": "@jupyter-widgets/controls",
          "model_module_version": "1.5.0",
          "model_name": "ToggleButtonModel",
          "state": {
            "_dom_classes": [],
            "_model_module": "@jupyter-widgets/controls",
            "_model_module_version": "1.5.0",
            "_model_name": "ToggleButtonModel",
            "_view_count": null,
            "_view_module": "@jupyter-widgets/controls",
            "_view_module_version": "1.5.0",
            "_view_name": "ToggleButtonView",
            "button_style": "",
            "description": "",
            "description_tooltip": null,
            "disabled": false,
            "icon": "globe",
            "layout": "IPY_MODEL_a6b6a9061eeb41a89385167cf4b4bb71",
            "style": "IPY_MODEL_d804bd24316947b3ab53a157943f9cf4",
            "tooltip": "Search location/data",
            "value": false
          }
        },
        "96f4457a3e644ec89126314fdfdd140c": {
          "model_module": "jupyter-leaflet",
          "model_module_version": "^0.17",
          "model_name": "LeafletMapStyleModel",
          "state": {
            "_model_module": "jupyter-leaflet",
            "_model_module_version": "^0.17",
            "_model_name": "LeafletMapStyleModel",
            "_view_count": null,
            "_view_module": "@jupyter-widgets/base",
            "_view_module_version": "1.2.0",
            "_view_name": "StyleView",
            "cursor": "grab"
          }
        },
        "975cfcb600a04d13bc4918e36c407676": {
          "model_module": "jupyter-leaflet",
          "model_module_version": "^0.17",
          "model_name": "LeafletTileLayerModel",
          "state": {
            "_model_module": "jupyter-leaflet",
            "_model_module_version": "^0.17",
            "_model_name": "LeafletTileLayerModel",
            "_view_count": null,
            "_view_module": "jupyter-leaflet",
            "_view_module_version": "^0.17",
            "_view_name": "LeafletTileLayerView",
            "attribution": "Google",
            "base": false,
            "bottom": true,
            "bounds": null,
            "detect_retina": false,
            "loading": false,
            "max_native_zoom": null,
            "max_zoom": 22,
            "min_native_zoom": null,
            "min_zoom": 0,
            "name": "Google Maps",
            "no_wrap": false,
            "opacity": 1,
            "options": [
              "attribution",
              "bounds",
              "detect_retina",
              "max_native_zoom",
              "max_zoom",
              "min_native_zoom",
              "min_zoom",
              "no_wrap",
              "tile_size",
              "tms",
              "zoom_offset"
            ],
            "pane": "",
            "popup": null,
            "popup_max_height": null,
            "popup_max_width": 300,
            "popup_min_width": 50,
            "show_loading": false,
            "subitems": [],
            "tile_size": 256,
            "tms": false,
            "url": "https://mt1.google.com/vt/lyrs=m&x={x}&y={y}&z={z}",
            "visible": true,
            "zoom_offset": 0
          }
        },
        "99953ebdf8b443e5a295c8d947298e16": {
          "model_module": "jupyter-leaflet",
          "model_module_version": "^0.17",
          "model_name": "LeafletFullScreenControlModel",
          "state": {
            "_model_module": "jupyter-leaflet",
            "_model_module_version": "^0.17",
            "_model_name": "LeafletFullScreenControlModel",
            "_view_count": null,
            "_view_module": "jupyter-leaflet",
            "_view_module_version": "^0.17",
            "_view_name": "LeafletFullScreenControlView",
            "options": [
              "position"
            ],
            "position": "topleft"
          }
        },
        "9fa284af5e9e491cb159763a13977e8f": {
          "model_module": "@jupyter-widgets/controls",
          "model_module_version": "1.5.0",
          "model_name": "DescriptionStyleModel",
          "state": {
            "_model_module": "@jupyter-widgets/controls",
            "_model_module_version": "1.5.0",
            "_model_name": "DescriptionStyleModel",
            "_view_count": null,
            "_view_module": "@jupyter-widgets/base",
            "_view_module_version": "1.2.0",
            "_view_name": "StyleView",
            "description_width": ""
          }
        },
        "a6b6a9061eeb41a89385167cf4b4bb71": {
          "model_module": "@jupyter-widgets/base",
          "model_module_version": "1.2.0",
          "model_name": "LayoutModel",
          "state": {
            "_model_module": "@jupyter-widgets/base",
            "_model_module_version": "1.2.0",
            "_model_name": "LayoutModel",
            "_view_count": null,
            "_view_module": "@jupyter-widgets/base",
            "_view_module_version": "1.2.0",
            "_view_name": "LayoutView",
            "align_content": null,
            "align_items": null,
            "align_self": null,
            "border": null,
            "bottom": null,
            "display": null,
            "flex": null,
            "flex_flow": null,
            "grid_area": null,
            "grid_auto_columns": null,
            "grid_auto_flow": null,
            "grid_auto_rows": null,
            "grid_column": null,
            "grid_gap": null,
            "grid_row": null,
            "grid_template_areas": null,
            "grid_template_columns": null,
            "grid_template_rows": null,
            "height": "28px",
            "justify_content": null,
            "justify_items": null,
            "left": null,
            "margin": null,
            "max_height": null,
            "max_width": null,
            "min_height": null,
            "min_width": null,
            "object_fit": null,
            "object_position": null,
            "order": null,
            "overflow": null,
            "overflow_x": null,
            "overflow_y": null,
            "padding": "0px 0px 0px 4px",
            "right": null,
            "top": null,
            "visibility": null,
            "width": "28px"
          }
        },
        "aa648d8eac1646f2a09686c874d27396": {
          "model_module": "@jupyter-widgets/output",
          "model_module_version": "1.0.0",
          "model_name": "OutputModel",
          "state": {
            "_dom_classes": [],
            "_model_module": "@jupyter-widgets/output",
            "_model_module_version": "1.0.0",
            "_model_name": "OutputModel",
            "_view_count": null,
            "_view_module": "@jupyter-widgets/output",
            "_view_module_version": "1.0.0",
            "_view_name": "OutputView",
            "layout": "IPY_MODEL_8dd75bf794594dbf9e32be4395ec875a",
            "msg_id": "",
            "outputs": [
              {
                "data": {
                  "application/vnd.jupyter.widget-view+json": {
                    "model_id": "74f8fd6f22af45bdbe464adeefba1cab",
                    "version_major": 2,
                    "version_minor": 0
                  },
                  "text/plain": "HTML(value=\"<html>\\n<body>\\n  <div class='my-legend'>\\n  <div class='legend-title'>Legend</div>\\n  <div class=…"
                },
                "metadata": {
                  "application/vnd.jupyter.widget-view+json": {
                    "colab": {
                      "custom_widget_manager": {
                        "url": "https://ssl.gstatic.com/colaboratory-static/widgets/colab-cdn-widget-manager/b3e629b1971e1542/manager.min.js"
                      }
                    }
                  }
                },
                "output_type": "display_data"
              }
            ]
          }
        },
        "ad992289bb2849d7a4d0535d27ecc8ca": {
          "model_module": "@jupyter-widgets/base",
          "model_module_version": "1.2.0",
          "model_name": "LayoutModel",
          "state": {
            "_model_module": "@jupyter-widgets/base",
            "_model_module_version": "1.2.0",
            "_model_name": "LayoutModel",
            "_view_count": null,
            "_view_module": "@jupyter-widgets/base",
            "_view_module_version": "1.2.0",
            "_view_name": "LayoutView",
            "align_content": null,
            "align_items": null,
            "align_self": null,
            "border": null,
            "bottom": null,
            "display": null,
            "flex": null,
            "flex_flow": null,
            "grid_area": null,
            "grid_auto_columns": null,
            "grid_auto_flow": null,
            "grid_auto_rows": null,
            "grid_column": null,
            "grid_gap": null,
            "grid_row": null,
            "grid_template_areas": null,
            "grid_template_columns": null,
            "grid_template_rows": null,
            "height": "28px",
            "justify_content": null,
            "justify_items": null,
            "left": null,
            "margin": null,
            "max_height": null,
            "max_width": null,
            "min_height": null,
            "min_width": null,
            "object_fit": null,
            "object_position": null,
            "order": null,
            "overflow": null,
            "overflow_x": null,
            "overflow_y": null,
            "padding": "0px 0px 0px 4px",
            "right": null,
            "top": null,
            "visibility": null,
            "width": "28px"
          }
        },
        "b30257624a31438098763680d13d099a": {
          "model_module": "jupyter-leaflet",
          "model_module_version": "^0.17",
          "model_name": "LeafletMeasureControlModel",
          "state": {
            "_custom_units": {},
            "_model_module": "jupyter-leaflet",
            "_model_module_version": "^0.17",
            "_model_name": "LeafletMeasureControlModel",
            "_view_count": null,
            "_view_module": "jupyter-leaflet",
            "_view_module_version": "^0.17",
            "_view_name": "LeafletMeasureControlView",
            "active_color": "orange",
            "capture_z_index": 10000,
            "completed_color": "#C8F2BE",
            "options": [
              "active_color",
              "capture_z_index",
              "completed_color",
              "popup_options",
              "position",
              "primary_area_unit",
              "primary_length_unit",
              "secondary_area_unit",
              "secondary_length_unit"
            ],
            "popup_options": {
              "autoPanPadding": [
                10,
                10
              ],
              "className": "leaflet-measure-resultpopup"
            },
            "position": "bottomleft",
            "primary_area_unit": "acres",
            "primary_length_unit": "kilometers",
            "secondary_area_unit": null,
            "secondary_length_unit": null
          }
        },
        "b787dafe07f9425b9d92981f3180db06": {
          "model_module": "@jupyter-widgets/base",
          "model_module_version": "1.2.0",
          "model_name": "LayoutModel",
          "state": {
            "_model_module": "@jupyter-widgets/base",
            "_model_module_version": "1.2.0",
            "_model_name": "LayoutModel",
            "_view_count": null,
            "_view_module": "@jupyter-widgets/base",
            "_view_module_version": "1.2.0",
            "_view_name": "LayoutView",
            "align_content": null,
            "align_items": null,
            "align_self": null,
            "border": null,
            "bottom": null,
            "display": null,
            "flex": null,
            "flex_flow": null,
            "grid_area": null,
            "grid_auto_columns": null,
            "grid_auto_flow": null,
            "grid_auto_rows": null,
            "grid_column": null,
            "grid_gap": null,
            "grid_row": null,
            "grid_template_areas": null,
            "grid_template_columns": null,
            "grid_template_rows": null,
            "height": "28px",
            "justify_content": null,
            "justify_items": null,
            "left": null,
            "margin": null,
            "max_height": null,
            "max_width": null,
            "min_height": null,
            "min_width": null,
            "object_fit": null,
            "object_position": null,
            "order": null,
            "overflow": null,
            "overflow_x": null,
            "overflow_y": null,
            "padding": "0px 0px 0px 4px",
            "right": null,
            "top": null,
            "visibility": null,
            "width": "28px"
          }
        },
        "bd4008a3f7124a399b80b65f3b0c32d3": {
          "model_module": "jupyter-leaflet",
          "model_module_version": "^0.17",
          "model_name": "LeafletTileLayerModel",
          "state": {
            "_model_module": "jupyter-leaflet",
            "_model_module_version": "^0.17",
            "_model_name": "LeafletTileLayerModel",
            "_view_count": null,
            "_view_module": "jupyter-leaflet",
            "_view_module_version": "^0.17",
            "_view_name": "LeafletTileLayerView",
            "attribution": "&copy; <a href=\"https://www.openstreetmap.org/copyright\">OpenStreetMap</a> contributors",
            "base": true,
            "bottom": true,
            "bounds": null,
            "detect_retina": false,
            "loading": false,
            "max_native_zoom": null,
            "max_zoom": 19,
            "min_native_zoom": null,
            "min_zoom": 1,
            "name": "OpenStreetMap.Mapnik",
            "no_wrap": false,
            "opacity": 1,
            "options": [
              "attribution",
              "bounds",
              "detect_retina",
              "max_native_zoom",
              "max_zoom",
              "min_native_zoom",
              "min_zoom",
              "no_wrap",
              "tile_size",
              "tms",
              "zoom_offset"
            ],
            "pane": "",
            "popup": null,
            "popup_max_height": null,
            "popup_max_width": 300,
            "popup_min_width": 50,
            "show_loading": false,
            "subitems": [],
            "tile_size": 256,
            "tms": false,
            "url": "https://tile.openstreetmap.org/{z}/{x}/{y}.png",
            "visible": true,
            "zoom_offset": 0
          }
        },
        "bdbe889d664645b2b09098ccdb0a0ce7": {
          "model_module": "jupyter-leaflet",
          "model_module_version": "^0.17",
          "model_name": "LeafletWidgetControlModel",
          "state": {
            "_model_module": "jupyter-leaflet",
            "_model_module_version": "^0.17",
            "_model_name": "LeafletWidgetControlModel",
            "_view_count": null,
            "_view_module": "jupyter-leaflet",
            "_view_module_version": "^0.17",
            "_view_name": "LeafletWidgetControlView",
            "max_height": null,
            "max_width": null,
            "min_height": null,
            "min_width": null,
            "options": [
              "position",
              "transparent_bg"
            ],
            "position": "topright",
            "transparent_bg": false,
            "widget": "IPY_MODEL_613d5c83a68341b48851a94259fda990"
          }
        },
        "be8faec93dc84a5da5d686410bc90fb1": {
          "model_module": "@jupyter-widgets/controls",
          "model_module_version": "1.5.0",
          "model_name": "ToggleButtonModel",
          "state": {
            "_dom_classes": [],
            "_model_module": "@jupyter-widgets/controls",
            "_model_module_version": "1.5.0",
            "_model_name": "ToggleButtonModel",
            "_view_count": null,
            "_view_module": "@jupyter-widgets/controls",
            "_view_module_version": "1.5.0",
            "_view_name": "ToggleButtonView",
            "button_style": "",
            "description": "",
            "description_tooltip": null,
            "disabled": false,
            "icon": "wrench",
            "layout": "IPY_MODEL_dada2a9f8ed74a53ae14860a127d4eb8",
            "style": "IPY_MODEL_9fa284af5e9e491cb159763a13977e8f",
            "tooltip": "Toolbar",
            "value": false
          }
        },
        "c23819aee15845aeb0948a7cbccaa4d8": {
          "model_module": "jupyter-leaflet",
          "model_module_version": "^0.17",
          "model_name": "LeafletMapStyleModel",
          "state": {
            "_model_module": "jupyter-leaflet",
            "_model_module_version": "^0.17",
            "_model_name": "LeafletMapStyleModel",
            "_view_count": null,
            "_view_module": "@jupyter-widgets/base",
            "_view_module_version": "1.2.0",
            "_view_name": "StyleView",
            "cursor": "grab"
          }
        },
        "c430b39e52f743e1b955373be6eeda75": {
          "model_module": "jupyter-leaflet",
          "model_module_version": "^0.17",
          "model_name": "LeafletTileLayerModel",
          "state": {
            "_model_module": "jupyter-leaflet",
            "_model_module_version": "^0.17",
            "_model_name": "LeafletTileLayerModel",
            "_view_count": null,
            "_view_module": "jupyter-leaflet",
            "_view_module_version": "^0.17",
            "_view_name": "LeafletTileLayerView",
            "attribution": "Google Earth Engine",
            "base": false,
            "bottom": true,
            "bounds": null,
            "detect_retina": false,
            "loading": false,
            "max_native_zoom": null,
            "max_zoom": 24,
            "min_native_zoom": null,
            "min_zoom": 0,
            "name": "Classified Image",
            "no_wrap": false,
            "opacity": 1,
            "options": [
              "attribution",
              "bounds",
              "detect_retina",
              "max_native_zoom",
              "max_zoom",
              "min_native_zoom",
              "min_zoom",
              "no_wrap",
              "tile_size",
              "tms",
              "zoom_offset"
            ],
            "pane": "",
            "popup": null,
            "popup_max_height": null,
            "popup_max_width": 300,
            "popup_min_width": 50,
            "show_loading": false,
            "subitems": [],
            "tile_size": 256,
            "tms": false,
            "url": "https://earthengine.googleapis.com/v1alpha/projects/earthengine-legacy/maps/cddcbda63b2f4818be9f2f19cefd55ff-e34ebdb4efdbac776cc5f0753aee470c/tiles/{z}/{x}/{y}",
            "visible": true,
            "zoom_offset": 0
          }
        },
        "c7e05e8d7b28460d8e5368e24001c0ea": {
          "model_module": "jupyter-leaflet",
          "model_module_version": "^0.17",
          "model_name": "LeafletZoomControlModel",
          "state": {
            "_model_module": "jupyter-leaflet",
            "_model_module_version": "^0.17",
            "_model_name": "LeafletZoomControlModel",
            "_view_count": null,
            "_view_module": "jupyter-leaflet",
            "_view_module_version": "^0.17",
            "_view_name": "LeafletZoomControlView",
            "options": [
              "position",
              "zoom_in_text",
              "zoom_in_title",
              "zoom_out_text",
              "zoom_out_title"
            ],
            "position": "topleft",
            "zoom_in_text": "+",
            "zoom_in_title": "Zoom in",
            "zoom_out_text": "-",
            "zoom_out_title": "Zoom out"
          }
        },
        "d007b01c45834fcfaf9528466d2f0d86": {
          "model_module": "@jupyter-widgets/base",
          "model_module_version": "1.2.0",
          "model_name": "LayoutModel",
          "state": {
            "_model_module": "@jupyter-widgets/base",
            "_model_module_version": "1.2.0",
            "_model_name": "LayoutModel",
            "_view_count": null,
            "_view_module": "@jupyter-widgets/base",
            "_view_module_version": "1.2.0",
            "_view_name": "LayoutView",
            "align_content": null,
            "align_items": null,
            "align_self": null,
            "border": null,
            "bottom": null,
            "display": null,
            "flex": null,
            "flex_flow": null,
            "grid_area": null,
            "grid_auto_columns": null,
            "grid_auto_flow": null,
            "grid_auto_rows": null,
            "grid_column": null,
            "grid_gap": null,
            "grid_row": null,
            "grid_template_areas": null,
            "grid_template_columns": null,
            "grid_template_rows": null,
            "height": null,
            "justify_content": null,
            "justify_items": null,
            "left": null,
            "margin": null,
            "max_height": null,
            "max_width": null,
            "min_height": null,
            "min_width": null,
            "object_fit": null,
            "object_position": null,
            "order": null,
            "overflow": null,
            "overflow_x": null,
            "overflow_y": null,
            "padding": null,
            "right": null,
            "top": null,
            "visibility": null,
            "width": null
          }
        },
        "d2bd53f444bc444c86a2cb68254875f4": {
          "model_module": "jupyter-leaflet",
          "model_module_version": "^0.17",
          "model_name": "LeafletDrawControlModel",
          "state": {
            "_model_module": "jupyter-leaflet",
            "_model_module_version": "^0.17",
            "_model_name": "LeafletDrawControlModel",
            "_view_count": null,
            "_view_module": "jupyter-leaflet",
            "_view_module_version": "^0.17",
            "_view_name": "LeafletDrawControlView",
            "circle": {
              "shapeOptions": {
                "color": "#3388ff"
              }
            },
            "circlemarker": {},
            "data": [],
            "edit": true,
            "marker": {
              "shapeOptions": {
                "color": "#3388ff"
              }
            },
            "options": [
              "position"
            ],
            "polygon": {
              "shapeOptions": {}
            },
            "polyline": {
              "shapeOptions": {}
            },
            "position": "topleft",
            "rectangle": {
              "shapeOptions": {
                "color": "#3388ff"
              }
            },
            "remove": true
          }
        },
        "d804bd24316947b3ab53a157943f9cf4": {
          "model_module": "@jupyter-widgets/controls",
          "model_module_version": "1.5.0",
          "model_name": "DescriptionStyleModel",
          "state": {
            "_model_module": "@jupyter-widgets/controls",
            "_model_module_version": "1.5.0",
            "_model_name": "DescriptionStyleModel",
            "_view_count": null,
            "_view_module": "@jupyter-widgets/base",
            "_view_module_version": "1.2.0",
            "_view_name": "StyleView",
            "description_width": ""
          }
        },
        "d8391c2eb2654493a6d29d07a271d166": {
          "model_module": "jupyter-leaflet",
          "model_module_version": "^0.17",
          "model_name": "LeafletZoomControlModel",
          "state": {
            "_model_module": "jupyter-leaflet",
            "_model_module_version": "^0.17",
            "_model_name": "LeafletZoomControlModel",
            "_view_count": null,
            "_view_module": "jupyter-leaflet",
            "_view_module_version": "^0.17",
            "_view_name": "LeafletZoomControlView",
            "options": [
              "position",
              "zoom_in_text",
              "zoom_in_title",
              "zoom_out_text",
              "zoom_out_title"
            ],
            "position": "topleft",
            "zoom_in_text": "+",
            "zoom_in_title": "Zoom in",
            "zoom_out_text": "-",
            "zoom_out_title": "Zoom out"
          }
        },
        "daccdfbf68994e01a4d4fd22b47916f9": {
          "model_module": "@jupyter-widgets/base",
          "model_module_version": "1.2.0",
          "model_name": "LayoutModel",
          "state": {
            "_model_module": "@jupyter-widgets/base",
            "_model_module_version": "1.2.0",
            "_model_name": "LayoutModel",
            "_view_count": null,
            "_view_module": "@jupyter-widgets/base",
            "_view_module_version": "1.2.0",
            "_view_name": "LayoutView",
            "align_content": null,
            "align_items": null,
            "align_self": null,
            "border": null,
            "bottom": null,
            "display": null,
            "flex": null,
            "flex_flow": null,
            "grid_area": null,
            "grid_auto_columns": null,
            "grid_auto_flow": null,
            "grid_auto_rows": null,
            "grid_column": null,
            "grid_gap": null,
            "grid_row": null,
            "grid_template_areas": null,
            "grid_template_columns": null,
            "grid_template_rows": null,
            "height": null,
            "justify_content": null,
            "justify_items": null,
            "left": null,
            "margin": null,
            "max_height": null,
            "max_width": null,
            "min_height": null,
            "min_width": null,
            "object_fit": null,
            "object_position": null,
            "order": null,
            "overflow": null,
            "overflow_x": null,
            "overflow_y": null,
            "padding": null,
            "right": null,
            "top": null,
            "visibility": null,
            "width": null
          }
        },
        "dada2a9f8ed74a53ae14860a127d4eb8": {
          "model_module": "@jupyter-widgets/base",
          "model_module_version": "1.2.0",
          "model_name": "LayoutModel",
          "state": {
            "_model_module": "@jupyter-widgets/base",
            "_model_module_version": "1.2.0",
            "_model_name": "LayoutModel",
            "_view_count": null,
            "_view_module": "@jupyter-widgets/base",
            "_view_module_version": "1.2.0",
            "_view_name": "LayoutView",
            "align_content": null,
            "align_items": null,
            "align_self": null,
            "border": null,
            "bottom": null,
            "display": null,
            "flex": null,
            "flex_flow": null,
            "grid_area": null,
            "grid_auto_columns": null,
            "grid_auto_flow": null,
            "grid_auto_rows": null,
            "grid_column": null,
            "grid_gap": null,
            "grid_row": null,
            "grid_template_areas": null,
            "grid_template_columns": null,
            "grid_template_rows": null,
            "height": "28px",
            "justify_content": null,
            "justify_items": null,
            "left": null,
            "margin": null,
            "max_height": null,
            "max_width": null,
            "min_height": null,
            "min_width": null,
            "object_fit": null,
            "object_position": null,
            "order": null,
            "overflow": null,
            "overflow_x": null,
            "overflow_y": null,
            "padding": "0px 0px 0px 4px",
            "right": null,
            "top": null,
            "visibility": null,
            "width": "28px"
          }
        },
        "dbcd98777a724f1f8647b7a25c58a02a": {
          "model_module": "@jupyter-widgets/controls",
          "model_module_version": "1.5.0",
          "model_name": "ToggleButtonModel",
          "state": {
            "_dom_classes": [],
            "_model_module": "@jupyter-widgets/controls",
            "_model_module_version": "1.5.0",
            "_model_name": "ToggleButtonModel",
            "_view_count": null,
            "_view_module": "@jupyter-widgets/controls",
            "_view_module_version": "1.5.0",
            "_view_name": "ToggleButtonView",
            "button_style": "",
            "description": "",
            "description_tooltip": null,
            "disabled": false,
            "icon": "globe",
            "layout": "IPY_MODEL_b787dafe07f9425b9d92981f3180db06",
            "style": "IPY_MODEL_7cc4f24a72c44ad5a410165daabdf839",
            "tooltip": "Search location/data",
            "value": false
          }
        },
        "e397425e223046d7b7ca4e51db7ab933": {
          "model_module": "@jupyter-widgets/controls",
          "model_module_version": "1.5.0",
          "model_name": "DescriptionStyleModel",
          "state": {
            "_model_module": "@jupyter-widgets/controls",
            "_model_module_version": "1.5.0",
            "_model_name": "DescriptionStyleModel",
            "_view_count": null,
            "_view_module": "@jupyter-widgets/base",
            "_view_module_version": "1.2.0",
            "_view_name": "StyleView",
            "description_width": ""
          }
        },
        "ec92b974ae1c47e39e824a627510cd6d": {
          "model_module": "@jupyter-widgets/controls",
          "model_module_version": "1.5.0",
          "model_name": "ToggleButtonModel",
          "state": {
            "_dom_classes": [],
            "_model_module": "@jupyter-widgets/controls",
            "_model_module_version": "1.5.0",
            "_model_name": "ToggleButtonModel",
            "_view_count": null,
            "_view_module": "@jupyter-widgets/controls",
            "_view_module_version": "1.5.0",
            "_view_name": "ToggleButtonView",
            "button_style": "",
            "description": "",
            "description_tooltip": null,
            "disabled": false,
            "icon": "wrench",
            "layout": "IPY_MODEL_ad992289bb2849d7a4d0535d27ecc8ca",
            "style": "IPY_MODEL_735ee638523a496da4611f8fce797295",
            "tooltip": "Toolbar",
            "value": false
          }
        },
        "edf029ddf50c42a599e2c8157928ce72": {
          "model_module": "jupyter-leaflet",
          "model_module_version": "^0.17",
          "model_name": "LeafletFullScreenControlModel",
          "state": {
            "_model_module": "jupyter-leaflet",
            "_model_module_version": "^0.17",
            "_model_name": "LeafletFullScreenControlModel",
            "_view_count": null,
            "_view_module": "jupyter-leaflet",
            "_view_module_version": "^0.17",
            "_view_name": "LeafletFullScreenControlView",
            "options": [
              "position"
            ],
            "position": "topleft"
          }
        },
        "ee0e6f93402c415e815f919d6eb96ed7": {
          "model_module": "@jupyter-widgets/base",
          "model_module_version": "1.2.0",
          "model_name": "LayoutModel",
          "state": {
            "_model_module": "@jupyter-widgets/base",
            "_model_module_version": "1.2.0",
            "_model_name": "LayoutModel",
            "_view_count": null,
            "_view_module": "@jupyter-widgets/base",
            "_view_module_version": "1.2.0",
            "_view_name": "LayoutView",
            "align_content": null,
            "align_items": null,
            "align_self": null,
            "border": null,
            "bottom": null,
            "display": null,
            "flex": null,
            "flex_flow": null,
            "grid_area": null,
            "grid_auto_columns": null,
            "grid_auto_flow": null,
            "grid_auto_rows": null,
            "grid_column": null,
            "grid_gap": null,
            "grid_row": null,
            "grid_template_areas": null,
            "grid_template_columns": null,
            "grid_template_rows": null,
            "height": null,
            "justify_content": null,
            "justify_items": null,
            "left": null,
            "margin": null,
            "max_height": null,
            "max_width": null,
            "min_height": null,
            "min_width": null,
            "object_fit": null,
            "object_position": null,
            "order": null,
            "overflow": null,
            "overflow_x": null,
            "overflow_y": null,
            "padding": null,
            "right": null,
            "top": null,
            "visibility": null,
            "width": null
          }
        },
        "f2caa8e3644340c390a543a537f655b1": {
          "model_module": "@jupyter-widgets/base",
          "model_module_version": "1.2.0",
          "model_name": "LayoutModel",
          "state": {
            "_model_module": "@jupyter-widgets/base",
            "_model_module_version": "1.2.0",
            "_model_name": "LayoutModel",
            "_view_count": null,
            "_view_module": "@jupyter-widgets/base",
            "_view_module_version": "1.2.0",
            "_view_name": "LayoutView",
            "align_content": null,
            "align_items": null,
            "align_self": null,
            "border": null,
            "bottom": null,
            "display": null,
            "flex": null,
            "flex_flow": null,
            "grid_area": null,
            "grid_auto_columns": null,
            "grid_auto_flow": null,
            "grid_auto_rows": null,
            "grid_column": null,
            "grid_gap": null,
            "grid_row": null,
            "grid_template_areas": null,
            "grid_template_columns": null,
            "grid_template_rows": null,
            "height": null,
            "justify_content": null,
            "justify_items": null,
            "left": null,
            "margin": null,
            "max_height": null,
            "max_width": null,
            "min_height": null,
            "min_width": null,
            "object_fit": null,
            "object_position": null,
            "order": null,
            "overflow": null,
            "overflow_x": null,
            "overflow_y": null,
            "padding": null,
            "right": null,
            "top": null,
            "visibility": null,
            "width": null
          }
        },
        "f4082bf7ecaa43c69f84d8b4d1d93cac": {
          "model_module": "jupyter-leaflet",
          "model_module_version": "^0.17",
          "model_name": "LeafletAttributionControlModel",
          "state": {
            "_model_module": "jupyter-leaflet",
            "_model_module_version": "^0.17",
            "_model_name": "LeafletAttributionControlModel",
            "_view_count": null,
            "_view_module": "jupyter-leaflet",
            "_view_module_version": "^0.17",
            "_view_name": "LeafletAttributionControlView",
            "options": [
              "position",
              "prefix"
            ],
            "position": "bottomright",
            "prefix": "ipyleaflet"
          }
        },
        "f69b321e2efd469ebcc26542ee1f2e77": {
          "model_module": "jupyter-leaflet",
          "model_module_version": "^0.17",
          "model_name": "LeafletMapStyleModel",
          "state": {
            "_model_module": "jupyter-leaflet",
            "_model_module_version": "^0.17",
            "_model_name": "LeafletMapStyleModel",
            "_view_count": null,
            "_view_module": "@jupyter-widgets/base",
            "_view_module_version": "1.2.0",
            "_view_name": "StyleView",
            "cursor": "grab"
          }
        },
        "fcf27285929f45c58e1faaa508d9c1c8": {
          "model_module": "jupyter-leaflet",
          "model_module_version": "^0.17",
          "model_name": "LeafletMapStyleModel",
          "state": {
            "_model_module": "jupyter-leaflet",
            "_model_module_version": "^0.17",
            "_model_name": "LeafletMapStyleModel",
            "_view_count": null,
            "_view_module": "@jupyter-widgets/base",
            "_view_module_version": "1.2.0",
            "_view_name": "StyleView",
            "cursor": "grab"
          }
        },
        "fdfd3153c9f245d8a102564a41b180cb": {
          "model_module": "@jupyter-widgets/controls",
          "model_module_version": "1.5.0",
          "model_name": "HBoxModel",
          "state": {
            "_dom_classes": [],
            "_model_module": "@jupyter-widgets/controls",
            "_model_module_version": "1.5.0",
            "_model_name": "HBoxModel",
            "_view_count": null,
            "_view_module": "@jupyter-widgets/controls",
            "_view_module_version": "1.5.0",
            "_view_name": "HBoxView",
            "box_style": "",
            "children": [
              "IPY_MODEL_90ce18296acf44d5a678f470cee1b304"
            ],
            "layout": "IPY_MODEL_ee0e6f93402c415e815f919d6eb96ed7"
          }
        }
      }
    }
  },
  "nbformat": 4,
  "nbformat_minor": 5
}