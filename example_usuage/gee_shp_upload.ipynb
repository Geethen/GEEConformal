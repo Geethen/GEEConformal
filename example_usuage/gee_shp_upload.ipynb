{
 "cells": [
  {
   "cell_type": "markdown",
   "metadata": {},
   "source": [
    "## Notebook to upload a local shapefile to Google Earth Engine\n",
    "\n",
    "### This relies on the use of the geeup CLI tool"
   ]
  },
  {
   "cell_type": "markdown",
   "metadata": {
    "id": "YGrFLj4tAQlb"
   },
   "source": [
    "## Install"
   ]
  },
  {
   "cell_type": "code",
   "execution_count": 4,
   "metadata": {
    "id": "jQmHBeJd-C5Z"
   },
   "outputs": [
    {
     "name": "stderr",
     "output_type": "stream",
     "text": [
      "'sudo' is not recognized as an internal or external command,\n",
      "operable program or batch file.\n",
      "'sudo' is not recognized as an internal or external command,\n",
      "operable program or batch file.\n",
      "'sudo' is not recognized as an internal or external command,\n",
      "operable program or batch file.\n"
     ]
    },
    {
     "name": "stdout",
     "output_type": "stream",
     "text": [
      "Note: you may need to restart the kernel to use updated packages.\n"
     ]
    },
    {
     "name": "stderr",
     "output_type": "stream",
     "text": [
      "WARNING: Ignoring invalid distribution -dal (c:\\windows\\system32\\erty\\lib\\site-packages)\n",
      "WARNING: Ignoring invalid distribution -dal (c:\\windows\\system32\\erty\\lib\\site-packages)\n",
      "WARNING: Ignoring invalid distribution -dal (c:\\windows\\system32\\erty\\lib\\site-packages)\n",
      "WARNING: Ignoring invalid distribution -dal (c:\\windows\\system32\\erty\\lib\\site-packages)\n",
      "WARNING: Ignoring invalid distribution -dal (c:\\windows\\system32\\erty\\lib\\site-packages)\n",
      "WARNING: Ignoring invalid distribution -dal (c:\\windows\\system32\\erty\\lib\\site-packages)\n"
     ]
    }
   ],
   "source": [
    "! sudo add-apt-repository ppa:ubuntugis/ppa && sudo apt-get update\n",
    "! sudo apt-get install gdal-bin\n",
    "! sudo apt-get install python3-gdal\n",
    "%pip install geeup -q"
   ]
  },
  {
   "cell_type": "markdown",
   "metadata": {
    "id": "Ml3ZtzhWAUcD"
   },
   "source": [
    "## Authenticate"
   ]
  },
  {
   "cell_type": "code",
   "execution_count": 2,
   "metadata": {
    "id": "0IX4sKOn-DVb"
   },
   "outputs": [
    {
     "name": "stderr",
     "output_type": "stream",
     "text": [
      "'gcloud' is not recognized as an internal or external command,\n",
      "operable program or batch file.\n",
      "Traceback (most recent call last):\n",
      "  File \"C:\\ProgramData\\Anaconda3\\lib\\runpy.py\", line 197, in _run_module_as_main\n",
      "    return _run_code(code, main_globals, None,\n",
      "  File \"C:\\ProgramData\\Anaconda3\\lib\\runpy.py\", line 87, in _run_code\n",
      "    exec(code, run_globals)\n",
      "  File \"C:\\WINDOWS\\system32\\erty\\Scripts\\earthengine.exe\\__main__.py\", line 7, in <module>\n",
      "  File \"C:\\Windows\\System32\\erty\\lib\\site-packages\\ee\\cli\\eecli.py\", line 82, in main\n",
      "    _run_command()\n",
      "  File \"C:\\Windows\\System32\\erty\\lib\\site-packages\\ee\\cli\\eecli.py\", line 61, in _run_command\n",
      "    dispatcher.run(args, config)\n",
      "  File \"C:\\Windows\\System32\\erty\\lib\\site-packages\\ee\\cli\\commands.py\", line 355, in run\n",
      "    self.command_dict[vars(args)[self.dest]].run(args, config)\n",
      "  File \"C:\\Windows\\System32\\erty\\lib\\site-packages\\ee\\cli\\commands.py\", line 397, in run\n",
      "    ee.Authenticate(**args_auth)\n",
      "  File \"C:\\Windows\\System32\\erty\\lib\\site-packages\\ee\\__init__.py\", line 104, in Authenticate\n",
      "    return oauth.authenticate(authorization_code, quiet, code_verifier, auth_mode,\n",
      "  File \"C:\\Windows\\System32\\erty\\lib\\site-packages\\ee\\oauth.py\", line 381, in authenticate\n",
      "    _load_app_default_credentials(auth_mode == 'gcloud', scopes, quiet)\n",
      "  File \"C:\\Windows\\System32\\erty\\lib\\site-packages\\ee\\oauth.py\", line 291, in _load_app_default_credentials\n",
      "    raise Exception('gcloud failed. Please check for any errors above '\n",
      "Exception: gcloud failed. Please check for any errors above and install gcloud if needed.\n"
     ]
    },
    {
     "name": "stdout",
     "output_type": "stream",
     "text": [
      "Fetching credentials using gcloud\n"
     ]
    }
   ],
   "source": [
    "!earthengine authenticate --quiet"
   ]
  },
  {
   "cell_type": "markdown",
   "metadata": {
    "id": "EqIJTm0DAYPT"
   },
   "source": [
    "## Check Quota"
   ]
  },
  {
   "cell_type": "code",
   "execution_count": null,
   "metadata": {
    "id": "FIAE-JJj-Da7"
   },
   "outputs": [],
   "source": [
    "# Replace *** with your project name. Make sure it matches your cloud project.\n",
    "! geeup quota --project \"projects/***/assets\""
   ]
  },
  {
   "cell_type": "markdown",
   "metadata": {
    "id": "tmJRUSzRAbAD"
   },
   "source": [
    "## Cookie Setup"
   ]
  },
  {
   "cell_type": "code",
   "execution_count": null,
   "metadata": {
    "id": "1Hz7dVNX-Ovy"
   },
   "outputs": [],
   "source": [
    "# Cookie Setup\n",
    "# https://github.com/samapriya/geeup#cookie-setup"
   ]
  },
  {
   "cell_type": "code",
   "execution_count": null,
   "metadata": {
    "id": "9c8ayFoh-ODa"
   },
   "outputs": [],
   "source": [
    "! geeup cookie_setup"
   ]
  },
  {
   "cell_type": "markdown",
   "metadata": {
    "id": "DRufUk_EAeKT"
   },
   "source": [
    "## Zip and Upload"
   ]
  },
  {
   "attachments": {},
   "cell_type": "markdown",
   "metadata": {},
   "source": [
    "Ensure the shapefile being uploaded is in EPSG:4326 and that there is a column with labels with a format of 'int'"
   ]
  },
  {
   "cell_type": "code",
   "execution_count": 1,
   "metadata": {},
   "outputs": [],
   "source": [
    "import fiona\n",
    "def checkShapefile(shpPath, responseCol):\n",
    "    \"\"\"\n",
    "    Function to check shapefile for errors. Checks projection for EPSG:4326 and that\n",
    "    the response column is present and is of type 'int'\n",
    "    \n",
    "    Args:\n",
    "        shpPath (str): path to shapefile\n",
    "        responseCol (str): name of the response variable\n",
    "        \n",
    "    Returns:\n",
    "        None\n",
    "\n",
    "    Example Usage:\n",
    "        checkShapefile('data/shapefile.shp', 'response')\n",
    "    \"\"\"\n",
    "    #check projection\n",
    "    prj = open(shpPath.replace('.shp','.prj'), 'r')\n",
    "    if '4326' not in prj.read():\n",
    "        raise Exception('Shapefile must be in EPSG:4326')\n",
    "    \n",
    "    #check response column\n",
    "    with fiona.open(shpPath) as shp:\n",
    "        if responseCol not in shp.schema['properties'].keys():\n",
    "            raise Exception('Response column not found in shapefile')\n",
    "        if shp.schema['properties'][responseCol] != 'int':\n",
    "            raise Exception('Response column must be of type int')"
   ]
  },
  {
   "cell_type": "code",
   "execution_count": null,
   "metadata": {
    "id": "DO3N8uYp-ajU"
   },
   "outputs": [],
   "source": [
    "! geeup zipshape --input \"/content/shapes\" --output \"/content/output\""
   ]
  },
  {
   "cell_type": "code",
   "execution_count": null,
   "metadata": {
    "id": "Vdg2g48H-omi"
   },
   "outputs": [],
   "source": [
    "! ls"
   ]
  },
  {
   "cell_type": "code",
   "execution_count": null,
   "metadata": {
    "id": "US0fF0NA-fJr"
   },
   "outputs": [],
   "source": [
    "# Replace *** with your project name and \"email@xxx.com\" with your email.\n",
    "! geeup tabup --source \"/content/output\" --dest \"projects/***/assets/geeup_test\" --user \"email@xxx.com\""
   ]
  },
  {
   "cell_type": "markdown",
   "metadata": {
    "id": "LlWwcjT6Akia"
   },
   "source": [
    "## Status Check"
   ]
  },
  {
   "cell_type": "code",
   "execution_count": null,
   "metadata": {
    "id": "w2MVo3hD-kjZ"
   },
   "outputs": [],
   "source": [
    "! geeup tasks --state RUNNING"
   ]
  },
  {
   "cell_type": "code",
   "execution_count": null,
   "metadata": {
    "id": "YrbBmOfi-mia"
   },
   "outputs": [],
   "source": [
    "! geeup tasks --state FAILED"
   ]
  }
 ],
 "metadata": {
  "colab": {
   "collapsed_sections": [
    "YGrFLj4tAQlb",
    "Ml3ZtzhWAUcD",
    "EqIJTm0DAYPT",
    "tmJRUSzRAbAD",
    "DRufUk_EAeKT",
    "LlWwcjT6Akia"
   ],
   "provenance": []
  },
  "kernelspec": {
   "display_name": "erthy",
   "language": "python",
   "name": "python3"
  },
  "language_info": {
   "codemirror_mode": {
    "name": "ipython",
    "version": 3
   },
   "file_extension": ".py",
   "mimetype": "text/x-python",
   "name": "python",
   "nbconvert_exporter": "python",
   "pygments_lexer": "ipython3",
   "version": "3.9.13"
  },
  "vscode": {
   "interpreter": {
    "hash": "dda602728f4c648c11071741cbe894f29ac93ee5e075af4ab4c1caa2f88d91cf"
   }
  }
 },
 "nbformat": 4,
 "nbformat_minor": 4
}
