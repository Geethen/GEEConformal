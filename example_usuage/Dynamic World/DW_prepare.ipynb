{
 "cells": [
  {
   "cell_type": "code",
   "execution_count": 1,
   "metadata": {},
   "outputs": [
    {
     "data": {
      "application/vnd.jupyter.widget-view+json": {
       "model_id": "ad1ba700277c4fc09ea7d9d88b9d5421",
       "version_major": 2,
       "version_minor": 0
      },
      "text/plain": [
       "  0%|          | 0/411 [00:00<?, ?it/s]"
      ]
     },
     "metadata": {},
     "output_type": "display_data"
    },
    {
     "name": "stdout",
     "output_type": "stream",
     "text": [
      "Reprojection and band name preservation complete.\n"
     ]
    }
   ],
   "source": [
    "import os\n",
    "from osgeo import gdal\n",
    "from tqdm.auto import tqdm\n",
    "\n",
    "# Source folder with GeoTIFF files\n",
    "source_folder = r'C:\\Users\\coach\\myfiles\\postdoc\\Uncertainty\\data\\labels'\n",
    "# Destination folder to save reprojected files\n",
    "destination_folder = r'C:\\Users\\coach\\myfiles\\postdoc\\Uncertainty\\data\\labels\\reprojected'\n",
    "\n",
    "# Ensure the destination folder exists\n",
    "os.makedirs(destination_folder, exist_ok=True)\n",
    "\n",
    "# Iterate through the files in the source folder\n",
    "for filename in tqdm(os.listdir(source_folder)):\n",
    "    if filename.endswith('.tif'):\n",
    "        source_file = os.path.join(source_folder, filename)\n",
    "        destination_file = os.path.join(destination_folder, filename)\n",
    "\n",
    "        # Open the source GeoTIFF\n",
    "        ds = gdal.Open(source_file)\n",
    "\n",
    "        # Reproject to EPSG:4326\n",
    "        gdal.Warp(destination_file, ds, dstSRS='EPSG:4326', options=['COMPRESS=LZW'])\n",
    "\n",
    "        # Copy band names\n",
    "        for i in range(ds.RasterCount):\n",
    "            band = ds.GetRasterBand(i + 1)\n",
    "            band_name = band.GetDescription()\n",
    "            if band_name:\n",
    "                new_ds = gdal.Open(destination_file, gdal.GA_Update)\n",
    "                new_band = new_ds.GetRasterBand(i + 1)\n",
    "                new_band.SetDescription(band_name)\n",
    "\n",
    "        # Clean up\n",
    "        ds = None\n",
    "\n",
    "print(\"Reprojection and band name preservation complete.\")\n"
   ]
  },
  {
   "cell_type": "code",
   "execution_count": 2,
   "metadata": {},
   "outputs": [
    {
     "data": {
      "application/vnd.jupyter.widget-view+json": {
       "model_id": "6b7bef7ca23740739dfcd7c7c0ed3f29",
       "version_major": 2,
       "version_minor": 0
      },
      "text/plain": [
       "  0%|          | 0/410 [00:00<?, ?it/s]"
      ]
     },
     "metadata": {},
     "output_type": "display_data"
    },
    {
     "name": "stdout",
     "output_type": "stream",
     "text": [
      "Reprojection and band name preservation complete.\n"
     ]
    }
   ],
   "source": [
    "# Source folder with GeoTIFF files\n",
    "source_folder = r'C:\\Users\\coach\\myfiles\\postdoc\\Uncertainty\\data\\probs'\n",
    "# Destination folder to save reprojected files\n",
    "destination_folder = r'C:\\Users\\coach\\myfiles\\postdoc\\Uncertainty\\data\\probs\\reprojected'\n",
    "\n",
    "# Ensure the destination folder exists\n",
    "os.makedirs(destination_folder, exist_ok=True)\n",
    "\n",
    "# Iterate through the files in the source folder\n",
    "for filename in tqdm(os.listdir(source_folder)):\n",
    "    if filename.endswith('.tif'):\n",
    "        source_file = os.path.join(source_folder, filename)\n",
    "        destination_file = os.path.join(destination_folder, filename)\n",
    "\n",
    "        # Open the source GeoTIFF\n",
    "        ds = gdal.Open(source_file)\n",
    "\n",
    "        # Reproject to EPSG:4326\n",
    "        gdal.Warp(destination_file, ds, dstSRS='EPSG:4326', options=['COMPRESS=LZW'])\n",
    "\n",
    "        # Copy band names\n",
    "        for i in range(ds.RasterCount):\n",
    "            band = ds.GetRasterBand(i + 1)\n",
    "            band_name = band.GetDescription()\n",
    "            if band_name:\n",
    "                new_ds = gdal.Open(destination_file, gdal.GA_Update)\n",
    "                new_band = new_ds.GetRasterBand(i + 1)\n",
    "                new_band.SetDescription(band_name)\n",
    "\n",
    "        # Clean up\n",
    "        ds = None\n",
    "\n",
    "print(\"Reprojection and band name preservation complete.\")"
   ]
  },
  {
   "cell_type": "code",
   "execution_count": null,
   "metadata": {},
   "outputs": [],
   "source": []
  }
 ],
 "metadata": {
  "kernelspec": {
   "display_name": "erthy",
   "language": "python",
   "name": "erthy"
  },
  "language_info": {
   "codemirror_mode": {
    "name": "ipython",
    "version": 3
   },
   "file_extension": ".py",
   "mimetype": "text/x-python",
   "name": "python",
   "nbconvert_exporter": "python",
   "pygments_lexer": "ipython3",
   "version": "3.9.13"
  }
 },
 "nbformat": 4,
 "nbformat_minor": 2
}
