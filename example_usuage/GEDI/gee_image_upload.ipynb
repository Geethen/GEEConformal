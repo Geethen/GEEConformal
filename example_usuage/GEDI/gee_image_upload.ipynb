{
 "cells": [
  {
   "cell_type": "markdown",
   "metadata": {},
   "source": [
    "### A notebook to upload tif images stored in a local folder or Google Drive to a Google Earth Engine ImageCollection. This notebook was used to upload the canopy height predictions to GEE and the Dynamic World probability images.\n",
    "\n",
    "Tested with Google colab, Google Chrome and tif files stored in Google Drive and files stored locally. When tried from local jupyter environment, the cookie setup hangs because of the limitation of jupyter to run interactive cmd commands. As a workaround, use a local terminal."
   ]
  },
  {
   "cell_type": "markdown",
   "metadata": {},
   "source": [
    "## Install (Google colab only)\n",
    "\n",
    "Install gdal and geeup if not already installed (required for colab)"
   ]
  },
  {
   "cell_type": "code",
   "execution_count": 4,
   "metadata": {
    "id": "_orShpRoA7Zc"
   },
   "outputs": [
    {
     "name": "stderr",
     "output_type": "stream",
     "text": [
      "'sudo' is not recognized as an internal or external command,\n",
      "operable program or batch file.\n",
      "'sudo' is not recognized as an internal or external command,\n",
      "operable program or batch file.\n"
     ]
    },
    {
     "name": "stdout",
     "output_type": "stream",
     "text": [
      "Note: you may need to restart the kernel to use updated packages.\n"
     ]
    },
    {
     "name": "stderr",
     "output_type": "stream",
     "text": [
      "DEPRECATION: pytorch-lightning 1.6.5 has a non-standard dependency specifier torch>=1.8.*. pip 23.3 will enforce this behaviour change. A possible replacement is to upgrade to a newer version of pytorch-lightning or contact the author to suggest that they release a version with a conforming dependency specifiers. Discussion can be found at https://github.com/pypa/pip/issues/12063\n"
     ]
    }
   ],
   "source": [
    "! sudo apt-get install gdal-bin\n",
    "! sudo apt-get install python3-gdal\n",
    "%pip install geeup -q"
   ]
  },
  {
   "cell_type": "markdown",
   "metadata": {},
   "source": [
    "## Step 1: Authenticate\n",
    "Authenticate to Google Earth Engine"
   ]
  },
  {
   "cell_type": "code",
   "execution_count": 2,
   "metadata": {},
   "outputs": [],
   "source": [
    "import ee\n",
    "try:\n",
    "    ee.Initialize()\n",
    "except:\n",
    "    ee.Authenticate()\n",
    "    ee.Initialize()"
   ]
  },
  {
   "cell_type": "markdown",
   "metadata": {},
   "source": [
    "## Step 2: Verify geeup installation\n",
    "by checking the available storage. Replace project link with your project name"
   ]
  },
  {
   "cell_type": "code",
   "execution_count": null,
   "metadata": {
    "colab": {
     "base_uri": "https://localhost:8080/"
    },
    "collapsed": true,
    "id": "ls3VqHU6Cypl",
    "jupyter": {
     "outputs_hidden": true
    },
    "outputId": "4c8ecbbb-7931-4db0-ba16-82369643f3e5",
    "tags": []
   },
   "outputs": [],
   "source": [
    "! geeup quota --project \"projects/ee-geethensingh/assets\""
   ]
  },
  {
   "cell_type": "markdown",
   "metadata": {},
   "source": [
    "## Step 3: Cookie setup\n",
    "#### For more information, go to https://github.com/samapriya/geeup#cookie-setu\n",
    "\n",
    "After installing the cookie (Google Chrome) plugin (mentioned in the link above), go to the JS code editor and click on the cookie icon for the installed plugin. This will copy the cookies to the clipboard. After running the command in the code cell below, when prompted, Paste cookies."
   ]
  },
  {
   "cell_type": "code",
   "execution_count": null,
   "metadata": {
    "colab": {
     "base_uri": "https://localhost:8080/"
    },
    "id": "XUt2uFe9Cz6G",
    "outputId": "644f6cad-e41b-4e33-ff2d-1fd2c0bdaf59",
    "vscode": {
     "languageId": "powershell"
    }
   },
   "outputs": [],
   "source": [
    "# Run the command below in a terminal whch has the geeup package installed\n",
    "geeup cookie_setup"
   ]
  },
  {
   "cell_type": "markdown",
   "metadata": {},
   "source": [
    "# Generate metadata file (automatically)\n",
    "\n",
    "input: Location folder of stored images.  \n",
    "metadata: Output file location "
   ]
  },
  {
   "cell_type": "code",
   "execution_count": 1,
   "metadata": {
    "colab": {
     "base_uri": "https://localhost:8080/"
    },
    "id": "V7kvwX-8G4kv",
    "outputId": "e7736a08-779f-4e5e-cc4e-ffb75771d0ad",
    "vscode": {
     "languageId": "powershell"
    }
   },
   "outputs": [
    {
     "name": "stdout",
     "output_type": "stream",
     "text": [
      "Requirement already satisfied: pipwin==0.5.0 in c:\\users\\coach\\appdata\\local\\packages\\pythonsoftwarefoundation.python.3.9_qbz5n2kfra8p0\\localcache\\local-packages\\python39\\site-packages (0.5.0)\n",
      "Requirement already satisfied: packaging in c:\\users\\coach\\appdata\\local\\packages\\pythonsoftwarefoundation.python.3.9_qbz5n2kfra8p0\\localcache\\local-packages\\python39\\site-packages (from pipwin==0.5.0) (21.3)\n",
      "Requirement already satisfied: beautifulsoup4>=4.9.0 in c:\\users\\coach\\appdata\\local\\packages\\pythonsoftwarefoundation.python.3.9_qbz5n2kfra8p0\\localcache\\local-packages\\python39\\site-packages (from pipwin==0.5.0) (4.11.1)\n",
      "Requirement already satisfied: six in c:\\users\\coach\\appdata\\local\\packages\\pythonsoftwarefoundation.python.3.9_qbz5n2kfra8p0\\localcache\\local-packages\\python39\\site-packages (from pipwin==0.5.0) (1.16.0)\n",
      "Requirement already satisfied: js2py in c:\\users\\coach\\appdata\\local\\packages\\pythonsoftwarefoundation.python.3.9_qbz5n2kfra8p0\\localcache\\local-packages\\python39\\site-packages (from pipwin==0.5.0) (0.71)\n",
      "Requirement already satisfied: pySmartDL>=1.3.1 in c:\\users\\coach\\appdata\\local\\packages\\pythonsoftwarefoundation.python.3.9_qbz5n2kfra8p0\\localcache\\local-packages\\python39\\site-packages (from pipwin==0.5.0) (1.3.4)\n",
      "Requirement already satisfied: requests in c:\\users\\coach\\appdata\\local\\packages\\pythonsoftwarefoundation.python.3.9_qbz5n2kfra8p0\\localcache\\local-packages\\python39\\site-packages (from pipwin==0.5.0) (2.28.1)\n",
      "Requirement already satisfied: pyprind in c:\\users\\coach\\appdata\\local\\packages\\pythonsoftwarefoundation.python.3.9_qbz5n2kfra8p0\\localcache\\local-packages\\python39\\site-packages (from pipwin==0.5.0) (2.11.3)\n",
      "Requirement already satisfied: docopt in c:\\users\\coach\\appdata\\local\\packages\\pythonsoftwarefoundation.python.3.9_qbz5n2kfra8p0\\localcache\\local-packages\\python39\\site-packages (from pipwin==0.5.0) (0.6.2)\n",
      "Requirement already satisfied: soupsieve>1.2 in c:\\users\\coach\\appdata\\local\\packages\\pythonsoftwarefoundation.python.3.9_qbz5n2kfra8p0\\localcache\\local-packages\\python39\\site-packages (from beautifulsoup4>=4.9.0->pipwin==0.5.0) (2.3.2.post1)\n",
      "Requirement already satisfied: pyjsparser>=2.5.1 in c:\\users\\coach\\appdata\\local\\packages\\pythonsoftwarefoundation.python.3.9_qbz5n2kfra8p0\\localcache\\local-packages\\python39\\site-packages (from js2py->pipwin==0.5.0) (2.7.1)\n",
      "Requirement already satisfied: tzlocal>=1.2 in c:\\users\\coach\\appdata\\local\\packages\\pythonsoftwarefoundation.python.3.9_qbz5n2kfra8p0\\localcache\\local-packages\\python39\\site-packages (from js2py->pipwin==0.5.0) (4.2)\n",
      "Requirement already satisfied: pyparsing!=3.0.5,>=2.0.2 in c:\\users\\coach\\appdata\\local\\packages\\pythonsoftwarefoundation.python.3.9_qbz5n2kfra8p0\\localcache\\local-packages\\python39\\site-packages (from packaging->pipwin==0.5.0) (3.0.9)\n",
      "Requirement already satisfied: urllib3<1.27,>=1.21.1 in c:\\users\\coach\\appdata\\local\\packages\\pythonsoftwarefoundation.python.3.9_qbz5n2kfra8p0\\localcache\\local-packages\\python39\\site-packages (from requests->pipwin==0.5.0) (1.26.12)\n",
      "Requirement already satisfied: idna<4,>=2.5 in c:\\users\\coach\\appdata\\local\\packages\\pythonsoftwarefoundation.python.3.9_qbz5n2kfra8p0\\localcache\\local-packages\\python39\\site-packages (from requests->pipwin==0.5.0) (3.3)\n",
      "Requirement already satisfied: charset-normalizer<3,>=2 in c:\\users\\coach\\appdata\\local\\packages\\pythonsoftwarefoundation.python.3.9_qbz5n2kfra8p0\\localcache\\local-packages\\python39\\site-packages (from requests->pipwin==0.5.0) (2.1.1)\n",
      "Requirement already satisfied: certifi>=2017.4.17 in c:\\users\\coach\\appdata\\local\\packages\\pythonsoftwarefoundation.python.3.9_qbz5n2kfra8p0\\localcache\\local-packages\\python39\\site-packages (from requests->pipwin==0.5.0) (2022.6.15.1)\n",
      "Requirement already satisfied: tzdata in c:\\users\\coach\\appdata\\local\\packages\\pythonsoftwarefoundation.python.3.9_qbz5n2kfra8p0\\localcache\\local-packages\\python39\\site-packages (from tzlocal>=1.2->js2py->pipwin==0.5.0) (2022.2)\n",
      "Requirement already satisfied: pytz-deprecation-shim in c:\\users\\coach\\appdata\\local\\packages\\pythonsoftwarefoundation.python.3.9_qbz5n2kfra8p0\\localcache\\local-packages\\python39\\site-packages (from tzlocal>=1.2->js2py->pipwin==0.5.0) (0.1.0.post0)\n",
      "Building cache. Hang on . . .\n",
      "Done\n",
      "\n",
      "=========================================================================\n",
      "Current version of geeup is 0.5.8 upgrade to lastest version: 1.0.1\n",
      "=========================================================================\n",
      "Processed: 1 of 167\n",
      "Processed: 2 of 167\n",
      "Processed: 3 of 167\n",
      "Processed: 4 of 167\n",
      "Processed: 5 of 167\n",
      "Processed: 6 of 167\n",
      "Processed: 7 of 167\n",
      "Processed: 8 of 167\n",
      "Processed: 9 of 167\n",
      "Processed: 10 of 167\n",
      "Processed: 11 of 167\n",
      "Processed: 12 of 167\n",
      "Processed: 13 of 167\n",
      "Processed: 14 of 167\n",
      "Processed: 15 of 167\n",
      "Processed: 16 of 167\n",
      "Processed: 17 of 167\n",
      "Processed: 18 of 167\n",
      "Processed: 19 of 167\n",
      "Processed: 20 of 167\n",
      "Processed: 21 of 167\n",
      "Processed: 22 of 167\n",
      "Processed: 23 of 167\n",
      "Processed: 24 of 167\n",
      "Processed: 25 of 167\n",
      "Processed: 26 of 167\n",
      "Processed: 27 of 167\n",
      "Processed: 28 of 167\n",
      "Processed: 29 of 167\n",
      "Processed: 30 of 167\n",
      "Processed: 31 of 167\n",
      "Processed: 32 of 167\n",
      "Processed: 33 of 167\n",
      "Processed: 34 of 167\n",
      "Processed: 35 of 167\n",
      "Processed: 36 of 167\n",
      "Processed: 37 of 167\n",
      "Processed: 38 of 167\n",
      "Processed: 39 of 167\n",
      "Processed: 40 of 167\n",
      "Processed: 41 of 167\n",
      "Processed: 42 of 167\n",
      "Processed: 43 of 167\n",
      "Processed: 44 of 167\n",
      "Processed: 45 of 167\n",
      "Processed: 46 of 167\n",
      "Processed: 47 of 167\n",
      "Processed: 48 of 167\n",
      "Processed: 49 of 167\n",
      "Processed: 50 of 167\n",
      "Processed: 51 of 167\n",
      "Processed: 52 of 167\n",
      "Processed: 53 of 167\n",
      "Processed: 54 of 167\n",
      "Processed: 55 of 167\n",
      "Processed: 56 of 167\n",
      "Processed: 57 of 167\n",
      "Processed: 58 of 167\n",
      "Processed: 59 of 167\n",
      "Processed: 60 of 167\n",
      "Processed: 61 of 167\n",
      "Processed: 62 of 167\n",
      "Processed: 63 of 167\n",
      "Processed: 64 of 167\n",
      "Processed: 65 of 167\n",
      "Processed: 66 of 167\n",
      "Processed: 67 of 167\n",
      "Processed: 68 of 167\n",
      "Processed: 69 of 167\n",
      "Processed: 70 of 167\n",
      "Processed: 71 of 167\n",
      "Processed: 72 of 167\n",
      "Processed: 73 of 167\n",
      "Processed: 74 of 167\n",
      "Processed: 75 of 167\n",
      "Processed: 76 of 167\n",
      "Processed: 77 of 167\n",
      "Processed: 78 of 167\n",
      "Processed: 79 of 167\n",
      "Processed: 80 of 167\n",
      "Processed: 81 of 167\n",
      "Processed: 82 of 167\n",
      "Processed: 83 of 167\n",
      "Processed: 84 of 167\n",
      "Processed: 85 of 167\n",
      "Processed: 86 of 167\n",
      "Processed: 87 of 167\n",
      "Processed: 88 of 167\n",
      "Processed: 89 of 167\n",
      "Processed: 90 of 167\n",
      "Processed: 91 of 167\n",
      "Processed: 92 of 167\n",
      "Processed: 93 of 167\n",
      "Processed: 94 of 167\n",
      "Processed: 95 of 167\n",
      "Processed: 96 of 167\n",
      "Processed: 97 of 167\n",
      "Processed: 98 of 167\n",
      "Processed: 99 of 167\n",
      "Processed: 100 of 167\n",
      "Processed: 101 of 167\n",
      "Processed: 102 of 167\n",
      "Processed: 103 of 167\n",
      "Processed: 104 of 167\n",
      "Processed: 105 of 167\n",
      "Processed: 106 of 167\n",
      "Processed: 107 of 167\n",
      "Processed: 108 of 167\n",
      "Processed: 109 of 167\n",
      "Processed: 110 of 167\n",
      "Processed: 111 of 167\n",
      "Processed: 112 of 167\n",
      "Processed: 113 of 167\n",
      "Processed: 114 of 167\n",
      "Processed: 115 of 167\n",
      "Processed: 116 of 167\n",
      "Processed: 117 of 167\n",
      "Processed: 118 of 167\n",
      "Processed: 119 of 167\n",
      "Processed: 120 of 167\n",
      "Processed: 121 of 167\n",
      "Processed: 122 of 167\n",
      "Processed: 123 of 167\n",
      "Processed: 124 of 167\n",
      "Processed: 125 of 167\n",
      "Processed: 126 of 167\n",
      "Processed: 127 of 167\n",
      "Processed: 128 of 167\n",
      "Processed: 129 of 167\n",
      "Processed: 130 of 167\n",
      "Processed: 131 of 167\n",
      "Processed: 132 of 167\n",
      "Processed: 133 of 167\n",
      "Processed: 134 of 167\n",
      "Processed: 135 of 167\n",
      "Processed: 136 of 167\n",
      "Processed: 137 of 167\n",
      "Processed: 138 of 167\n",
      "Processed: 139 of 167\n",
      "Processed: 140 of 167\n",
      "Processed: 141 of 167\n",
      "Processed: 142 of 167\n",
      "Processed: 143 of 167\n",
      "Processed: 144 of 167\n",
      "Processed: 145 of 167\n",
      "Processed: 146 of 167\n",
      "Processed: 147 of 167\n",
      "Processed: 148 of 167\n",
      "Processed: 149 of 167\n",
      "Processed: 150 of 167\n",
      "Processed: 151 of 167\n",
      "Processed: 152 of 167\n",
      "Processed: 153 of 167\n",
      "Processed: 154 of 167\n",
      "Processed: 155 of 167\n",
      "Processed: 156 of 167\n",
      "Processed: 157 of 167\n",
      "Processed: 158 of 167\n",
      "Processed: 159 of 167\n",
      "Processed: 160 of 167\n",
      "Processed: 161 of 167\n",
      "Processed: 162 of 167\n",
      "Processed: 163 of 167\n",
      "Processed: 164 of 167\n",
      "Processed: 165 of 167\n",
      "Processed: 166 of 167\n",
      "Processed: 167 of 167\n"
     ]
    },
    {
     "name": "stderr",
     "output_type": "stream",
     "text": [
      "WARNING: You are using pip version 22.0.4; however, version 23.3.1 is available.\n",
      "You should consider upgrading via the 'C:\\Users\\coach\\AppData\\Local\\Microsoft\\WindowsApps\\PythonSoftwareFoundation.Python.3.9_qbz5n2kfra8p0\\python.exe -m pip install --upgrade pip' command.\n"
     ]
    }
   ],
   "source": [
    "# Run in terminal\n",
    "geeup getmeta --input \"C:/Users/coach/myfiles/postdoc/Uncertainty/data/planet/predictions\" --metadata \"C:/Users/coach/myfiles/postdoc/Uncertainty/data/planet/predictions\"/pr_metadata.csv\""
   ]
  },
  {
   "cell_type": "markdown",
   "metadata": {},
   "source": [
    "## Upload file to GEE\n",
    "\n",
    "source: Folder with tif files to be uploaded  \n",
    "dest: ImageCollection initialised within assets  \n",
    "user: email address associated GEE account  \n",
    "metadata: Full path to auto-generated metadata file from previous step\n"
   ]
  },
  {
   "cell_type": "code",
   "execution_count": 7,
   "metadata": {
    "colab": {
     "base_uri": "https://localhost:8080/"
    },
    "collapsed": true,
    "id": "t0PKoAZDElGM",
    "jupyter": {
     "outputs_hidden": true
    },
    "outputId": "f9829cb2-4350-45f9-9ded-21fdc41a1daf",
    "vscode": {
     "languageId": "powershell"
    }
   },
   "outputs": [
    {
     "name": "stdout",
     "output_type": "stream",
     "text": [
      "Requirement already satisfied: pipwin==0.5.0 in c:\\users\\coach\\appdata\\local\\packages\\pythonsoftwarefoundation.python.3.9_qbz5n2kfra8p0\\localcache\\local-packages\\python39\\site-packages (0.5.0)"
     ]
    },
    {
     "name": "stderr",
     "output_type": "stream",
     "text": [
      "WARNING: You are using pip version 22.0.4; however, version 23.3.1 is available.\n",
      "You should consider upgrading via the 'C:\\Users\\coach\\AppData\\Local\\Microsoft\\WindowsApps\\PythonSoftwareFoundation.Python.3.9_qbz5n2kfra8p0\\python.exe -m pip install --upgrade pip' command.\n",
      "Traceback (most recent call last):\n",
      "  File \"C:\\ProgramData\\Anaconda3\\envs\\erthy\\lib\\runpy.py\", line 197, in _run_module_as_main\n",
      "    return _run_code(code, main_globals, None,\n",
      "  File \"C:\\ProgramData\\Anaconda3\\envs\\erthy\\lib\\runpy.py\", line 87, in _run_code\n",
      "    exec(code, run_globals)\n",
      "  File \"C:\\ProgramData\\Anaconda3\\envs\\erthy\\Scripts\\geeup.exe\\__main__.py\", line 7, in <module>\n",
      "  File \"C:\\ProgramData\\Anaconda3\\envs\\erthy\\lib\\site-packages\\geeup\\geeup.py\", line 690, in main\n",
      "    func(args)\n",
      "  File \"C:\\ProgramData\\Anaconda3\\envs\\erthy\\lib\\site-packages\\geeup\\geeup.py\", line 346, in upload_from_parser\n",
      "    upload(\n",
      "  File \"C:\\ProgramData\\Anaconda3\\envs\\erthy\\lib\\site-packages\\geeup\\batch_uploader.py\", line 118, in upload\n",
      "    google_session = __get_google_auth_session(user)\n",
      "  File \"C:\\ProgramData\\Anaconda3\\envs\\erthy\\lib\\site-packages\\geeup\\batch_uploader.py\", line 340, in __get_google_auth_session\n",
      "    cookie_list = json.load(json_file)\n",
      "  File \"C:\\ProgramData\\Anaconda3\\envs\\erthy\\lib\\json\\__init__.py\", line 293, in load\n",
      "    return loads(fp.read(),\n",
      "  File \"C:\\ProgramData\\Anaconda3\\envs\\erthy\\lib\\json\\__init__.py\", line 346, in loads\n",
      "    return _default_decoder.decode(s)\n",
      "  File \"C:\\ProgramData\\Anaconda3\\envs\\erthy\\lib\\json\\decoder.py\", line 337, in decode\n",
      "    obj, end = self.raw_decode(s, idx=_w(s, 0).end())\n",
      "  File \"C:\\ProgramData\\Anaconda3\\envs\\erthy\\lib\\json\\decoder.py\", line 355, in raw_decode\n",
      "    raise JSONDecodeError(\"Expecting value\", s, err.value) from None\n",
      "json.decoder.JSONDecodeError: Expecting value: line 1 column 1 (char 0)\n"
     ]
    },
    {
     "name": "stdout",
     "output_type": "stream",
     "text": [
      "\n",
      "Requirement already satisfied: beautifulsoup4>=4.9.0 in c:\\users\\coach\\appdata\\local\\packages\\pythonsoftwarefoundation.python.3.9_qbz5n2kfra8p0\\localcache\\local-packages\\python39\\site-packages (from pipwin==0.5.0) (4.11.1)\n",
      "Requirement already satisfied: docopt in c:\\users\\coach\\appdata\\local\\packages\\pythonsoftwarefoundation.python.3.9_qbz5n2kfra8p0\\localcache\\local-packages\\python39\\site-packages (from pipwin==0.5.0) (0.6.2)\n",
      "Requirement already satisfied: js2py in c:\\users\\coach\\appdata\\local\\packages\\pythonsoftwarefoundation.python.3.9_qbz5n2kfra8p0\\localcache\\local-packages\\python39\\site-packages (from pipwin==0.5.0) (0.71)\n",
      "Requirement already satisfied: pyprind in c:\\users\\coach\\appdata\\local\\packages\\pythonsoftwarefoundation.python.3.9_qbz5n2kfra8p0\\localcache\\local-packages\\python39\\site-packages (from pipwin==0.5.0) (2.11.3)\n",
      "Requirement already satisfied: requests in c:\\users\\coach\\appdata\\local\\packages\\pythonsoftwarefoundation.python.3.9_qbz5n2kfra8p0\\localcache\\local-packages\\python39\\site-packages (from pipwin==0.5.0) (2.28.1)\n",
      "Requirement already satisfied: packaging in c:\\users\\coach\\appdata\\local\\packages\\pythonsoftwarefoundation.python.3.9_qbz5n2kfra8p0\\localcache\\local-packages\\python39\\site-packages (from pipwin==0.5.0) (21.3)\n",
      "Requirement already satisfied: six in c:\\users\\coach\\appdata\\local\\packages\\pythonsoftwarefoundation.python.3.9_qbz5n2kfra8p0\\localcache\\local-packages\\python39\\site-packages (from pipwin==0.5.0) (1.16.0)\n",
      "Requirement already satisfied: pySmartDL>=1.3.1 in c:\\users\\coach\\appdata\\local\\packages\\pythonsoftwarefoundation.python.3.9_qbz5n2kfra8p0\\localcache\\local-packages\\python39\\site-packages (from pipwin==0.5.0) (1.3.4)\n",
      "Requirement already satisfied: soupsieve>1.2 in c:\\users\\coach\\appdata\\local\\packages\\pythonsoftwarefoundation.python.3.9_qbz5n2kfra8p0\\localcache\\local-packages\\python39\\site-packages (from beautifulsoup4>=4.9.0->pipwin==0.5.0) (2.3.2.post1)\n",
      "Requirement already satisfied: tzlocal>=1.2 in c:\\users\\coach\\appdata\\local\\packages\\pythonsoftwarefoundation.python.3.9_qbz5n2kfra8p0\\localcache\\local-packages\\python39\\site-packages (from js2py->pipwin==0.5.0) (4.2)\n",
      "Requirement already satisfied: pyjsparser>=2.5.1 in c:\\users\\coach\\appdata\\local\\packages\\pythonsoftwarefoundation.python.3.9_qbz5n2kfra8p0\\localcache\\local-packages\\python39\\site-packages (from js2py->pipwin==0.5.0) (2.7.1)\n",
      "Requirement already satisfied: pyparsing!=3.0.5,>=2.0.2 in c:\\users\\coach\\appdata\\local\\packages\\pythonsoftwarefoundation.python.3.9_qbz5n2kfra8p0\\localcache\\local-packages\\python39\\site-packages (from packaging->pipwin==0.5.0) (3.0.9)\n",
      "Requirement already satisfied: certifi>=2017.4.17 in c:\\users\\coach\\appdata\\local\\packages\\pythonsoftwarefoundation.python.3.9_qbz5n2kfra8p0\\localcache\\local-packages\\python39\\site-packages (from requests->pipwin==0.5.0) (2022.6.15.1)\n",
      "Requirement already satisfied: charset-normalizer<3,>=2 in c:\\users\\coach\\appdata\\local\\packages\\pythonsoftwarefoundation.python.3.9_qbz5n2kfra8p0\\localcache\\local-packages\\python39\\site-packages (from requests->pipwin==0.5.0) (2.1.1)\n",
      "Requirement already satisfied: idna<4,>=2.5 in c:\\users\\coach\\appdata\\local\\packages\\pythonsoftwarefoundation.python.3.9_qbz5n2kfra8p0\\localcache\\local-packages\\python39\\site-packages (from requests->pipwin==0.5.0) (3.3)\n",
      "Requirement already satisfied: urllib3<1.27,>=1.21.1 in c:\\users\\coach\\appdata\\local\\packages\\pythonsoftwarefoundation.python.3.9_qbz5n2kfra8p0\\localcache\\local-packages\\python39\\site-packages (from requests->pipwin==0.5.0) (1.26.12)\n",
      "Requirement already satisfied: pytz-deprecation-shim in c:\\users\\coach\\appdata\\local\\packages\\pythonsoftwarefoundation.python.3.9_qbz5n2kfra8p0\\localcache\\local-packages\\python39\\site-packages (from tzlocal>=1.2->js2py->pipwin==0.5.0) (0.1.0.post0)\n",
      "Requirement already satisfied: tzdata in c:\\users\\coach\\appdata\\local\\packages\\pythonsoftwarefoundation.python.3.9_qbz5n2kfra8p0\\localcache\\local-packages\\python39\\site-packages (from tzlocal>=1.2->js2py->pipwin==0.5.0) (2022.2)\n",
      "Building cache. Hang on . . .\n",
      "Done\n",
      "\n",
      "=========================================================================\n",
      "Current version of geeup is 0.5.8 upgrade to lastest version: 1.0.1\n",
      "=========================================================================\n"
     ]
    }
   ],
   "source": [
    "# Run in terminal. The status can be monitored from the terminal\n",
    "geeup upload --source \"C:/Users/coach/myfiles/postdoc/Uncertainty/data/planet/predictions\" --dest \"projects/ee-geethensingh/assets/UQ/GEDI_CH100v2\" --user \"geethen.singh@gmail.com\" --metadata \"C:/Users/coach/myfiles/postdoc/Uncertainty/data/planet/predictions/pr_metadata.csv\""
   ]
  }
 ],
 "metadata": {
  "colab": {
   "provenance": []
  },
  "kernelspec": {
   "display_name": "erthy",
   "language": "python",
   "name": "python3"
  },
  "language_info": {
   "codemirror_mode": {
    "name": "ipython",
    "version": 3
   },
   "file_extension": ".py",
   "mimetype": "text/x-python",
   "name": "python",
   "nbconvert_exporter": "python",
   "pygments_lexer": "ipython3",
   "version": "3.9.13"
  }
 },
 "nbformat": 4,
 "nbformat_minor": 4
}
