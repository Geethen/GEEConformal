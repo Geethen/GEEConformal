{
 "cells": [
  {
   "cell_type": "markdown",
   "metadata": {},
   "source": [
    "## Notebook to upload a local shapefile to Google Earth Engine\n",
    "\n",
    "### This relies on the use of the geeup CLI tool"
   ]
  },
  {
   "cell_type": "markdown",
   "metadata": {
    "id": "YGrFLj4tAQlb"
   },
   "source": [
    "## Install"
   ]
  },
  {
   "cell_type": "code",
   "execution_count": 4,
   "metadata": {
    "id": "jQmHBeJd-C5Z"
   },
   "outputs": [
    {
     "name": "stderr",
     "output_type": "stream",
     "text": [
      "'sudo' is not recognized as an internal or external command,\n",
      "operable program or batch file.\n",
      "'sudo' is not recognized as an internal or external command,\n",
      "operable program or batch file.\n",
      "'sudo' is not recognized as an internal or external command,\n",
      "operable program or batch file.\n"
     ]
    },
    {
     "name": "stdout",
     "output_type": "stream",
     "text": [
      "Note: you may need to restart the kernel to use updated packages.\n"
     ]
    },
    {
     "name": "stderr",
     "output_type": "stream",
     "text": [
      "WARNING: Ignoring invalid distribution -dal (c:\\windows\\system32\\erty\\lib\\site-packages)\n",
      "WARNING: Ignoring invalid distribution -dal (c:\\windows\\system32\\erty\\lib\\site-packages)\n",
      "WARNING: Ignoring invalid distribution -dal (c:\\windows\\system32\\erty\\lib\\site-packages)\n",
      "WARNING: Ignoring invalid distribution -dal (c:\\windows\\system32\\erty\\lib\\site-packages)\n",
      "WARNING: Ignoring invalid distribution -dal (c:\\windows\\system32\\erty\\lib\\site-packages)\n",
      "WARNING: Ignoring invalid distribution -dal (c:\\windows\\system32\\erty\\lib\\site-packages)\n"
     ]
    }
   ],
   "source": [
    "! sudo add-apt-repository ppa:ubuntugis/ppa && sudo apt-get update\n",
    "! sudo apt-get install gdal-bin\n",
    "! sudo apt-get install python3-gdal\n",
    "%pip install geeup -q"
   ]
  },
  {
   "cell_type": "markdown",
   "metadata": {
    "id": "Ml3ZtzhWAUcD"
   },
   "source": [
    "## Authenticate"
   ]
  },
  {
   "cell_type": "code",
   "execution_count": 2,
   "metadata": {
    "id": "0IX4sKOn-DVb"
   },
   "outputs": [
    {
     "name": "stderr",
     "output_type": "stream",
     "text": [
      "'gcloud' is not recognized as an internal or external command,\n",
      "operable program or batch file.\n",
      "Traceback (most recent call last):\n",
      "  File \"C:\\ProgramData\\Anaconda3\\lib\\runpy.py\", line 197, in _run_module_as_main\n",
      "    return _run_code(code, main_globals, None,\n",
      "  File \"C:\\ProgramData\\Anaconda3\\lib\\runpy.py\", line 87, in _run_code\n",
      "    exec(code, run_globals)\n",
      "  File \"C:\\WINDOWS\\system32\\erty\\Scripts\\earthengine.exe\\__main__.py\", line 7, in <module>\n",
      "  File \"C:\\Windows\\System32\\erty\\lib\\site-packages\\ee\\cli\\eecli.py\", line 82, in main\n",
      "    _run_command()\n",
      "  File \"C:\\Windows\\System32\\erty\\lib\\site-packages\\ee\\cli\\eecli.py\", line 61, in _run_command\n",
      "    dispatcher.run(args, config)\n",
      "  File \"C:\\Windows\\System32\\erty\\lib\\site-packages\\ee\\cli\\commands.py\", line 355, in run\n",
      "    self.command_dict[vars(args)[self.dest]].run(args, config)\n",
      "  File \"C:\\Windows\\System32\\erty\\lib\\site-packages\\ee\\cli\\commands.py\", line 397, in run\n",
      "    ee.Authenticate(**args_auth)\n",
      "  File \"C:\\Windows\\System32\\erty\\lib\\site-packages\\ee\\__init__.py\", line 104, in Authenticate\n",
      "    return oauth.authenticate(authorization_code, quiet, code_verifier, auth_mode,\n",
      "  File \"C:\\Windows\\System32\\erty\\lib\\site-packages\\ee\\oauth.py\", line 381, in authenticate\n",
      "    _load_app_default_credentials(auth_mode == 'gcloud', scopes, quiet)\n",
      "  File \"C:\\Windows\\System32\\erty\\lib\\site-packages\\ee\\oauth.py\", line 291, in _load_app_default_credentials\n",
      "    raise Exception('gcloud failed. Please check for any errors above '\n",
      "Exception: gcloud failed. Please check for any errors above and install gcloud if needed.\n"
     ]
    },
    {
     "name": "stdout",
     "output_type": "stream",
     "text": [
      "Fetching credentials using gcloud\n"
     ]
    }
   ],
   "source": [
    "!earthengine authenticate --quiet"
   ]
  },
  {
   "cell_type": "markdown",
   "metadata": {
    "id": "EqIJTm0DAYPT"
   },
   "source": [
    "## Check Quota"
   ]
  },
  {
   "cell_type": "code",
   "execution_count": null,
   "metadata": {
    "id": "FIAE-JJj-Da7"
   },
   "outputs": [],
   "source": [
    "# Replace *** with your project name. Make sure it matches your cloud project.\n",
    "! geeup quota --project \"projects/***/assets\""
   ]
  },
  {
   "cell_type": "markdown",
   "metadata": {
    "id": "tmJRUSzRAbAD"
   },
   "source": [
    "## Cookie Setup"
   ]
  },
  {
   "cell_type": "code",
   "execution_count": null,
   "metadata": {
    "id": "1Hz7dVNX-Ovy"
   },
   "outputs": [],
   "source": [
    "# Cookie Setup\n",
    "# https://github.com/samapriya/geeup#cookie-setup"
   ]
  },
  {
   "cell_type": "code",
   "execution_count": null,
   "metadata": {
    "id": "9c8ayFoh-ODa"
   },
   "outputs": [],
   "source": [
    "! geeup cookie_setup"
   ]
  },
  {
   "cell_type": "markdown",
   "metadata": {
    "id": "DRufUk_EAeKT"
   },
   "source": [
    "## Zip and Upload"
   ]
  },
  {
   "cell_type": "code",
   "execution_count": null,
   "metadata": {
    "id": "DO3N8uYp-ajU"
   },
   "outputs": [],
   "source": [
    "! geeup zipshape --input \"/content/shapes\" --output \"/content/output\""
   ]
  },
  {
   "cell_type": "code",
   "execution_count": null,
   "metadata": {
    "id": "Vdg2g48H-omi"
   },
   "outputs": [],
   "source": [
    "! ls"
   ]
  },
  {
   "cell_type": "code",
   "execution_count": null,
   "metadata": {
    "id": "US0fF0NA-fJr"
   },
   "outputs": [],
   "source": [
    "# Replace *** with your project name and \"email@xxx.com\" with your email.\n",
    "! geeup tabup --source \"/content/output\" --dest \"projects/***/assets/geeup_test\" --user \"email@xxx.com\""
   ]
  },
  {
   "cell_type": "markdown",
   "metadata": {
    "id": "LlWwcjT6Akia"
   },
   "source": [
    "## Status Check"
   ]
  },
  {
   "cell_type": "code",
   "execution_count": null,
   "metadata": {
    "id": "w2MVo3hD-kjZ"
   },
   "outputs": [],
   "source": [
    "! geeup tasks --state RUNNING"
   ]
  },
  {
   "cell_type": "code",
   "execution_count": null,
   "metadata": {
    "id": "YrbBmOfi-mia"
   },
   "outputs": [],
   "source": [
    "! geeup tasks --state FAILED"
   ]
  }
 ],
 "metadata": {
  "colab": {
   "collapsed_sections": [
    "YGrFLj4tAQlb",
    "Ml3ZtzhWAUcD",
    "EqIJTm0DAYPT",
    "tmJRUSzRAbAD",
    "DRufUk_EAeKT",
    "LlWwcjT6Akia"
   ],
   "provenance": []
  },
  "kernelspec": {
   "display_name": "Python 3 (ipykernel)",
   "language": "python",
   "name": "python3"
  },
  "language_info": {
   "codemirror_mode": {
    "name": "ipython",
    "version": 3
   },
   "file_extension": ".py",
   "mimetype": "text/x-python",
   "name": "python",
   "nbconvert_exporter": "python",
   "pygments_lexer": "ipython3",
   "version": "3.9.12"
  }
 },
 "nbformat": 4,
 "nbformat_minor": 4
}
